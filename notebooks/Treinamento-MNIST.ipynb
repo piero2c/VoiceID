{
 "cells": [
  {
   "cell_type": "code",
   "execution_count": 1,
   "metadata": {},
   "outputs": [],
   "source": [
    "import os, sys\n",
    "import torch\n",
    "import numpy as np\n",
    "from skimage import io\n",
    "from torch.utils.data import DataLoader\n",
    "from torch.optim import SGD, Adam\n",
    "import torchvision\n",
    "import torchvision.datasets as dset\n",
    "import torchvision.transforms as transforms\n",
    "import torch.nn.functional as F\n",
    "sys.path.append('../')\n",
    "\n",
    "from src.loss import distance_matrix, get_hardest_points, topk_hardest_mean, batch_hard_loss\n",
    "from src.dataset import TripletDataset\n",
    "from src.utils import get_user_dict\n",
    "from src.models import LinearModel"
   ]
  },
  {
   "cell_type": "code",
   "execution_count": 2,
   "metadata": {},
   "outputs": [],
   "source": [
    "import matplotlib.pyplot as plt\n",
    "%matplotlib inline"
   ]
  },
  {
   "cell_type": "markdown",
   "metadata": {},
   "source": [
    "----------------"
   ]
  },
  {
   "cell_type": "code",
   "execution_count": 3,
   "metadata": {},
   "outputs": [],
   "source": [
    "N = 6\n",
    "M = 10"
   ]
  },
  {
   "cell_type": "code",
   "execution_count": 4,
   "metadata": {},
   "outputs": [],
   "source": [
    "to_img = torchvision.transforms.ToPILImage()"
   ]
  },
  {
   "cell_type": "code",
   "execution_count": 5,
   "metadata": {},
   "outputs": [],
   "source": [
    "def batch_to_img(batch, use_cuda=False):\n",
    "    if use_cuda:\n",
    "        batch = batch.cpu()\n",
    "    \n",
    "    n_imgs = batch.shape[0]\n",
    "    batch = batch.reshape(n_imgs, 1, batch.shape[1], batch.shape[2])\n",
    "    \n",
    "    return to_img(torchvision.utils.make_grid(batch, nrow = int(np.sqrt(n_imgs))))"
   ]
  },
  {
   "cell_type": "code",
   "execution_count": 6,
   "metadata": {},
   "outputs": [],
   "source": [
    "def distance_matrix_plot(D, filename = None):\n",
    "    fig = plt.figure(figsize=(8,8))\n",
    "    plt.imshow(D.detach().numpy())\n",
    "\n",
    "    for i in range(N):\n",
    "        plt.axvline(x=M*(i+1)-.5, color='white')\n",
    "        plt.axhline(y=M*(i+1)-.5, color='white')\n",
    "    \n",
    "    if not filename is None:\n",
    "        fig.savefig(filename)\n",
    "        plt.close()\n"
   ]
  },
  {
   "cell_type": "markdown",
   "metadata": {},
   "source": [
    "--------"
   ]
  },
  {
   "cell_type": "markdown",
   "metadata": {},
   "source": [
    "### Dataset"
   ]
  },
  {
   "cell_type": "code",
   "execution_count": 7,
   "metadata": {},
   "outputs": [],
   "source": [
    "user_dict = get_user_dict('../dados/mnist/png/training/')\n",
    "MNIST = TripletDataset(None, user_dict, M, data_width=28, data_height=28, ignore_color_channel=False, \n",
    "                      use_cuda=True)"
   ]
  },
  {
   "cell_type": "markdown",
   "metadata": {},
   "source": [
    "### Imagens"
   ]
  },
  {
   "cell_type": "code",
   "execution_count": 8,
   "metadata": {},
   "outputs": [
    {
     "data": {
      "image/png": "[encoded data removed]",
      "text/plain": [
       "<PIL.Image.Image image mode=RGB size=92x122 at 0x7F829F1A2390>"
      ]
     },
     "execution_count": 8,
     "metadata": {},
     "output_type": "execute_result"
    }
   ],
   "source": [
    "batch_to_img(MNIST[2], True)"
   ]
  },
  {
   "cell_type": "code",
   "execution_count": 9,
   "metadata": {},
   "outputs": [
    {
     "data": {
      "image/png": "[encoded data removed]",
      "text/plain": [
       "<PIL.Image.Image image mode=RGB size=92x122 at 0x7F829E85B588>"
      ]
     },
     "execution_count": 9,
     "metadata": {},
     "output_type": "execute_result"
    }
   ],
   "source": [
    "batch_to_img(MNIST[9], True)"
   ]
  },
  {
   "cell_type": "markdown",
   "metadata": {},
   "source": [
    "### Modelo"
   ]
  },
  {
   "cell_type": "code",
   "execution_count": 10,
   "metadata": {},
   "outputs": [],
   "source": [
    "class shallowCNN(torch.nn.Module):\n",
    "    def __init__(self, width = 28, height = 28, h = 300):\n",
    "        super(shallowCNN, self).__init__()\n",
    "        self.conv1 = torch.nn.Conv2d(1, 64, kernel_size=3)\n",
    "        self.maxpool2 = torch.nn.MaxPool2d(2)\n",
    "        self.conv2 = torch.nn.Conv2d(64, 128, kernel_size=5)\n",
    "        self.fc1 = torch.nn.Linear(2048, 300)\n",
    "        self.fc2 = torch.nn.Linear(300, 300)\n",
    "    \n",
    "    def forward(self, x):\n",
    "        x = x.view(x.shape[0], 1, x.shape[1], x.shape[2])\n",
    "        y = self.conv1(x)\n",
    "        y = F.relu(self.maxpool2(y))\n",
    "        y = self.conv2(y)\n",
    "        y = F.relu(self.maxpool2(y))\n",
    "        y = y.view(x.shape[0], y.shape[1]*y.shape[2]*y.shape[3])\n",
    "        y = F.relu(self.fc1(y))\n",
    "        y = F.relu(self.fc2(y))\n",
    "        return y"
   ]
  },
  {
   "cell_type": "code",
   "execution_count": 11,
   "metadata": {},
   "outputs": [],
   "source": [
    "cnn = shallowCNN().cuda()"
   ]
  },
  {
   "cell_type": "markdown",
   "metadata": {},
   "source": [
    "### Otimizador"
   ]
  },
  {
   "cell_type": "code",
   "execution_count": 12,
   "metadata": {},
   "outputs": [],
   "source": [
    "optimizer = Adam(cnn.parameters())"
   ]
  },
  {
   "cell_type": "markdown",
   "metadata": {},
   "source": [
    "### Treinamento"
   ]
  },
  {
   "cell_type": "code",
   "execution_count": 13,
   "metadata": {},
   "outputs": [],
   "source": [
    "N = 6\n",
    "M = 10\n",
    "KP = 1\n",
    "KN = 10\n",
    "max_iter = 500"
   ]
  },
  {
   "cell_type": "code",
   "execution_count": 14,
   "metadata": {},
   "outputs": [],
   "source": [
    "ppath = './Distance_matrix/N=%d, M=%d, KP=%d, KN=%d, %d' % (N, M, KP, KN, max_iter)\n",
    "\n",
    "if not os.path.exists(ppath):\n",
    "    os.mkdir(ppath)"
   ]
  },
  {
   "cell_type": "code",
   "execution_count": 16,
   "metadata": {
    "scrolled": true
   },
   "outputs": [
    {
     "name": "stderr",
     "output_type": "stream",
     "text": [
      "/home/pi/anaconda3/envs/tensorflow-gpu/lib/python3.6/site-packages/ipykernel_launcher.py:23: UserWarning: invalid index of a 0-dim tensor. This will be an error in PyTorch 0.5. Use tensor.item() to convert a 0-dim tensor to a Python number\n"
     ]
    },
    {
     "name": "stdout",
     "output_type": "stream",
     "text": [
      "(1/500) Loss: 1.025717, H.pos - H.neg: 0.048414\n",
      "(2/500) Loss: 1.020818, H.pos - H.neg: 0.040118\n",
      "(3/500) Loss: 1.010713, H.pos - H.neg: 0.024783\n",
      "(4/500) Loss: 1.010243, H.pos - H.neg: 0.017810\n",
      "(5/500) Loss: 1.004397, H.pos - H.neg: 0.022051\n",
      "(6/500) Loss: 1.004584, H.pos - H.neg: 0.012784\n",
      "(7/500) Loss: 1.004427, H.pos - H.neg: 0.015636\n",
      "(8/500) Loss: 1.007023, H.pos - H.neg: 0.016938\n",
      "(9/500) Loss: 1.003249, H.pos - H.neg: 0.008410\n",
      "(10/500) Loss: 1.002855, H.pos - H.neg: 0.009864\n",
      "(11/500) Loss: 1.002353, H.pos - H.neg: 0.005897\n",
      "(12/500) Loss: 1.001295, H.pos - H.neg: 0.003658\n",
      "(13/500) Loss: 1.001670, H.pos - H.neg: 0.003326\n",
      "(14/500) Loss: 1.000768, H.pos - H.neg: 0.004916\n",
      "(15/500) Loss: 1.001332, H.pos - H.neg: 0.003588\n",
      "(16/500) Loss: 1.001254, H.pos - H.neg: 0.003876\n",
      "(17/500) Loss: 1.000632, H.pos - H.neg: 0.002244\n",
      "(18/500) Loss: 1.000760, H.pos - H.neg: 0.001767\n",
      "(19/500) Loss: 1.000425, H.pos - H.neg: 0.002282\n",
      "(20/500) Loss: 1.000206, H.pos - H.neg: 0.001767\n",
      "(21/500) Loss: 1.000295, H.pos - H.neg: 0.001669\n",
      "(22/500) Loss: 1.000528, H.pos - H.neg: 0.001534\n",
      "(23/500) Loss: 1.000334, H.pos - H.neg: 0.001649\n",
      "(24/500) Loss: 1.000622, H.pos - H.neg: 0.001779\n",
      "(25/500) Loss: 1.000556, H.pos - H.neg: 0.001980\n",
      "(26/500) Loss: 1.000384, H.pos - H.neg: 0.001548\n",
      "(27/500) Loss: 1.000465, H.pos - H.neg: 0.001204\n",
      "(28/500) Loss: 1.000353, H.pos - H.neg: 0.001807\n",
      "(29/500) Loss: 1.000344, H.pos - H.neg: 0.002277\n",
      "(30/500) Loss: 1.000180, H.pos - H.neg: 0.001662\n",
      "(31/500) Loss: 1.000189, H.pos - H.neg: 0.001099\n",
      "(32/500) Loss: 1.000199, H.pos - H.neg: 0.001507\n",
      "(33/500) Loss: 1.000256, H.pos - H.neg: 0.001215\n",
      "(34/500) Loss: 1.000197, H.pos - H.neg: 0.001090\n",
      "(35/500) Loss: 1.000274, H.pos - H.neg: 0.001412\n",
      "(36/500) Loss: 0.999972, H.pos - H.neg: 0.001502\n",
      "(37/500) Loss: 0.999968, H.pos - H.neg: 0.001195\n",
      "(38/500) Loss: 1.000118, H.pos - H.neg: 0.001113\n",
      "(39/500) Loss: 1.000480, H.pos - H.neg: 0.002314\n",
      "(40/500) Loss: 1.000301, H.pos - H.neg: 0.001529\n",
      "(41/500) Loss: 1.000266, H.pos - H.neg: 0.001548\n",
      "(42/500) Loss: 1.000168, H.pos - H.neg: 0.001153\n",
      "(43/500) Loss: 1.000516, H.pos - H.neg: 0.001683\n",
      "(44/500) Loss: 1.000120, H.pos - H.neg: 0.001659\n",
      "(45/500) Loss: 1.000221, H.pos - H.neg: 0.001226\n",
      "(46/500) Loss: 1.000237, H.pos - H.neg: 0.000757\n",
      "(47/500) Loss: 1.000022, H.pos - H.neg: 0.000703\n",
      "(48/500) Loss: 1.000231, H.pos - H.neg: 0.001219\n",
      "(49/500) Loss: 1.000012, H.pos - H.neg: 0.001042\n",
      "(50/500) Loss: 1.000163, H.pos - H.neg: 0.001000\n",
      "(51/500) Loss: 1.000055, H.pos - H.neg: 0.000997\n",
      "(52/500) Loss: 0.999948, H.pos - H.neg: 0.001031\n",
      "(53/500) Loss: 1.000004, H.pos - H.neg: 0.001364\n",
      "(54/500) Loss: 1.000269, H.pos - H.neg: 0.001538\n",
      "(55/500) Loss: 1.000428, H.pos - H.neg: 0.002523\n",
      "(56/500) Loss: 1.000093, H.pos - H.neg: 0.001127\n",
      "(57/500) Loss: 1.000070, H.pos - H.neg: 0.001879\n",
      "(58/500) Loss: 1.000014, H.pos - H.neg: 0.001130\n",
      "(59/500) Loss: 0.999775, H.pos - H.neg: 0.000682\n",
      "(60/500) Loss: 1.000167, H.pos - H.neg: 0.000997\n",
      "(61/500) Loss: 0.999903, H.pos - H.neg: 0.001048\n",
      "(62/500) Loss: 1.000176, H.pos - H.neg: 0.001300\n",
      "(63/500) Loss: 1.000007, H.pos - H.neg: 0.001524\n",
      "(64/500) Loss: 1.000024, H.pos - H.neg: 0.001389\n",
      "(65/500) Loss: 1.000449, H.pos - H.neg: 0.002495\n",
      "(66/500) Loss: 0.999860, H.pos - H.neg: 0.001460\n",
      "(67/500) Loss: 1.000046, H.pos - H.neg: 0.001313\n",
      "(68/500) Loss: 1.000159, H.pos - H.neg: 0.001237\n",
      "(69/500) Loss: 1.000094, H.pos - H.neg: 0.001378\n",
      "(70/500) Loss: 1.000065, H.pos - H.neg: 0.001176\n",
      "(71/500) Loss: 0.999787, H.pos - H.neg: 0.000715\n",
      "(72/500) Loss: 0.999951, H.pos - H.neg: 0.001366\n",
      "(73/500) Loss: 1.000014, H.pos - H.neg: 0.001540\n",
      "(74/500) Loss: 1.000376, H.pos - H.neg: 0.002400\n",
      "(75/500) Loss: 0.999832, H.pos - H.neg: 0.001523\n",
      "(76/500) Loss: 0.999769, H.pos - H.neg: 0.001600\n",
      "(77/500) Loss: 1.000275, H.pos - H.neg: 0.001499\n",
      "(78/500) Loss: 1.000149, H.pos - H.neg: 0.001380\n",
      "(79/500) Loss: 1.000353, H.pos - H.neg: 0.001846\n",
      "(80/500) Loss: 1.000177, H.pos - H.neg: 0.002163\n",
      "(81/500) Loss: 0.999965, H.pos - H.neg: 0.002006\n",
      "(82/500) Loss: 0.999957, H.pos - H.neg: 0.002117\n",
      "(83/500) Loss: 1.000197, H.pos - H.neg: 0.002306\n",
      "(84/500) Loss: 0.999730, H.pos - H.neg: 0.001617\n",
      "(85/500) Loss: 1.000294, H.pos - H.neg: 0.002603\n",
      "(86/500) Loss: 0.999834, H.pos - H.neg: 0.002247\n",
      "(87/500) Loss: 0.999766, H.pos - H.neg: 0.002721\n",
      "(88/500) Loss: 0.999500, H.pos - H.neg: 0.001935\n",
      "(89/500) Loss: 0.999836, H.pos - H.neg: 0.002324\n",
      "(90/500) Loss: 1.000957, H.pos - H.neg: 0.003992\n",
      "(91/500) Loss: 0.999447, H.pos - H.neg: 0.003099\n",
      "(92/500) Loss: 1.000277, H.pos - H.neg: 0.003135\n",
      "(93/500) Loss: 1.000201, H.pos - H.neg: 0.002324\n",
      "(94/500) Loss: 0.999659, H.pos - H.neg: 0.002474\n",
      "(95/500) Loss: 0.999310, H.pos - H.neg: 0.002179\n",
      "(96/500) Loss: 0.999954, H.pos - H.neg: 0.003927\n",
      "(97/500) Loss: 0.999696, H.pos - H.neg: 0.003620\n",
      "(98/500) Loss: 1.001008, H.pos - H.neg: 0.006193\n",
      "(99/500) Loss: 0.999396, H.pos - H.neg: 0.003193\n",
      "(100/500) Loss: 0.999901, H.pos - H.neg: 0.004344\n",
      "(101/500) Loss: 0.999432, H.pos - H.neg: 0.006010\n",
      "(102/500) Loss: 0.999785, H.pos - H.neg: 0.008011\n",
      "(103/500) Loss: 0.999742, H.pos - H.neg: 0.007428\n",
      "(104/500) Loss: 1.001434, H.pos - H.neg: 0.008465\n",
      "(105/500) Loss: 1.000842, H.pos - H.neg: 0.009390\n",
      "(106/500) Loss: 1.000561, H.pos - H.neg: 0.011898\n",
      "(107/500) Loss: 0.999815, H.pos - H.neg: 0.008156\n",
      "(108/500) Loss: 0.998883, H.pos - H.neg: 0.004394\n",
      "(109/500) Loss: 0.999135, H.pos - H.neg: 0.006591\n",
      "(110/500) Loss: 1.000547, H.pos - H.neg: 0.008613\n",
      "(111/500) Loss: 0.998397, H.pos - H.neg: 0.004864\n",
      "(112/500) Loss: 0.999356, H.pos - H.neg: 0.013252\n",
      "(113/500) Loss: 0.997876, H.pos - H.neg: 0.015797\n",
      "(114/500) Loss: 1.001810, H.pos - H.neg: 0.019542\n",
      "(115/500) Loss: 0.997522, H.pos - H.neg: 0.011295\n",
      "(116/500) Loss: 1.007735, H.pos - H.neg: 0.027074\n",
      "(117/500) Loss: 1.000632, H.pos - H.neg: 0.022977\n",
      "(118/500) Loss: 0.996014, H.pos - H.neg: 0.020655\n",
      "(119/500) Loss: 0.998031, H.pos - H.neg: 0.016902\n",
      "(120/500) Loss: 1.005441, H.pos - H.neg: 0.043262\n",
      "(121/500) Loss: 1.000412, H.pos - H.neg: 0.031034\n",
      "(122/500) Loss: 0.998301, H.pos - H.neg: 0.045103\n",
      "(123/500) Loss: 1.006806, H.pos - H.neg: 0.052772\n",
      "(124/500) Loss: 0.996304, H.pos - H.neg: 0.039882\n",
      "(125/500) Loss: 1.007426, H.pos - H.neg: 0.061744\n",
      "(126/500) Loss: 0.998656, H.pos - H.neg: 0.035165\n",
      "(127/500) Loss: 1.005505, H.pos - H.neg: 0.047845\n",
      "(128/500) Loss: 1.005975, H.pos - H.neg: 0.044874\n",
      "(129/500) Loss: 1.002354, H.pos - H.neg: 0.032644\n",
      "(130/500) Loss: 0.999295, H.pos - H.neg: 0.026596\n",
      "(131/500) Loss: 1.007179, H.pos - H.neg: 0.034226\n",
      "(132/500) Loss: 1.004535, H.pos - H.neg: 0.043282\n",
      "(133/500) Loss: 0.995489, H.pos - H.neg: 0.028432\n",
      "(134/500) Loss: 1.000615, H.pos - H.neg: 0.039270\n",
      "(135/500) Loss: 0.995079, H.pos - H.neg: 0.047173\n",
      "(136/500) Loss: 1.008215, H.pos - H.neg: 0.037585\n",
      "(137/500) Loss: 1.002820, H.pos - H.neg: 0.037509\n",
      "(138/500) Loss: 0.997401, H.pos - H.neg: 0.043483\n",
      "(139/500) Loss: 1.000424, H.pos - H.neg: 0.059011\n",
      "(140/500) Loss: 1.001395, H.pos - H.neg: 0.040028\n",
      "(141/500) Loss: 1.009508, H.pos - H.neg: 0.076708\n",
      "(142/500) Loss: 0.998435, H.pos - H.neg: 0.044574\n",
      "(143/500) Loss: 0.999537, H.pos - H.neg: 0.067716\n",
      "(144/500) Loss: 0.996438, H.pos - H.neg: 0.048959\n",
      "(145/500) Loss: 1.016900, H.pos - H.neg: 0.127028\n",
      "(146/500) Loss: 0.987565, H.pos - H.neg: 0.053953\n",
      "(147/500) Loss: 1.008993, H.pos - H.neg: 0.059533\n",
      "(148/500) Loss: 0.994341, H.pos - H.neg: 0.047093\n",
      "(149/500) Loss: 0.991696, H.pos - H.neg: 0.102112\n",
      "(150/500) Loss: 1.008196, H.pos - H.neg: 0.177085\n",
      "(151/500) Loss: 1.010876, H.pos - H.neg: 0.112097\n",
      "(152/500) Loss: 1.014508, H.pos - H.neg: 0.091324\n",
      "(153/500) Loss: 0.978590, H.pos - H.neg: 0.094281\n",
      "(154/500) Loss: 1.001141, H.pos - H.neg: 0.123374\n",
      "(155/500) Loss: 1.017071, H.pos - H.neg: 0.097820\n",
      "(156/500) Loss: 1.004919, H.pos - H.neg: 0.152255\n",
      "(157/500) Loss: 0.991508, H.pos - H.neg: 0.132412\n",
      "(158/500) Loss: 0.974881, H.pos - H.neg: 0.220245\n",
      "(159/500) Loss: 1.011125, H.pos - H.neg: 0.129219\n",
      "(160/500) Loss: 0.984058, H.pos - H.neg: 0.109279\n",
      "(161/500) Loss: 0.961772, H.pos - H.neg: 0.121260\n",
      "(162/500) Loss: 0.970622, H.pos - H.neg: 0.187713\n",
      "(163/500) Loss: 0.960555, H.pos - H.neg: 0.249132\n",
      "(164/500) Loss: 1.006707, H.pos - H.neg: 0.305838\n",
      "(165/500) Loss: 1.027535, H.pos - H.neg: 0.308411\n",
      "(166/500) Loss: 1.031603, H.pos - H.neg: 0.474854\n",
      "(167/500) Loss: 0.849696, H.pos - H.neg: 0.345208\n",
      "(168/500) Loss: 0.886617, H.pos - H.neg: 0.338239\n",
      "(169/500) Loss: 0.934676, H.pos - H.neg: 0.538040\n",
      "(170/500) Loss: 1.116647, H.pos - H.neg: 0.994392\n",
      "(171/500) Loss: 1.093458, H.pos - H.neg: 1.711555\n",
      "(172/500) Loss: 0.841421, H.pos - H.neg: 0.877832\n",
      "(173/500) Loss: 0.843320, H.pos - H.neg: 1.255615\n",
      "(174/500) Loss: 0.718677, H.pos - H.neg: 1.036669\n",
      "(175/500) Loss: 0.974828, H.pos - H.neg: 1.735632\n",
      "(176/500) Loss: 0.852759, H.pos - H.neg: 1.546631\n",
      "(177/500) Loss: 0.815548, H.pos - H.neg: 2.889072\n",
      "(178/500) Loss: 1.098881, H.pos - H.neg: 2.751287\n",
      "(179/500) Loss: 0.725184, H.pos - H.neg: 2.429531\n",
      "(180/500) Loss: 0.887756, H.pos - H.neg: 1.958008\n",
      "(181/500) Loss: 0.654044, H.pos - H.neg: 2.512920\n",
      "(182/500) Loss: 0.926877, H.pos - H.neg: 1.347576\n",
      "(183/500) Loss: 1.159528, H.pos - H.neg: 1.622025\n",
      "(184/500) Loss: 0.676329, H.pos - H.neg: 1.790646\n",
      "(185/500) Loss: 0.949731, H.pos - H.neg: 2.801292\n",
      "(186/500) Loss: 0.953588, H.pos - H.neg: 2.129246\n",
      "(187/500) Loss: 0.817575, H.pos - H.neg: 1.787212\n",
      "(188/500) Loss: 1.271114, H.pos - H.neg: 3.251575\n",
      "(189/500) Loss: 0.603039, H.pos - H.neg: 1.678169\n",
      "(190/500) Loss: 0.602953, H.pos - H.neg: 1.772926\n",
      "(191/500) Loss: 1.080853, H.pos - H.neg: 1.866890\n",
      "(192/500) Loss: 1.354831, H.pos - H.neg: 2.140831\n",
      "(193/500) Loss: 0.705117, H.pos - H.neg: 1.592880\n",
      "(194/500) Loss: 0.427749, H.pos - H.neg: 1.593079\n",
      "(195/500) Loss: 0.425577, H.pos - H.neg: 1.260395\n",
      "(196/500) Loss: 0.872219, H.pos - H.neg: 1.981010\n",
      "(197/500) Loss: 1.394348, H.pos - H.neg: 3.436710\n",
      "(198/500) Loss: 1.061761, H.pos - H.neg: 3.257286\n",
      "(199/500) Loss: 1.063481, H.pos - H.neg: 2.423622\n",
      "(200/500) Loss: 0.594955, H.pos - H.neg: 2.242302\n",
      "(201/500) Loss: 0.594561, H.pos - H.neg: 1.470821\n",
      "(202/500) Loss: 0.578254, H.pos - H.neg: 2.163551\n",
      "(203/500) Loss: 0.575833, H.pos - H.neg: 2.618324\n",
      "(204/500) Loss: 0.489728, H.pos - H.neg: 2.329498\n",
      "(205/500) Loss: 0.532914, H.pos - H.neg: 2.637985\n",
      "(206/500) Loss: 0.308291, H.pos - H.neg: 2.361164\n",
      "(207/500) Loss: 0.627386, H.pos - H.neg: 5.294102\n",
      "(208/500) Loss: 0.678867, H.pos - H.neg: 2.851128\n",
      "(209/500) Loss: 0.435599, H.pos - H.neg: 3.625797\n",
      "(210/500) Loss: 0.861865, H.pos - H.neg: 5.682915\n",
      "(211/500) Loss: 0.384070, H.pos - H.neg: 3.646469\n",
      "(212/500) Loss: 0.343745, H.pos - H.neg: 3.227043\n",
      "(213/500) Loss: 1.038242, H.pos - H.neg: 4.066391\n",
      "(214/500) Loss: 0.329021, H.pos - H.neg: 3.204872\n",
      "(215/500) Loss: 0.181343, H.pos - H.neg: 1.848495\n",
      "(216/500) Loss: 0.389491, H.pos - H.neg: 2.832085\n",
      "(217/500) Loss: 0.651518, H.pos - H.neg: 4.485443\n",
      "(218/500) Loss: 0.579384, H.pos - H.neg: 2.947769\n",
      "(219/500) Loss: 0.465022, H.pos - H.neg: 2.920959\n",
      "(220/500) Loss: 0.776476, H.pos - H.neg: 6.261131\n",
      "(221/500) Loss: 0.376905, H.pos - H.neg: 2.593956\n",
      "(222/500) Loss: 0.821182, H.pos - H.neg: 3.951599\n",
      "(223/500) Loss: 0.315148, H.pos - H.neg: 3.121780\n",
      "(224/500) Loss: 0.340656, H.pos - H.neg: 3.670280\n",
      "(225/500) Loss: 0.407996, H.pos - H.neg: 4.122765\n",
      "(226/500) Loss: 0.478742, H.pos - H.neg: 4.460014\n",
      "(227/500) Loss: 0.552898, H.pos - H.neg: 5.114365\n",
      "(228/500) Loss: 0.547858, H.pos - H.neg: 3.901688\n",
      "(229/500) Loss: 0.538293, H.pos - H.neg: 2.723450\n",
      "(230/500) Loss: 0.371307, H.pos - H.neg: 3.555130\n",
      "(231/500) Loss: 0.648416, H.pos - H.neg: 4.924194\n",
      "(232/500) Loss: 0.481118, H.pos - H.neg: 3.212368\n",
      "(233/500) Loss: 0.517058, H.pos - H.neg: 5.015705\n",
      "(234/500) Loss: 0.610053, H.pos - H.neg: 4.080376\n",
      "(235/500) Loss: 0.305406, H.pos - H.neg: 2.793770\n",
      "(236/500) Loss: 0.806537, H.pos - H.neg: 2.853592\n",
      "(237/500) Loss: 0.702039, H.pos - H.neg: 3.051888\n",
      "(238/500) Loss: 0.737498, H.pos - H.neg: 3.709473\n",
      "(239/500) Loss: 0.383906, H.pos - H.neg: 3.971085\n",
      "(240/500) Loss: 0.507710, H.pos - H.neg: 3.846230\n",
      "(241/500) Loss: 0.542049, H.pos - H.neg: 2.428749\n",
      "(242/500) Loss: 0.697290, H.pos - H.neg: 2.343407\n",
      "(243/500) Loss: 0.572759, H.pos - H.neg: 2.201408\n",
      "(244/500) Loss: 0.404108, H.pos - H.neg: 3.104465\n",
      "(245/500) Loss: 0.539585, H.pos - H.neg: 2.872234\n",
      "(246/500) Loss: 0.799779, H.pos - H.neg: 6.342827\n",
      "(247/500) Loss: 0.678179, H.pos - H.neg: 2.521896\n",
      "(248/500) Loss: 0.234660, H.pos - H.neg: 2.816547\n",
      "(249/500) Loss: 0.734891, H.pos - H.neg: 2.318092\n",
      "(250/500) Loss: 0.452503, H.pos - H.neg: 3.116531\n",
      "(251/500) Loss: 0.494023, H.pos - H.neg: 2.472786\n",
      "(252/500) Loss: 0.850337, H.pos - H.neg: 2.637100\n",
      "(253/500) Loss: 0.420858, H.pos - H.neg: 2.395329\n",
      "(254/500) Loss: 0.353316, H.pos - H.neg: 2.502811\n",
      "(255/500) Loss: 0.526930, H.pos - H.neg: 5.112530\n",
      "(256/500) Loss: 0.587091, H.pos - H.neg: 3.693424\n",
      "(257/500) Loss: 0.367432, H.pos - H.neg: 3.843910\n",
      "(258/500) Loss: 0.499869, H.pos - H.neg: 3.815025\n",
      "(259/500) Loss: 0.481603, H.pos - H.neg: 2.463139\n",
      "(260/500) Loss: 0.604123, H.pos - H.neg: 3.396786\n",
      "(261/500) Loss: 0.676964, H.pos - H.neg: 3.154911\n",
      "(262/500) Loss: 0.366159, H.pos - H.neg: 3.593044\n",
      "(263/500) Loss: 0.051203, H.pos - H.neg: 2.124958\n",
      "(264/500) Loss: 0.414613, H.pos - H.neg: 2.635910\n",
      "(265/500) Loss: 0.329740, H.pos - H.neg: 2.335266\n",
      "(266/500) Loss: 0.511362, H.pos - H.neg: 3.107544\n",
      "(267/500) Loss: 0.294360, H.pos - H.neg: 1.720684\n",
      "(268/500) Loss: 0.508915, H.pos - H.neg: 2.591820\n",
      "(269/500) Loss: 0.308682, H.pos - H.neg: 2.181274\n",
      "(270/500) Loss: 1.061287, H.pos - H.neg: 4.171593\n",
      "(271/500) Loss: 0.523911, H.pos - H.neg: 3.145439\n",
      "(272/500) Loss: 0.218506, H.pos - H.neg: 2.110088\n",
      "(273/500) Loss: 0.620041, H.pos - H.neg: 3.450237\n",
      "(274/500) Loss: 0.818767, H.pos - H.neg: 4.066711\n",
      "(275/500) Loss: 0.256406, H.pos - H.neg: 1.740078\n",
      "(276/500) Loss: 0.451516, H.pos - H.neg: 2.433449\n",
      "(277/500) Loss: 0.773962, H.pos - H.neg: 2.630199\n",
      "(278/500) Loss: 0.176239, H.pos - H.neg: 2.475582\n",
      "(279/500) Loss: 0.462834, H.pos - H.neg: 3.231224\n",
      "(280/500) Loss: 0.651884, H.pos - H.neg: 3.400478\n",
      "(281/500) Loss: 0.394344, H.pos - H.neg: 3.142166\n",
      "(282/500) Loss: 0.398832, H.pos - H.neg: 2.503258\n",
      "(283/500) Loss: 0.350553, H.pos - H.neg: 2.264870\n",
      "(284/500) Loss: 1.011135, H.pos - H.neg: 3.673485\n",
      "(285/500) Loss: 0.135091, H.pos - H.neg: 1.812492\n",
      "(286/500) Loss: 0.636027, H.pos - H.neg: 2.652195\n",
      "(287/500) Loss: 0.526870, H.pos - H.neg: 3.665730\n",
      "(288/500) Loss: 0.837853, H.pos - H.neg: 2.537006\n",
      "(289/500) Loss: 0.453600, H.pos - H.neg: 3.851406\n",
      "(290/500) Loss: 0.165059, H.pos - H.neg: 2.032616\n",
      "(291/500) Loss: 0.110701, H.pos - H.neg: 1.799068\n",
      "(292/500) Loss: 0.111281, H.pos - H.neg: 2.238884\n",
      "(293/500) Loss: 0.636883, H.pos - H.neg: 2.827961\n",
      "(294/500) Loss: 0.346025, H.pos - H.neg: 2.940020\n",
      "(295/500) Loss: 0.374598, H.pos - H.neg: 3.692192\n",
      "(296/500) Loss: 0.696305, H.pos - H.neg: 4.533684\n",
      "(297/500) Loss: 0.702081, H.pos - H.neg: 2.950901\n",
      "(298/500) Loss: 0.896276, H.pos - H.neg: 7.849312\n",
      "(299/500) Loss: 0.465680, H.pos - H.neg: 4.702677\n",
      "(300/500) Loss: 0.804802, H.pos - H.neg: 4.781403\n",
      "(301/500) Loss: 0.336470, H.pos - H.neg: 2.285084\n",
      "(302/500) Loss: 0.819227, H.pos - H.neg: 4.662998\n",
      "(303/500) Loss: 0.699547, H.pos - H.neg: 4.101151\n",
      "(304/500) Loss: 0.589767, H.pos - H.neg: 2.448524\n",
      "(305/500) Loss: 0.388205, H.pos - H.neg: 2.212284\n",
      "(306/500) Loss: 0.663284, H.pos - H.neg: 3.285053\n",
      "(307/500) Loss: 0.329123, H.pos - H.neg: 3.041374\n",
      "(308/500) Loss: 0.600272, H.pos - H.neg: 2.675552\n",
      "(309/500) Loss: 0.359784, H.pos - H.neg: 3.485655\n",
      "(310/500) Loss: 0.177169, H.pos - H.neg: 2.249439\n",
      "(311/500) Loss: 0.680647, H.pos - H.neg: 5.078409\n",
      "(312/500) Loss: 0.351716, H.pos - H.neg: 2.778263\n",
      "(313/500) Loss: 0.164027, H.pos - H.neg: 2.925222\n",
      "(314/500) Loss: 0.185231, H.pos - H.neg: 2.810564\n",
      "(315/500) Loss: 0.293768, H.pos - H.neg: 2.718132\n",
      "(316/500) Loss: 0.218390, H.pos - H.neg: 2.262398\n",
      "(317/500) Loss: 0.160030, H.pos - H.neg: 2.617588\n",
      "(318/500) Loss: 0.202870, H.pos - H.neg: 2.720474\n",
      "(319/500) Loss: 0.200658, H.pos - H.neg: 2.976984\n",
      "(320/500) Loss: 0.218448, H.pos - H.neg: 2.725206\n",
      "(321/500) Loss: 0.204856, H.pos - H.neg: 2.731670\n",
      "(322/500) Loss: 0.366866, H.pos - H.neg: 3.818119\n",
      "(323/500) Loss: 0.255230, H.pos - H.neg: 4.086098\n",
      "(324/500) Loss: 0.199655, H.pos - H.neg: 2.205456\n",
      "(325/500) Loss: 0.126301, H.pos - H.neg: 2.960232\n",
      "(326/500) Loss: 0.287735, H.pos - H.neg: 5.306866\n",
      "(327/500) Loss: 0.655353, H.pos - H.neg: 4.969048\n",
      "(328/500) Loss: 0.284600, H.pos - H.neg: 3.854603\n",
      "(329/500) Loss: 0.465532, H.pos - H.neg: 3.940033\n",
      "(330/500) Loss: 0.544249, H.pos - H.neg: 3.002884\n",
      "(331/500) Loss: 0.350072, H.pos - H.neg: 2.868298\n",
      "(332/500) Loss: 0.014922, H.pos - H.neg: 2.029922\n",
      "(333/500) Loss: 0.242858, H.pos - H.neg: 2.370956\n",
      "(334/500) Loss: 0.396533, H.pos - H.neg: 3.576031\n",
      "(335/500) Loss: 0.102469, H.pos - H.neg: 2.126465\n",
      "(336/500) Loss: 0.346047, H.pos - H.neg: 2.924828\n",
      "(337/500) Loss: 0.188222, H.pos - H.neg: 2.643867\n",
      "(338/500) Loss: 0.324663, H.pos - H.neg: 3.312176\n",
      "(339/500) Loss: 0.146858, H.pos - H.neg: 1.993759\n",
      "(340/500) Loss: 0.221080, H.pos - H.neg: 2.318779\n",
      "(341/500) Loss: 0.443623, H.pos - H.neg: 2.493965\n",
      "(342/500) Loss: 0.119597, H.pos - H.neg: 1.646664\n",
      "(343/500) Loss: 0.168373, H.pos - H.neg: 2.473648\n",
      "(344/500) Loss: 0.313928, H.pos - H.neg: 3.250771\n",
      "(345/500) Loss: 0.551185, H.pos - H.neg: 2.577568\n",
      "(346/500) Loss: 0.221088, H.pos - H.neg: 3.881889\n",
      "(347/500) Loss: 0.884701, H.pos - H.neg: 6.345432\n",
      "(348/500) Loss: 0.334064, H.pos - H.neg: 4.575920\n",
      "(349/500) Loss: 0.218828, H.pos - H.neg: 3.866413\n",
      "(350/500) Loss: 0.338628, H.pos - H.neg: 3.757042\n",
      "(351/500) Loss: 0.901194, H.pos - H.neg: 3.679077\n",
      "(352/500) Loss: 0.182018, H.pos - H.neg: 2.250511\n",
      "(353/500) Loss: 0.501596, H.pos - H.neg: 2.513405\n",
      "(354/500) Loss: 0.308915, H.pos - H.neg: 3.747875\n",
      "(355/500) Loss: 0.225410, H.pos - H.neg: 3.405769\n",
      "(356/500) Loss: 0.682349, H.pos - H.neg: 4.714844\n",
      "(357/500) Loss: 0.451291, H.pos - H.neg: 3.318317\n",
      "(358/500) Loss: 0.275421, H.pos - H.neg: 2.536041\n",
      "(359/500) Loss: 0.365477, H.pos - H.neg: 3.119152\n",
      "(360/500) Loss: 0.318851, H.pos - H.neg: 2.706841\n",
      "(361/500) Loss: 0.730346, H.pos - H.neg: 4.162384\n",
      "(362/500) Loss: 0.657625, H.pos - H.neg: 3.522152\n",
      "(363/500) Loss: 0.573027, H.pos - H.neg: 4.729206\n",
      "(364/500) Loss: 0.147629, H.pos - H.neg: 3.914185\n",
      "(365/500) Loss: 0.680199, H.pos - H.neg: 5.416817\n",
      "(366/500) Loss: 0.302816, H.pos - H.neg: 2.120728\n",
      "(367/500) Loss: 0.104004, H.pos - H.neg: 2.609180\n",
      "(368/500) Loss: 0.281986, H.pos - H.neg: 2.563568\n",
      "(369/500) Loss: 0.261127, H.pos - H.neg: 1.781067\n",
      "(370/500) Loss: 0.289266, H.pos - H.neg: 2.017925\n",
      "(371/500) Loss: 0.412292, H.pos - H.neg: 3.435493\n",
      "(372/500) Loss: 0.346375, H.pos - H.neg: 4.614719\n",
      "(373/500) Loss: 0.031958, H.pos - H.neg: 1.763073\n",
      "(374/500) Loss: 0.247470, H.pos - H.neg: 2.507874\n",
      "(375/500) Loss: 0.174787, H.pos - H.neg: 3.676672\n",
      "(376/500) Loss: 1.174735, H.pos - H.neg: 7.516066\n",
      "(377/500) Loss: 0.296308, H.pos - H.neg: 5.514088\n",
      "(378/500) Loss: 0.229736, H.pos - H.neg: 3.817593\n",
      "(379/500) Loss: 0.405438, H.pos - H.neg: 3.554329\n",
      "(380/500) Loss: 0.411005, H.pos - H.neg: 2.813820\n",
      "(381/500) Loss: 0.134105, H.pos - H.neg: 2.915516\n",
      "(382/500) Loss: 0.223664, H.pos - H.neg: 4.120783\n",
      "(383/500) Loss: 0.696121, H.pos - H.neg: 5.188438\n",
      "(384/500) Loss: 0.355164, H.pos - H.neg: 5.361225\n",
      "(385/500) Loss: 0.427006, H.pos - H.neg: 3.399540\n",
      "(386/500) Loss: 0.351623, H.pos - H.neg: 2.588322\n",
      "(387/500) Loss: 0.158581, H.pos - H.neg: 2.785282\n",
      "(388/500) Loss: 0.194135, H.pos - H.neg: 3.075466\n",
      "(389/500) Loss: 0.921046, H.pos - H.neg: 3.677120\n",
      "(390/500) Loss: 0.302065, H.pos - H.neg: 3.171757\n",
      "(391/500) Loss: 0.462772, H.pos - H.neg: 3.676048\n",
      "(392/500) Loss: 0.828564, H.pos - H.neg: 5.718773\n",
      "(393/500) Loss: 0.086149, H.pos - H.neg: 3.745575\n",
      "(394/500) Loss: 0.454012, H.pos - H.neg: 4.361282\n",
      "(395/500) Loss: 0.159038, H.pos - H.neg: 2.286724\n",
      "(396/500) Loss: 0.251715, H.pos - H.neg: 3.112698\n",
      "(397/500) Loss: 0.101309, H.pos - H.neg: 1.994202\n",
      "(398/500) Loss: 0.961988, H.pos - H.neg: 4.243862\n",
      "(399/500) Loss: 0.539324, H.pos - H.neg: 4.445026\n",
      "(400/500) Loss: 0.588927, H.pos - H.neg: 2.642059\n",
      "(401/500) Loss: 0.464779, H.pos - H.neg: 4.224169\n",
      "(402/500) Loss: 0.237914, H.pos - H.neg: 2.342724\n",
      "(403/500) Loss: 0.342635, H.pos - H.neg: 3.464073\n",
      "(404/500) Loss: 0.295357, H.pos - H.neg: 2.896187\n",
      "(405/500) Loss: 0.053673, H.pos - H.neg: 1.733921\n",
      "(406/500) Loss: 0.832241, H.pos - H.neg: 4.821224\n",
      "(407/500) Loss: 0.485520, H.pos - H.neg: 2.657269\n",
      "(408/500) Loss: 0.283286, H.pos - H.neg: 2.351620\n",
      "(409/500) Loss: 0.191726, H.pos - H.neg: 3.867546\n",
      "(410/500) Loss: 0.010883, H.pos - H.neg: 1.803505\n",
      "(411/500) Loss: 0.135641, H.pos - H.neg: 2.356262\n",
      "(412/500) Loss: 0.754589, H.pos - H.neg: 5.151772\n",
      "(413/500) Loss: 0.129938, H.pos - H.neg: 3.602528\n",
      "(414/500) Loss: 0.248634, H.pos - H.neg: 3.695393\n",
      "(415/500) Loss: 0.099219, H.pos - H.neg: 4.219223\n",
      "(416/500) Loss: 0.846007, H.pos - H.neg: 4.622032\n",
      "(417/500) Loss: 0.102789, H.pos - H.neg: 2.065937\n",
      "(418/500) Loss: 0.050174, H.pos - H.neg: 2.663754\n",
      "(419/500) Loss: 0.355054, H.pos - H.neg: 2.885509\n",
      "(420/500) Loss: 0.114171, H.pos - H.neg: 2.002754\n",
      "(421/500) Loss: 0.368474, H.pos - H.neg: 3.750340\n",
      "(422/500) Loss: 0.307445, H.pos - H.neg: 3.637630\n",
      "(423/500) Loss: 1.001344, H.pos - H.neg: 3.964798\n",
      "(424/500) Loss: 0.246260, H.pos - H.neg: 3.194248\n",
      "(425/500) Loss: 0.623736, H.pos - H.neg: 4.653942\n",
      "(426/500) Loss: 0.114225, H.pos - H.neg: 2.215214\n",
      "(427/500) Loss: 0.502213, H.pos - H.neg: 2.314152\n",
      "(428/500) Loss: 0.322806, H.pos - H.neg: 3.027754\n",
      "(429/500) Loss: 0.224460, H.pos - H.neg: 2.016270\n",
      "(430/500) Loss: 0.359995, H.pos - H.neg: 2.578243\n",
      "(431/500) Loss: 0.172536, H.pos - H.neg: 3.717987\n",
      "(432/500) Loss: 0.145685, H.pos - H.neg: 3.216763\n",
      "(433/500) Loss: 0.583897, H.pos - H.neg: 3.209923\n",
      "(434/500) Loss: 0.200608, H.pos - H.neg: 3.315170\n",
      "(435/500) Loss: 0.372519, H.pos - H.neg: 2.488132\n",
      "(436/500) Loss: 0.098633, H.pos - H.neg: 1.983852\n",
      "(437/500) Loss: 0.507139, H.pos - H.neg: 3.801235\n",
      "(438/500) Loss: 0.266382, H.pos - H.neg: 3.680120\n",
      "(439/500) Loss: 0.417126, H.pos - H.neg: 3.310215\n",
      "(440/500) Loss: 0.241751, H.pos - H.neg: 3.293377\n",
      "(441/500) Loss: 0.269525, H.pos - H.neg: 2.998356\n",
      "(442/500) Loss: 0.179038, H.pos - H.neg: 2.325115\n",
      "(443/500) Loss: 0.695324, H.pos - H.neg: 4.282841\n",
      "(444/500) Loss: 0.191968, H.pos - H.neg: 3.457798\n",
      "(445/500) Loss: 0.126187, H.pos - H.neg: 3.062325\n",
      "(446/500) Loss: 0.127674, H.pos - H.neg: 2.341110\n",
      "(447/500) Loss: 0.143892, H.pos - H.neg: 2.423210\n",
      "(448/500) Loss: 0.156959, H.pos - H.neg: 3.788696\n",
      "(449/500) Loss: 0.238311, H.pos - H.neg: 3.782139\n",
      "(450/500) Loss: 0.321581, H.pos - H.neg: 3.900070\n",
      "(451/500) Loss: 0.413625, H.pos - H.neg: 2.895000\n",
      "(452/500) Loss: 0.128956, H.pos - H.neg: 2.724636\n",
      "(453/500) Loss: 0.117628, H.pos - H.neg: 3.259739\n",
      "(454/500) Loss: 0.109172, H.pos - H.neg: 2.224457\n",
      "(455/500) Loss: 0.166019, H.pos - H.neg: 2.186806\n",
      "(456/500) Loss: 0.205681, H.pos - H.neg: 4.012539\n",
      "(457/500) Loss: 0.132639, H.pos - H.neg: 4.060600\n",
      "(458/500) Loss: 0.283204, H.pos - H.neg: 3.830368\n",
      "(459/500) Loss: 0.218829, H.pos - H.neg: 3.647404\n",
      "(460/500) Loss: 0.740357, H.pos - H.neg: 6.764950\n",
      "(461/500) Loss: 0.422193, H.pos - H.neg: 4.626816\n",
      "(462/500) Loss: 0.479124, H.pos - H.neg: 7.131298\n",
      "(463/500) Loss: 0.330064, H.pos - H.neg: 5.310181\n",
      "(464/500) Loss: 0.510510, H.pos - H.neg: 3.994022\n",
      "(465/500) Loss: 0.258876, H.pos - H.neg: 2.832130\n",
      "(466/500) Loss: 0.216285, H.pos - H.neg: 2.953983\n",
      "(467/500) Loss: 0.521409, H.pos - H.neg: 4.285637\n",
      "(468/500) Loss: 0.115085, H.pos - H.neg: 2.395092\n",
      "(469/500) Loss: 0.259742, H.pos - H.neg: 3.391697\n",
      "(470/500) Loss: 0.398596, H.pos - H.neg: 3.626688\n",
      "(471/500) Loss: 0.072449, H.pos - H.neg: 2.587753\n",
      "(472/500) Loss: 0.359137, H.pos - H.neg: 2.804581\n",
      "(473/500) Loss: 0.262531, H.pos - H.neg: 3.673180\n",
      "(474/500) Loss: 0.444604, H.pos - H.neg: 3.412823\n",
      "(475/500) Loss: 0.078664, H.pos - H.neg: 2.350220\n",
      "(476/500) Loss: 0.586560, H.pos - H.neg: 6.081024\n",
      "(477/500) Loss: 0.269308, H.pos - H.neg: 2.521244\n",
      "(478/500) Loss: 0.304712, H.pos - H.neg: 3.676929\n",
      "(479/500) Loss: 0.452298, H.pos - H.neg: 3.486717\n",
      "(480/500) Loss: 0.440241, H.pos - H.neg: 4.950857\n",
      "(481/500) Loss: 0.114588, H.pos - H.neg: 2.921665\n",
      "(482/500) Loss: 0.109214, H.pos - H.neg: 3.306507\n",
      "(483/500) Loss: 0.486923, H.pos - H.neg: 5.255367\n",
      "(484/500) Loss: 0.292152, H.pos - H.neg: 3.803482\n",
      "(485/500) Loss: 0.322116, H.pos - H.neg: 4.262714\n",
      "(486/500) Loss: 0.437454, H.pos - H.neg: 5.843218\n",
      "(487/500) Loss: 0.269058, H.pos - H.neg: 3.620018\n",
      "(488/500) Loss: 0.200973, H.pos - H.neg: 3.637600\n",
      "(489/500) Loss: 0.123601, H.pos - H.neg: 2.957302\n",
      "(490/500) Loss: 0.152867, H.pos - H.neg: 2.965603\n",
      "(491/500) Loss: 0.784745, H.pos - H.neg: 4.272816\n",
      "(492/500) Loss: 0.141576, H.pos - H.neg: 2.420809\n",
      "(493/500) Loss: 0.301529, H.pos - H.neg: 4.235720\n",
      "(494/500) Loss: 0.115732, H.pos - H.neg: 2.331854\n",
      "(495/500) Loss: 0.555137, H.pos - H.neg: 4.212877\n",
      "(496/500) Loss: 0.485218, H.pos - H.neg: 1.837469\n",
      "(497/500) Loss: 0.255315, H.pos - H.neg: 2.032797\n",
      "(498/500) Loss: 0.055602, H.pos - H.neg: 2.630514\n",
      "(499/500) Loss: 0.061362, H.pos - H.neg: 2.065620\n",
      "(500/500) Loss: 0.022807, H.pos - H.neg: 1.524666\n"
     ]
    }
   ],
   "source": [
    "n_iter = 0\n",
    "loss_list = []\n",
    "\n",
    "while True:\n",
    "    n_iter += 1\n",
    "    \n",
    "    users = np.random.choice([0, 1, 2, 3, 4, 5, 6, 7, 8, 9], N, replace=False)\n",
    "    batch = MNIST[tuple(users)]\n",
    "    \n",
    "    batch = batch.view(M*N, 28, 28)\n",
    "    \n",
    "    cnn.zero_grad()\n",
    "    optimizer.zero_grad()\n",
    "    embeddings = cnn.forward(batch)\n",
    "    \n",
    "    D = distance_matrix(embeddings)\n",
    "    hardest_positives, hardest_negatives = topk_hardest_mean(D, M, N, KP, KN, use_cuda=True)\n",
    "    loss = batch_hard_loss(hardest_positives, hardest_negatives, 1)\n",
    "    loss.backward()\n",
    "    optimizer.step()\n",
    "    \n",
    "    loss_list.append(loss.item())\n",
    "    print('(%d/%d) Loss: %f, H.pos - H.neg: %f' % (n_iter, max_iter, loss.data[0], (max(hardest_positives) - min(hardest_positives))))\n",
    "\n",
    "    if (n_iter % 10) == 0:\n",
    "        distance_matrix_plot(D.cpu(), os.path.join(ppath, 'iter_%03d.jpg' % n_iter))\n",
    "    \n",
    "    if n_iter == max_iter:\n",
    "        break\n",
    "\n",
    "loss_list = np.array(loss_list)\n",
    "fig = plt.figure(figsize=(8,6))\n",
    "plt.plot(loss_list)\n",
    "fig.savefig(os.path.join(ppath, 'loss.png'))\n",
    "plt.close()"
   ]
  },
  {
   "cell_type": "code",
   "execution_count": 17,
   "metadata": {},
   "outputs": [
    {
     "data": {
      "image/png": "[encoded data removed]",
      "text/plain": [
       "<PIL.Image.Image image mode=RGB size=212x272 at 0x7F829E423710>"
      ]
     },
     "execution_count": 17,
     "metadata": {},
     "output_type": "execute_result"
    }
   ],
   "source": [
    "batch_to_img(batch.detach().cpu())"
   ]
  },
  {
   "cell_type": "code",
   "execution_count": 18,
   "metadata": {},
   "outputs": [
    {
     "data": {
      "image/png": "[encoded data removed]",
      "text/plain": [
       "<Figure size 576x576 with 1 Axes>"
      ]
     },
     "metadata": {},
     "output_type": "display_data"
    }
   ],
   "source": [
    "distance_matrix_plot(D.cpu())"
   ]
  },
  {
   "cell_type": "markdown",
   "metadata": {},
   "source": [
    "## Dataset de Teste"
   ]
  },
  {
   "cell_type": "code",
   "execution_count": 19,
   "metadata": {},
   "outputs": [],
   "source": [
    "user_dict_teste = get_user_dict('../dados/mnist/png/testing')"
   ]
  },
  {
   "cell_type": "code",
   "execution_count": 20,
   "metadata": {},
   "outputs": [],
   "source": [
    "L = sum([len(u) for _, u in user_dict_teste.items()])"
   ]
  },
  {
   "cell_type": "code",
   "execution_count": 21,
   "metadata": {},
   "outputs": [],
   "source": [
    "x_teste = torch.empty((L, 28, 28))\n",
    "y_teste = torch.empty(L)\n",
    "i = 0\n",
    "\n",
    "for label, files in user_dict_teste.items():\n",
    "    for file in files:\n",
    "        x_teste[i] = torch.tensor((io.imread(file))/255.0)\n",
    "        y_teste[i] = int(label)\n",
    "        i += 1"
   ]
  },
  {
   "cell_type": "code",
   "execution_count": 24,
   "metadata": {},
   "outputs": [
    {
     "data": {
      "text/plain": [
       "torch.Size([10000, 28, 28])"
      ]
     },
     "execution_count": 24,
     "metadata": {},
     "output_type": "execute_result"
    }
   ],
   "source": [
    "x_teste.shape"
   ]
  },
  {
   "cell_type": "code",
   "execution_count": 25,
   "metadata": {},
   "outputs": [],
   "source": [
    "cnn = cnn.cpu()"
   ]
  },
  {
   "cell_type": "code",
   "execution_count": 26,
   "metadata": {},
   "outputs": [],
   "source": [
    "first = 5000\n",
    "sample = np.random.choice(np.arange(L), first, replace=False)\n",
    "\n",
    "emb_teste = cnn.forward(x_teste[sample].cpu())\n",
    "y_teste_f = y_teste[sample]"
   ]
  },
  {
   "cell_type": "code",
   "execution_count": 84,
   "metadata": {},
   "outputs": [],
   "source": [
    "emb_teste = emb_teste.cpu()"
   ]
  },
  {
   "cell_type": "markdown",
   "metadata": {},
   "source": [
    "### PCA"
   ]
  },
  {
   "cell_type": "code",
   "execution_count": 27,
   "metadata": {},
   "outputs": [],
   "source": [
    "from sklearn.manifold import TSNE\n",
    "import pandas as pd\n",
    "from plotnine import *"
   ]
  },
  {
   "cell_type": "code",
   "execution_count": 28,
   "metadata": {},
   "outputs": [],
   "source": [
    "emb_teste_tsne = TSNE(n_components=2).fit_transform(emb_teste.detach().numpy())"
   ]
  },
  {
   "cell_type": "code",
   "execution_count": 29,
   "metadata": {},
   "outputs": [],
   "source": [
    "df = pd.DataFrame({'TSNE-PC1': emb_teste_tsne[:,0], 'TSNE-PC2': emb_teste_tsne[:,1], 'y': y_teste_f})\n",
    "df['y'] = df['y'].astype('category')"
   ]
  },
  {
   "cell_type": "code",
   "execution_count": 30,
   "metadata": {},
   "outputs": [
    {
     "name": "stderr",
     "output_type": "stream",
     "text": [
      "/home/pi/anaconda3/envs/tensorflow-gpu/lib/python3.6/site-packages/matplotlib/__init__.py:886: MatplotlibDeprecationWarning: \n",
      "examples.directory is deprecated; in the future, examples will be found relative to the 'datapath' directory.\n",
      "  \"found relative to the 'datapath' directory.\".format(key))\n"
     ]
    },
    {
     "data": {
      "image/png": "[encoded data removed]",
      "text/plain": [
       "<Figure size 640x480 with 1 Axes>"
      ]
     },
     "metadata": {},
     "output_type": "display_data"
    },
    {
     "data": {
      "text/plain": [
       "<ggplot: (-9223363274277561277)>"
      ]
     },
     "execution_count": 30,
     "metadata": {},
     "output_type": "execute_result"
    }
   ],
   "source": [
    "(ggplot(df, aes('TSNE-PC1', 'TSNE-PC2', color = 'y')) +\n",
    "geom_point())"
   ]
  },
  {
   "cell_type": "markdown",
   "metadata": {},
   "source": [
    "------------"
   ]
  }
 ],
 "metadata": {
  "kernelspec": {
   "display_name": "Tensorflow-GPU",
   "language": "python",
   "name": "tensorflow-gpu"
  },
  "language_info": {
   "codemirror_mode": {
    "name": "ipython",
    "version": 3
   },
   "file_extension": ".py",
   "mimetype": "text/x-python",
   "name": "python",
   "nbconvert_exporter": "python",
   "pygments_lexer": "ipython3",
   "version": "3.6.7"
  }
 },
 "nbformat": 4,
 "nbformat_minor": 4
}
