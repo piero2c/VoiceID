{
 "cells": [
  {
   "cell_type": "code",
   "execution_count": 1,
   "metadata": {},
   "outputs": [],
   "source": [
    "import os, sys, time\n",
    "import numpy as np\n",
    "import matplotlib\n",
    "import matplotlib.pyplot as plt\n",
    "import pandas as pd\n",
    "import librosa\n",
    "from librosa import display"
   ]
  },
  {
   "cell_type": "markdown",
   "metadata": {},
   "source": [
    "-----------"
   ]
  },
  {
   "cell_type": "code",
   "execution_count": 58,
   "metadata": {},
   "outputs": [],
   "source": [
    "d = os.listdir('../dados/www.repository.voxforge1.org/')\n",
    "user_dict = {}\n",
    "\n",
    "for sd in d:\n",
    "    subpath = os.path.join('../dados/www.repository.voxforge1.org/', sd)\n",
    "    if os.path.isdir(subpath):\n",
    "        if len(sd.split('-')) >= 3:\n",
    "            username = '-'.join(sd.split('-')[::-1][1:][::-1])\n",
    "        else:\n",
    "            username = sd\n",
    "        try:\n",
    "            for fname in os.listdir(os.path.join(subpath, 'wav')):\n",
    "\n",
    "                user_dir = os.path.join('../dados/www.repository.voxforge1.org/', username)\n",
    "                file_path = os.path.join(os.path.join(subpath, 'wav'), fname)\n",
    "\n",
    "                if not os.path.exists(user_dir):\n",
    "                    os.mkdir(user_dir)\n",
    "\n",
    "                os.rename(file_path, os.path.join(user_dir, fname))\n",
    "        except:\n",
    "            continue"
   ]
  },
  {
   "cell_type": "code",
   "execution_count": 65,
   "metadata": {},
   "outputs": [],
   "source": [
    "import shutil\n",
    "d = os.listdir('../dados/www.repository.voxforge1.org/')\n",
    "user_dict = {}\n",
    "\n",
    "for sd in d:\n",
    "    subpath = os.path.join('../dados/www.repository.voxforge1.org/', sd)\n",
    "    if os.path.isdir(subpath):\n",
    "        if len(sd.split('-')) == 2:\n",
    "            if sd.split('-')[0] != 'anonymous':\n",
    "                try:\n",
    "                    target_path_dir = os.path.join('../dados/www.repository.voxforge1.org/', sd.split('-')[0])\n",
    "                    if not os.path.exists(target_path_dir):\n",
    "                        os.mkdir(target_path_dir)\n",
    "\n",
    "                    for fname in os.listdir(os.path.join(subpath)):\n",
    "\n",
    "                        file_path = os.path.join(subpath, fname)\n",
    "                        os.rename(file_path, os.path.join(target_path_dir, fname))\n",
    "                except:\n",
    "                    continue"
   ]
  },
  {
   "cell_type": "code",
   "execution_count": 66,
   "metadata": {},
   "outputs": [],
   "source": [
    "import shutil\n",
    "d = os.listdir('../dados/www.repository.voxforge1.org/')\n",
    "user_dict = {}\n",
    "\n",
    "for sd in d:\n",
    "    subpath = os.path.join('../dados/www.repository.voxforge1.org/', sd)\n",
    "    if os.path.isdir(subpath):\n",
    "        if len(sd.split('-')) != 1:\n",
    "            shutil.rmtree(subpath)"
   ]
  },
  {
   "cell_type": "code",
   "execution_count": 70,
   "metadata": {},
   "outputs": [
    {
     "data": {
      "text/plain": [
       "'../dados/VoxForge/AlexanderHenningDrachmann'"
      ]
     },
     "execution_count": 70,
     "metadata": {},
     "output_type": "execute_result"
    }
   ],
   "source": [
    "subpath"
   ]
  },
  {
   "cell_type": "code",
   "execution_count": 78,
   "metadata": {},
   "outputs": [],
   "source": [
    "import shutil\n",
    "d = os.listdir('../dados/VoxForge/')\n",
    "user_dict = {}\n",
    "\n",
    "for sd in d:\n",
    "    subpath = os.path.join('../dados/VoxForge/', sd)\n",
    "    for bla in os.listdir(subpath):\n",
    "        bla_path = os.path.join(subpath, bla)\n",
    "        if bla_path.split('.')[::-1][0].lower() != 'wav':\n",
    "            os.remove(bla_path)"
   ]
  },
  {
   "cell_type": "code",
   "execution_count": 76,
   "metadata": {},
   "outputs": [
    {
     "data": {
      "text/plain": [
       "'wav'"
      ]
     },
     "execution_count": 76,
     "metadata": {},
     "output_type": "execute_result"
    }
   ],
   "source": [
    "bla_path.split('.')[::-1][0].lower()"
   ]
  },
  {
   "cell_type": "code",
   "execution_count": 32,
   "metadata": {},
   "outputs": [],
   "source": [
    "t, sr = librosa.load('../dados/www.repository.voxforge1.org/Anniepoo-20140308-bft/wav/rb-04.wav')"
   ]
  },
  {
   "cell_type": "code",
   "execution_count": 36,
   "metadata": {},
   "outputs": [
    {
     "data": {
      "text/plain": [
       "<matplotlib.image.AxesImage at 0x7f556bd0d4e0>"
      ]
     },
     "execution_count": 36,
     "metadata": {},
     "output_type": "execute_result"
    },
    {
     "data": {
      "image/png": "[encoded data removed]",
      "text/plain": [
       "<Figure size 432x288 with 1 Axes>"
      ]
     },
     "metadata": {},
     "output_type": "display_data"
    }
   ],
   "source": [
    "plt.imshow(librosa.feature.mfcc(t, sr))"
   ]
  },
  {
   "cell_type": "code",
   "execution_count": 25,
   "metadata": {},
   "outputs": [
    {
     "data": {
      "text/plain": [
       "22050"
      ]
     },
     "execution_count": 25,
     "metadata": {},
     "output_type": "execute_result"
    }
   ],
   "source": [
    "sr"
   ]
  },
  {
   "cell_type": "code",
   "execution_count": 22,
   "metadata": {},
   "outputs": [
    {
     "data": {
      "text/plain": [
       "5.750022675736961"
      ]
     },
     "execution_count": 22,
     "metadata": {},
     "output_type": "execute_result"
    }
   ],
   "source": [
    "t.shape[0]/sr"
   ]
  },
  {
   "cell_type": "markdown",
   "metadata": {},
   "source": [
    "------------"
   ]
  },
  {
   "cell_type": "code",
   "execution_count": 53,
   "metadata": {},
   "outputs": [],
   "source": [
    "class MelTransform(object):\n",
    "    def __init__(self, length_out = 10):\n",
    "        self.length_out = length_out\n",
    "        self.S = None\n",
    "    \n",
    "    def get_mel_spec(self, wavf):\n",
    "        wav, sr = librosa.load(wavf)\n",
    "        wav = librosa.util.fix_length(wav, int(sr*self.length_out))\n",
    "        self.S = librosa.power_to_db(librosa.feature.melspectrogram(wav, sr = sr))\n",
    "\n",
    "    def save_mel(self, fname):\n",
    "        if self.S is None:\n",
    "            return False\n",
    "        fig,ax = plt.subplots(1, figsize=(2.8828125*1.785, 1*1.78))\n",
    "        fig.subplots_adjust(left=0,right=1,bottom=0,top=1)\n",
    "        display.specshow(self.S, fmax=8000, cmap='gray')\n",
    "        ax.axis('off')\n",
    "        fig.savefig(fname, frameon=False, )\n",
    "        plt.close(fig)\n",
    "        \n",
    "    def transform_save(self, wavf, target):\n",
    "        plt.ioff()\n",
    "        self.get_mel_spec(wavf)\n",
    "        self.save_mel(target)"
   ]
  },
  {
   "cell_type": "code",
   "execution_count": 54,
   "metadata": {},
   "outputs": [],
   "source": [
    "def get_file_paths(root_dir, break_output=False):\n",
    "        ''' \n",
    "        Obtem o nome dos arquivos dentro uma sequencia de diretorio na forma:\n",
    "        [ROOT_DIR]/[USER_ID]/[INTERVIEW_ID]/[AUDIO_CUT_FILENAME]\n",
    "        \n",
    "        break_output:\n",
    "            [TRUE]:\n",
    "            retorna uma lista com as tuplas ([ROOT_DIR], [USER_ID], [INTERVIEW_ID], [AUDIO_CUT_FILENAME])\n",
    "            \n",
    "            [FALSE]:\n",
    "            retorna o caminho completo dos arquivos\n",
    "        '''\n",
    "        \n",
    "        tuple_list, file_path = [], []\n",
    "        \n",
    "        for id in os.listdir(root_dir):\n",
    "            id_path = os.path.join(root_dir, id)\n",
    "            for rec in os.listdir(id_path):\n",
    "                cut_path = os.path.join(id_path, rec)\n",
    "                for cut in os.listdir(cut_path):\n",
    "                    tuple_list.append((root_dir, id, rec, cut))\n",
    "                    file_path.append(os.path.join(cut_path, cut))\n",
    "        if break_output:\n",
    "            return tuple_list\n",
    "        else:\n",
    "            return file_p"
   ]
  },
  {
   "cell_type": "code",
   "execution_count": 55,
   "metadata": {},
   "outputs": [],
   "source": [
    "def replicate_with_transform(origin_dir, target_dir, transformer, verbose=False):\n",
    "        '''\n",
    "        Replica a estrutura de arquivos de origin_dir em um diretório (target_dir) aplicando\n",
    "        a transformacao (transform_function) nos arquivos encontrados.\n",
    "        '''\n",
    "        \n",
    "        if not os.path.exists(target_dir):\n",
    "            os.mkdir(target_dir)\n",
    "            print('target dir created at %s' % (target_dir))\n",
    "        \n",
    "        tuple_out = get_file_paths(origin_dir, break_output=True)\n",
    "        \n",
    "        for idx, item in enumerate(tuple_out):\n",
    "            if (idx+1) % 1000 == 0:\n",
    "                print('%d/%d' % (idx+1, len(tuple_out)))\n",
    "            user_id, interview_id, track_filename  = item[1:]\n",
    "            old_file_path = os.path.join(*item)\n",
    "           \n",
    "            user_dir = os.path.join(target_dir, user_id)\n",
    "            interview_dir = os.path.join(user_dir, interview_id)\n",
    "            transformed_file_path = os.path.join(interview_dir, \n",
    "                                                 track_filename[:len(track_filename)-4] + '.png')\n",
    "            \n",
    "            if verbose:\n",
    "                print('>Processing %s right now...' % (old_file_path))\n",
    "            \n",
    "            if not os.path.exists(user_dir):\n",
    "                os.mkdir(user_dir)\n",
    "            if not os.path.exists(interview_dir):\n",
    "                os.mkdir(interview_dir)\n",
    "            \n",
    "            # File preprocess\n",
    "            tensor = transformer.transform_save(old_file_path, transformed_file_path)"
   ]
  },
  {
   "cell_type": "code",
   "execution_count": 56,
   "metadata": {},
   "outputs": [],
   "source": [
    "T = MelTransform()"
   ]
  },
  {
   "cell_type": "code",
   "execution_count": 57,
   "metadata": {},
   "outputs": [
    {
     "name": "stdout",
     "output_type": "stream",
     "text": [
      "1000/148642\n",
      "2000/148642\n",
      "3000/148642\n",
      "4000/148642\n",
      "5000/148642\n",
      "6000/148642\n",
      "7000/148642\n",
      "8000/148642\n",
      "9000/148642\n",
      "10000/148642\n",
      "11000/148642\n",
      "12000/148642\n",
      "13000/148642\n",
      "14000/148642\n",
      "15000/148642\n",
      "16000/148642\n",
      "17000/148642\n",
      "18000/148642\n",
      "19000/148642\n",
      "20000/148642\n",
      "21000/148642\n",
      "22000/148642\n",
      "23000/148642\n",
      "24000/148642\n",
      "25000/148642\n",
      "26000/148642\n",
      "27000/148642\n",
      "28000/148642\n",
      "29000/148642\n",
      "30000/148642\n",
      "31000/148642\n",
      "32000/148642\n",
      "33000/148642\n",
      "34000/148642\n",
      "35000/148642\n",
      "36000/148642\n",
      "37000/148642\n",
      "38000/148642\n",
      "39000/148642\n",
      "40000/148642\n",
      "41000/148642\n",
      "42000/148642\n",
      "43000/148642\n",
      "44000/148642\n",
      "45000/148642\n",
      "46000/148642\n",
      "47000/148642\n",
      "48000/148642\n",
      "49000/148642\n",
      "50000/148642\n",
      "51000/148642\n",
      "52000/148642\n",
      "53000/148642\n",
      "54000/148642\n",
      "55000/148642\n",
      "56000/148642\n",
      "57000/148642\n",
      "58000/148642\n",
      "59000/148642\n",
      "60000/148642\n",
      "61000/148642\n",
      "62000/148642\n",
      "63000/148642\n",
      "64000/148642\n",
      "65000/148642\n",
      "66000/148642\n",
      "67000/148642\n",
      "68000/148642\n",
      "69000/148642\n",
      "70000/148642\n",
      "71000/148642\n",
      "72000/148642\n",
      "73000/148642\n",
      "74000/148642\n",
      "75000/148642\n",
      "76000/148642\n",
      "77000/148642\n",
      "78000/148642\n",
      "79000/148642\n",
      "80000/148642\n",
      "81000/148642\n",
      "82000/148642\n",
      "83000/148642\n",
      "84000/148642\n",
      "85000/148642\n",
      "86000/148642\n",
      "87000/148642\n",
      "88000/148642\n",
      "89000/148642\n",
      "90000/148642\n",
      "91000/148642\n",
      "92000/148642\n",
      "93000/148642\n",
      "94000/148642\n",
      "95000/148642\n",
      "96000/148642\n",
      "97000/148642\n",
      "98000/148642\n",
      "99000/148642\n",
      "100000/148642\n",
      "101000/148642\n",
      "102000/148642\n",
      "103000/148642\n",
      "104000/148642\n",
      "105000/148642\n",
      "106000/148642\n",
      "107000/148642\n",
      "108000/148642\n",
      "109000/148642\n",
      "110000/148642\n",
      "111000/148642\n",
      "112000/148642\n",
      "113000/148642\n",
      "114000/148642\n",
      "115000/148642\n",
      "116000/148642\n",
      "117000/148642\n",
      "118000/148642\n",
      "119000/148642\n",
      "120000/148642\n",
      "121000/148642\n",
      "122000/148642\n",
      "123000/148642\n",
      "124000/148642\n",
      "125000/148642\n",
      "126000/148642\n",
      "127000/148642\n",
      "128000/148642\n",
      "129000/148642\n",
      "130000/148642\n",
      "131000/148642\n",
      "132000/148642\n",
      "133000/148642\n",
      "134000/148642\n",
      "135000/148642\n",
      "136000/148642\n",
      "137000/148642\n",
      "138000/148642\n",
      "139000/148642\n",
      "140000/148642\n",
      "141000/148642\n",
      "142000/148642\n",
      "143000/148642\n",
      "144000/148642\n",
      "145000/148642\n",
      "146000/148642\n",
      "147000/148642\n",
      "148000/148642\n"
     ]
    }
   ],
   "source": [
    "replicate_with_transform('../dados/wav/', '../dados/png/', T)"
   ]
  }
 ],
 "metadata": {
  "kernelspec": {
   "display_name": "Tensorflow-GPU",
   "language": "python",
   "name": "tensorflow-gpu"
  },
  "language_info": {
   "codemirror_mode": {
    "name": "ipython",
    "version": 3
   },
   "file_extension": ".py",
   "mimetype": "text/x-python",
   "name": "python",
   "nbconvert_exporter": "python",
   "pygments_lexer": "ipython3",
   "version": "3.6.6"
  }
 },
 "nbformat": 4,
 "nbformat_minor": 2
}
