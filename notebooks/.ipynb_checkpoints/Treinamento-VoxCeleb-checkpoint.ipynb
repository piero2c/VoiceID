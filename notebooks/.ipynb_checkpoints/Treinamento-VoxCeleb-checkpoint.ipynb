{
 "cells": [
  {
   "cell_type": "code",
   "execution_count": 1,
   "metadata": {},
   "outputs": [],
   "source": [
    "import os, sys\n",
    "import torch\n",
    "import numpy as np\n",
    "from torch.utils.data import DataLoader\n",
    "from torch.optim import SGD, Adam, rmsprop\n",
    "import torchvision\n",
    "import torchvision.datasets as dset\n",
    "import torchvision.transforms as transforms\n",
    "import torch.nn.functional as F\n",
    "sys.path.append('../')\n",
    "\n",
    "from src.loss import distance_matrix, get_hardest_points, topk_hardest_mean, batch_hard_loss\n",
    "from src.dataset import TripletDataset\n",
    "from src.utils import get_user_dict\n",
    "from src.models import LinearModel"
   ]
  },
  {
   "cell_type": "code",
   "execution_count": 2,
   "metadata": {},
   "outputs": [],
   "source": [
    "import matplotlib.pyplot as plt\n",
    "%matplotlib inline"
   ]
  },
  {
   "cell_type": "markdown",
   "metadata": {},
   "source": [
    "----------------"
   ]
  },
  {
   "cell_type": "code",
   "execution_count": 3,
   "metadata": {},
   "outputs": [],
   "source": [
    "to_img = torchvision.transforms.ToPILImage()"
   ]
  },
  {
   "cell_type": "code",
   "execution_count": 4,
   "metadata": {},
   "outputs": [],
   "source": [
    "def batch_to_img(batch, use_cuda=False):\n",
    "    if use_cuda:\n",
    "        batch = batch.cpu()\n",
    "    \n",
    "    n_imgs = batch.shape[0]\n",
    "    batch = batch.reshape(n_imgs, 1, batch.shape[1], batch.shape[2])\n",
    "    \n",
    "    return to_img(torchvision.utils.make_grid(batch, nrow = int(np.sqrt(n_imgs))))"
   ]
  },
  {
   "cell_type": "code",
   "execution_count": 5,
   "metadata": {},
   "outputs": [],
   "source": [
    "def distance_matrix_plot(D, filename = None):\n",
    "    fig = plt.figure(figsize=(8,8))\n",
    "    plt.imshow(D.detach().numpy())\n",
    "\n",
    "    for i in range(N):\n",
    "        plt.axvline(x=M*(i+1)-.5, color='white')\n",
    "        plt.axhline(y=M*(i+1)-.5, color='white')\n",
    "    \n",
    "    if not filename is None:\n",
    "        fig.savefig(filename)\n",
    "        plt.close()\n"
   ]
  },
  {
   "cell_type": "markdown",
   "metadata": {},
   "source": [
    "--------"
   ]
  },
  {
   "cell_type": "markdown",
   "metadata": {},
   "source": [
    "### Dataset"
   ]
  },
  {
   "cell_type": "markdown",
   "metadata": {},
   "source": [
    "### Imagens"
   ]
  },
  {
   "cell_type": "markdown",
   "metadata": {},
   "source": [
    "### Modelo"
   ]
  },
  {
   "cell_type": "code",
   "execution_count": 104,
   "metadata": {},
   "outputs": [],
   "source": [
    "class shallowCNN(torch.nn.Module):\n",
    "    def __init__(self, width = 128, height = 370, h = 300):\n",
    "        super(shallowCNN, self).__init__()\n",
    "        self.maxpool2 = torch.nn.MaxPool2d(2)\n",
    "        \n",
    "        self.conv1 = torch.nn.Conv2d(1, 64, kernel_size=3)\n",
    "        self.conv2 = torch.nn.Conv2d(64, 64, kernel_size=3)\n",
    "        \n",
    "        self.conv3 = torch.nn.Conv2d(64, 128, kernel_size=3)\n",
    "        self.conv4 = torch.nn.Conv2d(128, 128, kernel_size=3)\n",
    "        \n",
    "        self.conv5 = torch.nn.Conv2d(128, 256, kernel_size=3)\n",
    "        self.conv6 = torch.nn.Conv2d(256, 256, kernel_size=3)\n",
    "        \n",
    "        self.conv7 = torch.nn.Conv2d(256, 512, kernel_size=3)\n",
    "        self.conv8 = torch.nn.Conv2d(512, 512, kernel_size=3)\n",
    "        self.conv9 = torch.nn.Conv2d(512, 512, kernel_size=3)\n",
    "                \n",
    "        self.fc1 = torch.nn.Linear(4096, 300)\n",
    "        self.fc2 = torch.nn.Linear(300, 300)\n",
    "    \n",
    "    def forward(self, x):\n",
    "        y = F.relu(self.conv1(x))\n",
    "        y = F.relu(self.conv2(y))\n",
    "        y = self.maxpool2(y)\n",
    "        \n",
    "        y = F.relu(self.conv3(y))\n",
    "        y = F.relu(self.conv4(y))\n",
    "        y = self.maxpool2(y)\n",
    "        \n",
    "        y = F.relu(self.conv5(y))\n",
    "        y = F.relu(self.conv6(y))\n",
    "        y = self.maxpool2(y)\n",
    "        \n",
    "        y = F.relu(self.conv7(y))\n",
    "        y = F.relu(self.conv8(y))\n",
    "        y = self.maxpool2(y)\n",
    "        \n",
    "        y = F.relu(self.conv9(y))\n",
    "        y = self.maxpool2(y)\n",
    "        \n",
    "        y = y.view(x.shape[0], y.shape[1]*y.shape[2]*y.shape[3])\n",
    "        y = F.leaky_relu(self.fc1(y))\n",
    "        y = self.fc2(y)\n",
    "        \n",
    "        return y"
   ]
  },
  {
   "cell_type": "code",
   "execution_count": 118,
   "metadata": {},
   "outputs": [
    {
     "data": {
      "text/plain": [
       "shallowCNN(\n",
       "  (maxpool2): MaxPool2d(kernel_size=2, stride=2, padding=0, dilation=1, ceil_mode=False)\n",
       "  (conv1): Conv2d(1, 64, kernel_size=(3, 3), stride=(1, 1))\n",
       "  (conv2): Conv2d(64, 64, kernel_size=(3, 3), stride=(1, 1))\n",
       "  (conv3): Conv2d(64, 128, kernel_size=(3, 3), stride=(1, 1))\n",
       "  (conv4): Conv2d(128, 128, kernel_size=(3, 3), stride=(1, 1))\n",
       "  (conv5): Conv2d(128, 256, kernel_size=(3, 3), stride=(1, 1))\n",
       "  (conv6): Conv2d(256, 256, kernel_size=(3, 3), stride=(1, 1))\n",
       "  (conv7): Conv2d(256, 512, kernel_size=(3, 3), stride=(1, 1))\n",
       "  (conv8): Conv2d(512, 512, kernel_size=(3, 3), stride=(1, 1))\n",
       "  (conv9): Conv2d(512, 512, kernel_size=(3, 3), stride=(1, 1))\n",
       "  (fc1): Linear(in_features=4096, out_features=300, bias=True)\n",
       "  (fc2): Linear(in_features=300, out_features=300, bias=True)\n",
       ")"
      ]
     },
     "execution_count": 118,
     "metadata": {},
     "output_type": "execute_result"
    }
   ],
   "source": [
    "cnn = shallowCNN()\n",
    "cnn.cuda()"
   ]
  },
  {
   "cell_type": "markdown",
   "metadata": {},
   "source": [
    "### Otimizador"
   ]
  },
  {
   "cell_type": "code",
   "execution_count": 119,
   "metadata": {},
   "outputs": [],
   "source": [
    "optimizer = Adam(cnn.parameters())\n",
    "#optimizer = rmsprop.RMSprop(cnn.parameters())\n",
    "#optimizer = SGD(cnn.parameters(), lr=1e-3)"
   ]
  },
  {
   "cell_type": "markdown",
   "metadata": {},
   "source": [
    "### Treinamento"
   ]
  },
  {
   "cell_type": "code",
   "execution_count": 120,
   "metadata": {},
   "outputs": [],
   "source": [
    "N = 5\n",
    "M = 3\n",
    "KP = 3\n",
    "KN = 12\n",
    "max_iter = 700"
   ]
  },
  {
   "cell_type": "code",
   "execution_count": 121,
   "metadata": {},
   "outputs": [],
   "source": [
    "user_dict = get_user_dict('../dados/png/')\n",
    "MNIST = TripletDataset(None, user_dict, M, data_width=128, data_height=370, ignore_color_channel=True, \n",
    "                      use_cuda=True)"
   ]
  },
  {
   "cell_type": "code",
   "execution_count": 122,
   "metadata": {},
   "outputs": [],
   "source": [
    "ppath = './Distance_matrix/N=%d, M=%d, KP=%d, KN=%d, %d' % (N, M, KP, KN, max_iter)"
   ]
  },
  {
   "cell_type": "code",
   "execution_count": 123,
   "metadata": {},
   "outputs": [],
   "source": [
    "if not os.path.exists(ppath):\n",
    "    os.mkdir(ppath)"
   ]
  },
  {
   "cell_type": "code",
   "execution_count": 124,
   "metadata": {},
   "outputs": [
    {
     "data": {
      "text/plain": [
       "shallowCNN(\n",
       "  (maxpool2): MaxPool2d(kernel_size=2, stride=2, padding=0, dilation=1, ceil_mode=False)\n",
       "  (conv1): Conv2d(1, 64, kernel_size=(3, 3), stride=(1, 1))\n",
       "  (conv2): Conv2d(64, 64, kernel_size=(3, 3), stride=(1, 1))\n",
       "  (conv3): Conv2d(64, 128, kernel_size=(3, 3), stride=(1, 1))\n",
       "  (conv4): Conv2d(128, 128, kernel_size=(3, 3), stride=(1, 1))\n",
       "  (conv5): Conv2d(128, 256, kernel_size=(3, 3), stride=(1, 1))\n",
       "  (conv6): Conv2d(256, 256, kernel_size=(3, 3), stride=(1, 1))\n",
       "  (conv7): Conv2d(256, 512, kernel_size=(3, 3), stride=(1, 1))\n",
       "  (conv8): Conv2d(512, 512, kernel_size=(3, 3), stride=(1, 1))\n",
       "  (conv9): Conv2d(512, 512, kernel_size=(3, 3), stride=(1, 1))\n",
       "  (fc1): Linear(in_features=4096, out_features=300, bias=True)\n",
       "  (fc2): Linear(in_features=300, out_features=300, bias=True)\n",
       ")"
      ]
     },
     "execution_count": 124,
     "metadata": {},
     "output_type": "execute_result"
    }
   ],
   "source": [
    "cnn"
   ]
  },
  {
   "cell_type": "code",
   "execution_count": 125,
   "metadata": {},
   "outputs": [
    {
     "data": {
      "text/plain": [
       "0.4804995533778109"
      ]
     },
     "execution_count": 125,
     "metadata": {},
     "output_type": "execute_result"
    }
   ],
   "source": [
    "torch.cuda.memory_allocated()/torch.cuda.max_memory_allocated()"
   ]
  },
  {
   "cell_type": "code",
   "execution_count": 126,
   "metadata": {
    "scrolled": true
   },
   "outputs": [
    {
     "name": "stderr",
     "output_type": "stream",
     "text": [
      "/home/pi/anaconda3/envs/tensorflow-gpu/lib/python3.6/site-packages/ipykernel_launcher.py:24: UserWarning: invalid index of a 0-dim tensor. This will be an error in PyTorch 0.5. Use tensor.item() to convert a 0-dim tensor to a Python number\n"
     ]
    },
    {
     "name": "stdout",
     "output_type": "stream",
     "text": [
      "(1/700) Loss: 1.000000, H.pos - H.neg: 0.000000\n",
      "(2/700) Loss: 0.999999, H.pos - H.neg: 0.000002\n",
      "(3/700) Loss: 0.999992, H.pos - H.neg: 0.000047\n",
      "(4/700) Loss: 0.999712, H.pos - H.neg: 0.002966\n",
      "(5/700) Loss: 0.591326, H.pos - H.neg: 2.588520\n",
      "(6/700) Loss: 41.524185, H.pos - H.neg: 709.761963\n",
      "(7/700) Loss: 0.711114, H.pos - H.neg: 0.433137\n",
      "(8/700) Loss: 0.995529, H.pos - H.neg: 0.028215\n",
      "(9/700) Loss: 0.996354, H.pos - H.neg: 0.004805\n",
      "(10/700) Loss: 0.995512, H.pos - H.neg: 0.022392\n",
      "(11/700) Loss: 0.944957, H.pos - H.neg: 0.080834\n",
      "(12/700) Loss: 0.813408, H.pos - H.neg: 1.126960\n",
      "(13/700) Loss: 0.593810, H.pos - H.neg: 10.430481\n",
      "(14/700) Loss: 0.847771, H.pos - H.neg: 7.993591\n",
      "(15/700) Loss: 0.971562, H.pos - H.neg: 0.233580\n",
      "(16/700) Loss: 0.891227, H.pos - H.neg: 0.341575\n",
      "(17/700) Loss: 0.316499, H.pos - H.neg: 2.024175\n",
      "(18/700) Loss: 0.444645, H.pos - H.neg: 2.850413\n",
      "(19/700) Loss: 0.674413, H.pos - H.neg: 0.918231\n",
      "(20/700) Loss: 0.326581, H.pos - H.neg: 6.110527\n",
      "(21/700) Loss: 0.167496, H.pos - H.neg: 6.376435\n",
      "(22/700) Loss: 0.386641, H.pos - H.neg: 11.179891\n",
      "(23/700) Loss: 0.203462, H.pos - H.neg: 6.640553\n",
      "(24/700) Loss: 0.396900, H.pos - H.neg: 5.451437\n",
      "(25/700) Loss: 0.871955, H.pos - H.neg: 0.608678\n",
      "(26/700) Loss: 0.932662, H.pos - H.neg: 0.200943\n",
      "(27/700) Loss: 0.491693, H.pos - H.neg: 1.286525\n",
      "(28/700) Loss: 1.594617, H.pos - H.neg: 12.364960\n",
      "(29/700) Loss: 0.853553, H.pos - H.neg: 1.564715\n",
      "(30/700) Loss: 0.968048, H.pos - H.neg: 0.250217\n",
      "(31/700) Loss: 0.977813, H.pos - H.neg: 0.061188\n",
      "(32/700) Loss: 0.996129, H.pos - H.neg: 0.028580\n",
      "(33/700) Loss: 0.994267, H.pos - H.neg: 0.011200\n",
      "(34/700) Loss: 0.997371, H.pos - H.neg: 0.011370\n",
      "(35/700) Loss: 0.995699, H.pos - H.neg: 0.002707\n",
      "(36/700) Loss: 0.998832, H.pos - H.neg: 0.005290\n",
      "(37/700) Loss: 0.998652, H.pos - H.neg: 0.003309\n",
      "(38/700) Loss: 0.998153, H.pos - H.neg: 0.002767\n",
      "(39/700) Loss: 0.999344, H.pos - H.neg: 0.005692\n",
      "(40/700) Loss: 0.997530, H.pos - H.neg: 0.006106\n",
      "(41/700) Loss: 0.998664, H.pos - H.neg: 0.009612\n",
      "(42/700) Loss: 0.997975, H.pos - H.neg: 0.008095\n",
      "(43/700) Loss: 0.997327, H.pos - H.neg: 0.019272\n",
      "(44/700) Loss: 0.996030, H.pos - H.neg: 0.020709\n",
      "(45/700) Loss: 0.988620, H.pos - H.neg: 0.037058\n",
      "(46/700) Loss: 0.967416, H.pos - H.neg: 0.167428\n",
      "(47/700) Loss: 0.930282, H.pos - H.neg: 0.242879\n",
      "(48/700) Loss: 0.873038, H.pos - H.neg: 0.640538\n",
      "(49/700) Loss: 0.512195, H.pos - H.neg: 2.010425\n",
      "(50/700) Loss: 0.288352, H.pos - H.neg: 3.440766\n",
      "(51/700) Loss: 0.995995, H.pos - H.neg: 0.029448\n",
      "(52/700) Loss: 0.965309, H.pos - H.neg: 0.173626\n",
      "(53/700) Loss: 0.395346, H.pos - H.neg: 1.696341\n",
      "(54/700) Loss: 1.049939, H.pos - H.neg: 21.635622\n",
      "(55/700) Loss: 0.861922, H.pos - H.neg: 0.339437\n",
      "(56/700) Loss: 0.727970, H.pos - H.neg: 0.245422\n",
      "(57/700) Loss: 0.268308, H.pos - H.neg: 1.880453\n",
      "(58/700) Loss: 0.000000, H.pos - H.neg: 10.777344\n",
      "(59/700) Loss: 30.723219, H.pos - H.neg: 470.255219\n",
      "(60/700) Loss: 0.804357, H.pos - H.neg: 7.917969\n",
      "(61/700) Loss: 0.572093, H.pos - H.neg: 1.751851\n",
      "(62/700) Loss: 0.919886, H.pos - H.neg: 0.574031\n",
      "(63/700) Loss: 0.991591, H.pos - H.neg: 0.013452\n",
      "(64/700) Loss: 0.999590, H.pos - H.neg: 0.003186\n",
      "(65/700) Loss: 0.999298, H.pos - H.neg: 0.004162\n",
      "(66/700) Loss: 0.998625, H.pos - H.neg: 0.003145\n",
      "(67/700) Loss: 0.999132, H.pos - H.neg: 0.001926\n",
      "(68/700) Loss: 0.997858, H.pos - H.neg: 0.008120\n",
      "(69/700) Loss: 0.995895, H.pos - H.neg: 0.009096\n",
      "(70/700) Loss: 0.987993, H.pos - H.neg: 0.039342\n",
      "(71/700) Loss: 0.913475, H.pos - H.neg: 0.285902\n",
      "(72/700) Loss: 0.698406, H.pos - H.neg: 0.698716\n",
      "(73/700) Loss: 0.639756, H.pos - H.neg: 2.811253\n",
      "(74/700) Loss: 1.958675, H.pos - H.neg: 32.336689\n",
      "(75/700) Loss: 0.764210, H.pos - H.neg: 7.292219\n",
      "(76/700) Loss: 0.566902, H.pos - H.neg: 1.261437\n",
      "(77/700) Loss: 0.872490, H.pos - H.neg: 0.556046\n",
      "(78/700) Loss: 0.751329, H.pos - H.neg: 0.714495\n",
      "(79/700) Loss: 0.902613, H.pos - H.neg: 1.162222\n",
      "(80/700) Loss: 0.781753, H.pos - H.neg: 2.161812\n",
      "(81/700) Loss: 0.570321, H.pos - H.neg: 4.488181\n",
      "(82/700) Loss: 0.914659, H.pos - H.neg: 8.650017\n",
      "(83/700) Loss: 0.617707, H.pos - H.neg: 4.539248\n",
      "(84/700) Loss: 0.781858, H.pos - H.neg: 1.697116\n",
      "(85/700) Loss: 0.845580, H.pos - H.neg: 1.291308\n",
      "(86/700) Loss: 0.790547, H.pos - H.neg: 1.216028\n",
      "(87/700) Loss: 0.735743, H.pos - H.neg: 2.032254\n",
      "(88/700) Loss: 0.758633, H.pos - H.neg: 2.523902\n",
      "(89/700) Loss: 0.659930, H.pos - H.neg: 7.764790\n",
      "(90/700) Loss: 0.607103, H.pos - H.neg: 5.645063\n",
      "(91/700) Loss: 0.747568, H.pos - H.neg: 5.393741\n",
      "(92/700) Loss: 0.666075, H.pos - H.neg: 4.721530\n",
      "(93/700) Loss: 0.524240, H.pos - H.neg: 2.029283\n",
      "(94/700) Loss: 0.291320, H.pos - H.neg: 1.067743\n",
      "(95/700) Loss: 0.150093, H.pos - H.neg: 1.984098\n",
      "(96/700) Loss: 0.318052, H.pos - H.neg: 7.207420\n",
      "(97/700) Loss: 0.826565, H.pos - H.neg: 13.630722\n",
      "(98/700) Loss: 0.576553, H.pos - H.neg: 5.773196\n",
      "(99/700) Loss: 0.369088, H.pos - H.neg: 3.678306\n",
      "(100/700) Loss: 0.411865, H.pos - H.neg: 3.109130\n",
      "(101/700) Loss: 0.245304, H.pos - H.neg: 1.860420\n",
      "(102/700) Loss: 0.222090, H.pos - H.neg: 1.349641\n",
      "(103/700) Loss: 0.554872, H.pos - H.neg: 2.756226\n",
      "(104/700) Loss: 0.605856, H.pos - H.neg: 6.309575\n",
      "(105/700) Loss: 0.558819, H.pos - H.neg: 3.886874\n",
      "(106/700) Loss: 0.246149, H.pos - H.neg: 3.292155\n",
      "(107/700) Loss: 0.568765, H.pos - H.neg: 2.574632\n",
      "(108/700) Loss: 0.245502, H.pos - H.neg: 5.283375\n",
      "(109/700) Loss: 0.524798, H.pos - H.neg: 2.625777\n",
      "(110/700) Loss: 0.435718, H.pos - H.neg: 3.621822\n",
      "(111/700) Loss: 0.313590, H.pos - H.neg: 3.220894\n",
      "(112/700) Loss: 0.419867, H.pos - H.neg: 6.202971\n",
      "(113/700) Loss: 0.645353, H.pos - H.neg: 12.342819\n",
      "(114/700) Loss: 0.711512, H.pos - H.neg: 20.452444\n",
      "(115/700) Loss: 0.661945, H.pos - H.neg: 5.557927\n",
      "(116/700) Loss: 0.368737, H.pos - H.neg: 3.726981\n",
      "(117/700) Loss: 0.750731, H.pos - H.neg: 1.561319\n",
      "(118/700) Loss: 0.551171, H.pos - H.neg: 1.552271\n",
      "(119/700) Loss: 0.627028, H.pos - H.neg: 1.619862\n",
      "(120/700) Loss: 0.505676, H.pos - H.neg: 1.659611\n",
      "(121/700) Loss: 0.435444, H.pos - H.neg: 2.981574\n",
      "(122/700) Loss: 0.547273, H.pos - H.neg: 4.480006\n",
      "(123/700) Loss: 0.565510, H.pos - H.neg: 3.020540\n",
      "(124/700) Loss: 0.253143, H.pos - H.neg: 3.691659\n",
      "(125/700) Loss: 0.441450, H.pos - H.neg: 3.715060\n",
      "(126/700) Loss: 0.538536, H.pos - H.neg: 1.970458\n",
      "(127/700) Loss: 0.349496, H.pos - H.neg: 3.277206\n",
      "(128/700) Loss: 0.412680, H.pos - H.neg: 5.014942\n",
      "(129/700) Loss: 0.476548, H.pos - H.neg: 4.131421\n",
      "(130/700) Loss: 0.640065, H.pos - H.neg: 8.279599\n",
      "(131/700) Loss: 0.349987, H.pos - H.neg: 5.539446\n",
      "(132/700) Loss: 0.441422, H.pos - H.neg: 3.953371\n",
      "(133/700) Loss: 0.533348, H.pos - H.neg: 3.948249\n",
      "(134/700) Loss: 0.341013, H.pos - H.neg: 3.919456\n",
      "(135/700) Loss: 0.191507, H.pos - H.neg: 3.841034\n",
      "(136/700) Loss: 0.553304, H.pos - H.neg: 1.402138\n",
      "(137/700) Loss: 0.615167, H.pos - H.neg: 4.301611\n",
      "(138/700) Loss: 0.264670, H.pos - H.neg: 3.064484\n",
      "(139/700) Loss: 0.384156, H.pos - H.neg: 5.259039\n",
      "(140/700) Loss: 0.183429, H.pos - H.neg: 4.058793\n",
      "(141/700) Loss: 0.142808, H.pos - H.neg: 2.591126\n",
      "(142/700) Loss: 0.000000, H.pos - H.neg: 4.243934\n",
      "(143/700) Loss: 0.112022, H.pos - H.neg: 4.314269\n",
      "(144/700) Loss: 0.619855, H.pos - H.neg: 5.589711\n",
      "(145/700) Loss: 0.482151, H.pos - H.neg: 5.726923\n",
      "(146/700) Loss: 0.308737, H.pos - H.neg: 3.738501\n",
      "(147/700) Loss: 0.445617, H.pos - H.neg: 7.844547\n",
      "(148/700) Loss: 0.400976, H.pos - H.neg: 2.005050\n",
      "(149/700) Loss: 0.344884, H.pos - H.neg: 3.607279\n",
      "(150/700) Loss: 0.332624, H.pos - H.neg: 2.538083\n",
      "(151/700) Loss: 0.287578, H.pos - H.neg: 1.985401\n",
      "(152/700) Loss: 0.378432, H.pos - H.neg: 2.724665\n",
      "(153/700) Loss: 0.153388, H.pos - H.neg: 2.522733\n",
      "(154/700) Loss: 0.315592, H.pos - H.neg: 4.526325\n",
      "(155/700) Loss: 0.138697, H.pos - H.neg: 4.270261\n",
      "(156/700) Loss: 0.274543, H.pos - H.neg: 5.815104\n",
      "(157/700) Loss: 0.770615, H.pos - H.neg: 7.829820\n",
      "(158/700) Loss: 0.527135, H.pos - H.neg: 10.479609\n",
      "(159/700) Loss: 0.308981, H.pos - H.neg: 6.491271\n",
      "(160/700) Loss: 0.390762, H.pos - H.neg: 5.445114\n",
      "(161/700) Loss: 0.356502, H.pos - H.neg: 2.891846\n",
      "(162/700) Loss: 0.592609, H.pos - H.neg: 1.477177\n",
      "(163/700) Loss: 0.245846, H.pos - H.neg: 2.166406\n",
      "(164/700) Loss: 0.397156, H.pos - H.neg: 1.647476\n",
      "(165/700) Loss: 0.489235, H.pos - H.neg: 3.625545\n",
      "(166/700) Loss: 0.383485, H.pos - H.neg: 7.730546\n"
     ]
    },
    {
     "name": "stdout",
     "output_type": "stream",
     "text": [
      "(167/700) Loss: 0.041696, H.pos - H.neg: 3.953365\n",
      "(168/700) Loss: 0.116980, H.pos - H.neg: 3.412063\n",
      "(169/700) Loss: 0.161063, H.pos - H.neg: 4.740489\n",
      "(170/700) Loss: 0.094432, H.pos - H.neg: 8.845430\n",
      "(171/700) Loss: 0.208574, H.pos - H.neg: 8.053089\n",
      "(172/700) Loss: 0.465461, H.pos - H.neg: 9.987531\n",
      "(173/700) Loss: 0.215198, H.pos - H.neg: 7.475204\n",
      "(174/700) Loss: 0.571670, H.pos - H.neg: 10.326522\n",
      "(175/700) Loss: 0.399536, H.pos - H.neg: 5.780834\n",
      "(176/700) Loss: 0.618940, H.pos - H.neg: 3.063971\n",
      "(177/700) Loss: 0.723386, H.pos - H.neg: 3.463226\n",
      "(178/700) Loss: 0.349218, H.pos - H.neg: 2.760703\n",
      "(179/700) Loss: 0.331170, H.pos - H.neg: 2.119033\n",
      "(180/700) Loss: 0.589186, H.pos - H.neg: 4.267863\n",
      "(181/700) Loss: 0.382166, H.pos - H.neg: 6.354470\n",
      "(182/700) Loss: 0.414448, H.pos - H.neg: 5.743930\n",
      "(183/700) Loss: 0.283806, H.pos - H.neg: 2.474330\n",
      "(184/700) Loss: 0.414620, H.pos - H.neg: 3.272583\n",
      "(185/700) Loss: 0.268788, H.pos - H.neg: 2.342513\n",
      "(186/700) Loss: 0.614260, H.pos - H.neg: 2.732314\n",
      "(187/700) Loss: 0.342118, H.pos - H.neg: 2.969197\n",
      "(188/700) Loss: 0.385399, H.pos - H.neg: 3.541428\n",
      "(189/700) Loss: 0.681506, H.pos - H.neg: 4.045189\n",
      "(190/700) Loss: 0.747851, H.pos - H.neg: 8.932679\n",
      "(191/700) Loss: 0.154230, H.pos - H.neg: 3.833208\n",
      "(192/700) Loss: 0.388382, H.pos - H.neg: 4.959946\n",
      "(193/700) Loss: 0.621414, H.pos - H.neg: 2.741878\n",
      "(194/700) Loss: 0.477610, H.pos - H.neg: 4.131456\n",
      "(195/700) Loss: 0.611028, H.pos - H.neg: 2.211987\n",
      "(196/700) Loss: 0.461572, H.pos - H.neg: 4.719901\n",
      "(197/700) Loss: 0.696017, H.pos - H.neg: 8.812341\n",
      "(198/700) Loss: 0.053394, H.pos - H.neg: 3.133860\n",
      "(199/700) Loss: 0.371759, H.pos - H.neg: 2.757233\n",
      "(200/700) Loss: 0.242364, H.pos - H.neg: 2.950901\n",
      "(201/700) Loss: 0.409456, H.pos - H.neg: 4.352419\n",
      "(202/700) Loss: 0.204087, H.pos - H.neg: 2.516436\n",
      "(203/700) Loss: 0.227899, H.pos - H.neg: 4.064930\n",
      "(204/700) Loss: 0.451431, H.pos - H.neg: 5.091635\n",
      "(205/700) Loss: 0.373579, H.pos - H.neg: 5.428039\n",
      "(206/700) Loss: 0.056309, H.pos - H.neg: 4.062878\n",
      "(207/700) Loss: 0.919493, H.pos - H.neg: 10.154290\n",
      "(208/700) Loss: 0.262996, H.pos - H.neg: 5.110168\n",
      "(209/700) Loss: 0.115239, H.pos - H.neg: 2.270911\n",
      "(210/700) Loss: 0.501532, H.pos - H.neg: 2.901337\n",
      "(211/700) Loss: 0.713454, H.pos - H.neg: 3.659099\n",
      "(212/700) Loss: 0.259363, H.pos - H.neg: 2.096070\n",
      "(213/700) Loss: 0.480492, H.pos - H.neg: 1.605338\n",
      "(214/700) Loss: 0.561135, H.pos - H.neg: 4.412077\n",
      "(215/700) Loss: 0.462944, H.pos - H.neg: 3.826325\n",
      "(216/700) Loss: 0.572360, H.pos - H.neg: 4.379596\n",
      "(217/700) Loss: 0.631487, H.pos - H.neg: 3.377904\n",
      "(218/700) Loss: 0.521011, H.pos - H.neg: 3.767355\n",
      "(219/700) Loss: 0.426597, H.pos - H.neg: 5.799434\n",
      "(220/700) Loss: 0.553721, H.pos - H.neg: 4.933975\n",
      "(221/700) Loss: 0.396941, H.pos - H.neg: 3.950494\n",
      "(222/700) Loss: 0.702369, H.pos - H.neg: 5.532321\n",
      "(223/700) Loss: 0.473434, H.pos - H.neg: 4.075884\n",
      "(224/700) Loss: 0.292126, H.pos - H.neg: 3.218891\n",
      "(225/700) Loss: 0.271825, H.pos - H.neg: 4.182294\n",
      "(226/700) Loss: 0.245402, H.pos - H.neg: 2.975816\n",
      "(227/700) Loss: 0.335660, H.pos - H.neg: 5.379637\n",
      "(228/700) Loss: 0.393034, H.pos - H.neg: 4.820224\n",
      "(229/700) Loss: 0.519280, H.pos - H.neg: 7.111851\n",
      "(230/700) Loss: 0.282277, H.pos - H.neg: 3.386002\n",
      "(231/700) Loss: 0.332455, H.pos - H.neg: 2.769287\n",
      "(232/700) Loss: 0.622073, H.pos - H.neg: 6.257925\n",
      "(233/700) Loss: 0.422713, H.pos - H.neg: 3.020401\n",
      "(234/700) Loss: 0.715650, H.pos - H.neg: 6.533704\n",
      "(235/700) Loss: 0.287308, H.pos - H.neg: 2.148379\n",
      "(236/700) Loss: 0.627373, H.pos - H.neg: 4.625636\n",
      "(237/700) Loss: 0.433114, H.pos - H.neg: 1.304366\n",
      "(238/700) Loss: 0.551530, H.pos - H.neg: 1.204405\n",
      "(239/700) Loss: 0.397998, H.pos - H.neg: 3.838131\n",
      "(240/700) Loss: 0.357125, H.pos - H.neg: 6.486681\n",
      "(241/700) Loss: 0.553426, H.pos - H.neg: 8.503089\n",
      "(242/700) Loss: 0.593504, H.pos - H.neg: 7.479766\n",
      "(243/700) Loss: 0.312827, H.pos - H.neg: 9.075493\n",
      "(244/700) Loss: 0.398843, H.pos - H.neg: 10.198965\n",
      "(245/700) Loss: 0.641691, H.pos - H.neg: 8.133981\n",
      "(246/700) Loss: 0.195234, H.pos - H.neg: 3.351286\n",
      "(247/700) Loss: 0.247602, H.pos - H.neg: 4.709694\n",
      "(248/700) Loss: 0.517628, H.pos - H.neg: 1.919903\n",
      "(249/700) Loss: 0.302174, H.pos - H.neg: 3.052080\n",
      "(250/700) Loss: 0.530246, H.pos - H.neg: 1.801155\n",
      "(251/700) Loss: 0.216840, H.pos - H.neg: 1.890281\n",
      "(252/700) Loss: 0.540417, H.pos - H.neg: 3.578340\n",
      "(253/700) Loss: 0.442711, H.pos - H.neg: 3.243593\n",
      "(254/700) Loss: 0.359118, H.pos - H.neg: 3.425422\n",
      "(255/700) Loss: 0.155091, H.pos - H.neg: 5.115984\n",
      "(256/700) Loss: 0.342275, H.pos - H.neg: 5.823305\n",
      "(257/700) Loss: 0.474302, H.pos - H.neg: 8.625373\n",
      "(258/700) Loss: 0.251194, H.pos - H.neg: 9.382460\n",
      "(259/700) Loss: 0.237051, H.pos - H.neg: 9.306955\n",
      "(260/700) Loss: 0.028080, H.pos - H.neg: 5.957421\n",
      "(261/700) Loss: 0.167994, H.pos - H.neg: 5.033404\n",
      "(262/700) Loss: 0.510593, H.pos - H.neg: 7.437501\n",
      "(263/700) Loss: 0.614812, H.pos - H.neg: 6.121319\n",
      "(264/700) Loss: 0.540001, H.pos - H.neg: 4.788408\n",
      "(265/700) Loss: 0.325800, H.pos - H.neg: 2.934255\n",
      "(266/700) Loss: 0.574533, H.pos - H.neg: 1.522282\n",
      "(267/700) Loss: 0.608646, H.pos - H.neg: 0.863337\n",
      "(268/700) Loss: 0.453470, H.pos - H.neg: 2.552357\n",
      "(269/700) Loss: 0.496574, H.pos - H.neg: 5.462330\n",
      "(270/700) Loss: 0.228328, H.pos - H.neg: 3.851060\n",
      "(271/700) Loss: 0.678662, H.pos - H.neg: 5.179667\n",
      "(272/700) Loss: 0.517283, H.pos - H.neg: 6.602962\n",
      "(273/700) Loss: 0.285566, H.pos - H.neg: 3.336226\n",
      "(274/700) Loss: 0.336085, H.pos - H.neg: 2.802034\n",
      "(275/700) Loss: 0.282207, H.pos - H.neg: 3.710155\n",
      "(276/700) Loss: 0.289067, H.pos - H.neg: 3.247508\n",
      "(277/700) Loss: 0.224685, H.pos - H.neg: 2.537618\n",
      "(278/700) Loss: 0.301274, H.pos - H.neg: 4.452983\n",
      "(279/700) Loss: 0.137383, H.pos - H.neg: 4.697154\n",
      "(280/700) Loss: 0.106547, H.pos - H.neg: 6.276692\n",
      "(281/700) Loss: 0.335066, H.pos - H.neg: 7.683568\n",
      "(282/700) Loss: 0.585262, H.pos - H.neg: 5.696598\n",
      "(283/700) Loss: 0.165212, H.pos - H.neg: 4.027689\n",
      "(284/700) Loss: 0.141281, H.pos - H.neg: 4.221508\n",
      "(285/700) Loss: 0.289975, H.pos - H.neg: 7.738062\n",
      "(286/700) Loss: 0.243263, H.pos - H.neg: 3.721072\n",
      "(287/700) Loss: 0.630639, H.pos - H.neg: 5.713769\n",
      "(288/700) Loss: 0.282368, H.pos - H.neg: 3.851138\n",
      "(289/700) Loss: 0.578100, H.pos - H.neg: 4.389474\n",
      "(290/700) Loss: 0.281117, H.pos - H.neg: 3.865076\n",
      "(291/700) Loss: 0.308050, H.pos - H.neg: 2.112147\n",
      "(292/700) Loss: 0.483064, H.pos - H.neg: 3.660266\n",
      "(293/700) Loss: 0.116697, H.pos - H.neg: 2.016271\n",
      "(294/700) Loss: 0.155863, H.pos - H.neg: 4.857347\n",
      "(295/700) Loss: 0.637217, H.pos - H.neg: 5.570439\n",
      "(296/700) Loss: 0.368907, H.pos - H.neg: 4.357988\n",
      "(297/700) Loss: 0.512085, H.pos - H.neg: 13.043540\n",
      "(298/700) Loss: 0.092070, H.pos - H.neg: 3.992905\n",
      "(299/700) Loss: 0.329652, H.pos - H.neg: 5.673476\n",
      "(300/700) Loss: 0.735392, H.pos - H.neg: 11.318487\n",
      "(301/700) Loss: 0.471910, H.pos - H.neg: 10.720971\n",
      "(302/700) Loss: 0.535921, H.pos - H.neg: 5.081821\n",
      "(303/700) Loss: 0.515468, H.pos - H.neg: 5.508861\n",
      "(304/700) Loss: 0.419604, H.pos - H.neg: 1.573865\n",
      "(305/700) Loss: 0.491947, H.pos - H.neg: 1.776073\n",
      "(306/700) Loss: 0.302318, H.pos - H.neg: 1.375681\n",
      "(307/700) Loss: 0.137823, H.pos - H.neg: 1.686573\n",
      "(308/700) Loss: 0.173836, H.pos - H.neg: 3.107380\n",
      "(309/700) Loss: 0.392764, H.pos - H.neg: 3.615944\n",
      "(310/700) Loss: 0.116478, H.pos - H.neg: 3.714661\n",
      "(311/700) Loss: 0.291225, H.pos - H.neg: 5.397181\n",
      "(312/700) Loss: 0.446014, H.pos - H.neg: 9.738782\n",
      "(313/700) Loss: 0.270841, H.pos - H.neg: 4.286187\n",
      "(314/700) Loss: 0.301845, H.pos - H.neg: 5.825130\n",
      "(315/700) Loss: 0.325076, H.pos - H.neg: 2.912561\n",
      "(316/700) Loss: 0.204839, H.pos - H.neg: 2.553247\n",
      "(317/700) Loss: 0.368945, H.pos - H.neg: 2.742680\n",
      "(318/700) Loss: 0.278758, H.pos - H.neg: 4.052312\n",
      "(319/700) Loss: 0.136927, H.pos - H.neg: 4.462818\n",
      "(320/700) Loss: 0.222852, H.pos - H.neg: 4.417913\n",
      "(321/700) Loss: 0.355524, H.pos - H.neg: 5.216909\n",
      "(322/700) Loss: 0.234152, H.pos - H.neg: 6.215839\n",
      "(323/700) Loss: 0.340008, H.pos - H.neg: 6.550865\n",
      "(324/700) Loss: 0.654496, H.pos - H.neg: 8.117426\n",
      "(325/700) Loss: 0.102924, H.pos - H.neg: 4.954297\n",
      "(326/700) Loss: 0.507411, H.pos - H.neg: 11.127835\n",
      "(327/700) Loss: 0.480354, H.pos - H.neg: 6.005068\n",
      "(328/700) Loss: 0.436252, H.pos - H.neg: 3.502190\n",
      "(329/700) Loss: 0.256331, H.pos - H.neg: 3.274765\n",
      "(330/700) Loss: 0.659663, H.pos - H.neg: 1.797441\n"
     ]
    },
    {
     "name": "stdout",
     "output_type": "stream",
     "text": [
      "(331/700) Loss: 0.275418, H.pos - H.neg: 3.548186\n",
      "(332/700) Loss: 0.338304, H.pos - H.neg: 1.936058\n",
      "(333/700) Loss: 0.383577, H.pos - H.neg: 3.216642\n",
      "(334/700) Loss: 0.280804, H.pos - H.neg: 4.714475\n",
      "(335/700) Loss: 0.574221, H.pos - H.neg: 8.397285\n",
      "(336/700) Loss: 0.404438, H.pos - H.neg: 5.454236\n",
      "(337/700) Loss: 0.209767, H.pos - H.neg: 8.166116\n",
      "(338/700) Loss: 0.154048, H.pos - H.neg: 6.300762\n",
      "(339/700) Loss: 0.166605, H.pos - H.neg: 6.226737\n",
      "(340/700) Loss: 0.262275, H.pos - H.neg: 3.606191\n",
      "(341/700) Loss: 0.149967, H.pos - H.neg: 4.327787\n",
      "(342/700) Loss: 0.382093, H.pos - H.neg: 2.003010\n",
      "(343/700) Loss: 0.272160, H.pos - H.neg: 2.679515\n",
      "(344/700) Loss: 0.380259, H.pos - H.neg: 4.466647\n",
      "(345/700) Loss: 0.078013, H.pos - H.neg: 4.804567\n",
      "(346/700) Loss: 0.377439, H.pos - H.neg: 5.735159\n",
      "(347/700) Loss: 0.700538, H.pos - H.neg: 4.263352\n",
      "(348/700) Loss: 0.267066, H.pos - H.neg: 6.431430\n",
      "(349/700) Loss: 0.238904, H.pos - H.neg: 5.015510\n",
      "(350/700) Loss: 0.505104, H.pos - H.neg: 5.119313\n",
      "(351/700) Loss: 0.131358, H.pos - H.neg: 2.461219\n",
      "(352/700) Loss: 0.455402, H.pos - H.neg: 3.064410\n",
      "(353/700) Loss: 0.607433, H.pos - H.neg: 2.077018\n",
      "(354/700) Loss: 0.308147, H.pos - H.neg: 5.350623\n",
      "(355/700) Loss: 0.491895, H.pos - H.neg: 7.280633\n",
      "(356/700) Loss: 0.124164, H.pos - H.neg: 5.576384\n",
      "(357/700) Loss: 0.399919, H.pos - H.neg: 4.894674\n",
      "(358/700) Loss: 0.079745, H.pos - H.neg: 4.230124\n",
      "(359/700) Loss: 0.292151, H.pos - H.neg: 9.981758\n",
      "(360/700) Loss: 0.197313, H.pos - H.neg: 5.712073\n",
      "(361/700) Loss: 0.469016, H.pos - H.neg: 8.359139\n",
      "(362/700) Loss: 0.156936, H.pos - H.neg: 5.500679\n",
      "(363/700) Loss: 0.493757, H.pos - H.neg: 6.071126\n",
      "(364/700) Loss: 0.349532, H.pos - H.neg: 6.273666\n",
      "(365/700) Loss: 0.275018, H.pos - H.neg: 3.773444\n",
      "(366/700) Loss: 0.344463, H.pos - H.neg: 3.466770\n",
      "(367/700) Loss: 0.321995, H.pos - H.neg: 4.987336\n",
      "(368/700) Loss: 0.528861, H.pos - H.neg: 4.600427\n",
      "(369/700) Loss: 0.542345, H.pos - H.neg: 2.717031\n",
      "(370/700) Loss: 0.491737, H.pos - H.neg: 2.893976\n",
      "(371/700) Loss: 0.390115, H.pos - H.neg: 2.686358\n",
      "(372/700) Loss: 0.303966, H.pos - H.neg: 4.623942\n",
      "(373/700) Loss: 0.259055, H.pos - H.neg: 2.597088\n",
      "(374/700) Loss: 0.242773, H.pos - H.neg: 3.297653\n",
      "(375/700) Loss: 0.663754, H.pos - H.neg: 6.770377\n",
      "(376/700) Loss: 0.364875, H.pos - H.neg: 4.155119\n",
      "(377/700) Loss: 0.013323, H.pos - H.neg: 3.366124\n",
      "(378/700) Loss: 0.334628, H.pos - H.neg: 7.489494\n",
      "(379/700) Loss: 0.295403, H.pos - H.neg: 3.808728\n",
      "(380/700) Loss: 0.400557, H.pos - H.neg: 4.864432\n",
      "(381/700) Loss: 0.248416, H.pos - H.neg: 3.206196\n",
      "(382/700) Loss: 0.093523, H.pos - H.neg: 2.553876\n",
      "(383/700) Loss: 0.175010, H.pos - H.neg: 3.460453\n",
      "(384/700) Loss: 0.447154, H.pos - H.neg: 5.922675\n",
      "(385/700) Loss: 0.128947, H.pos - H.neg: 3.747902\n",
      "(386/700) Loss: 0.386493, H.pos - H.neg: 7.424976\n",
      "(387/700) Loss: 0.682910, H.pos - H.neg: 16.561144\n",
      "(388/700) Loss: 0.371277, H.pos - H.neg: 6.310883\n",
      "(389/700) Loss: 0.000000, H.pos - H.neg: 3.715513\n",
      "(390/700) Loss: 0.246147, H.pos - H.neg: 3.677052\n",
      "(391/700) Loss: 0.365143, H.pos - H.neg: 5.729093\n",
      "(392/700) Loss: 0.087857, H.pos - H.neg: 3.017311\n",
      "(393/700) Loss: 0.184268, H.pos - H.neg: 3.964538\n",
      "(394/700) Loss: 0.292211, H.pos - H.neg: 4.957192\n",
      "(395/700) Loss: 0.389918, H.pos - H.neg: 2.289900\n",
      "(396/700) Loss: 0.277121, H.pos - H.neg: 3.947229\n",
      "(397/700) Loss: 0.123826, H.pos - H.neg: 6.218915\n",
      "(398/700) Loss: 0.528660, H.pos - H.neg: 7.105185\n",
      "(399/700) Loss: 0.152076, H.pos - H.neg: 4.718599\n",
      "(400/700) Loss: 0.454564, H.pos - H.neg: 7.279320\n",
      "(401/700) Loss: 0.267989, H.pos - H.neg: 7.415880\n",
      "(402/700) Loss: 0.117634, H.pos - H.neg: 6.044598\n",
      "(403/700) Loss: 0.270237, H.pos - H.neg: 7.056151\n",
      "(404/700) Loss: 0.128804, H.pos - H.neg: 9.742061\n",
      "(405/700) Loss: 0.133003, H.pos - H.neg: 5.982576\n",
      "(406/700) Loss: 0.515751, H.pos - H.neg: 7.816508\n",
      "(407/700) Loss: 0.425200, H.pos - H.neg: 6.350286\n",
      "(408/700) Loss: 0.128542, H.pos - H.neg: 6.282790\n",
      "(409/700) Loss: 0.268916, H.pos - H.neg: 7.018841\n",
      "(410/700) Loss: 0.106839, H.pos - H.neg: 5.777017\n",
      "(411/700) Loss: 0.552647, H.pos - H.neg: 8.488708\n",
      "(412/700) Loss: 0.523279, H.pos - H.neg: 5.012568\n",
      "(413/700) Loss: 0.220803, H.pos - H.neg: 2.038212\n",
      "(414/700) Loss: 0.300626, H.pos - H.neg: 3.026478\n",
      "(415/700) Loss: 0.243045, H.pos - H.neg: 3.593402\n",
      "(416/700) Loss: 0.342790, H.pos - H.neg: 5.642337\n",
      "(417/700) Loss: 0.239286, H.pos - H.neg: 3.207810\n",
      "(418/700) Loss: 0.387192, H.pos - H.neg: 9.939079\n",
      "(419/700) Loss: 0.192339, H.pos - H.neg: 7.404891\n",
      "(420/700) Loss: 0.418323, H.pos - H.neg: 4.724618\n",
      "(421/700) Loss: 0.192404, H.pos - H.neg: 6.038293\n",
      "(422/700) Loss: 0.304511, H.pos - H.neg: 4.389843\n",
      "(423/700) Loss: 0.480942, H.pos - H.neg: 7.162284\n",
      "(424/700) Loss: 0.433152, H.pos - H.neg: 6.273987\n",
      "(425/700) Loss: 0.305957, H.pos - H.neg: 2.751447\n",
      "(426/700) Loss: 0.166225, H.pos - H.neg: 3.443341\n",
      "(427/700) Loss: 0.326995, H.pos - H.neg: 9.486541\n",
      "(428/700) Loss: 0.278038, H.pos - H.neg: 4.486282\n",
      "(429/700) Loss: 0.312798, H.pos - H.neg: 4.632955\n",
      "(430/700) Loss: 0.419003, H.pos - H.neg: 5.279333\n",
      "(431/700) Loss: 0.037155, H.pos - H.neg: 3.048910\n",
      "(432/700) Loss: 0.179208, H.pos - H.neg: 2.716991\n",
      "(433/700) Loss: 0.233588, H.pos - H.neg: 3.934828\n",
      "(434/700) Loss: 0.707694, H.pos - H.neg: 6.896817\n",
      "(435/700) Loss: 0.178213, H.pos - H.neg: 2.817771\n",
      "(436/700) Loss: 0.101314, H.pos - H.neg: 3.809017\n",
      "(437/700) Loss: 0.362308, H.pos - H.neg: 2.884868\n",
      "(438/700) Loss: 0.143602, H.pos - H.neg: 3.413746\n",
      "(439/700) Loss: 0.368125, H.pos - H.neg: 2.117630\n",
      "(440/700) Loss: 0.368528, H.pos - H.neg: 4.622941\n",
      "(441/700) Loss: 0.518835, H.pos - H.neg: 4.144503\n",
      "(442/700) Loss: 0.525586, H.pos - H.neg: 5.792500\n",
      "(443/700) Loss: 0.211856, H.pos - H.neg: 5.327353\n",
      "(444/700) Loss: 0.424931, H.pos - H.neg: 7.336829\n",
      "(445/700) Loss: 0.183268, H.pos - H.neg: 6.580607\n",
      "(446/700) Loss: 0.363153, H.pos - H.neg: 4.344851\n",
      "(447/700) Loss: 0.347101, H.pos - H.neg: 2.204968\n",
      "(448/700) Loss: 0.021472, H.pos - H.neg: 3.436229\n",
      "(449/700) Loss: 0.149055, H.pos - H.neg: 4.708893\n",
      "(450/700) Loss: 0.669350, H.pos - H.neg: 7.180986\n",
      "(451/700) Loss: 0.385506, H.pos - H.neg: 5.369460\n",
      "(452/700) Loss: 0.178480, H.pos - H.neg: 2.596885\n",
      "(453/700) Loss: 0.324722, H.pos - H.neg: 3.422524\n",
      "(454/700) Loss: 0.347418, H.pos - H.neg: 2.990200\n",
      "(455/700) Loss: 0.405540, H.pos - H.neg: 2.166686\n",
      "(456/700) Loss: 0.189921, H.pos - H.neg: 3.171709\n",
      "(457/700) Loss: 0.268890, H.pos - H.neg: 4.349615\n",
      "(458/700) Loss: 0.009445, H.pos - H.neg: 2.405329\n",
      "(459/700) Loss: 0.324884, H.pos - H.neg: 6.509051\n",
      "(460/700) Loss: 0.044251, H.pos - H.neg: 4.558943\n",
      "(461/700) Loss: 0.411880, H.pos - H.neg: 6.912169\n",
      "(462/700) Loss: 0.576685, H.pos - H.neg: 9.843784\n",
      "(463/700) Loss: 0.237598, H.pos - H.neg: 5.561688\n",
      "(464/700) Loss: 0.181379, H.pos - H.neg: 7.139654\n",
      "(465/700) Loss: 0.241109, H.pos - H.neg: 8.471877\n",
      "(466/700) Loss: 0.566163, H.pos - H.neg: 9.077404\n",
      "(467/700) Loss: 0.475479, H.pos - H.neg: 6.638202\n",
      "(468/700) Loss: 0.193413, H.pos - H.neg: 4.576528\n",
      "(469/700) Loss: 0.231497, H.pos - H.neg: 7.215787\n",
      "(470/700) Loss: 0.283628, H.pos - H.neg: 1.588573\n",
      "(471/700) Loss: 0.427050, H.pos - H.neg: 4.853761\n",
      "(472/700) Loss: 0.543364, H.pos - H.neg: 2.378663\n",
      "(473/700) Loss: 0.378741, H.pos - H.neg: 1.866452\n",
      "(474/700) Loss: 0.301197, H.pos - H.neg: 2.398354\n",
      "(475/700) Loss: 0.315158, H.pos - H.neg: 4.394508\n",
      "(476/700) Loss: 0.245752, H.pos - H.neg: 3.928384\n",
      "(477/700) Loss: 0.292348, H.pos - H.neg: 6.395581\n",
      "(478/700) Loss: 0.234713, H.pos - H.neg: 4.858472\n",
      "(479/700) Loss: 0.000000, H.pos - H.neg: 7.125034\n",
      "(480/700) Loss: 0.054338, H.pos - H.neg: 9.077300\n",
      "(481/700) Loss: 0.201640, H.pos - H.neg: 7.389977\n",
      "(482/700) Loss: 0.315536, H.pos - H.neg: 9.654744\n",
      "(483/700) Loss: 0.000000, H.pos - H.neg: 7.319634\n",
      "(484/700) Loss: 0.762526, H.pos - H.neg: 8.424765\n",
      "(485/700) Loss: 0.182964, H.pos - H.neg: 6.058189\n",
      "(486/700) Loss: 0.235806, H.pos - H.neg: 4.518121\n",
      "(487/700) Loss: 0.000000, H.pos - H.neg: 3.513613\n",
      "(488/700) Loss: 0.073260, H.pos - H.neg: 3.368964\n",
      "(489/700) Loss: 0.364641, H.pos - H.neg: 4.589888\n",
      "(490/700) Loss: 0.519870, H.pos - H.neg: 4.948098\n",
      "(491/700) Loss: 0.102708, H.pos - H.neg: 3.625998\n",
      "(492/700) Loss: 0.393030, H.pos - H.neg: 7.181952\n",
      "(493/700) Loss: 0.004084, H.pos - H.neg: 2.452044\n",
      "(494/700) Loss: 0.335474, H.pos - H.neg: 3.111489\n"
     ]
    },
    {
     "name": "stdout",
     "output_type": "stream",
     "text": [
      "(495/700) Loss: 0.145997, H.pos - H.neg: 2.134078\n",
      "(496/700) Loss: 0.047776, H.pos - H.neg: 3.717224\n",
      "(497/700) Loss: 0.044848, H.pos - H.neg: 3.272769\n",
      "(498/700) Loss: 0.316495, H.pos - H.neg: 4.562665\n",
      "(499/700) Loss: 0.487414, H.pos - H.neg: 5.774414\n",
      "(500/700) Loss: 0.411782, H.pos - H.neg: 3.045062\n",
      "(501/700) Loss: 0.407941, H.pos - H.neg: 2.493582\n",
      "(502/700) Loss: 0.536147, H.pos - H.neg: 7.310208\n",
      "(503/700) Loss: 0.239525, H.pos - H.neg: 1.916196\n",
      "(504/700) Loss: 0.382736, H.pos - H.neg: 4.412251\n",
      "(505/700) Loss: 0.021701, H.pos - H.neg: 4.755979\n",
      "(506/700) Loss: 0.138750, H.pos - H.neg: 4.396093\n",
      "(507/700) Loss: 0.355485, H.pos - H.neg: 6.487506\n",
      "(508/700) Loss: 0.250697, H.pos - H.neg: 5.978177\n",
      "(509/700) Loss: 0.085126, H.pos - H.neg: 7.198452\n",
      "(510/700) Loss: 0.217409, H.pos - H.neg: 10.582160\n",
      "(511/700) Loss: 0.244057, H.pos - H.neg: 4.522784\n",
      "(512/700) Loss: 0.000000, H.pos - H.neg: 4.397606\n",
      "(513/700) Loss: 0.355401, H.pos - H.neg: 6.290788\n",
      "(514/700) Loss: 0.106787, H.pos - H.neg: 6.327876\n",
      "(515/700) Loss: 0.269820, H.pos - H.neg: 6.650017\n",
      "(516/700) Loss: 0.396002, H.pos - H.neg: 5.075901\n",
      "(517/700) Loss: 0.326841, H.pos - H.neg: 7.508448\n",
      "(518/700) Loss: 0.443318, H.pos - H.neg: 5.438978\n",
      "(519/700) Loss: 0.908914, H.pos - H.neg: 16.770510\n",
      "(520/700) Loss: 0.004703, H.pos - H.neg: 3.719808\n",
      "(521/700) Loss: 0.457643, H.pos - H.neg: 1.710142\n",
      "(522/700) Loss: 0.540201, H.pos - H.neg: 2.021592\n",
      "(523/700) Loss: 0.181186, H.pos - H.neg: 2.237744\n",
      "(524/700) Loss: 0.208907, H.pos - H.neg: 3.303619\n",
      "(525/700) Loss: 0.115039, H.pos - H.neg: 4.049264\n",
      "(526/700) Loss: 0.267804, H.pos - H.neg: 5.710528\n",
      "(527/700) Loss: 0.567785, H.pos - H.neg: 4.936680\n",
      "(528/700) Loss: 0.081137, H.pos - H.neg: 5.624680\n",
      "(529/700) Loss: 0.051760, H.pos - H.neg: 8.035110\n",
      "(530/700) Loss: 0.110291, H.pos - H.neg: 7.076836\n",
      "(531/700) Loss: 0.000000, H.pos - H.neg: 6.684573\n",
      "(532/700) Loss: 1.175671, H.pos - H.neg: 28.372211\n",
      "(533/700) Loss: 0.041351, H.pos - H.neg: 5.059496\n",
      "(534/700) Loss: 0.153678, H.pos - H.neg: 4.245527\n",
      "(535/700) Loss: 0.267207, H.pos - H.neg: 5.123705\n",
      "(536/700) Loss: 0.302607, H.pos - H.neg: 2.864020\n",
      "(537/700) Loss: 0.138629, H.pos - H.neg: 1.888804\n",
      "(538/700) Loss: 0.169780, H.pos - H.neg: 2.725315\n",
      "(539/700) Loss: 0.081237, H.pos - H.neg: 2.103612\n",
      "(540/700) Loss: 0.409138, H.pos - H.neg: 5.384719\n",
      "(541/700) Loss: 0.145574, H.pos - H.neg: 2.870458\n",
      "(542/700) Loss: 0.393049, H.pos - H.neg: 6.924993\n",
      "(543/700) Loss: 0.338573, H.pos - H.neg: 4.565195\n",
      "(544/700) Loss: 0.217234, H.pos - H.neg: 2.545550\n",
      "(545/700) Loss: 0.231559, H.pos - H.neg: 3.546273\n",
      "(546/700) Loss: 0.315727, H.pos - H.neg: 5.324902\n",
      "(547/700) Loss: 0.198644, H.pos - H.neg: 5.603005\n",
      "(548/700) Loss: 0.019767, H.pos - H.neg: 5.448992\n",
      "(549/700) Loss: 0.580457, H.pos - H.neg: 8.616211\n",
      "(550/700) Loss: 0.437881, H.pos - H.neg: 4.175421\n",
      "(551/700) Loss: 0.209059, H.pos - H.neg: 3.955462\n",
      "(552/700) Loss: 0.037572, H.pos - H.neg: 1.203851\n",
      "(553/700) Loss: 0.202740, H.pos - H.neg: 4.331932\n",
      "(554/700) Loss: 0.320617, H.pos - H.neg: 4.917366\n",
      "(555/700) Loss: 0.341892, H.pos - H.neg: 5.758510\n",
      "(556/700) Loss: 0.134388, H.pos - H.neg: 3.334711\n",
      "(557/700) Loss: 0.000000, H.pos - H.neg: 3.317223\n",
      "(558/700) Loss: 0.000000, H.pos - H.neg: 8.297163\n",
      "(559/700) Loss: 0.499866, H.pos - H.neg: 12.144033\n",
      "(560/700) Loss: 0.000000, H.pos - H.neg: 7.467602\n",
      "(561/700) Loss: 0.024414, H.pos - H.neg: 12.069710\n",
      "(562/700) Loss: 0.091987, H.pos - H.neg: 10.930689\n",
      "(563/700) Loss: 0.014973, H.pos - H.neg: 6.138392\n",
      "(564/700) Loss: 0.164706, H.pos - H.neg: 9.714574\n",
      "(565/700) Loss: 0.796472, H.pos - H.neg: 24.317165\n",
      "(566/700) Loss: 0.229331, H.pos - H.neg: 7.864149\n",
      "(567/700) Loss: 0.000000, H.pos - H.neg: 7.275034\n",
      "(568/700) Loss: 0.453436, H.pos - H.neg: 7.033687\n",
      "(569/700) Loss: 0.423100, H.pos - H.neg: 5.572845\n",
      "(570/700) Loss: 0.433678, H.pos - H.neg: 3.835832\n",
      "(571/700) Loss: 0.503855, H.pos - H.neg: 3.713129\n",
      "(572/700) Loss: 0.237854, H.pos - H.neg: 2.884199\n",
      "(573/700) Loss: 0.550879, H.pos - H.neg: 2.376913\n",
      "(574/700) Loss: 0.606057, H.pos - H.neg: 1.937495\n",
      "(575/700) Loss: 0.160469, H.pos - H.neg: 2.518892\n",
      "(576/700) Loss: 0.072147, H.pos - H.neg: 2.252443\n",
      "(577/700) Loss: 0.075740, H.pos - H.neg: 2.562565\n",
      "(578/700) Loss: 0.348815, H.pos - H.neg: 6.706898\n",
      "(579/700) Loss: 0.330917, H.pos - H.neg: 7.338570\n",
      "(580/700) Loss: 0.353373, H.pos - H.neg: 6.292811\n",
      "(581/700) Loss: 0.102012, H.pos - H.neg: 4.460567\n",
      "(582/700) Loss: 0.182526, H.pos - H.neg: 3.296173\n",
      "(583/700) Loss: 0.089667, H.pos - H.neg: 2.288154\n",
      "(584/700) Loss: 0.187692, H.pos - H.neg: 4.708356\n",
      "(585/700) Loss: 0.337883, H.pos - H.neg: 5.186994\n",
      "(586/700) Loss: 0.136590, H.pos - H.neg: 4.578924\n",
      "(587/700) Loss: 0.363746, H.pos - H.neg: 3.172448\n",
      "(588/700) Loss: 0.165765, H.pos - H.neg: 5.350017\n",
      "(589/700) Loss: 0.393753, H.pos - H.neg: 9.777203\n",
      "(590/700) Loss: 0.344993, H.pos - H.neg: 6.829458\n",
      "(591/700) Loss: 0.360136, H.pos - H.neg: 2.674787\n",
      "(592/700) Loss: 0.339962, H.pos - H.neg: 3.319748\n",
      "(593/700) Loss: 0.396514, H.pos - H.neg: 3.149338\n",
      "(594/700) Loss: 0.365750, H.pos - H.neg: 7.860332\n",
      "(595/700) Loss: 0.434971, H.pos - H.neg: 6.031167\n",
      "(596/700) Loss: 0.297620, H.pos - H.neg: 7.671166\n",
      "(597/700) Loss: 0.237557, H.pos - H.neg: 7.106530\n",
      "(598/700) Loss: 0.081155, H.pos - H.neg: 4.125040\n",
      "(599/700) Loss: 0.376538, H.pos - H.neg: 1.218361\n",
      "(600/700) Loss: 0.427229, H.pos - H.neg: 5.589479\n",
      "(601/700) Loss: 0.587277, H.pos - H.neg: 4.132195\n",
      "(602/700) Loss: 0.216823, H.pos - H.neg: 6.069913\n",
      "(603/700) Loss: 0.307538, H.pos - H.neg: 5.400754\n",
      "(604/700) Loss: 0.485396, H.pos - H.neg: 3.723485\n",
      "(605/700) Loss: 0.277634, H.pos - H.neg: 2.855550\n",
      "(606/700) Loss: 0.159149, H.pos - H.neg: 4.806972\n",
      "(607/700) Loss: 0.347815, H.pos - H.neg: 7.424174\n",
      "(608/700) Loss: 0.060001, H.pos - H.neg: 5.330913\n",
      "(609/700) Loss: 0.222940, H.pos - H.neg: 9.182138\n",
      "(610/700) Loss: 0.235614, H.pos - H.neg: 10.932114\n",
      "(611/700) Loss: 0.142082, H.pos - H.neg: 7.299475\n",
      "(612/700) Loss: 0.379486, H.pos - H.neg: 9.043503\n",
      "(613/700) Loss: 0.484908, H.pos - H.neg: 8.791824\n",
      "(614/700) Loss: 0.253889, H.pos - H.neg: 3.571341\n",
      "(615/700) Loss: 0.554641, H.pos - H.neg: 3.045646\n",
      "(616/700) Loss: 0.326734, H.pos - H.neg: 4.395751\n",
      "(617/700) Loss: 0.130912, H.pos - H.neg: 2.888578\n",
      "(618/700) Loss: 0.284659, H.pos - H.neg: 7.371984\n",
      "(619/700) Loss: 0.015143, H.pos - H.neg: 3.917685\n",
      "(620/700) Loss: 0.126222, H.pos - H.neg: 9.951607\n",
      "(621/700) Loss: 0.320209, H.pos - H.neg: 9.328954\n",
      "(622/700) Loss: 0.000000, H.pos - H.neg: 6.879467\n",
      "(623/700) Loss: 0.613269, H.pos - H.neg: 9.214911\n",
      "(624/700) Loss: 0.096102, H.pos - H.neg: 7.386656\n",
      "(625/700) Loss: 0.320864, H.pos - H.neg: 5.396371\n",
      "(626/700) Loss: 0.170937, H.pos - H.neg: 3.538821\n",
      "(627/700) Loss: 0.090028, H.pos - H.neg: 3.189980\n",
      "(628/700) Loss: 0.176224, H.pos - H.neg: 2.445776\n",
      "(629/700) Loss: 0.403327, H.pos - H.neg: 3.817897\n",
      "(630/700) Loss: 0.567514, H.pos - H.neg: 8.361640\n",
      "(631/700) Loss: 0.481736, H.pos - H.neg: 3.655176\n",
      "(632/700) Loss: 0.564408, H.pos - H.neg: 4.939570\n",
      "(633/700) Loss: 0.304732, H.pos - H.neg: 3.704604\n",
      "(634/700) Loss: 0.449502, H.pos - H.neg: 1.984142\n",
      "(635/700) Loss: 0.391889, H.pos - H.neg: 1.955850\n",
      "(636/700) Loss: 0.264958, H.pos - H.neg: 1.915479\n",
      "(637/700) Loss: 0.136259, H.pos - H.neg: 2.980483\n",
      "(638/700) Loss: 0.360421, H.pos - H.neg: 6.901227\n",
      "(639/700) Loss: 0.176528, H.pos - H.neg: 11.730240\n",
      "(640/700) Loss: 0.846689, H.pos - H.neg: 16.822765\n",
      "(641/700) Loss: 0.574552, H.pos - H.neg: 10.846575\n",
      "(642/700) Loss: 0.130628, H.pos - H.neg: 8.708872\n",
      "(643/700) Loss: 0.058334, H.pos - H.neg: 4.785766\n",
      "(644/700) Loss: 0.294468, H.pos - H.neg: 3.885990\n",
      "(645/700) Loss: 0.074324, H.pos - H.neg: 1.807970\n",
      "(646/700) Loss: 0.186876, H.pos - H.neg: 5.273379\n",
      "(647/700) Loss: 0.226867, H.pos - H.neg: 5.025637\n",
      "(648/700) Loss: 0.304638, H.pos - H.neg: 4.161108\n",
      "(649/700) Loss: 0.332074, H.pos - H.neg: 5.695022\n",
      "(650/700) Loss: 0.574845, H.pos - H.neg: 4.744318\n",
      "(651/700) Loss: 0.212989, H.pos - H.neg: 3.015419\n",
      "(652/700) Loss: 0.232927, H.pos - H.neg: 2.479661\n",
      "(653/700) Loss: 0.100312, H.pos - H.neg: 2.205082\n",
      "(654/700) Loss: 0.276007, H.pos - H.neg: 5.963464\n",
      "(655/700) Loss: 0.230709, H.pos - H.neg: 4.490873\n",
      "(656/700) Loss: 0.434758, H.pos - H.neg: 6.930585\n",
      "(657/700) Loss: 0.111638, H.pos - H.neg: 2.233089\n",
      "(658/700) Loss: 0.000000, H.pos - H.neg: 3.438691\n"
     ]
    },
    {
     "name": "stdout",
     "output_type": "stream",
     "text": [
      "(659/700) Loss: 0.099204, H.pos - H.neg: 2.400645\n",
      "(660/700) Loss: 0.061758, H.pos - H.neg: 6.417112\n",
      "(661/700) Loss: 0.154149, H.pos - H.neg: 5.068642\n",
      "(662/700) Loss: 0.207500, H.pos - H.neg: 7.948546\n",
      "(663/700) Loss: 0.109324, H.pos - H.neg: 5.268201\n",
      "(664/700) Loss: 0.000000, H.pos - H.neg: 5.249717\n",
      "(665/700) Loss: 0.157005, H.pos - H.neg: 8.372470\n",
      "(666/700) Loss: 0.213203, H.pos - H.neg: 9.514194\n",
      "(667/700) Loss: 0.136791, H.pos - H.neg: 4.433816\n",
      "(668/700) Loss: 0.115380, H.pos - H.neg: 6.814605\n",
      "(669/700) Loss: 0.519423, H.pos - H.neg: 9.151199\n",
      "(670/700) Loss: 0.188276, H.pos - H.neg: 4.099422\n",
      "(671/700) Loss: 0.083081, H.pos - H.neg: 3.412079\n",
      "(672/700) Loss: 0.141405, H.pos - H.neg: 3.325737\n",
      "(673/700) Loss: 0.126772, H.pos - H.neg: 5.779198\n",
      "(674/700) Loss: 0.115502, H.pos - H.neg: 5.973503\n",
      "(675/700) Loss: 0.041494, H.pos - H.neg: 8.087502\n",
      "(676/700) Loss: 0.162680, H.pos - H.neg: 7.907588\n",
      "(677/700) Loss: 0.393833, H.pos - H.neg: 19.230820\n",
      "(678/700) Loss: 0.000000, H.pos - H.neg: 13.973843\n",
      "(679/700) Loss: 0.215129, H.pos - H.neg: 13.022123\n",
      "(680/700) Loss: 0.493812, H.pos - H.neg: 15.549298\n",
      "(681/700) Loss: 0.202682, H.pos - H.neg: 21.082331\n",
      "(682/700) Loss: 0.748796, H.pos - H.neg: 23.616293\n",
      "(683/700) Loss: 0.020347, H.pos - H.neg: 13.712767\n",
      "(684/700) Loss: 0.000000, H.pos - H.neg: 6.796898\n",
      "(685/700) Loss: 0.140840, H.pos - H.neg: 12.852381\n",
      "(686/700) Loss: 0.166132, H.pos - H.neg: 8.088094\n",
      "(687/700) Loss: 0.076693, H.pos - H.neg: 8.702157\n",
      "(688/700) Loss: 0.091767, H.pos - H.neg: 4.630116\n",
      "(689/700) Loss: 0.393346, H.pos - H.neg: 7.029408\n",
      "(690/700) Loss: 0.276608, H.pos - H.neg: 9.690111\n",
      "(691/700) Loss: 0.131749, H.pos - H.neg: 2.906889\n",
      "(692/700) Loss: 0.070315, H.pos - H.neg: 3.471489\n",
      "(693/700) Loss: 0.073794, H.pos - H.neg: 2.812664\n",
      "(694/700) Loss: 0.206718, H.pos - H.neg: 5.579284\n",
      "(695/700) Loss: 0.148997, H.pos - H.neg: 6.457197\n",
      "(696/700) Loss: 0.238148, H.pos - H.neg: 3.467965\n",
      "(697/700) Loss: 0.275292, H.pos - H.neg: 4.121088\n",
      "(698/700) Loss: 0.565784, H.pos - H.neg: 7.224631\n",
      "(699/700) Loss: 0.292098, H.pos - H.neg: 5.178764\n",
      "(700/700) Loss: 0.248414, H.pos - H.neg: 6.177240\n"
     ]
    }
   ],
   "source": [
    "n_iter = 0\n",
    "loss_list = []\n",
    "\n",
    "while True:\n",
    "    n_iter += 1\n",
    "    \n",
    "    users = np.random.choice(np.arange(100, 200), N, replace=False)\n",
    "    batch = MNIST[tuple(users)]/0.50\n",
    "    \n",
    "    batch = batch.view(M*N, 128, 370)\n",
    "    batch = batch.view(M*N, 1, 128, 370)\n",
    "    \n",
    "    cnn.zero_grad()\n",
    "    optimizer.zero_grad()\n",
    "    embeddings = cnn.forward(batch)\n",
    "    \n",
    "    D = distance_matrix(embeddings)\n",
    "    hardest_positives, hardest_negatives = topk_hardest_mean(D, M, N, KP, KN, use_cuda=True)\n",
    "    loss = batch_hard_loss(hardest_positives, hardest_negatives, 1)\n",
    "    loss.backward()\n",
    "    optimizer.step()\n",
    "    \n",
    "    loss_list.append(loss.detach().cpu().numpy())\n",
    "    print('(%d/%d) Loss: %f, H.pos - H.neg: %f' % (n_iter, max_iter, loss.data[0], (max(hardest_positives) - min(hardest_positives))))\n",
    "    \n",
    "    if (n_iter % 10) == 0:\n",
    "        distance_matrix_plot(D.cpu(), os.path.join(ppath, 'iter_%03d.jpg' % n_iter))\n",
    "    \n",
    "    if n_iter == max_iter:\n",
    "        break\n",
    "\n",
    "loss_list = np.array(loss_list)\n",
    "fig = plt.figure(figsize=(8,6))\n",
    "plt.plot(loss_list)\n",
    "fig.savefig(os.path.join(ppath, 'loss.png'))\n",
    "plt.close()"
   ]
  },
  {
   "cell_type": "code",
   "execution_count": 30,
   "metadata": {},
   "outputs": [],
   "source": [
    "batch = batch/batch.std()"
   ]
  },
  {
   "cell_type": "code",
   "execution_count": 20,
   "metadata": {},
   "outputs": [
    {
     "data": {
      "text/plain": [
       "torch.Size([75, 1, 128, 370])"
      ]
     },
     "execution_count": 20,
     "metadata": {},
     "output_type": "execute_result"
    }
   ],
   "source": [
    "batch.shape"
   ]
  },
  {
   "cell_type": "code",
   "execution_count": 21,
   "metadata": {},
   "outputs": [
    {
     "ename": "RuntimeError",
     "evalue": "cuda runtime error (2) : out of memory at /opt/conda/conda-bld/pytorch_1524586445097/work/aten/src/THC/generic/THCStorage.cu:58",
     "output_type": "error",
     "traceback": [
      "\u001b[0;31m---------------------------------------------------------------------------\u001b[0m",
      "\u001b[0;31mRuntimeError\u001b[0m                              Traceback (most recent call last)",
      "\u001b[0;32m<ipython-input-21-350d7df5b42a>\u001b[0m in \u001b[0;36m<module>\u001b[0;34m()\u001b[0m\n\u001b[0;32m----> 1\u001b[0;31m \u001b[0mcnn\u001b[0m\u001b[0;34m(\u001b[0m\u001b[0mbatch\u001b[0m\u001b[0;34m[\u001b[0m\u001b[0;36m0\u001b[0m\u001b[0;34m:\u001b[0m\u001b[0;36m2\u001b[0m\u001b[0;34m]\u001b[0m\u001b[0;34m)\u001b[0m\u001b[0;34m\u001b[0m\u001b[0m\n\u001b[0m",
      "\u001b[0;32m~/anaconda3/envs/tensorflow-gpu/lib/python3.6/site-packages/torch/nn/modules/module.py\u001b[0m in \u001b[0;36m__call__\u001b[0;34m(self, *input, **kwargs)\u001b[0m\n\u001b[1;32m    489\u001b[0m             \u001b[0mresult\u001b[0m \u001b[0;34m=\u001b[0m \u001b[0mself\u001b[0m\u001b[0;34m.\u001b[0m\u001b[0m_slow_forward\u001b[0m\u001b[0;34m(\u001b[0m\u001b[0;34m*\u001b[0m\u001b[0minput\u001b[0m\u001b[0;34m,\u001b[0m \u001b[0;34m**\u001b[0m\u001b[0mkwargs\u001b[0m\u001b[0;34m)\u001b[0m\u001b[0;34m\u001b[0m\u001b[0m\n\u001b[1;32m    490\u001b[0m         \u001b[0;32melse\u001b[0m\u001b[0;34m:\u001b[0m\u001b[0;34m\u001b[0m\u001b[0m\n\u001b[0;32m--> 491\u001b[0;31m             \u001b[0mresult\u001b[0m \u001b[0;34m=\u001b[0m \u001b[0mself\u001b[0m\u001b[0;34m.\u001b[0m\u001b[0mforward\u001b[0m\u001b[0;34m(\u001b[0m\u001b[0;34m*\u001b[0m\u001b[0minput\u001b[0m\u001b[0;34m,\u001b[0m \u001b[0;34m**\u001b[0m\u001b[0mkwargs\u001b[0m\u001b[0;34m)\u001b[0m\u001b[0;34m\u001b[0m\u001b[0m\n\u001b[0m\u001b[1;32m    492\u001b[0m         \u001b[0;32mfor\u001b[0m \u001b[0mhook\u001b[0m \u001b[0;32min\u001b[0m \u001b[0mself\u001b[0m\u001b[0;34m.\u001b[0m\u001b[0m_forward_hooks\u001b[0m\u001b[0;34m.\u001b[0m\u001b[0mvalues\u001b[0m\u001b[0;34m(\u001b[0m\u001b[0;34m)\u001b[0m\u001b[0;34m:\u001b[0m\u001b[0;34m\u001b[0m\u001b[0m\n\u001b[1;32m    493\u001b[0m             \u001b[0mhook_result\u001b[0m \u001b[0;34m=\u001b[0m \u001b[0mhook\u001b[0m\u001b[0;34m(\u001b[0m\u001b[0mself\u001b[0m\u001b[0;34m,\u001b[0m \u001b[0minput\u001b[0m\u001b[0;34m,\u001b[0m \u001b[0mresult\u001b[0m\u001b[0;34m)\u001b[0m\u001b[0;34m\u001b[0m\u001b[0m\n",
      "\u001b[0;32m<ipython-input-7-0c9efc7c90ac>\u001b[0m in \u001b[0;36mforward\u001b[0;34m(self, x)\u001b[0m\n\u001b[1;32m     29\u001b[0m \u001b[0;34m\u001b[0m\u001b[0m\n\u001b[1;32m     30\u001b[0m         \u001b[0my\u001b[0m \u001b[0;34m=\u001b[0m \u001b[0mF\u001b[0m\u001b[0;34m.\u001b[0m\u001b[0mrelu\u001b[0m\u001b[0;34m(\u001b[0m\u001b[0mself\u001b[0m\u001b[0;34m.\u001b[0m\u001b[0mconv5\u001b[0m\u001b[0;34m(\u001b[0m\u001b[0my\u001b[0m\u001b[0;34m)\u001b[0m\u001b[0;34m)\u001b[0m\u001b[0;34m\u001b[0m\u001b[0m\n\u001b[0;32m---> 31\u001b[0;31m         \u001b[0my\u001b[0m \u001b[0;34m=\u001b[0m \u001b[0mF\u001b[0m\u001b[0;34m.\u001b[0m\u001b[0mrelu\u001b[0m\u001b[0;34m(\u001b[0m\u001b[0mself\u001b[0m\u001b[0;34m.\u001b[0m\u001b[0mconv6\u001b[0m\u001b[0;34m(\u001b[0m\u001b[0my\u001b[0m\u001b[0;34m)\u001b[0m\u001b[0;34m)\u001b[0m\u001b[0;34m\u001b[0m\u001b[0m\n\u001b[0m\u001b[1;32m     32\u001b[0m         \u001b[0my\u001b[0m \u001b[0;34m=\u001b[0m \u001b[0mself\u001b[0m\u001b[0;34m.\u001b[0m\u001b[0mmaxpool2\u001b[0m\u001b[0;34m(\u001b[0m\u001b[0my\u001b[0m\u001b[0;34m)\u001b[0m\u001b[0;34m\u001b[0m\u001b[0m\n\u001b[1;32m     33\u001b[0m \u001b[0;34m\u001b[0m\u001b[0m\n",
      "\u001b[0;32m~/anaconda3/envs/tensorflow-gpu/lib/python3.6/site-packages/torch/nn/modules/module.py\u001b[0m in \u001b[0;36m__call__\u001b[0;34m(self, *input, **kwargs)\u001b[0m\n\u001b[1;32m    489\u001b[0m             \u001b[0mresult\u001b[0m \u001b[0;34m=\u001b[0m \u001b[0mself\u001b[0m\u001b[0;34m.\u001b[0m\u001b[0m_slow_forward\u001b[0m\u001b[0;34m(\u001b[0m\u001b[0;34m*\u001b[0m\u001b[0minput\u001b[0m\u001b[0;34m,\u001b[0m \u001b[0;34m**\u001b[0m\u001b[0mkwargs\u001b[0m\u001b[0;34m)\u001b[0m\u001b[0;34m\u001b[0m\u001b[0m\n\u001b[1;32m    490\u001b[0m         \u001b[0;32melse\u001b[0m\u001b[0;34m:\u001b[0m\u001b[0;34m\u001b[0m\u001b[0m\n\u001b[0;32m--> 491\u001b[0;31m             \u001b[0mresult\u001b[0m \u001b[0;34m=\u001b[0m \u001b[0mself\u001b[0m\u001b[0;34m.\u001b[0m\u001b[0mforward\u001b[0m\u001b[0;34m(\u001b[0m\u001b[0;34m*\u001b[0m\u001b[0minput\u001b[0m\u001b[0;34m,\u001b[0m \u001b[0;34m**\u001b[0m\u001b[0mkwargs\u001b[0m\u001b[0;34m)\u001b[0m\u001b[0;34m\u001b[0m\u001b[0m\n\u001b[0m\u001b[1;32m    492\u001b[0m         \u001b[0;32mfor\u001b[0m \u001b[0mhook\u001b[0m \u001b[0;32min\u001b[0m \u001b[0mself\u001b[0m\u001b[0;34m.\u001b[0m\u001b[0m_forward_hooks\u001b[0m\u001b[0;34m.\u001b[0m\u001b[0mvalues\u001b[0m\u001b[0;34m(\u001b[0m\u001b[0;34m)\u001b[0m\u001b[0;34m:\u001b[0m\u001b[0;34m\u001b[0m\u001b[0m\n\u001b[1;32m    493\u001b[0m             \u001b[0mhook_result\u001b[0m \u001b[0;34m=\u001b[0m \u001b[0mhook\u001b[0m\u001b[0;34m(\u001b[0m\u001b[0mself\u001b[0m\u001b[0;34m,\u001b[0m \u001b[0minput\u001b[0m\u001b[0;34m,\u001b[0m \u001b[0mresult\u001b[0m\u001b[0;34m)\u001b[0m\u001b[0;34m\u001b[0m\u001b[0m\n",
      "\u001b[0;32m~/anaconda3/envs/tensorflow-gpu/lib/python3.6/site-packages/torch/nn/modules/conv.py\u001b[0m in \u001b[0;36mforward\u001b[0;34m(self, input)\u001b[0m\n\u001b[1;32m    299\u001b[0m     \u001b[0;32mdef\u001b[0m \u001b[0mforward\u001b[0m\u001b[0;34m(\u001b[0m\u001b[0mself\u001b[0m\u001b[0;34m,\u001b[0m \u001b[0minput\u001b[0m\u001b[0;34m)\u001b[0m\u001b[0;34m:\u001b[0m\u001b[0;34m\u001b[0m\u001b[0m\n\u001b[1;32m    300\u001b[0m         return F.conv2d(input, self.weight, self.bias, self.stride,\n\u001b[0;32m--> 301\u001b[0;31m                         self.padding, self.dilation, self.groups)\n\u001b[0m\u001b[1;32m    302\u001b[0m \u001b[0;34m\u001b[0m\u001b[0m\n\u001b[1;32m    303\u001b[0m \u001b[0;34m\u001b[0m\u001b[0m\n",
      "\u001b[0;31mRuntimeError\u001b[0m: cuda runtime error (2) : out of memory at /opt/conda/conda-bld/pytorch_1524586445097/work/aten/src/THC/generic/THCStorage.cu:58"
     ]
    }
   ],
   "source": [
    "cnn(batch[0:2])"
   ]
  },
  {
   "cell_type": "code",
   "execution_count": 19,
   "metadata": {},
   "outputs": [
    {
     "data": {
      "text/plain": [
       "5093501440"
      ]
     },
     "execution_count": 19,
     "metadata": {},
     "output_type": "execute_result"
    }
   ],
   "source": [
    "torch.cuda.max_memory_allocated()"
   ]
  },
  {
   "cell_type": "code",
   "execution_count": 16,
   "metadata": {},
   "outputs": [],
   "source": [
    "torch.cuda.empty_cache()"
   ]
  },
  {
   "cell_type": "code",
   "execution_count": 69,
   "metadata": {},
   "outputs": [
    {
     "data": {
      "text/plain": [
       "torch.Size([150, 128, 370])"
      ]
     },
     "execution_count": 69,
     "metadata": {},
     "output_type": "execute_result"
    }
   ],
   "source": [
    "batch.shape"
   ]
  },
  {
   "cell_type": "code",
   "execution_count": 77,
   "metadata": {
    "scrolled": true
   },
   "outputs": [
    {
     "ename": "RuntimeError",
     "evalue": "cuda runtime error (2) : out of memory at /opt/conda/conda-bld/pytorch_1524586445097/work/aten/src/THC/generic/THCStorage.cu:58",
     "output_type": "error",
     "traceback": [
      "\u001b[0;31m---------------------------------------------------------------------------\u001b[0m",
      "\u001b[0;31mRuntimeError\u001b[0m                              Traceback (most recent call last)",
      "\u001b[0;32m<ipython-input-77-8c69d4c115fb>\u001b[0m in \u001b[0;36m<module>\u001b[0;34m()\u001b[0m\n\u001b[0;32m----> 1\u001b[0;31m \u001b[0mcnn\u001b[0m\u001b[0;34m.\u001b[0m\u001b[0mforward\u001b[0m\u001b[0;34m(\u001b[0m\u001b[0mbatch\u001b[0m\u001b[0;34m[\u001b[0m\u001b[0;36m0\u001b[0m\u001b[0;34m:\u001b[0m\u001b[0;36m1\u001b[0m\u001b[0;34m]\u001b[0m\u001b[0;34m)\u001b[0m\u001b[0;34m\u001b[0m\u001b[0m\n\u001b[0m",
      "\u001b[0;32m<ipython-input-32-f39a42c544b9>\u001b[0m in \u001b[0;36mforward\u001b[0;34m(self, x)\u001b[0m\n\u001b[1;32m     10\u001b[0m     \u001b[0;32mdef\u001b[0m \u001b[0mforward\u001b[0m\u001b[0;34m(\u001b[0m\u001b[0mself\u001b[0m\u001b[0;34m,\u001b[0m \u001b[0mx\u001b[0m\u001b[0;34m)\u001b[0m\u001b[0;34m:\u001b[0m\u001b[0;34m\u001b[0m\u001b[0m\n\u001b[1;32m     11\u001b[0m         \u001b[0mx\u001b[0m \u001b[0;34m=\u001b[0m \u001b[0mx\u001b[0m\u001b[0;34m.\u001b[0m\u001b[0mview\u001b[0m\u001b[0;34m(\u001b[0m\u001b[0mx\u001b[0m\u001b[0;34m.\u001b[0m\u001b[0mshape\u001b[0m\u001b[0;34m[\u001b[0m\u001b[0;36m0\u001b[0m\u001b[0;34m]\u001b[0m\u001b[0;34m,\u001b[0m \u001b[0;36m1\u001b[0m\u001b[0;34m,\u001b[0m \u001b[0mx\u001b[0m\u001b[0;34m.\u001b[0m\u001b[0mshape\u001b[0m\u001b[0;34m[\u001b[0m\u001b[0;36m1\u001b[0m\u001b[0;34m]\u001b[0m\u001b[0;34m,\u001b[0m \u001b[0mx\u001b[0m\u001b[0;34m.\u001b[0m\u001b[0mshape\u001b[0m\u001b[0;34m[\u001b[0m\u001b[0;36m2\u001b[0m\u001b[0;34m]\u001b[0m\u001b[0;34m)\u001b[0m\u001b[0;34m\u001b[0m\u001b[0m\n\u001b[0;32m---> 12\u001b[0;31m         \u001b[0my\u001b[0m \u001b[0;34m=\u001b[0m \u001b[0mself\u001b[0m\u001b[0;34m.\u001b[0m\u001b[0mconv1\u001b[0m\u001b[0;34m(\u001b[0m\u001b[0mx\u001b[0m\u001b[0;34m)\u001b[0m\u001b[0;34m\u001b[0m\u001b[0m\n\u001b[0m\u001b[1;32m     13\u001b[0m         \u001b[0my\u001b[0m \u001b[0;34m=\u001b[0m \u001b[0mF\u001b[0m\u001b[0;34m.\u001b[0m\u001b[0mrelu\u001b[0m\u001b[0;34m(\u001b[0m\u001b[0mself\u001b[0m\u001b[0;34m.\u001b[0m\u001b[0mmaxpool2\u001b[0m\u001b[0;34m(\u001b[0m\u001b[0my\u001b[0m\u001b[0;34m)\u001b[0m\u001b[0;34m)\u001b[0m\u001b[0;34m\u001b[0m\u001b[0m\n\u001b[1;32m     14\u001b[0m         \u001b[0my\u001b[0m \u001b[0;34m=\u001b[0m \u001b[0mself\u001b[0m\u001b[0;34m.\u001b[0m\u001b[0mconv2\u001b[0m\u001b[0;34m(\u001b[0m\u001b[0my\u001b[0m\u001b[0;34m)\u001b[0m\u001b[0;34m\u001b[0m\u001b[0m\n",
      "\u001b[0;32m~/anaconda3/envs/tensorflow-gpu/lib/python3.6/site-packages/torch/nn/modules/module.py\u001b[0m in \u001b[0;36m__call__\u001b[0;34m(self, *input, **kwargs)\u001b[0m\n\u001b[1;32m    489\u001b[0m             \u001b[0mresult\u001b[0m \u001b[0;34m=\u001b[0m \u001b[0mself\u001b[0m\u001b[0;34m.\u001b[0m\u001b[0m_slow_forward\u001b[0m\u001b[0;34m(\u001b[0m\u001b[0;34m*\u001b[0m\u001b[0minput\u001b[0m\u001b[0;34m,\u001b[0m \u001b[0;34m**\u001b[0m\u001b[0mkwargs\u001b[0m\u001b[0;34m)\u001b[0m\u001b[0;34m\u001b[0m\u001b[0m\n\u001b[1;32m    490\u001b[0m         \u001b[0;32melse\u001b[0m\u001b[0;34m:\u001b[0m\u001b[0;34m\u001b[0m\u001b[0m\n\u001b[0;32m--> 491\u001b[0;31m             \u001b[0mresult\u001b[0m \u001b[0;34m=\u001b[0m \u001b[0mself\u001b[0m\u001b[0;34m.\u001b[0m\u001b[0mforward\u001b[0m\u001b[0;34m(\u001b[0m\u001b[0;34m*\u001b[0m\u001b[0minput\u001b[0m\u001b[0;34m,\u001b[0m \u001b[0;34m**\u001b[0m\u001b[0mkwargs\u001b[0m\u001b[0;34m)\u001b[0m\u001b[0;34m\u001b[0m\u001b[0m\n\u001b[0m\u001b[1;32m    492\u001b[0m         \u001b[0;32mfor\u001b[0m \u001b[0mhook\u001b[0m \u001b[0;32min\u001b[0m \u001b[0mself\u001b[0m\u001b[0;34m.\u001b[0m\u001b[0m_forward_hooks\u001b[0m\u001b[0;34m.\u001b[0m\u001b[0mvalues\u001b[0m\u001b[0;34m(\u001b[0m\u001b[0;34m)\u001b[0m\u001b[0;34m:\u001b[0m\u001b[0;34m\u001b[0m\u001b[0m\n\u001b[1;32m    493\u001b[0m             \u001b[0mhook_result\u001b[0m \u001b[0;34m=\u001b[0m \u001b[0mhook\u001b[0m\u001b[0;34m(\u001b[0m\u001b[0mself\u001b[0m\u001b[0;34m,\u001b[0m \u001b[0minput\u001b[0m\u001b[0;34m,\u001b[0m \u001b[0mresult\u001b[0m\u001b[0;34m)\u001b[0m\u001b[0;34m\u001b[0m\u001b[0m\n",
      "\u001b[0;32m~/anaconda3/envs/tensorflow-gpu/lib/python3.6/site-packages/torch/nn/modules/conv.py\u001b[0m in \u001b[0;36mforward\u001b[0;34m(self, input)\u001b[0m\n\u001b[1;32m    299\u001b[0m     \u001b[0;32mdef\u001b[0m \u001b[0mforward\u001b[0m\u001b[0;34m(\u001b[0m\u001b[0mself\u001b[0m\u001b[0;34m,\u001b[0m \u001b[0minput\u001b[0m\u001b[0;34m)\u001b[0m\u001b[0;34m:\u001b[0m\u001b[0;34m\u001b[0m\u001b[0m\n\u001b[1;32m    300\u001b[0m         return F.conv2d(input, self.weight, self.bias, self.stride,\n\u001b[0;32m--> 301\u001b[0;31m                         self.padding, self.dilation, self.groups)\n\u001b[0m\u001b[1;32m    302\u001b[0m \u001b[0;34m\u001b[0m\u001b[0m\n\u001b[1;32m    303\u001b[0m \u001b[0;34m\u001b[0m\u001b[0m\n",
      "\u001b[0;31mRuntimeError\u001b[0m: cuda runtime error (2) : out of memory at /opt/conda/conda-bld/pytorch_1524586445097/work/aten/src/THC/generic/THCStorage.cu:58"
     ]
    }
   ],
   "source": [
    "cnn.forward(batch[0:1])"
   ]
  },
  {
   "cell_type": "code",
   "execution_count": 54,
   "metadata": {},
   "outputs": [
    {
     "data": {
      "text/plain": [
       "torch.Size([1500, 128, 370])"
      ]
     },
     "execution_count": 54,
     "metadata": {},
     "output_type": "execute_result"
    }
   ],
   "source": [
    "batch.shape"
   ]
  },
  {
   "cell_type": "code",
   "execution_count": 47,
   "metadata": {},
   "outputs": [
    {
     "data": {
      "text/plain": [
       "torch.Size([50, 10, 128, 370])"
      ]
     },
     "execution_count": 47,
     "metadata": {},
     "output_type": "execute_result"
    }
   ],
   "source": [
    "batch.shape"
   ]
  },
  {
   "cell_type": "code",
   "execution_count": 51,
   "metadata": {},
   "outputs": [
    {
     "data": {
      "text/plain": [
       "1500"
      ]
     },
     "execution_count": 51,
     "metadata": {},
     "output_type": "execute_result"
    }
   ],
   "source": [
    "batch"
   ]
  },
  {
   "cell_type": "code",
   "execution_count": 48,
   "metadata": {},
   "outputs": [
    {
     "data": {
      "text/plain": [
       "47360"
      ]
     },
     "execution_count": 48,
     "metadata": {},
     "output_type": "execute_result"
    }
   ],
   "source": [
    "128*370"
   ]
  },
  {
   "cell_type": "code",
   "execution_count": 56,
   "metadata": {},
   "outputs": [],
   "source": []
  },
  {
   "cell_type": "code",
   "execution_count": 31,
   "metadata": {},
   "outputs": [
    {
     "data": {
      "text/plain": [
       "'./Distance_matrix/N=4, M=5/a'"
      ]
     },
     "execution_count": 31,
     "metadata": {},
     "output_type": "execute_result"
    }
   ],
   "source": [
    "os.path.join(ppath, 'a')"
   ]
  },
  {
   "cell_type": "code",
   "execution_count": 23,
   "metadata": {},
   "outputs": [
    {
     "data": {
      "text/plain": [
       "array(1.0124896, dtype=float32)"
      ]
     },
     "execution_count": 23,
     "metadata": {},
     "output_type": "execute_result"
    }
   ],
   "source": []
  },
  {
   "cell_type": "code",
   "execution_count": 92,
   "metadata": {},
   "outputs": [],
   "source": [
    "torch.save(cnn.state_dict(), './MNIST_models/cnn_N=8_M=100_KP=10_KN=100.state')"
   ]
  },
  {
   "cell_type": "code",
   "execution_count": 22,
   "metadata": {},
   "outputs": [
    {
     "data": {
      "text/plain": [
       "tensor([[ 0.0000,  0.0223,  0.0248,  ...,  0.0416,  0.0437,  0.0225],\n",
       "        [ 0.0223,  0.0000,  0.0329,  ...,  0.0429,  0.0642,  0.0250],\n",
       "        [ 0.0248,  0.0329,  0.0000,  ...,  0.0402,  0.0515,  0.0250],\n",
       "        ...,\n",
       "        [ 0.0416,  0.0429,  0.0402,  ...,  0.0000,  0.0376,  0.0334],\n",
       "        [ 0.0437,  0.0642,  0.0515,  ...,  0.0376,  0.0000,  0.0549],\n",
       "        [ 0.0225,  0.0250,  0.0250,  ...,  0.0334,  0.0549,  0.0000]], device='cuda:0')"
      ]
     },
     "execution_count": 22,
     "metadata": {},
     "output_type": "execute_result"
    }
   ],
   "source": [
    "distance_matrix(embeddings)"
   ]
  },
  {
   "cell_type": "code",
   "execution_count": 193,
   "metadata": {},
   "outputs": [
    {
     "data": {
      "text/plain": [
       "tensor(0.)"
      ]
     },
     "execution_count": 193,
     "metadata": {},
     "output_type": "execute_result"
    }
   ],
   "source": [
    "F.relu(hardest_positives-hardest_negatives+2).mean()"
   ]
  },
  {
   "cell_type": "code",
   "execution_count": 194,
   "metadata": {},
   "outputs": [
    {
     "data": {
      "image/png": "[encoded data removed]",
      "text/plain": [
       "<PIL.Image.Image image mode=RGB size=122x152 at 0x7F9F928AA748>"
      ]
     },
     "execution_count": 194,
     "metadata": {},
     "output_type": "execute_result"
    }
   ],
   "source": [
    "batch_to_img(batch)"
   ]
  },
  {
   "cell_type": "code",
   "execution_count": 29,
   "metadata": {},
   "outputs": [
    {
     "data": {
      "image/png": "[encoded data removed]",
      "text/plain": [
       "<Figure size 576x576 with 1 Axes>"
      ]
     },
     "metadata": {},
     "output_type": "display_data"
    }
   ],
   "source": [
    "distance_matrix_plot(D.cpu())"
   ]
  },
  {
   "cell_type": "code",
   "execution_count": null,
   "metadata": {},
   "outputs": [],
   "source": []
  },
  {
   "cell_type": "markdown",
   "metadata": {},
   "source": [
    "## Dataset de Teste"
   ]
  },
  {
   "cell_type": "code",
   "execution_count": 27,
   "metadata": {},
   "outputs": [],
   "source": [
    "from skimage import io"
   ]
  },
  {
   "cell_type": "code",
   "execution_count": 28,
   "metadata": {},
   "outputs": [],
   "source": [
    "user_dict_teste = get_user_dict('../dados/mnist/png/testing')"
   ]
  },
  {
   "cell_type": "code",
   "execution_count": 29,
   "metadata": {},
   "outputs": [],
   "source": [
    "L = sum([len(u) for _, u in user_dict_teste.items()])"
   ]
  },
  {
   "cell_type": "code",
   "execution_count": 30,
   "metadata": {},
   "outputs": [],
   "source": [
    "x_teste = torch.empty((L, 28, 28))\n",
    "y_teste = torch.empty(L)\n",
    "i = 0\n",
    "\n",
    "for label, files in user_dict_teste.items():\n",
    "    for file in files:\n",
    "        x_teste[i] = torch.tensor((io.imread(file))/255.0)\n",
    "        y_teste[i] = int(label)\n",
    "        i += 1"
   ]
  },
  {
   "cell_type": "code",
   "execution_count": 56,
   "metadata": {},
   "outputs": [
    {
     "data": {
      "text/plain": [
       "torch.Size([500, 28, 28])"
      ]
     },
     "execution_count": 56,
     "metadata": {},
     "output_type": "execute_result"
    }
   ],
   "source": [
    "x_teste[sample].shape"
   ]
  },
  {
   "cell_type": "code",
   "execution_count": 58,
   "metadata": {},
   "outputs": [],
   "source": [
    "cnn = cnn.cpu()"
   ]
  },
  {
   "cell_type": "code",
   "execution_count": 82,
   "metadata": {},
   "outputs": [
    {
     "ename": "KeyboardInterrupt",
     "evalue": "",
     "output_type": "error",
     "traceback": [
      "\u001b[0;31m---------------------------------------------------------------------------\u001b[0m",
      "\u001b[0;31mKeyboardInterrupt\u001b[0m                         Traceback (most recent call last)",
      "\u001b[0;32m<ipython-input-82-2681036d6786>\u001b[0m in \u001b[0;36m<module>\u001b[0;34m()\u001b[0m\n\u001b[1;32m      2\u001b[0m \u001b[0msample\u001b[0m \u001b[0;34m=\u001b[0m \u001b[0mnp\u001b[0m\u001b[0;34m.\u001b[0m\u001b[0mrandom\u001b[0m\u001b[0;34m.\u001b[0m\u001b[0mchoice\u001b[0m\u001b[0;34m(\u001b[0m\u001b[0mnp\u001b[0m\u001b[0;34m.\u001b[0m\u001b[0marange\u001b[0m\u001b[0;34m(\u001b[0m\u001b[0mL\u001b[0m\u001b[0;34m)\u001b[0m\u001b[0;34m,\u001b[0m \u001b[0mfirst\u001b[0m\u001b[0;34m,\u001b[0m \u001b[0mreplace\u001b[0m\u001b[0;34m=\u001b[0m\u001b[0;32mFalse\u001b[0m\u001b[0;34m)\u001b[0m\u001b[0;34m\u001b[0m\u001b[0m\n\u001b[1;32m      3\u001b[0m \u001b[0;34m\u001b[0m\u001b[0m\n\u001b[0;32m----> 4\u001b[0;31m \u001b[0memb_teste\u001b[0m \u001b[0;34m=\u001b[0m \u001b[0mcnn\u001b[0m\u001b[0;34m.\u001b[0m\u001b[0mforward\u001b[0m\u001b[0;34m(\u001b[0m\u001b[0mx_teste\u001b[0m\u001b[0;34m[\u001b[0m\u001b[0msample\u001b[0m\u001b[0;34m]\u001b[0m\u001b[0;34m.\u001b[0m\u001b[0mcpu\u001b[0m\u001b[0;34m(\u001b[0m\u001b[0;34m)\u001b[0m\u001b[0;34m)\u001b[0m\u001b[0;34m\u001b[0m\u001b[0m\n\u001b[0m\u001b[1;32m      5\u001b[0m \u001b[0my_teste_f\u001b[0m \u001b[0;34m=\u001b[0m \u001b[0my_teste\u001b[0m\u001b[0;34m[\u001b[0m\u001b[0msample\u001b[0m\u001b[0;34m]\u001b[0m\u001b[0;34m\u001b[0m\u001b[0m\n",
      "\u001b[0;32m<ipython-input-16-ffef35f5f8af>\u001b[0m in \u001b[0;36mforward\u001b[0;34m(self, x)\u001b[0m\n\u001b[1;32m     12\u001b[0m         \u001b[0my\u001b[0m \u001b[0;34m=\u001b[0m \u001b[0mself\u001b[0m\u001b[0;34m.\u001b[0m\u001b[0mconv1\u001b[0m\u001b[0;34m(\u001b[0m\u001b[0mx\u001b[0m\u001b[0;34m)\u001b[0m\u001b[0;34m\u001b[0m\u001b[0m\n\u001b[1;32m     13\u001b[0m         \u001b[0my\u001b[0m \u001b[0;34m=\u001b[0m \u001b[0mF\u001b[0m\u001b[0;34m.\u001b[0m\u001b[0mrelu\u001b[0m\u001b[0;34m(\u001b[0m\u001b[0mself\u001b[0m\u001b[0;34m.\u001b[0m\u001b[0mmaxpool2\u001b[0m\u001b[0;34m(\u001b[0m\u001b[0my\u001b[0m\u001b[0;34m)\u001b[0m\u001b[0;34m)\u001b[0m\u001b[0;34m\u001b[0m\u001b[0m\n\u001b[0;32m---> 14\u001b[0;31m         \u001b[0my\u001b[0m \u001b[0;34m=\u001b[0m \u001b[0mself\u001b[0m\u001b[0;34m.\u001b[0m\u001b[0mconv2\u001b[0m\u001b[0;34m(\u001b[0m\u001b[0my\u001b[0m\u001b[0;34m)\u001b[0m\u001b[0;34m\u001b[0m\u001b[0m\n\u001b[0m\u001b[1;32m     15\u001b[0m         \u001b[0my\u001b[0m \u001b[0;34m=\u001b[0m \u001b[0mF\u001b[0m\u001b[0;34m.\u001b[0m\u001b[0mrelu\u001b[0m\u001b[0;34m(\u001b[0m\u001b[0mself\u001b[0m\u001b[0;34m.\u001b[0m\u001b[0mmaxpool2\u001b[0m\u001b[0;34m(\u001b[0m\u001b[0my\u001b[0m\u001b[0;34m)\u001b[0m\u001b[0;34m)\u001b[0m\u001b[0;34m\u001b[0m\u001b[0m\n\u001b[1;32m     16\u001b[0m         \u001b[0my\u001b[0m \u001b[0;34m=\u001b[0m \u001b[0my\u001b[0m\u001b[0;34m.\u001b[0m\u001b[0mview\u001b[0m\u001b[0;34m(\u001b[0m\u001b[0mx\u001b[0m\u001b[0;34m.\u001b[0m\u001b[0mshape\u001b[0m\u001b[0;34m[\u001b[0m\u001b[0;36m0\u001b[0m\u001b[0;34m]\u001b[0m\u001b[0;34m,\u001b[0m \u001b[0my\u001b[0m\u001b[0;34m.\u001b[0m\u001b[0mshape\u001b[0m\u001b[0;34m[\u001b[0m\u001b[0;36m1\u001b[0m\u001b[0;34m]\u001b[0m\u001b[0;34m*\u001b[0m\u001b[0my\u001b[0m\u001b[0;34m.\u001b[0m\u001b[0mshape\u001b[0m\u001b[0;34m[\u001b[0m\u001b[0;36m2\u001b[0m\u001b[0;34m]\u001b[0m\u001b[0;34m*\u001b[0m\u001b[0my\u001b[0m\u001b[0;34m.\u001b[0m\u001b[0mshape\u001b[0m\u001b[0;34m[\u001b[0m\u001b[0;36m3\u001b[0m\u001b[0;34m]\u001b[0m\u001b[0;34m)\u001b[0m\u001b[0;34m\u001b[0m\u001b[0m\n",
      "\u001b[0;32m~/anaconda3/envs/tensorflow-gpu/lib/python3.6/site-packages/torch/nn/modules/module.py\u001b[0m in \u001b[0;36m__call__\u001b[0;34m(self, *input, **kwargs)\u001b[0m\n\u001b[1;32m    489\u001b[0m             \u001b[0mresult\u001b[0m \u001b[0;34m=\u001b[0m \u001b[0mself\u001b[0m\u001b[0;34m.\u001b[0m\u001b[0m_slow_forward\u001b[0m\u001b[0;34m(\u001b[0m\u001b[0;34m*\u001b[0m\u001b[0minput\u001b[0m\u001b[0;34m,\u001b[0m \u001b[0;34m**\u001b[0m\u001b[0mkwargs\u001b[0m\u001b[0;34m)\u001b[0m\u001b[0;34m\u001b[0m\u001b[0m\n\u001b[1;32m    490\u001b[0m         \u001b[0;32melse\u001b[0m\u001b[0;34m:\u001b[0m\u001b[0;34m\u001b[0m\u001b[0m\n\u001b[0;32m--> 491\u001b[0;31m             \u001b[0mresult\u001b[0m \u001b[0;34m=\u001b[0m \u001b[0mself\u001b[0m\u001b[0;34m.\u001b[0m\u001b[0mforward\u001b[0m\u001b[0;34m(\u001b[0m\u001b[0;34m*\u001b[0m\u001b[0minput\u001b[0m\u001b[0;34m,\u001b[0m \u001b[0;34m**\u001b[0m\u001b[0mkwargs\u001b[0m\u001b[0;34m)\u001b[0m\u001b[0;34m\u001b[0m\u001b[0m\n\u001b[0m\u001b[1;32m    492\u001b[0m         \u001b[0;32mfor\u001b[0m \u001b[0mhook\u001b[0m \u001b[0;32min\u001b[0m \u001b[0mself\u001b[0m\u001b[0;34m.\u001b[0m\u001b[0m_forward_hooks\u001b[0m\u001b[0;34m.\u001b[0m\u001b[0mvalues\u001b[0m\u001b[0;34m(\u001b[0m\u001b[0;34m)\u001b[0m\u001b[0;34m:\u001b[0m\u001b[0;34m\u001b[0m\u001b[0m\n\u001b[1;32m    493\u001b[0m             \u001b[0mhook_result\u001b[0m \u001b[0;34m=\u001b[0m \u001b[0mhook\u001b[0m\u001b[0;34m(\u001b[0m\u001b[0mself\u001b[0m\u001b[0;34m,\u001b[0m \u001b[0minput\u001b[0m\u001b[0;34m,\u001b[0m \u001b[0mresult\u001b[0m\u001b[0;34m)\u001b[0m\u001b[0;34m\u001b[0m\u001b[0m\n",
      "\u001b[0;32m~/anaconda3/envs/tensorflow-gpu/lib/python3.6/site-packages/torch/nn/modules/conv.py\u001b[0m in \u001b[0;36mforward\u001b[0;34m(self, input)\u001b[0m\n\u001b[1;32m    299\u001b[0m     \u001b[0;32mdef\u001b[0m \u001b[0mforward\u001b[0m\u001b[0;34m(\u001b[0m\u001b[0mself\u001b[0m\u001b[0;34m,\u001b[0m \u001b[0minput\u001b[0m\u001b[0;34m)\u001b[0m\u001b[0;34m:\u001b[0m\u001b[0;34m\u001b[0m\u001b[0m\n\u001b[1;32m    300\u001b[0m         return F.conv2d(input, self.weight, self.bias, self.stride,\n\u001b[0;32m--> 301\u001b[0;31m                         self.padding, self.dilation, self.groups)\n\u001b[0m\u001b[1;32m    302\u001b[0m \u001b[0;34m\u001b[0m\u001b[0m\n\u001b[1;32m    303\u001b[0m \u001b[0;34m\u001b[0m\u001b[0m\n",
      "\u001b[0;31mKeyboardInterrupt\u001b[0m: "
     ]
    }
   ],
   "source": [
    "first = 5000\n",
    "sample = np.random.choice(np.arange(L), first, replace=False)\n",
    "\n",
    "emb_teste = cnn.forward(x_teste[sample].cpu())\n",
    "y_teste_f = y_teste[sample]"
   ]
  },
  {
   "cell_type": "code",
   "execution_count": 84,
   "metadata": {},
   "outputs": [],
   "source": [
    "emb_teste = emb_teste.cpu()"
   ]
  },
  {
   "cell_type": "markdown",
   "metadata": {},
   "source": [
    "### PCA"
   ]
  },
  {
   "cell_type": "code",
   "execution_count": 74,
   "metadata": {},
   "outputs": [],
   "source": [
    "from sklearn.manifold import TSNE\n",
    "import pandas as pd\n",
    "from plotnine import *"
   ]
  },
  {
   "cell_type": "code",
   "execution_count": 75,
   "metadata": {},
   "outputs": [],
   "source": [
    "emb_teste_tsne = TSNE(n_components=2).fit_transform(emb_teste.detach().numpy())"
   ]
  },
  {
   "cell_type": "code",
   "execution_count": 79,
   "metadata": {},
   "outputs": [],
   "source": [
    "df = pd.DataFrame({'TSNE-PC1': emb_teste_tsne[:,0], 'TSNE-PC2': emb_teste_tsne[:,1], 'y': y_teste_f})\n",
    "df['y'] = df['y'].astype('category')"
   ]
  },
  {
   "cell_type": "code",
   "execution_count": 81,
   "metadata": {},
   "outputs": [
    {
     "data": {
      "image/png": "[encoded data removed]",
      "text/plain": [
       "<Figure size 640x480 with 1 Axes>"
      ]
     },
     "metadata": {},
     "output_type": "display_data"
    },
    {
     "data": {
      "text/plain": [
       "<ggplot: (8762199568420)>"
      ]
     },
     "execution_count": 81,
     "metadata": {},
     "output_type": "execute_result"
    }
   ],
   "source": [
    "(ggplot(df, aes('TSNE-PC1', 'TSNE-PC2', color = 'y')) +\n",
    "geom_point())"
   ]
  },
  {
   "cell_type": "markdown",
   "metadata": {},
   "source": [
    "------------"
   ]
  }
 ],
 "metadata": {
  "kernelspec": {
   "display_name": "Tensorflow-GPU",
   "language": "python",
   "name": "tensorflow-gpu"
  },
  "language_info": {
   "codemirror_mode": {
    "name": "ipython",
    "version": 3
   },
   "file_extension": ".py",
   "mimetype": "text/x-python",
   "name": "python",
   "nbconvert_exporter": "python",
   "pygments_lexer": "ipython3",
   "version": "3.6.6"
  }
 },
 "nbformat": 4,
 "nbformat_minor": 2
}
