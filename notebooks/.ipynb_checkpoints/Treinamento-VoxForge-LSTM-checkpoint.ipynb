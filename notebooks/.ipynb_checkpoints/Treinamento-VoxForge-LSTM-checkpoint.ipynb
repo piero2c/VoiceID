{
 "cells": [
  {
   "cell_type": "code",
   "execution_count": 1,
   "metadata": {},
   "outputs": [],
   "source": [
    "import os, sys\n",
    "import torch\n",
    "import numpy as np\n",
    "from torch.utils.data import DataLoader\n",
    "from torch import autograd\n",
    "from torch.optim import SGD, Adam, rmsprop\n",
    "import torchvision\n",
    "import torchvision.datasets as dset\n",
    "import torchvision.transforms as transforms\n",
    "import torch.nn.functional as F\n",
    "sys.path.append('../')\n",
    "\n",
    "from src.loss import distance_matrix, get_hardest_points, topk_hardest_mean, batch_hard_loss\n",
    "from src.dataset import TripletDataset\n",
    "from src.utils import get_user_dict\n",
    "from src.models import LinearModel"
   ]
  },
  {
   "cell_type": "code",
   "execution_count": 2,
   "metadata": {},
   "outputs": [],
   "source": [
    "import matplotlib.pyplot as plt\n",
    "%matplotlib inline"
   ]
  },
  {
   "cell_type": "markdown",
   "metadata": {},
   "source": [
    "----------------"
   ]
  },
  {
   "cell_type": "code",
   "execution_count": 3,
   "metadata": {},
   "outputs": [],
   "source": [
    "to_img = torchvision.transforms.ToPILImage()"
   ]
  },
  {
   "cell_type": "code",
   "execution_count": 4,
   "metadata": {},
   "outputs": [],
   "source": [
    "def batch_to_img(batch, use_cuda=False):\n",
    "    if use_cuda:\n",
    "        batch = batch.cpu()\n",
    "    \n",
    "    n_imgs = batch.shape[0]\n",
    "    batch = batch.reshape(n_imgs, 1, batch.shape[1], batch.shape[2])\n",
    "    \n",
    "    return to_img(torchvision.utils.make_grid(batch, nrow = int(np.sqrt(n_imgs))))"
   ]
  },
  {
   "cell_type": "code",
   "execution_count": 5,
   "metadata": {},
   "outputs": [],
   "source": [
    "def distance_matrix_plot(D, filename = None):\n",
    "    fig = plt.figure(figsize=(8,8))\n",
    "    plt.imshow(D.detach().numpy())\n",
    "\n",
    "    for i in range(N):\n",
    "        plt.axvline(x=M*(i+1)-.5, color='white')\n",
    "        plt.axhline(y=M*(i+1)-.5, color='white')\n",
    "    \n",
    "    if not filename is None:\n",
    "        fig.savefig(filename)\n",
    "        plt.close()\n"
   ]
  },
  {
   "cell_type": "markdown",
   "metadata": {},
   "source": [
    "--------"
   ]
  },
  {
   "cell_type": "markdown",
   "metadata": {},
   "source": [
    "### Dataset"
   ]
  },
  {
   "cell_type": "markdown",
   "metadata": {},
   "source": [
    "### Imagens"
   ]
  },
  {
   "cell_type": "markdown",
   "metadata": {},
   "source": [
    "### Modelo"
   ]
  },
  {
   "cell_type": "code",
   "execution_count": 163,
   "metadata": {},
   "outputs": [
    {
     "data": {
      "text/plain": [
       "13792"
      ]
     },
     "execution_count": 163,
     "metadata": {},
     "output_type": "execute_result"
    }
   ],
   "source": [
    "32*431"
   ]
  },
  {
   "cell_type": "code",
   "execution_count": 209,
   "metadata": {},
   "outputs": [],
   "source": [
    "# seq_len, batch, dim\n",
    "# 370, b, 128\n",
    "\n",
    "\n",
    "#embedding_dim = 128\n",
    "# hgidden_dim = 64\n",
    "\n",
    "class LSTM(torch.nn.Module):\n",
    "\n",
    "    def __init__(self, embedding_dim, hidden_dim, sentence_size, minibatch_size):\n",
    "        super(LSTM, self).__init__()\n",
    "        self.hidden_dim = hidden_dim\n",
    "        self.sentence_size = sentence_size\n",
    "        self.minibatch_size = minibatch_size\n",
    "\n",
    "        # The LSTM takes word embeddings as inputs, and outputs hidden states\n",
    "        # with dimensionality hidden_dim.\n",
    "        self.lstm = torch.nn.LSTM(embedding_dim, hidden_dim, bidirectional=True)  # <- change here\n",
    "\n",
    "        # The linear layer that maps from hidden state space to tag space\n",
    "        self.hidden2tag = torch.nn.Linear(2*self.hidden_dim*self.sentence_size, 512)\n",
    "        self.lin = torch.nn.Linear(512, 300)\n",
    "        self.hidden = self.init_hidden()\n",
    "\n",
    "    def init_hidden(self):\n",
    "        # Before we've done anything, we dont have any hidden state.\n",
    "        # Refer to the Pytorch documentation to see exactly\n",
    "        # why they have this dimensionality.\n",
    "        # The axes semantics are (num_layers * num_directions, minibatch_size, hidden_dim)\n",
    "        self.a = autograd.Variable(torch.zeros(2, self.minibatch_size, self.hidden_dim))\n",
    "        self.b = autograd.Variable(torch.zeros(2, self.minibatch_size, self.hidden_dim))\n",
    "        \n",
    "        return self.a, self.b\n",
    "\n",
    "    def forward(self, sentence):\n",
    "        embeds = sentence.transpose(2,0).transpose(2,1)\n",
    "        lstm_out, self.hidden = self.lstm(\n",
    "            embeds, self.hidden)\n",
    "        x = (lstm_out.transpose(0,1)).contiguous().view(self.minibatch_size, -1)\n",
    "        \n",
    "        tag_space = F.relu(self.hidden2tag(x))\n",
    "        tag_space = self.lin(tag_space)\n",
    "        \n",
    "        return tag_space"
   ]
  },
  {
   "cell_type": "markdown",
   "metadata": {},
   "source": [
    "### Otimizador"
   ]
  },
  {
   "cell_type": "markdown",
   "metadata": {},
   "source": [
    "### Dataset"
   ]
  },
  {
   "cell_type": "code",
   "execution_count": 444,
   "metadata": {},
   "outputs": [],
   "source": [
    "import pickle\n",
    "with open('../dados/voxforge_data_dict_user.pk', 'rb') as fp:\n",
    "    data = pickle.load(fp)"
   ]
  },
  {
   "cell_type": "code",
   "execution_count": 445,
   "metadata": {},
   "outputs": [],
   "source": [
    "users = list(data.keys())"
   ]
  },
  {
   "cell_type": "code",
   "execution_count": 446,
   "metadata": {},
   "outputs": [
    {
     "data": {
      "text/plain": [
       "185"
      ]
     },
     "execution_count": 446,
     "metadata": {},
     "output_type": "execute_result"
    }
   ],
   "source": [
    "len(users)"
   ]
  },
  {
   "cell_type": "code",
   "execution_count": 448,
   "metadata": {},
   "outputs": [],
   "source": [
    "train_users = users[0:150]\n",
    "test_users = users[150:]"
   ]
  },
  {
   "cell_type": "code",
   "execution_count": 520,
   "metadata": {},
   "outputs": [
    {
     "data": {
      "text/plain": [
       "torch.Size([10, 20, 431])"
      ]
     },
     "execution_count": 520,
     "metadata": {},
     "output_type": "execute_result"
    }
   ],
   "source": [
    "data[users[0]][0].shape"
   ]
  },
  {
   "cell_type": "markdown",
   "metadata": {},
   "source": [
    "### Treinamento"
   ]
  },
  {
   "cell_type": "code",
   "execution_count": 384,
   "metadata": {},
   "outputs": [],
   "source": [
    "N = 10\n",
    "M = 5\n",
    "KP = 1\n",
    "KN = 1\n",
    "max_iter = 700"
   ]
  },
  {
   "cell_type": "code",
   "execution_count": 385,
   "metadata": {},
   "outputs": [],
   "source": [
    "lstm = LSTM(20, 32, 431, M*N)"
   ]
  },
  {
   "cell_type": "code",
   "execution_count": 386,
   "metadata": {},
   "outputs": [],
   "source": [
    "optimizer = Adam(lstm.parameters())\n",
    "#optimizer = rmsprop.RMSprop(cnn.parameters())\n",
    "#optimizer = SGD(cnn.parameters(), lr=1e-3)"
   ]
  },
  {
   "cell_type": "code",
   "execution_count": 387,
   "metadata": {},
   "outputs": [
    {
     "name": "stdout",
     "output_type": "stream",
     "text": [
      "./Distance_matrix/N=10, M=5, KP=1, KN=1, 700\n"
     ]
    }
   ],
   "source": [
    "ppath = './Distance_matrix/N=%d, M=%d, KP=%d, KN=%d, %d' % (N, M, KP, KN, max_iter)\n",
    "print(ppath)"
   ]
  },
  {
   "cell_type": "code",
   "execution_count": 388,
   "metadata": {},
   "outputs": [],
   "source": [
    "if not os.path.exists(ppath):\n",
    "    os.mkdir(ppath)"
   ]
  },
  {
   "cell_type": "code",
   "execution_count": 391,
   "metadata": {
    "scrolled": true
   },
   "outputs": [
    {
     "name": "stdout",
     "output_type": "stream",
     "text": [
      "(1/700) Loss: 2.268106, H.pos - H.neg: 14.493881\n",
      "(2/700) Loss: 0.947251, H.pos - H.neg: 13.372009\n",
      "(3/700) Loss: 3.377017, H.pos - H.neg: 24.056419\n",
      "(4/700) Loss: 3.390315, H.pos - H.neg: 94.142769\n",
      "(5/700) Loss: 0.107354, H.pos - H.neg: 21.244331\n",
      "(6/700) Loss: 1.461312, H.pos - H.neg: 14.652508\n",
      "(7/700) Loss: 3.558761, H.pos - H.neg: 47.054142\n",
      "(8/700) Loss: 1.843465, H.pos - H.neg: 36.485287\n",
      "(9/700) Loss: 0.703946, H.pos - H.neg: 10.714355\n",
      "(10/700) Loss: 1.587045, H.pos - H.neg: 30.579285\n",
      "(11/700) Loss: 0.536001, H.pos - H.neg: 14.672752\n",
      "(12/700) Loss: 1.790860, H.pos - H.neg: 11.054176\n",
      "(13/700) Loss: 3.110157, H.pos - H.neg: 24.613560\n",
      "(14/700) Loss: 1.808006, H.pos - H.neg: 13.958858\n",
      "(15/700) Loss: 0.476227, H.pos - H.neg: 14.059143\n",
      "(16/700) Loss: 0.513870, H.pos - H.neg: 5.971066\n",
      "(17/700) Loss: 2.339011, H.pos - H.neg: 20.567657\n",
      "(18/700) Loss: 0.520240, H.pos - H.neg: 11.441902\n",
      "(19/700) Loss: 0.577490, H.pos - H.neg: 11.209064\n",
      "(20/700) Loss: 0.629515, H.pos - H.neg: 9.290916\n",
      "(21/700) Loss: 0.204237, H.pos - H.neg: 6.470901\n",
      "(22/700) Loss: 0.717414, H.pos - H.neg: 8.916328\n",
      "(23/700) Loss: 2.306399, H.pos - H.neg: 16.786484\n",
      "(24/700) Loss: 0.077147, H.pos - H.neg: 6.534603\n",
      "(25/700) Loss: 2.595215, H.pos - H.neg: 19.593746\n",
      "(26/700) Loss: 1.348203, H.pos - H.neg: 24.972908\n",
      "(27/700) Loss: 0.946849, H.pos - H.neg: 19.801178\n",
      "(28/700) Loss: 11.934481, H.pos - H.neg: 149.819427\n",
      "(29/700) Loss: 0.884948, H.pos - H.neg: 5.155632\n",
      "(30/700) Loss: 0.712152, H.pos - H.neg: 5.473192\n",
      "(31/700) Loss: 0.420106, H.pos - H.neg: 7.327690\n",
      "(32/700) Loss: 1.022786, H.pos - H.neg: 6.718719\n",
      "(33/700) Loss: 0.915179, H.pos - H.neg: 19.238941\n",
      "(34/700) Loss: 0.397030, H.pos - H.neg: 7.548866\n",
      "(35/700) Loss: 3.440742, H.pos - H.neg: 45.181355\n",
      "(36/700) Loss: 0.844137, H.pos - H.neg: 9.523781\n",
      "(37/700) Loss: 0.735211, H.pos - H.neg: 12.710945\n",
      "(38/700) Loss: 0.089193, H.pos - H.neg: 9.720490\n",
      "(39/700) Loss: 0.319044, H.pos - H.neg: 9.450325\n",
      "(40/700) Loss: 0.222706, H.pos - H.neg: 6.613716\n",
      "(41/700) Loss: 0.721353, H.pos - H.neg: 7.491730\n",
      "(42/700) Loss: 0.353323, H.pos - H.neg: 8.544571\n",
      "(43/700) Loss: 0.402422, H.pos - H.neg: 8.984344\n",
      "(44/700) Loss: 1.120599, H.pos - H.neg: 16.130226\n",
      "(45/700) Loss: 0.143626, H.pos - H.neg: 11.535973\n",
      "(46/700) Loss: 0.782095, H.pos - H.neg: 16.083733\n",
      "(47/700) Loss: 0.293517, H.pos - H.neg: 7.567932\n",
      "(48/700) Loss: 0.103175, H.pos - H.neg: 8.447098\n",
      "(49/700) Loss: 0.864339, H.pos - H.neg: 46.291779\n",
      "(50/700) Loss: 1.729869, H.pos - H.neg: 22.189335\n",
      "(51/700) Loss: 0.047775, H.pos - H.neg: 4.750687\n",
      "(52/700) Loss: 0.051677, H.pos - H.neg: 7.436287\n",
      "(53/700) Loss: 1.338323, H.pos - H.neg: 10.263670\n",
      "(54/700) Loss: 0.320421, H.pos - H.neg: 15.753555\n",
      "(55/700) Loss: 0.298537, H.pos - H.neg: 5.747276\n",
      "(56/700) Loss: 0.270848, H.pos - H.neg: 6.897034\n",
      "(57/700) Loss: 1.101232, H.pos - H.neg: 38.559402\n",
      "(58/700) Loss: 0.107844, H.pos - H.neg: 6.720562\n",
      "(59/700) Loss: 0.130750, H.pos - H.neg: 8.632847\n",
      "(60/700) Loss: 0.093014, H.pos - H.neg: 3.227638\n",
      "(61/700) Loss: 1.137484, H.pos - H.neg: 8.730331\n",
      "(62/700) Loss: 0.731582, H.pos - H.neg: 11.003731\n",
      "(63/700) Loss: 0.893427, H.pos - H.neg: 10.699394\n",
      "(64/700) Loss: 1.655861, H.pos - H.neg: 17.761072\n",
      "(65/700) Loss: 0.451398, H.pos - H.neg: 5.938461\n",
      "(66/700) Loss: 0.237061, H.pos - H.neg: 8.237228\n",
      "(67/700) Loss: 0.983939, H.pos - H.neg: 9.079985\n",
      "(68/700) Loss: 0.396182, H.pos - H.neg: 12.651711\n",
      "(69/700) Loss: 0.246777, H.pos - H.neg: 4.617821\n",
      "(70/700) Loss: 0.043322, H.pos - H.neg: 4.636551\n",
      "(71/700) Loss: 0.020162, H.pos - H.neg: 5.825844\n",
      "(72/700) Loss: 2.466615, H.pos - H.neg: 29.831642\n",
      "(73/700) Loss: 0.884388, H.pos - H.neg: 10.589535\n",
      "(74/700) Loss: 0.103343, H.pos - H.neg: 6.196854\n",
      "(75/700) Loss: 0.834939, H.pos - H.neg: 14.613480\n",
      "(76/700) Loss: 0.522203, H.pos - H.neg: 5.709999\n",
      "(77/700) Loss: 0.034431, H.pos - H.neg: 5.669418\n",
      "(78/700) Loss: 0.067427, H.pos - H.neg: 5.550507\n",
      "(79/700) Loss: 0.727141, H.pos - H.neg: 9.436409\n",
      "(80/700) Loss: 0.060831, H.pos - H.neg: 5.046631\n",
      "(81/700) Loss: 0.611219, H.pos - H.neg: 9.093380\n",
      "(82/700) Loss: 0.372276, H.pos - H.neg: 10.493439\n",
      "(83/700) Loss: 1.507228, H.pos - H.neg: 19.858261\n",
      "(84/700) Loss: 0.675527, H.pos - H.neg: 12.672985\n",
      "(85/700) Loss: 0.831714, H.pos - H.neg: 5.841686\n",
      "(86/700) Loss: 0.133551, H.pos - H.neg: 5.219948\n",
      "(87/700) Loss: 0.221541, H.pos - H.neg: 7.065987\n",
      "(88/700) Loss: 0.369377, H.pos - H.neg: 17.600670\n",
      "(89/700) Loss: 1.120922, H.pos - H.neg: 25.130867\n",
      "(90/700) Loss: 0.134261, H.pos - H.neg: 7.758209\n",
      "(91/700) Loss: 0.323471, H.pos - H.neg: 11.681816\n",
      "(92/700) Loss: 0.296021, H.pos - H.neg: 9.096092\n",
      "(93/700) Loss: 1.676466, H.pos - H.neg: 18.776596\n",
      "(94/700) Loss: 0.537447, H.pos - H.neg: 7.151108\n",
      "(95/700) Loss: 0.571901, H.pos - H.neg: 13.377235\n",
      "(96/700) Loss: 0.205381, H.pos - H.neg: 5.649551\n",
      "(97/700) Loss: 0.458370, H.pos - H.neg: 16.832802\n",
      "(98/700) Loss: 0.470798, H.pos - H.neg: 13.383499\n",
      "(99/700) Loss: 0.027973, H.pos - H.neg: 8.727440\n",
      "(100/700) Loss: 0.075004, H.pos - H.neg: 7.335495\n",
      "(101/700) Loss: 0.178562, H.pos - H.neg: 6.819782\n",
      "(102/700) Loss: 0.319821, H.pos - H.neg: 6.810547\n",
      "(103/700) Loss: 0.915127, H.pos - H.neg: 15.344498\n",
      "(104/700) Loss: 1.156995, H.pos - H.neg: 16.640816\n",
      "(105/700) Loss: 0.134927, H.pos - H.neg: 26.276985\n",
      "(106/700) Loss: 0.517707, H.pos - H.neg: 9.278114\n",
      "(107/700) Loss: 0.359332, H.pos - H.neg: 5.363991\n",
      "(108/700) Loss: 0.854937, H.pos - H.neg: 15.048168\n",
      "(109/700) Loss: 0.403239, H.pos - H.neg: 5.217598\n",
      "(110/700) Loss: 0.984803, H.pos - H.neg: 15.871262\n",
      "(111/700) Loss: 0.259847, H.pos - H.neg: 5.285500\n",
      "(112/700) Loss: 0.228468, H.pos - H.neg: 8.749088\n",
      "(113/700) Loss: 0.856708, H.pos - H.neg: 10.796539\n",
      "(114/700) Loss: 0.267367, H.pos - H.neg: 5.173515\n",
      "(115/700) Loss: 0.080121, H.pos - H.neg: 7.516804\n",
      "(116/700) Loss: 0.616284, H.pos - H.neg: 14.541985\n",
      "(117/700) Loss: 0.274969, H.pos - H.neg: 7.252106\n",
      "(118/700) Loss: 0.118784, H.pos - H.neg: 6.434116\n",
      "(119/700) Loss: 0.055678, H.pos - H.neg: 4.426838\n",
      "(120/700) Loss: 0.367040, H.pos - H.neg: 8.825760\n",
      "(121/700) Loss: 0.118883, H.pos - H.neg: 7.050774\n",
      "(122/700) Loss: 0.160575, H.pos - H.neg: 6.332588\n",
      "(123/700) Loss: 1.633038, H.pos - H.neg: 30.165466\n",
      "(124/700) Loss: 0.362304, H.pos - H.neg: 6.382767\n",
      "(125/700) Loss: 0.526963, H.pos - H.neg: 5.997337\n",
      "(126/700) Loss: 0.115070, H.pos - H.neg: 12.053562\n",
      "(127/700) Loss: 0.276954, H.pos - H.neg: 6.431122\n",
      "(128/700) Loss: 0.096360, H.pos - H.neg: 9.925320\n",
      "(129/700) Loss: 0.183368, H.pos - H.neg: 6.350506\n",
      "(130/700) Loss: 0.316094, H.pos - H.neg: 4.520565\n",
      "(131/700) Loss: 0.000000, H.pos - H.neg: 6.100159\n",
      "(132/700) Loss: 0.130164, H.pos - H.neg: 5.215649\n",
      "(133/700) Loss: 1.340206, H.pos - H.neg: 21.553886\n",
      "(134/700) Loss: 0.305999, H.pos - H.neg: 4.725269\n",
      "(135/700) Loss: 0.120283, H.pos - H.neg: 4.108879\n",
      "(136/700) Loss: 0.024143, H.pos - H.neg: 12.250732\n",
      "(137/700) Loss: 0.000000, H.pos - H.neg: 5.632240\n",
      "(138/700) Loss: 0.507256, H.pos - H.neg: 9.057625\n",
      "(139/700) Loss: 0.000000, H.pos - H.neg: 4.383949\n",
      "(140/700) Loss: 0.071416, H.pos - H.neg: 3.349663\n",
      "(141/700) Loss: 0.589813, H.pos - H.neg: 4.746853\n",
      "(142/700) Loss: 0.259708, H.pos - H.neg: 14.508846\n",
      "(143/700) Loss: 0.286157, H.pos - H.neg: 9.370155\n",
      "(144/700) Loss: 0.306044, H.pos - H.neg: 4.643986\n",
      "(145/700) Loss: 0.033934, H.pos - H.neg: 6.035248\n",
      "(146/700) Loss: 0.103646, H.pos - H.neg: 9.384010\n",
      "(147/700) Loss: 0.031513, H.pos - H.neg: 5.277702\n",
      "(148/700) Loss: 0.084312, H.pos - H.neg: 4.084518\n",
      "(149/700) Loss: 0.093848, H.pos - H.neg: 7.037491\n",
      "(150/700) Loss: 0.154366, H.pos - H.neg: 8.403664\n",
      "(151/700) Loss: 0.028364, H.pos - H.neg: 6.529331\n",
      "(152/700) Loss: 0.059147, H.pos - H.neg: 7.712811\n",
      "(153/700) Loss: 0.172381, H.pos - H.neg: 4.137001\n",
      "(154/700) Loss: 0.275541, H.pos - H.neg: 9.346489\n",
      "(155/700) Loss: 0.000000, H.pos - H.neg: 5.242119\n",
      "(156/700) Loss: 0.137556, H.pos - H.neg: 10.213730\n",
      "(157/700) Loss: 0.047151, H.pos - H.neg: 4.530289\n",
      "(158/700) Loss: 0.000000, H.pos - H.neg: 16.503899\n",
      "(159/700) Loss: 0.353329, H.pos - H.neg: 5.806877\n",
      "(160/700) Loss: 0.712599, H.pos - H.neg: 10.256836\n",
      "(161/700) Loss: 0.024003, H.pos - H.neg: 4.253754\n",
      "(162/700) Loss: 0.000000, H.pos - H.neg: 5.613735\n",
      "(163/700) Loss: 0.149778, H.pos - H.neg: 5.624485\n",
      "(164/700) Loss: 0.121527, H.pos - H.neg: 6.385475\n",
      "(165/700) Loss: 0.035740, H.pos - H.neg: 4.034534\n"
     ]
    },
    {
     "name": "stdout",
     "output_type": "stream",
     "text": [
      "(166/700) Loss: 0.082989, H.pos - H.neg: 6.081253\n",
      "(167/700) Loss: 0.237496, H.pos - H.neg: 7.738777\n",
      "(168/700) Loss: 1.567864, H.pos - H.neg: 21.202423\n",
      "(169/700) Loss: 0.098760, H.pos - H.neg: 6.516888\n",
      "(170/700) Loss: 0.032550, H.pos - H.neg: 7.656982\n",
      "(171/700) Loss: 0.082757, H.pos - H.neg: 4.149033\n",
      "(172/700) Loss: 0.333629, H.pos - H.neg: 6.147255\n",
      "(173/700) Loss: 0.000000, H.pos - H.neg: 3.551273\n",
      "(174/700) Loss: 0.087291, H.pos - H.neg: 5.808865\n",
      "(175/700) Loss: 0.003952, H.pos - H.neg: 10.930779\n",
      "(176/700) Loss: 0.648681, H.pos - H.neg: 7.245522\n",
      "(177/700) Loss: 0.080636, H.pos - H.neg: 10.579559\n",
      "(178/700) Loss: 0.160237, H.pos - H.neg: 4.359409\n",
      "(179/700) Loss: 0.056820, H.pos - H.neg: 5.150742\n",
      "(180/700) Loss: 0.216186, H.pos - H.neg: 6.840603\n",
      "(181/700) Loss: 0.007424, H.pos - H.neg: 4.096489\n",
      "(182/700) Loss: 0.024021, H.pos - H.neg: 7.409718\n",
      "(183/700) Loss: 0.047852, H.pos - H.neg: 4.786652\n",
      "(184/700) Loss: 0.271027, H.pos - H.neg: 4.330181\n",
      "(185/700) Loss: 0.142878, H.pos - H.neg: 5.384247\n",
      "(186/700) Loss: 0.532869, H.pos - H.neg: 7.576759\n",
      "(187/700) Loss: 0.001268, H.pos - H.neg: 5.533211\n",
      "(188/700) Loss: 0.000000, H.pos - H.neg: 5.201851\n",
      "(189/700) Loss: 0.000000, H.pos - H.neg: 12.449310\n",
      "(190/700) Loss: 0.421525, H.pos - H.neg: 5.919514\n",
      "(191/700) Loss: 0.005645, H.pos - H.neg: 6.989391\n",
      "(192/700) Loss: 0.740887, H.pos - H.neg: 11.107174\n",
      "(193/700) Loss: 0.087863, H.pos - H.neg: 8.362968\n",
      "(194/700) Loss: 0.065395, H.pos - H.neg: 5.823616\n",
      "(195/700) Loss: 0.035132, H.pos - H.neg: 8.958923\n",
      "(196/700) Loss: 0.012784, H.pos - H.neg: 5.448853\n",
      "(197/700) Loss: 0.239457, H.pos - H.neg: 6.795292\n",
      "(198/700) Loss: 0.814082, H.pos - H.neg: 9.115730\n",
      "(199/700) Loss: 0.095935, H.pos - H.neg: 6.815170\n",
      "(200/700) Loss: 2.002619, H.pos - H.neg: 19.995956\n",
      "(201/700) Loss: 0.006518, H.pos - H.neg: 6.417320\n",
      "(202/700) Loss: 0.199228, H.pos - H.neg: 13.050781\n",
      "(203/700) Loss: 0.011197, H.pos - H.neg: 6.597263\n",
      "(204/700) Loss: 0.253860, H.pos - H.neg: 11.085880\n",
      "(205/700) Loss: 0.065407, H.pos - H.neg: 14.114491\n",
      "(206/700) Loss: 0.020035, H.pos - H.neg: 4.355499\n",
      "(207/700) Loss: 0.132159, H.pos - H.neg: 7.594147\n",
      "(208/700) Loss: 0.179312, H.pos - H.neg: 6.271988\n",
      "(209/700) Loss: 0.123178, H.pos - H.neg: 4.816769\n",
      "(210/700) Loss: 0.154974, H.pos - H.neg: 8.372681\n",
      "(211/700) Loss: 0.000000, H.pos - H.neg: 8.700745\n",
      "(212/700) Loss: 0.085007, H.pos - H.neg: 5.241196\n",
      "(213/700) Loss: 0.000000, H.pos - H.neg: 7.848209\n",
      "(214/700) Loss: 0.000000, H.pos - H.neg: 6.645237\n",
      "(215/700) Loss: 0.000000, H.pos - H.neg: 6.179321\n",
      "(216/700) Loss: 0.426911, H.pos - H.neg: 6.390434\n",
      "(217/700) Loss: 0.111753, H.pos - H.neg: 13.409492\n",
      "(218/700) Loss: 0.015635, H.pos - H.neg: 5.154892\n",
      "(219/700) Loss: 0.000000, H.pos - H.neg: 4.470085\n",
      "(220/700) Loss: 0.196737, H.pos - H.neg: 10.599972\n",
      "(221/700) Loss: 0.119827, H.pos - H.neg: 4.015884\n",
      "(222/700) Loss: 0.178134, H.pos - H.neg: 3.738762\n",
      "(223/700) Loss: 0.000000, H.pos - H.neg: 4.989624\n",
      "(224/700) Loss: 0.000000, H.pos - H.neg: 5.067528\n",
      "(225/700) Loss: 0.250792, H.pos - H.neg: 5.292118\n",
      "(226/700) Loss: 0.289696, H.pos - H.neg: 7.322151\n",
      "(227/700) Loss: 0.024258, H.pos - H.neg: 5.953323\n",
      "(228/700) Loss: 0.000000, H.pos - H.neg: 8.510567\n",
      "(229/700) Loss: 0.090816, H.pos - H.neg: 6.784033\n",
      "(230/700) Loss: 0.052974, H.pos - H.neg: 5.128059\n",
      "(231/700) Loss: 0.197674, H.pos - H.neg: 5.640362\n",
      "(232/700) Loss: 0.060087, H.pos - H.neg: 3.779549\n",
      "(233/700) Loss: 0.222768, H.pos - H.neg: 6.173805\n",
      "(234/700) Loss: 0.001108, H.pos - H.neg: 4.834284\n",
      "(235/700) Loss: 0.012361, H.pos - H.neg: 4.035069\n",
      "(236/700) Loss: 0.006527, H.pos - H.neg: 5.314430\n",
      "(237/700) Loss: 0.215024, H.pos - H.neg: 5.385307\n",
      "(238/700) Loss: 0.053655, H.pos - H.neg: 3.591522\n",
      "(239/700) Loss: 0.089417, H.pos - H.neg: 4.862076\n",
      "(240/700) Loss: 0.193733, H.pos - H.neg: 7.435471\n",
      "(241/700) Loss: 0.114246, H.pos - H.neg: 6.241890\n",
      "(242/700) Loss: 0.099338, H.pos - H.neg: 5.745598\n",
      "(243/700) Loss: 0.083141, H.pos - H.neg: 4.922009\n",
      "(244/700) Loss: 0.079805, H.pos - H.neg: 8.729584\n",
      "(245/700) Loss: 0.395162, H.pos - H.neg: 11.022560\n",
      "(246/700) Loss: 0.247979, H.pos - H.neg: 8.826719\n",
      "(247/700) Loss: 0.055246, H.pos - H.neg: 2.815224\n",
      "(248/700) Loss: 0.091025, H.pos - H.neg: 10.278824\n",
      "(249/700) Loss: 0.063804, H.pos - H.neg: 4.312901\n",
      "(250/700) Loss: 0.239799, H.pos - H.neg: 5.102829\n",
      "(251/700) Loss: 0.026748, H.pos - H.neg: 5.983513\n",
      "(252/700) Loss: 0.007964, H.pos - H.neg: 4.790363\n",
      "(253/700) Loss: 0.000000, H.pos - H.neg: 10.485870\n",
      "(254/700) Loss: 0.151576, H.pos - H.neg: 6.451408\n",
      "(255/700) Loss: 0.000000, H.pos - H.neg: 5.341675\n",
      "(256/700) Loss: 0.131985, H.pos - H.neg: 6.508057\n",
      "(257/700) Loss: 0.143549, H.pos - H.neg: 5.623528\n",
      "(258/700) Loss: 0.035264, H.pos - H.neg: 6.913422\n",
      "(259/700) Loss: 0.000000, H.pos - H.neg: 4.697418\n",
      "(260/700) Loss: 0.000000, H.pos - H.neg: 7.468658\n",
      "(261/700) Loss: 0.082644, H.pos - H.neg: 4.012569\n",
      "(262/700) Loss: 0.087938, H.pos - H.neg: 5.407257\n",
      "(263/700) Loss: 0.304409, H.pos - H.neg: 5.819462\n",
      "(264/700) Loss: 0.028229, H.pos - H.neg: 10.068878\n",
      "(265/700) Loss: 0.006360, H.pos - H.neg: 5.676918\n",
      "(266/700) Loss: 0.113275, H.pos - H.neg: 6.037514\n",
      "(267/700) Loss: 0.059317, H.pos - H.neg: 6.496490\n",
      "(268/700) Loss: 0.029783, H.pos - H.neg: 5.781799\n",
      "(269/700) Loss: 0.000000, H.pos - H.neg: 6.198792\n",
      "(270/700) Loss: 0.574834, H.pos - H.neg: 11.539627\n",
      "(271/700) Loss: 0.026238, H.pos - H.neg: 6.745094\n",
      "(272/700) Loss: 0.152052, H.pos - H.neg: 6.776222\n",
      "(273/700) Loss: 0.058686, H.pos - H.neg: 3.588497\n",
      "(274/700) Loss: 0.029937, H.pos - H.neg: 9.949471\n",
      "(275/700) Loss: 0.204553, H.pos - H.neg: 6.658295\n",
      "(276/700) Loss: 0.071657, H.pos - H.neg: 5.503323\n",
      "(277/700) Loss: 0.076160, H.pos - H.neg: 5.533951\n",
      "(278/700) Loss: 0.000000, H.pos - H.neg: 4.482605\n",
      "(279/700) Loss: 0.234046, H.pos - H.neg: 6.497589\n",
      "(280/700) Loss: 0.062534, H.pos - H.neg: 4.993542\n",
      "(281/700) Loss: 0.000000, H.pos - H.neg: 5.163513\n",
      "(282/700) Loss: 0.335992, H.pos - H.neg: 6.586990\n",
      "(283/700) Loss: 0.000000, H.pos - H.neg: 6.552010\n",
      "(284/700) Loss: 0.650856, H.pos - H.neg: 10.544090\n",
      "(285/700) Loss: 0.075384, H.pos - H.neg: 6.848305\n",
      "(286/700) Loss: 0.032834, H.pos - H.neg: 3.458115\n",
      "(287/700) Loss: 0.118174, H.pos - H.neg: 6.007202\n",
      "(288/700) Loss: 0.211704, H.pos - H.neg: 6.339256\n",
      "(289/700) Loss: 0.244189, H.pos - H.neg: 7.118744\n",
      "(290/700) Loss: 0.008461, H.pos - H.neg: 13.319359\n",
      "(291/700) Loss: 0.119176, H.pos - H.neg: 6.894920\n",
      "(292/700) Loss: 0.405290, H.pos - H.neg: 10.348846\n",
      "(293/700) Loss: 0.017186, H.pos - H.neg: 7.308159\n",
      "(294/700) Loss: 0.054305, H.pos - H.neg: 9.261871\n",
      "(295/700) Loss: 0.016788, H.pos - H.neg: 8.829414\n",
      "(296/700) Loss: 0.077832, H.pos - H.neg: 5.326706\n",
      "(297/700) Loss: 0.230167, H.pos - H.neg: 5.103104\n",
      "(298/700) Loss: 0.000000, H.pos - H.neg: 5.665092\n",
      "(299/700) Loss: 0.000000, H.pos - H.neg: 8.536812\n",
      "(300/700) Loss: 0.017939, H.pos - H.neg: 5.439095\n",
      "(301/700) Loss: 0.047669, H.pos - H.neg: 9.667694\n",
      "(302/700) Loss: 0.339447, H.pos - H.neg: 5.193638\n",
      "(303/700) Loss: 0.000000, H.pos - H.neg: 5.183342\n",
      "(304/700) Loss: 0.000000, H.pos - H.neg: 4.187347\n",
      "(305/700) Loss: 0.012600, H.pos - H.neg: 7.015282\n",
      "(306/700) Loss: 0.133269, H.pos - H.neg: 5.043884\n",
      "(307/700) Loss: 0.964233, H.pos - H.neg: 24.517326\n",
      "(308/700) Loss: 0.000000, H.pos - H.neg: 4.396240\n",
      "(309/700) Loss: 0.198293, H.pos - H.neg: 4.175613\n",
      "(310/700) Loss: 0.000000, H.pos - H.neg: 8.453720\n",
      "(311/700) Loss: 0.189603, H.pos - H.neg: 8.312157\n",
      "(312/700) Loss: 0.027815, H.pos - H.neg: 3.900215\n",
      "(313/700) Loss: 0.043400, H.pos - H.neg: 8.124817\n",
      "(314/700) Loss: 0.033569, H.pos - H.neg: 5.795242\n",
      "(315/700) Loss: 0.012384, H.pos - H.neg: 4.241970\n",
      "(316/700) Loss: 0.174455, H.pos - H.neg: 6.304039\n",
      "(317/700) Loss: 0.458779, H.pos - H.neg: 15.510952\n",
      "(318/700) Loss: 0.036955, H.pos - H.neg: 3.458351\n",
      "(319/700) Loss: 0.000000, H.pos - H.neg: 5.717995\n",
      "(320/700) Loss: 0.000000, H.pos - H.neg: 5.515404\n",
      "(321/700) Loss: 0.395673, H.pos - H.neg: 9.171486\n",
      "(322/700) Loss: 0.080844, H.pos - H.neg: 6.531502\n",
      "(323/700) Loss: 0.133621, H.pos - H.neg: 6.505383\n",
      "(324/700) Loss: 0.720066, H.pos - H.neg: 8.596939\n",
      "(325/700) Loss: 0.064396, H.pos - H.neg: 5.879761\n",
      "(326/700) Loss: 0.056458, H.pos - H.neg: 5.823242\n",
      "(327/700) Loss: 0.417160, H.pos - H.neg: 8.657089\n",
      "(328/700) Loss: 0.055013, H.pos - H.neg: 4.570972\n",
      "(329/700) Loss: 0.000000, H.pos - H.neg: 5.576466\n"
     ]
    },
    {
     "name": "stdout",
     "output_type": "stream",
     "text": [
      "(330/700) Loss: 0.041070, H.pos - H.neg: 4.930508\n",
      "(331/700) Loss: 0.067074, H.pos - H.neg: 5.385471\n",
      "(332/700) Loss: 0.004278, H.pos - H.neg: 4.601196\n",
      "(333/700) Loss: 0.010898, H.pos - H.neg: 6.700016\n",
      "(334/700) Loss: 0.020504, H.pos - H.neg: 4.714703\n",
      "(335/700) Loss: 0.099129, H.pos - H.neg: 5.385483\n",
      "(336/700) Loss: 0.146336, H.pos - H.neg: 5.905138\n",
      "(337/700) Loss: 0.000000, H.pos - H.neg: 3.973465\n",
      "(338/700) Loss: 0.000000, H.pos - H.neg: 5.916252\n",
      "(339/700) Loss: 0.005977, H.pos - H.neg: 3.919769\n",
      "(340/700) Loss: 0.000000, H.pos - H.neg: 4.170048\n",
      "(341/700) Loss: 0.328582, H.pos - H.neg: 7.048168\n",
      "(342/700) Loss: 0.285964, H.pos - H.neg: 3.615223\n",
      "(343/700) Loss: 0.008393, H.pos - H.neg: 6.284342\n",
      "(344/700) Loss: 0.121226, H.pos - H.neg: 3.629032\n",
      "(345/700) Loss: 0.028897, H.pos - H.neg: 3.858345\n",
      "(346/700) Loss: 0.000000, H.pos - H.neg: 8.716278\n",
      "(347/700) Loss: 0.240853, H.pos - H.neg: 7.065981\n",
      "(348/700) Loss: 0.382453, H.pos - H.neg: 8.394077\n",
      "(349/700) Loss: 0.000000, H.pos - H.neg: 5.605318\n",
      "(350/700) Loss: 0.046704, H.pos - H.neg: 5.769485\n",
      "(351/700) Loss: 0.017073, H.pos - H.neg: 5.933685\n",
      "(352/700) Loss: 0.005010, H.pos - H.neg: 7.859917\n",
      "(353/700) Loss: 0.008950, H.pos - H.neg: 4.650970\n",
      "(354/700) Loss: 0.000000, H.pos - H.neg: 4.093697\n",
      "(355/700) Loss: 0.108490, H.pos - H.neg: 2.734093\n",
      "(356/700) Loss: 0.000000, H.pos - H.neg: 5.034935\n",
      "(357/700) Loss: 0.069109, H.pos - H.neg: 2.778996\n",
      "(358/700) Loss: 0.000000, H.pos - H.neg: 4.672882\n",
      "(359/700) Loss: 0.366570, H.pos - H.neg: 4.208210\n",
      "(360/700) Loss: 0.024817, H.pos - H.neg: 4.093060\n",
      "(361/700) Loss: 0.027142, H.pos - H.neg: 4.994247\n",
      "(362/700) Loss: 0.024025, H.pos - H.neg: 5.027771\n",
      "(363/700) Loss: 0.085069, H.pos - H.neg: 6.398132\n",
      "(364/700) Loss: 0.366285, H.pos - H.neg: 5.871901\n",
      "(365/700) Loss: 0.017003, H.pos - H.neg: 6.240768\n",
      "(366/700) Loss: 0.068918, H.pos - H.neg: 7.974907\n",
      "(367/700) Loss: 0.084073, H.pos - H.neg: 3.682526\n",
      "(368/700) Loss: 0.057136, H.pos - H.neg: 3.962463\n",
      "(369/700) Loss: 0.137233, H.pos - H.neg: 7.923752\n",
      "(370/700) Loss: 0.026232, H.pos - H.neg: 3.119286\n",
      "(371/700) Loss: 0.068004, H.pos - H.neg: 4.875591\n",
      "(372/700) Loss: 0.085803, H.pos - H.neg: 5.325851\n",
      "(373/700) Loss: 0.000000, H.pos - H.neg: 7.176399\n",
      "(374/700) Loss: 0.000000, H.pos - H.neg: 5.985584\n",
      "(375/700) Loss: 0.000000, H.pos - H.neg: 5.877892\n",
      "(376/700) Loss: 0.033486, H.pos - H.neg: 6.685913\n",
      "(377/700) Loss: 0.321407, H.pos - H.neg: 9.401234\n",
      "(378/700) Loss: 0.078538, H.pos - H.neg: 4.155937\n",
      "(379/700) Loss: 0.030386, H.pos - H.neg: 3.907860\n",
      "(380/700) Loss: 0.000000, H.pos - H.neg: 4.410522\n",
      "(381/700) Loss: 0.003503, H.pos - H.neg: 4.530167\n",
      "(382/700) Loss: 0.000000, H.pos - H.neg: 4.178665\n",
      "(383/700) Loss: 0.009305, H.pos - H.neg: 4.977074\n",
      "(384/700) Loss: 0.004095, H.pos - H.neg: 4.418808\n",
      "(385/700) Loss: 0.208025, H.pos - H.neg: 6.460472\n",
      "(386/700) Loss: 0.000000, H.pos - H.neg: 3.533813\n",
      "(387/700) Loss: 0.099982, H.pos - H.neg: 7.312828\n",
      "(388/700) Loss: 0.000000, H.pos - H.neg: 4.142090\n",
      "(389/700) Loss: 0.022374, H.pos - H.neg: 7.471062\n",
      "(390/700) Loss: 0.059376, H.pos - H.neg: 9.773918\n",
      "(391/700) Loss: 0.000000, H.pos - H.neg: 4.294361\n",
      "(392/700) Loss: 0.000000, H.pos - H.neg: 7.216034\n",
      "(393/700) Loss: 0.019406, H.pos - H.neg: 7.579521\n",
      "(394/700) Loss: 0.114112, H.pos - H.neg: 7.960457\n",
      "(395/700) Loss: 0.246301, H.pos - H.neg: 7.066154\n",
      "(396/700) Loss: 0.000000, H.pos - H.neg: 4.085726\n",
      "(397/700) Loss: 0.052859, H.pos - H.neg: 4.931599\n",
      "(398/700) Loss: 0.003157, H.pos - H.neg: 4.863392\n",
      "(399/700) Loss: 0.118068, H.pos - H.neg: 4.150253\n",
      "(400/700) Loss: 0.000000, H.pos - H.neg: 7.697136\n",
      "(401/700) Loss: 0.000000, H.pos - H.neg: 6.110657\n",
      "(402/700) Loss: 0.000000, H.pos - H.neg: 3.153484\n",
      "(403/700) Loss: 0.106222, H.pos - H.neg: 7.867500\n",
      "(404/700) Loss: 0.000000, H.pos - H.neg: 7.840714\n",
      "(405/700) Loss: 0.239475, H.pos - H.neg: 4.404396\n",
      "(406/700) Loss: 0.049510, H.pos - H.neg: 4.912838\n",
      "(407/700) Loss: 0.000000, H.pos - H.neg: 5.750229\n",
      "(408/700) Loss: 0.097821, H.pos - H.neg: 3.261017\n",
      "(409/700) Loss: 0.077059, H.pos - H.neg: 6.538406\n",
      "(410/700) Loss: 0.027547, H.pos - H.neg: 6.259247\n",
      "(411/700) Loss: 0.033854, H.pos - H.neg: 4.239571\n",
      "(412/700) Loss: 0.000000, H.pos - H.neg: 8.612846\n",
      "(413/700) Loss: 0.001359, H.pos - H.neg: 4.072887\n",
      "(414/700) Loss: 0.244641, H.pos - H.neg: 4.791779\n",
      "(415/700) Loss: 0.000000, H.pos - H.neg: 3.871510\n",
      "(416/700) Loss: 0.000000, H.pos - H.neg: 6.107201\n",
      "(417/700) Loss: 0.001868, H.pos - H.neg: 3.932896\n",
      "(418/700) Loss: 0.053668, H.pos - H.neg: 4.940674\n",
      "(419/700) Loss: 0.071005, H.pos - H.neg: 9.171070\n",
      "(420/700) Loss: 0.008536, H.pos - H.neg: 9.049644\n",
      "(421/700) Loss: 0.784500, H.pos - H.neg: 15.987976\n",
      "(422/700) Loss: 0.010947, H.pos - H.neg: 4.462257\n",
      "(423/700) Loss: 0.105156, H.pos - H.neg: 7.883667\n",
      "(424/700) Loss: 0.008231, H.pos - H.neg: 4.551270\n",
      "(425/700) Loss: 0.645345, H.pos - H.neg: 8.614361\n",
      "(426/700) Loss: 0.096290, H.pos - H.neg: 4.830563\n",
      "(427/700) Loss: 0.097214, H.pos - H.neg: 3.271744\n",
      "(428/700) Loss: 0.009273, H.pos - H.neg: 7.585365\n",
      "(429/700) Loss: 0.232561, H.pos - H.neg: 6.415077\n",
      "(430/700) Loss: 0.006987, H.pos - H.neg: 4.195499\n",
      "(431/700) Loss: 0.000000, H.pos - H.neg: 4.605774\n",
      "(432/700) Loss: 0.376542, H.pos - H.neg: 6.771706\n",
      "(433/700) Loss: 0.092944, H.pos - H.neg: 5.119122\n",
      "(434/700) Loss: 0.039170, H.pos - H.neg: 12.713886\n",
      "(435/700) Loss: 0.000000, H.pos - H.neg: 3.613670\n",
      "(436/700) Loss: 0.144057, H.pos - H.neg: 9.762650\n",
      "(437/700) Loss: 0.000000, H.pos - H.neg: 3.847252\n",
      "(438/700) Loss: 0.016282, H.pos - H.neg: 9.869167\n",
      "(439/700) Loss: 0.015759, H.pos - H.neg: 5.671509\n",
      "(440/700) Loss: 0.000000, H.pos - H.neg: 5.343361\n",
      "(441/700) Loss: 0.000000, H.pos - H.neg: 9.990845\n",
      "(442/700) Loss: 0.273087, H.pos - H.neg: 11.178219\n",
      "(443/700) Loss: 0.000000, H.pos - H.neg: 4.453148\n",
      "(444/700) Loss: 0.234667, H.pos - H.neg: 12.173294\n",
      "(445/700) Loss: 0.001738, H.pos - H.neg: 5.220341\n",
      "(446/700) Loss: 0.103171, H.pos - H.neg: 5.521576\n",
      "(447/700) Loss: 0.000000, H.pos - H.neg: 4.566261\n",
      "(448/700) Loss: 0.271622, H.pos - H.neg: 9.402046\n",
      "(449/700) Loss: 0.023197, H.pos - H.neg: 6.045471\n",
      "(450/700) Loss: 0.195577, H.pos - H.neg: 8.843956\n",
      "(451/700) Loss: 0.000000, H.pos - H.neg: 8.517204\n",
      "(452/700) Loss: 0.053672, H.pos - H.neg: 12.393921\n",
      "(453/700) Loss: 0.745576, H.pos - H.neg: 12.345520\n",
      "(454/700) Loss: 0.254574, H.pos - H.neg: 5.612305\n",
      "(455/700) Loss: 0.000000, H.pos - H.neg: 6.651077\n",
      "(456/700) Loss: 0.369166, H.pos - H.neg: 6.586296\n",
      "(457/700) Loss: 0.012355, H.pos - H.neg: 6.702927\n",
      "(458/700) Loss: 0.000000, H.pos - H.neg: 11.351028\n",
      "(459/700) Loss: 0.021070, H.pos - H.neg: 4.530010\n",
      "(460/700) Loss: 0.000000, H.pos - H.neg: 4.586838\n",
      "(461/700) Loss: 0.032567, H.pos - H.neg: 6.161110\n",
      "(462/700) Loss: 0.061840, H.pos - H.neg: 7.896156\n",
      "(463/700) Loss: 0.025461, H.pos - H.neg: 4.924484\n",
      "(464/700) Loss: 0.004367, H.pos - H.neg: 7.273933\n",
      "(465/700) Loss: 0.055575, H.pos - H.neg: 6.034843\n",
      "(466/700) Loss: 0.034715, H.pos - H.neg: 10.209843\n",
      "(467/700) Loss: 0.004238, H.pos - H.neg: 8.363605\n",
      "(468/700) Loss: 0.055057, H.pos - H.neg: 7.092392\n",
      "(469/700) Loss: 0.049156, H.pos - H.neg: 5.230244\n",
      "(470/700) Loss: 0.091165, H.pos - H.neg: 4.853714\n",
      "(471/700) Loss: 0.138831, H.pos - H.neg: 11.236641\n",
      "(472/700) Loss: 0.000000, H.pos - H.neg: 6.683441\n",
      "(473/700) Loss: 0.088390, H.pos - H.neg: 17.833183\n",
      "(474/700) Loss: 0.017780, H.pos - H.neg: 6.149925\n",
      "(475/700) Loss: 0.139818, H.pos - H.neg: 7.019783\n",
      "(476/700) Loss: 0.622650, H.pos - H.neg: 25.898636\n",
      "(477/700) Loss: 0.102800, H.pos - H.neg: 10.134941\n",
      "(478/700) Loss: 0.327338, H.pos - H.neg: 7.739143\n",
      "(479/700) Loss: 0.475982, H.pos - H.neg: 8.439926\n",
      "(480/700) Loss: 0.000972, H.pos - H.neg: 5.626617\n",
      "(481/700) Loss: 0.205499, H.pos - H.neg: 17.439102\n",
      "(482/700) Loss: 0.000000, H.pos - H.neg: 8.257637\n",
      "(483/700) Loss: 0.000000, H.pos - H.neg: 6.035297\n",
      "(484/700) Loss: 0.000000, H.pos - H.neg: 5.793991\n",
      "(485/700) Loss: 0.120769, H.pos - H.neg: 10.762329\n",
      "(486/700) Loss: 0.000000, H.pos - H.neg: 5.119713\n",
      "(487/700) Loss: 0.058828, H.pos - H.neg: 5.402962\n",
      "(488/700) Loss: 0.000000, H.pos - H.neg: 5.189224\n",
      "(489/700) Loss: 0.000000, H.pos - H.neg: 4.873589\n",
      "(490/700) Loss: 0.031259, H.pos - H.neg: 4.441452\n",
      "(491/700) Loss: 0.011903, H.pos - H.neg: 4.940063\n",
      "(492/700) Loss: 0.009193, H.pos - H.neg: 10.880775\n",
      "(493/700) Loss: 0.000000, H.pos - H.neg: 3.640272\n"
     ]
    },
    {
     "name": "stdout",
     "output_type": "stream",
     "text": [
      "(494/700) Loss: 0.202211, H.pos - H.neg: 4.806953\n",
      "(495/700) Loss: 0.064237, H.pos - H.neg: 6.781406\n",
      "(496/700) Loss: 0.112339, H.pos - H.neg: 10.483242\n",
      "(497/700) Loss: 0.000000, H.pos - H.neg: 6.303780\n",
      "(498/700) Loss: 0.042329, H.pos - H.neg: 6.529564\n",
      "(499/700) Loss: 0.871012, H.pos - H.neg: 17.883362\n",
      "(500/700) Loss: 0.039094, H.pos - H.neg: 6.412930\n",
      "(501/700) Loss: 0.075457, H.pos - H.neg: 8.261555\n",
      "(502/700) Loss: 0.065007, H.pos - H.neg: 4.795258\n",
      "(503/700) Loss: 0.008750, H.pos - H.neg: 3.136940\n",
      "(504/700) Loss: 0.281416, H.pos - H.neg: 4.833843\n",
      "(505/700) Loss: 0.000000, H.pos - H.neg: 6.880806\n",
      "(506/700) Loss: 0.000000, H.pos - H.neg: 4.873734\n",
      "(507/700) Loss: 0.000000, H.pos - H.neg: 4.709579\n",
      "(508/700) Loss: 0.440879, H.pos - H.neg: 5.848991\n",
      "(509/700) Loss: 0.075981, H.pos - H.neg: 3.429104\n",
      "(510/700) Loss: 0.029743, H.pos - H.neg: 4.181274\n",
      "(511/700) Loss: 0.000000, H.pos - H.neg: 5.474541\n",
      "(512/700) Loss: 0.000000, H.pos - H.neg: 8.346107\n",
      "(513/700) Loss: 0.240208, H.pos - H.neg: 10.558407\n",
      "(514/700) Loss: 0.178287, H.pos - H.neg: 4.074509\n",
      "(515/700) Loss: 0.000000, H.pos - H.neg: 4.664810\n",
      "(516/700) Loss: 0.029168, H.pos - H.neg: 6.259731\n",
      "(517/700) Loss: 0.186628, H.pos - H.neg: 4.098740\n",
      "(518/700) Loss: 0.025900, H.pos - H.neg: 8.911026\n",
      "(519/700) Loss: 0.000000, H.pos - H.neg: 7.306320\n",
      "(520/700) Loss: 0.041727, H.pos - H.neg: 4.248497\n",
      "(521/700) Loss: 0.026231, H.pos - H.neg: 3.010941\n",
      "(522/700) Loss: 0.064613, H.pos - H.neg: 5.086182\n",
      "(523/700) Loss: 0.000000, H.pos - H.neg: 2.993164\n",
      "(524/700) Loss: 0.120101, H.pos - H.neg: 6.582985\n",
      "(525/700) Loss: 0.000000, H.pos - H.neg: 3.882038\n",
      "(526/700) Loss: 0.036989, H.pos - H.neg: 4.353397\n",
      "(527/700) Loss: 0.001889, H.pos - H.neg: 5.810089\n",
      "(528/700) Loss: 0.102435, H.pos - H.neg: 5.231827\n",
      "(529/700) Loss: 0.030280, H.pos - H.neg: 5.310768\n",
      "(530/700) Loss: 0.000000, H.pos - H.neg: 3.999130\n",
      "(531/700) Loss: 0.000000, H.pos - H.neg: 4.692993\n",
      "(532/700) Loss: 0.003298, H.pos - H.neg: 5.118164\n",
      "(533/700) Loss: 0.136856, H.pos - H.neg: 3.690807\n",
      "(534/700) Loss: 0.366125, H.pos - H.neg: 5.550278\n",
      "(535/700) Loss: 0.014960, H.pos - H.neg: 5.365013\n",
      "(536/700) Loss: 0.011086, H.pos - H.neg: 5.168095\n",
      "(537/700) Loss: 0.048588, H.pos - H.neg: 7.313534\n",
      "(538/700) Loss: 0.000000, H.pos - H.neg: 4.112198\n",
      "(539/700) Loss: 0.000000, H.pos - H.neg: 3.278625\n",
      "(540/700) Loss: 0.150221, H.pos - H.neg: 5.069515\n",
      "(541/700) Loss: 0.011177, H.pos - H.neg: 5.636795\n",
      "(542/700) Loss: 0.019269, H.pos - H.neg: 8.071495\n",
      "(543/700) Loss: 0.014244, H.pos - H.neg: 4.487679\n",
      "(544/700) Loss: 0.000000, H.pos - H.neg: 7.449078\n",
      "(545/700) Loss: 0.009900, H.pos - H.neg: 3.159660\n",
      "(546/700) Loss: 0.079403, H.pos - H.neg: 4.365768\n",
      "(547/700) Loss: 0.128655, H.pos - H.neg: 7.964531\n",
      "(548/700) Loss: 0.515127, H.pos - H.neg: 7.053555\n",
      "(549/700) Loss: 0.021036, H.pos - H.neg: 5.010361\n",
      "(550/700) Loss: 0.000000, H.pos - H.neg: 6.830589\n",
      "(551/700) Loss: 0.000000, H.pos - H.neg: 4.873459\n",
      "(552/700) Loss: 0.107917, H.pos - H.neg: 8.664146\n",
      "(553/700) Loss: 0.083384, H.pos - H.neg: 6.323975\n",
      "(554/700) Loss: 0.000000, H.pos - H.neg: 3.546600\n",
      "(555/700) Loss: 0.103285, H.pos - H.neg: 4.981449\n",
      "(556/700) Loss: 0.594362, H.pos - H.neg: 8.494198\n",
      "(557/700) Loss: 0.302705, H.pos - H.neg: 8.830772\n",
      "(558/700) Loss: 0.008739, H.pos - H.neg: 3.766941\n",
      "(559/700) Loss: 0.000000, H.pos - H.neg: 7.126450\n",
      "(560/700) Loss: 0.000000, H.pos - H.neg: 6.512123\n",
      "(561/700) Loss: 0.280409, H.pos - H.neg: 8.005104\n",
      "(562/700) Loss: 0.038328, H.pos - H.neg: 4.582668\n",
      "(563/700) Loss: 0.030153, H.pos - H.neg: 5.194954\n",
      "(564/700) Loss: 0.000000, H.pos - H.neg: 2.904629\n",
      "(565/700) Loss: 0.000000, H.pos - H.neg: 4.938614\n",
      "(566/700) Loss: 0.000000, H.pos - H.neg: 5.351082\n",
      "(567/700) Loss: 0.217165, H.pos - H.neg: 5.686966\n",
      "(568/700) Loss: 0.000000, H.pos - H.neg: 5.511490\n",
      "(569/700) Loss: 0.065783, H.pos - H.neg: 6.168234\n",
      "(570/700) Loss: 0.012783, H.pos - H.neg: 4.470177\n",
      "(571/700) Loss: 0.008560, H.pos - H.neg: 4.937317\n",
      "(572/700) Loss: 0.348890, H.pos - H.neg: 8.839741\n",
      "(573/700) Loss: 0.478884, H.pos - H.neg: 4.401428\n",
      "(574/700) Loss: 0.088828, H.pos - H.neg: 5.765785\n",
      "(575/700) Loss: 0.114075, H.pos - H.neg: 4.111496\n",
      "(576/700) Loss: 0.268717, H.pos - H.neg: 6.105927\n",
      "(577/700) Loss: 0.005067, H.pos - H.neg: 6.621040\n",
      "(578/700) Loss: 0.040502, H.pos - H.neg: 9.685669\n",
      "(579/700) Loss: 0.000000, H.pos - H.neg: 3.654205\n",
      "(580/700) Loss: 0.000000, H.pos - H.neg: 3.829453\n",
      "(581/700) Loss: 0.000000, H.pos - H.neg: 7.130753\n",
      "(582/700) Loss: 0.250685, H.pos - H.neg: 6.633595\n",
      "(583/700) Loss: 0.000000, H.pos - H.neg: 3.418015\n",
      "(584/700) Loss: 0.002142, H.pos - H.neg: 4.469765\n",
      "(585/700) Loss: 0.000000, H.pos - H.neg: 8.983574\n",
      "(586/700) Loss: 0.000000, H.pos - H.neg: 5.995495\n",
      "(587/700) Loss: 0.000000, H.pos - H.neg: 3.830826\n",
      "(588/700) Loss: 0.000000, H.pos - H.neg: 4.053818\n",
      "(589/700) Loss: 0.066676, H.pos - H.neg: 4.859051\n",
      "(590/700) Loss: 0.044025, H.pos - H.neg: 5.835785\n",
      "(591/700) Loss: 0.000000, H.pos - H.neg: 3.993774\n",
      "(592/700) Loss: 0.017069, H.pos - H.neg: 5.001625\n",
      "(593/700) Loss: 0.191819, H.pos - H.neg: 6.836910\n",
      "(594/700) Loss: 0.036168, H.pos - H.neg: 4.614704\n",
      "(595/700) Loss: 0.035476, H.pos - H.neg: 6.221062\n",
      "(596/700) Loss: 0.640690, H.pos - H.neg: 7.782764\n",
      "(597/700) Loss: 0.000000, H.pos - H.neg: 4.944714\n",
      "(598/700) Loss: 0.000000, H.pos - H.neg: 5.079979\n",
      "(599/700) Loss: 0.000000, H.pos - H.neg: 5.320450\n",
      "(600/700) Loss: 0.013810, H.pos - H.neg: 4.808567\n",
      "(601/700) Loss: 0.000000, H.pos - H.neg: 4.048916\n",
      "(602/700) Loss: 0.053176, H.pos - H.neg: 6.772312\n",
      "(603/700) Loss: 0.000000, H.pos - H.neg: 12.711723\n",
      "(604/700) Loss: 0.022813, H.pos - H.neg: 4.317291\n",
      "(605/700) Loss: 0.080998, H.pos - H.neg: 4.933891\n",
      "(606/700) Loss: 0.076782, H.pos - H.neg: 5.732574\n",
      "(607/700) Loss: 0.100461, H.pos - H.neg: 8.994431\n",
      "(608/700) Loss: 0.152035, H.pos - H.neg: 6.365555\n",
      "(609/700) Loss: 0.164292, H.pos - H.neg: 5.058884\n",
      "(610/700) Loss: 0.018517, H.pos - H.neg: 5.152092\n",
      "(611/700) Loss: 1.386947, H.pos - H.neg: 8.437408\n",
      "(612/700) Loss: 0.071362, H.pos - H.neg: 6.906303\n",
      "(613/700) Loss: 0.074673, H.pos - H.neg: 4.513641\n",
      "(614/700) Loss: 0.127087, H.pos - H.neg: 4.143925\n",
      "(615/700) Loss: 0.000000, H.pos - H.neg: 10.901045\n",
      "(616/700) Loss: 0.000000, H.pos - H.neg: 6.353134\n",
      "(617/700) Loss: 0.000000, H.pos - H.neg: 3.801466\n",
      "(618/700) Loss: 0.105980, H.pos - H.neg: 8.074743\n",
      "(619/700) Loss: 0.038097, H.pos - H.neg: 8.457035\n",
      "(620/700) Loss: 0.079905, H.pos - H.neg: 4.805946\n",
      "(621/700) Loss: 0.000000, H.pos - H.neg: 4.521992\n",
      "(622/700) Loss: 0.113841, H.pos - H.neg: 8.994358\n",
      "(623/700) Loss: 0.000000, H.pos - H.neg: 3.838215\n",
      "(624/700) Loss: 0.470269, H.pos - H.neg: 10.682135\n",
      "(625/700) Loss: 0.216562, H.pos - H.neg: 5.541267\n",
      "(626/700) Loss: 0.064210, H.pos - H.neg: 4.216988\n",
      "(627/700) Loss: 0.000000, H.pos - H.neg: 4.607346\n",
      "(628/700) Loss: 0.000000, H.pos - H.neg: 8.461761\n",
      "(629/700) Loss: 0.052713, H.pos - H.neg: 6.375992\n",
      "(630/700) Loss: 0.019062, H.pos - H.neg: 6.561882\n",
      "(631/700) Loss: 0.006163, H.pos - H.neg: 8.342167\n",
      "(632/700) Loss: 0.060220, H.pos - H.neg: 5.001972\n",
      "(633/700) Loss: 0.087822, H.pos - H.neg: 6.520226\n",
      "(634/700) Loss: 0.000808, H.pos - H.neg: 4.410873\n",
      "(635/700) Loss: 0.000000, H.pos - H.neg: 8.256462\n",
      "(636/700) Loss: 0.045764, H.pos - H.neg: 5.522419\n",
      "(637/700) Loss: 0.034433, H.pos - H.neg: 6.154633\n",
      "(638/700) Loss: 0.236643, H.pos - H.neg: 8.723064\n",
      "(639/700) Loss: 0.064183, H.pos - H.neg: 7.777061\n",
      "(640/700) Loss: 0.021228, H.pos - H.neg: 7.719398\n",
      "(641/700) Loss: 0.012833, H.pos - H.neg: 7.415409\n",
      "(642/700) Loss: 0.010372, H.pos - H.neg: 4.119881\n",
      "(643/700) Loss: 0.000000, H.pos - H.neg: 4.429585\n",
      "(644/700) Loss: 0.003138, H.pos - H.neg: 6.376686\n",
      "(645/700) Loss: 0.233740, H.pos - H.neg: 4.027481\n",
      "(646/700) Loss: 0.118810, H.pos - H.neg: 6.030590\n",
      "(647/700) Loss: 0.060282, H.pos - H.neg: 4.364548\n",
      "(648/700) Loss: 0.000000, H.pos - H.neg: 6.661613\n",
      "(649/700) Loss: 0.345805, H.pos - H.neg: 8.025238\n",
      "(650/700) Loss: 0.000000, H.pos - H.neg: 3.632931\n",
      "(651/700) Loss: 0.000000, H.pos - H.neg: 4.653553\n",
      "(652/700) Loss: 0.128349, H.pos - H.neg: 9.535355\n",
      "(653/700) Loss: 0.000000, H.pos - H.neg: 7.247032\n",
      "(654/700) Loss: 0.000000, H.pos - H.neg: 3.334770\n",
      "(655/700) Loss: 0.103488, H.pos - H.neg: 6.064690\n",
      "(656/700) Loss: 0.052840, H.pos - H.neg: 4.568497\n",
      "(657/700) Loss: 0.000000, H.pos - H.neg: 4.276695\n"
     ]
    },
    {
     "name": "stdout",
     "output_type": "stream",
     "text": [
      "(658/700) Loss: 0.000000, H.pos - H.neg: 6.286480\n",
      "(659/700) Loss: 0.008458, H.pos - H.neg: 5.753830\n",
      "(660/700) Loss: 0.000000, H.pos - H.neg: 3.957523\n",
      "(661/700) Loss: 0.058188, H.pos - H.neg: 5.324989\n",
      "(662/700) Loss: 0.000000, H.pos - H.neg: 4.038822\n",
      "(663/700) Loss: 0.136711, H.pos - H.neg: 7.598061\n",
      "(664/700) Loss: 0.004863, H.pos - H.neg: 2.684717\n",
      "(665/700) Loss: 0.006142, H.pos - H.neg: 4.831146\n",
      "(666/700) Loss: 0.104687, H.pos - H.neg: 5.582237\n",
      "(667/700) Loss: 0.000000, H.pos - H.neg: 3.221764\n",
      "(668/700) Loss: 0.055418, H.pos - H.neg: 4.699005\n",
      "(669/700) Loss: 0.162468, H.pos - H.neg: 4.182137\n",
      "(670/700) Loss: 0.085980, H.pos - H.neg: 4.425999\n",
      "(671/700) Loss: 0.448390, H.pos - H.neg: 6.400322\n",
      "(672/700) Loss: 0.000000, H.pos - H.neg: 3.839539\n",
      "(673/700) Loss: 0.024623, H.pos - H.neg: 4.050125\n",
      "(674/700) Loss: 0.054408, H.pos - H.neg: 3.307480\n",
      "(675/700) Loss: 0.000000, H.pos - H.neg: 5.345886\n",
      "(676/700) Loss: 0.018192, H.pos - H.neg: 3.807732\n",
      "(677/700) Loss: 0.000000, H.pos - H.neg: 5.457043\n",
      "(678/700) Loss: 0.000000, H.pos - H.neg: 6.671013\n",
      "(679/700) Loss: 0.016561, H.pos - H.neg: 8.146992\n",
      "(680/700) Loss: 0.000000, H.pos - H.neg: 4.065559\n",
      "(681/700) Loss: 0.000000, H.pos - H.neg: 5.444942\n",
      "(682/700) Loss: 0.000000, H.pos - H.neg: 3.413494\n",
      "(683/700) Loss: 0.000000, H.pos - H.neg: 9.245903\n",
      "(684/700) Loss: 0.000000, H.pos - H.neg: 3.780746\n",
      "(685/700) Loss: 0.401529, H.pos - H.neg: 4.910809\n",
      "(686/700) Loss: 0.001264, H.pos - H.neg: 4.477318\n",
      "(687/700) Loss: 0.161761, H.pos - H.neg: 9.573753\n",
      "(688/700) Loss: 0.000000, H.pos - H.neg: 6.620018\n",
      "(689/700) Loss: 0.027952, H.pos - H.neg: 9.847961\n",
      "(690/700) Loss: 0.006614, H.pos - H.neg: 3.992958\n",
      "(691/700) Loss: 0.000000, H.pos - H.neg: 11.007782\n",
      "(692/700) Loss: 0.091756, H.pos - H.neg: 5.487289\n",
      "(693/700) Loss: 0.000000, H.pos - H.neg: 5.072594\n",
      "(694/700) Loss: 0.000000, H.pos - H.neg: 4.507362\n",
      "(695/700) Loss: 0.042290, H.pos - H.neg: 3.527771\n",
      "(696/700) Loss: 0.000000, H.pos - H.neg: 5.569294\n",
      "(697/700) Loss: 0.003716, H.pos - H.neg: 6.803486\n",
      "(698/700) Loss: 0.014373, H.pos - H.neg: 3.870232\n",
      "(699/700) Loss: 0.044229, H.pos - H.neg: 10.315056\n",
      "(700/700) Loss: 0.043714, H.pos - H.neg: 7.090607\n"
     ]
    }
   ],
   "source": [
    "n_iter = 0\n",
    "loss_list = []\n",
    "\n",
    "while True:\n",
    "    n_iter += 1\n",
    "    \n",
    "    \n",
    "    # Monta um batch\n",
    "    batch = []\n",
    "    for u in np.random.choice(train_users, N, replace=False):\n",
    "        n_samples = data[u].shape[0]\n",
    "        selected_samples = np.random.choice(np.arange(n_samples), M, replace=False)\n",
    "        \n",
    "        batch.append(data[u][selected_samples])\n",
    "        \n",
    "    batch = torch.cat(batch)\n",
    "    \n",
    "    lstm.hidden = lstm.init_hidden()\n",
    "    lstm.zero_grad()\n",
    "    optimizer.zero_grad()\n",
    "    embeddings = lstm.forward(batch)\n",
    "    \n",
    "    #lstm.hidden[0].detach_()\n",
    "    #lstm.hidden[1].detach_()\n",
    "    \n",
    "    D = distance_matrix(embeddings)\n",
    "    hardest_positives, hardest_negatives = topk_hardest_mean(D, M, N, KP, KN, use_cuda=False)\n",
    "    loss = batch_hard_loss(hardest_positives, hardest_negatives, 1)\n",
    "    loss.backward()\n",
    "    optimizer.step()\n",
    "    \n",
    "    loss_list.append(loss.detach().cpu().numpy())\n",
    "    print('(%d/%d) Loss: %f, H.pos - H.neg: %f' % (n_iter, max_iter, loss.item(), (max(hardest_positives) - min(hardest_positives))))\n",
    "    \n",
    "    if (n_iter % 10) == 0:\n",
    "        distance_matrix_plot(D.cpu(), os.path.join(ppath, 'iter_%03d.jpg' % n_iter))\n",
    "    \n",
    "    if n_iter == max_iter:\n",
    "        break\n",
    "\n",
    "import pandas as pd        \n",
    "loss_list = np.array(loss_list)\n",
    "loss_list = pd.Series(loss_list)\n",
    "\n",
    "fig = plt.figure(figsize=(8,6))\n",
    "loss_list.rolling(10).mean().plot()\n",
    "fig.savefig(os.path.join(ppath, 'loss.png'))\n",
    "plt.close()"
   ]
  },
  {
   "cell_type": "code",
   "execution_count": 456,
   "metadata": {
    "scrolled": true
   },
   "outputs": [
    {
     "name": "stdout",
     "output_type": "stream",
     "text": [
      "anap40, anoldman, anonymous, apdsqueaky, ariyan, arjuan, asladic, asp, atterer, avsa242, ax, azmisov, bachroxx, bebe, beez1717, bendauphinee, bhart, bigmbywater, bjb, blood, bloomtom, bluepeppers, bonzer, brad, bread555, bugsysservant, cactusbin, catchercradle, ccrawford, cebidae, chandrashekhar, chocoholic, chris21, chrisspen, cj5, "
     ]
    }
   ],
   "source": [
    "y = []\n",
    "e = []\n",
    "with torch.no_grad():\n",
    "    for u in test_users:\n",
    "        print('%s' % u, end=', ')\n",
    "        lstm.minibatch_size = data[u][0].shape[0]\n",
    "        lstm.hidden = lstm.init_hidden()\n",
    "\n",
    "        y.append([u]*data[u][0].shape[0])\n",
    "        e.append(lstm(data[u][0]).detach().numpy())\n",
    "\n",
    "e, y = np.concatenate(e), np.concatenate(y)"
   ]
  },
  {
   "cell_type": "code",
   "execution_count": 457,
   "metadata": {},
   "outputs": [],
   "source": [
    "from sklearn.neighbors import KDTree\n",
    "from sklearn.manifold import TSNE\n",
    "from plotnine import *"
   ]
  },
  {
   "cell_type": "code",
   "execution_count": 462,
   "metadata": {},
   "outputs": [
    {
     "data": {
      "text/plain": [
       "array(['cj5'], dtype='<U14')"
      ]
     },
     "execution_count": 462,
     "metadata": {},
     "output_type": "execute_result"
    }
   ],
   "source": [
    "y[i:i+1]"
   ]
  },
  {
   "cell_type": "code",
   "execution_count": 532,
   "metadata": {},
   "outputs": [],
   "source": [
    "tree = KDTree(e, metric = 'euclidean')\n",
    "acertos = 0\n",
    "\n",
    "for i in range(e.shape[0]):\n",
    "    dist, ind = tree.query(e[i:i+1], k=5)\n",
    "    ind = np.array(y[ind[0]])\n",
    "    if (ind == y[i:i+1]).sum() >= 3:\n",
    "        acertos += 1    "
   ]
  },
  {
   "cell_type": "code",
   "execution_count": 533,
   "metadata": {},
   "outputs": [
    {
     "data": {
      "text/plain": [
       "98.74551971326166"
      ]
     },
     "execution_count": 533,
     "metadata": {},
     "output_type": "execute_result"
    }
   ],
   "source": [
    "acertos/e.shape[0]*100"
   ]
  },
  {
   "cell_type": "code",
   "execution_count": 499,
   "metadata": {},
   "outputs": [
    {
     "data": {
      "text/plain": [
       "37.5"
      ]
     },
     "execution_count": 499,
     "metadata": {},
     "output_type": "execute_result"
    }
   ],
   "source": [
    "len(train_users)/4"
   ]
  },
  {
   "cell_type": "code",
   "execution_count": 505,
   "metadata": {},
   "outputs": [],
   "source": [
    "L = [len(data[u][0]) for u in users]"
   ]
  },
  {
   "cell_type": "code",
   "execution_count": 516,
   "metadata": {},
   "outputs": [
    {
     "data": {
      "text/plain": [
       "(array([135.,  27.,  13.,   4.,   2.,   1.,   0.,   1.,   1.,   1.]),\n",
       " array([  8. ,  17.2,  26.4,  35.6,  44.8,  54. ,  63.2,  72.4,  81.6,\n",
       "         90.8, 100. ]),\n",
       " <a list of 10 Patch objects>)"
      ]
     },
     "execution_count": 516,
     "metadata": {},
     "output_type": "execute_result"
    },
    {
     "data": {
      "image/png": "[encoded data removed]",
      "text/plain": [
       "<Figure size 432x288 with 1 Axes>"
      ]
     },
     "metadata": {},
     "output_type": "display_data"
    }
   ],
   "source": [
    "plt.hist(np.array(L))"
   ]
  },
  {
   "cell_type": "code",
   "execution_count": 504,
   "metadata": {},
   "outputs": [
    {
     "name": "stdout",
     "output_type": "stream",
     "text": [
      "\\item 1snoke (10)\n",
      "\\item 2old2play (10)\n",
      "\\item Aaron (20)\n",
      "\\item Adminvox (31)\n",
      "\\item AdrianMcNear (10)\n",
      "\\item Airwings (10)\n",
      "\\item AlexanderHenningDrachmann (20)\n",
      "\\item Andrew (10)\n",
      "\\item AndreyBarrientosCostaRica (10)\n",
      "\\item Angus (10)\n",
      "\\item Anniepoo (30)\n",
      "\\item Ara (10)\n",
      "\\item AslakKnutsen (10)\n",
      "\\item B (20)\n",
      "\\item Bahoke (40)\n",
      "\\item Berrym (10)\n",
      "\\item BlueAgent (9)\n",
      "\\item Bob (10)\n",
      "\\item Bossalicious (10)\n",
      "\\item Buddyboy (9)\n",
      "\\item CNJ (20)\n",
      "\\item Campbell (10)\n",
      "\\item Catbells (39)\n",
      "\\item CbS (10)\n",
      "\\item Chandri (10)\n",
      "\\item Chas (10)\n",
      "\\item CheesyBreed (30)\n",
      "\\item Chirag (9)\n",
      "\\item ColinBeckingham (90)\n",
      "\\item Coren (60)\n",
      "\\item Cristbal (10)\n",
      "\\item DanielHeath (20)\n",
      "\\item Daniil (10)\n",
      "\\item DantheDentalman (10)\n",
      "\\item Darrr (10)\n",
      "\\item DavidG (10)\n",
      "\\item DavidL (20)\n",
      "\\item Dcoetzee (50)\n",
      "\\item DeMilano (10)\n",
      "\\item Decent (20)\n",
      "\\item DeepBlue (10)\n",
      "\\item Donato (10)\n",
      "\\item Doogie (10)\n",
      "\\item DouglasDecicco (10)\n",
      "\\item ESimpray (10)\n",
      "\\item Edman274 (10)\n",
      "\\item Eresus (10)\n",
      "\\item Ertain (50)\n",
      "\\item Everett (10)\n",
      "\\item FatFrankie (10)\n",
      "\\item Flowerbot (20)\n",
      "\\item FrankdeLange (10)\n",
      "\\item FrozenFire (30)\n",
      "\\item GaylandGGump (30)\n",
      "\\item Gerard (10)\n",
      "\\item Gerry (10)\n",
      "\\item Gowrav (10)\n",
      "\\item Graham (10)\n",
      "\\item Gulain (10)\n",
      "\\item Hadlington (10)\n",
      "\\item JanusDaniels (10)\n",
      "\\item Jared (10)\n",
      "\\item Jay (10)\n",
      "\\item JayCutlersBrother (30)\n",
      "\\item Jennichan (10)\n",
      "\\item Joey (10)\n",
      "\\item John (10)\n",
      "\\item Joseph (10)\n",
      "\\item KalikiCEO (10)\n",
      "\\item KaloyanKolev (20)\n",
      "\\item Karageorgos (10)\n",
      "\\item Katzer (10)\n",
      "\\item KenBloom (20)\n",
      "\\item KenMacRaild (10)\n",
      "\\item Keren (10)\n",
      "\\item KnitGirl (10)\n",
      "\\item Krekos (10)\n",
      "\\item Krellis (20)\n",
      "\\item Kyton (30)\n",
      "\\item L1ttl3J1m (10)\n",
      "\\item LAVEENAZ (10)\n",
      "\\item LRMAAX (10)\n",
      "\\item Lexen (10)\n",
      "\\item Logomancer (20)\n",
      "\\item Luca (10)\n",
      "\\item Luis (10)\n",
      "\\item LuisManuelPradoMoreno (10)\n",
      "\\item LukasFT (10)\n",
      "\\item LukeSkywalker (10)\n",
      "\\item LunaTick (10)\n",
      "\\item MJ (10)\n",
      "\\item MSypkensSmit (30)\n",
      "\\item Mariane (30)\n",
      "\\item Mike (20)\n",
      "\\item Nadim (20)\n",
      "\\item Paddy (20)\n",
      "\\item ParthC (10)\n",
      "\\item PaulB (10)\n",
      "\\item PaulWilliams (10)\n",
      "\\item Perygryne (10)\n",
      "\\item Peter (10)\n",
      "\\item PeterGarnett (20)\n",
      "\\item Peyrine (10)\n",
      "\\item PheonixK (10)\n",
      "\\item R (10)\n",
      "\\item RG (10)\n",
      "\\item Rain (30)\n",
      "\\item RedCisc (10)\n",
      "\\item Rishi (10)\n",
      "\\item RobSmith (20)\n",
      "\\item Ronin (10)\n",
      "\\item RonnelWing (10)\n",
      "\\item Ryan (20)\n",
      "\\item Saul (10)\n",
      "\\item Scott (10)\n",
      "\\item SergioDaroca (10)\n",
      "\\item Shane (10)\n",
      "\\item Shyam (10)\n",
      "\\item Sid (10)\n",
      "\\item Spacefish (10)\n",
      "\\item Splitlocked (10)\n",
      "\\item Steltek (10)\n",
      "\\item Sterna (20)\n",
      "\\item Sundar (10)\n",
      "\\item TLC (10)\n",
      "\\item Tamashii (10)\n",
      "\\item Tebbra (10)\n",
      "\\item TechnoZeus (30)\n",
      "\\item ThatsJamesForYou (10)\n",
      "\\item Tim018 (10)\n",
      "\\item TimS (20)\n",
      "\\item Timsage (10)\n",
      "\\item TomM (10)\n",
      "\\item Traktion (10)\n",
      "\\item Vineeth (10)\n",
      "\\item Vistaus (10)\n",
      "\\item Vortex (10)\n",
      "\\item Willem (9)\n",
      "\\item Wisleyv (10)\n",
      "\\item Zorthius (10)\n",
      "\\item adgar (8)\n",
      "\\item adubra (10)\n",
      "\\item aileen (10)\n",
      "\\item akiplaner (100)\n",
      "\\item alec (10)\n",
      "\\item alienation (8)\n",
      "\\item allison (20)\n",
      "\\item alphadecay (10)\n",
      "\\item amichaischreiber (10)\n",
      "\\item amolmg (31)\n"
     ]
    }
   ],
   "source": [
    "for u in train_users:\n",
    "    print('\\item %s (%d)' % (u, len(data[u][0])))"
   ]
  },
  {
   "cell_type": "markdown",
   "metadata": {},
   "source": [
    "### T-SNE"
   ]
  },
  {
   "cell_type": "code",
   "execution_count": 466,
   "metadata": {},
   "outputs": [],
   "source": [
    "tsne = TSNE()\n",
    "x_t = tsne.fit_transform(e)"
   ]
  },
  {
   "cell_type": "code",
   "execution_count": 469,
   "metadata": {},
   "outputs": [],
   "source": [
    "df = pd.DataFrame({'Usuário': y.astype('str'), 'Dimensão 1': x_t[:,0], 'Dimensão 2': x_t[:,1]})"
   ]
  },
  {
   "cell_type": "code",
   "execution_count": 485,
   "metadata": {},
   "outputs": [],
   "source": [
    "df.to_csv('./tsne_test.csv', sep = ';', index=False)"
   ]
  },
  {
   "cell_type": "code",
   "execution_count": 474,
   "metadata": {},
   "outputs": [],
   "source": [
    "mean_df = pd.DataFrame(df.groupby('Usuário')[['Dimensão 1', 'Dimensão 2']].mean()).reset_index()"
   ]
  },
  {
   "cell_type": "code",
   "execution_count": 484,
   "metadata": {},
   "outputs": [
    {
     "data": {
      "image/png": "[encoded data removed]",
      "text/plain": [
       "<Figure size 640x480 with 1 Axes>"
      ]
     },
     "metadata": {},
     "output_type": "display_data"
    },
    {
     "data": {
      "text/plain": [
       "<ggplot: (-9223363282699482869)>"
      ]
     },
     "execution_count": 484,
     "metadata": {},
     "output_type": "execute_result"
    }
   ],
   "source": [
    "ggplot(df, aes('Dimensão 1', 'Dimensão 2', color='Usuário', label = 'Usuário')) + geom_point() +\\\n",
    "geom_text(data = mean_df, nudge_y = -3, nudge_x = 1)"
   ]
  },
  {
   "cell_type": "code",
   "execution_count": null,
   "metadata": {},
   "outputs": [],
   "source": []
  },
  {
   "cell_type": "code",
   "execution_count": 310,
   "metadata": {},
   "outputs": [
    {
     "data": {
      "text/plain": [
       "array([0])"
      ]
     },
     "execution_count": 310,
     "metadata": {},
     "output_type": "execute_result"
    }
   ],
   "source": [
    "y[:1]"
   ]
  },
  {
   "cell_type": "code",
   "execution_count": 312,
   "metadata": {},
   "outputs": [
    {
     "data": {
      "text/plain": [
       "array([0, 5, 9])"
      ]
     },
     "execution_count": 312,
     "metadata": {},
     "output_type": "execute_result"
    }
   ],
   "source": [
    "ind[0]"
   ]
  },
  {
   "cell_type": "code",
   "execution_count": 303,
   "metadata": {},
   "outputs": [
    {
     "data": {
      "text/plain": [
       "array([[0, 5, 9]])"
      ]
     },
     "execution_count": 303,
     "metadata": {},
     "output_type": "execute_result"
    }
   ],
   "source": [
    "ind"
   ]
  },
  {
   "cell_type": "code",
   "execution_count": null,
   "metadata": {},
   "outputs": [],
   "source": [
    "nn = NearestNeighbors()"
   ]
  },
  {
   "cell_type": "code",
   "execution_count": null,
   "metadata": {},
   "outputs": [],
   "source": [
    "e"
   ]
  },
  {
   "cell_type": "code",
   "execution_count": 271,
   "metadata": {},
   "outputs": [
    {
     "data": {
      "text/plain": [
       "<matplotlib.axes._subplots.AxesSubplot at 0x7f63b64a11d0>"
      ]
     },
     "execution_count": 271,
     "metadata": {},
     "output_type": "execute_result"
    },
    {
     "data": {
      "image/png": "[encoded data removed]",
      "text/plain": [
       "<Figure size 432x288 with 1 Axes>"
      ]
     },
     "metadata": {},
     "output_type": "display_data"
    }
   ],
   "source": [
    "loss_list.rolling(10).mean().plot()"
   ]
  },
  {
   "cell_type": "code",
   "execution_count": 244,
   "metadata": {},
   "outputs": [
    {
     "data": {
      "text/plain": [
       "<matplotlib.axes._subplots.AxesSubplot at 0x7f63c5b63f98>"
      ]
     },
     "execution_count": 244,
     "metadata": {},
     "output_type": "execute_result"
    },
    {
     "data": {
      "image/png": "[encoded data removed]",
      "text/plain": [
       "<Figure size 432x288 with 1 Axes>"
      ]
     },
     "metadata": {},
     "output_type": "display_data"
    }
   ],
   "source": [
    "loss_list.rolling(5).mean().plot()"
   ]
  },
  {
   "cell_type": "code",
   "execution_count": 201,
   "metadata": {},
   "outputs": [
    {
     "data": {
      "text/plain": [
       "torch.Size([25, 20, 431])"
      ]
     },
     "execution_count": 201,
     "metadata": {},
     "output_type": "execute_result"
    }
   ],
   "source": [
    "batch.shape"
   ]
  },
  {
   "cell_type": "code",
   "execution_count": null,
   "metadata": {},
   "outputs": [],
   "source": [
    "lstm"
   ]
  },
  {
   "cell_type": "code",
   "execution_count": 111,
   "metadata": {},
   "outputs": [
    {
     "data": {
      "text/plain": [
       "torch.Size([431, 300])"
      ]
     },
     "execution_count": 111,
     "metadata": {},
     "output_type": "execute_result"
    }
   ],
   "source": [
    "lstm(batch).shape"
   ]
  },
  {
   "cell_type": "code",
   "execution_count": 55,
   "metadata": {},
   "outputs": [
    {
     "data": {
      "text/plain": [
       "torch.Size([2, 370, 64])"
      ]
     },
     "execution_count": 55,
     "metadata": {},
     "output_type": "execute_result"
    }
   ],
   "source": []
  },
  {
   "cell_type": "code",
   "execution_count": 52,
   "metadata": {},
   "outputs": [
    {
     "data": {
      "text/plain": [
       "torch.Size([2, 370, 64])"
      ]
     },
     "execution_count": 52,
     "metadata": {},
     "output_type": "execute_result"
    }
   ],
   "source": [
    "lstm.hidden.shape"
   ]
  },
  {
   "cell_type": "code",
   "execution_count": 25,
   "metadata": {},
   "outputs": [
    {
     "ename": "RuntimeError",
     "evalue": "cuda runtime error (11) : invalid argument at /opt/conda/conda-bld/pytorch_1524586445097/work/aten/src/THC/generic/THCTensorMath.cu:35",
     "output_type": "error",
     "traceback": [
      "\u001b[0;31m---------------------------------------------------------------------------\u001b[0m",
      "\u001b[0;31mRuntimeError\u001b[0m                              Traceback (most recent call last)",
      "\u001b[0;32m<ipython-input-25-6711c78d9895>\u001b[0m in \u001b[0;36m<module>\u001b[0;34m()\u001b[0m\n\u001b[0;32m----> 1\u001b[0;31m \u001b[0mlstm\u001b[0m\u001b[0;34m.\u001b[0m\u001b[0mlstm\u001b[0m\u001b[0;34m(\u001b[0m\u001b[0mbatch\u001b[0m\u001b[0;34m)\u001b[0m\u001b[0;34m\u001b[0m\u001b[0m\n\u001b[0m",
      "\u001b[0;32m~/anaconda3/envs/tensorflow-gpu/lib/python3.6/site-packages/torch/nn/modules/module.py\u001b[0m in \u001b[0;36m__call__\u001b[0;34m(self, *input, **kwargs)\u001b[0m\n\u001b[1;32m    489\u001b[0m             \u001b[0mresult\u001b[0m \u001b[0;34m=\u001b[0m \u001b[0mself\u001b[0m\u001b[0;34m.\u001b[0m\u001b[0m_slow_forward\u001b[0m\u001b[0;34m(\u001b[0m\u001b[0;34m*\u001b[0m\u001b[0minput\u001b[0m\u001b[0;34m,\u001b[0m \u001b[0;34m**\u001b[0m\u001b[0mkwargs\u001b[0m\u001b[0;34m)\u001b[0m\u001b[0;34m\u001b[0m\u001b[0m\n\u001b[1;32m    490\u001b[0m         \u001b[0;32melse\u001b[0m\u001b[0;34m:\u001b[0m\u001b[0;34m\u001b[0m\u001b[0m\n\u001b[0;32m--> 491\u001b[0;31m             \u001b[0mresult\u001b[0m \u001b[0;34m=\u001b[0m \u001b[0mself\u001b[0m\u001b[0;34m.\u001b[0m\u001b[0mforward\u001b[0m\u001b[0;34m(\u001b[0m\u001b[0;34m*\u001b[0m\u001b[0minput\u001b[0m\u001b[0;34m,\u001b[0m \u001b[0;34m**\u001b[0m\u001b[0mkwargs\u001b[0m\u001b[0;34m)\u001b[0m\u001b[0;34m\u001b[0m\u001b[0m\n\u001b[0m\u001b[1;32m    492\u001b[0m         \u001b[0;32mfor\u001b[0m \u001b[0mhook\u001b[0m \u001b[0;32min\u001b[0m \u001b[0mself\u001b[0m\u001b[0;34m.\u001b[0m\u001b[0m_forward_hooks\u001b[0m\u001b[0;34m.\u001b[0m\u001b[0mvalues\u001b[0m\u001b[0;34m(\u001b[0m\u001b[0;34m)\u001b[0m\u001b[0;34m:\u001b[0m\u001b[0;34m\u001b[0m\u001b[0m\n\u001b[1;32m    493\u001b[0m             \u001b[0mhook_result\u001b[0m \u001b[0;34m=\u001b[0m \u001b[0mhook\u001b[0m\u001b[0;34m(\u001b[0m\u001b[0mself\u001b[0m\u001b[0;34m,\u001b[0m \u001b[0minput\u001b[0m\u001b[0;34m,\u001b[0m \u001b[0mresult\u001b[0m\u001b[0;34m)\u001b[0m\u001b[0;34m\u001b[0m\u001b[0m\n",
      "\u001b[0;32m~/anaconda3/envs/tensorflow-gpu/lib/python3.6/site-packages/torch/nn/modules/rnn.py\u001b[0m in \u001b[0;36mforward\u001b[0;34m(self, input, hx)\u001b[0m\n\u001b[1;32m    164\u001b[0m             hx = input.new_zeros(self.num_layers * num_directions,\n\u001b[1;32m    165\u001b[0m                                  \u001b[0mmax_batch_size\u001b[0m\u001b[0;34m,\u001b[0m \u001b[0mself\u001b[0m\u001b[0;34m.\u001b[0m\u001b[0mhidden_size\u001b[0m\u001b[0;34m,\u001b[0m\u001b[0;34m\u001b[0m\u001b[0m\n\u001b[0;32m--> 166\u001b[0;31m                                  requires_grad=False)\n\u001b[0m\u001b[1;32m    167\u001b[0m             \u001b[0;32mif\u001b[0m \u001b[0mself\u001b[0m\u001b[0;34m.\u001b[0m\u001b[0mmode\u001b[0m \u001b[0;34m==\u001b[0m \u001b[0;34m'LSTM'\u001b[0m\u001b[0;34m:\u001b[0m\u001b[0;34m\u001b[0m\u001b[0m\n\u001b[1;32m    168\u001b[0m                 \u001b[0mhx\u001b[0m \u001b[0;34m=\u001b[0m \u001b[0;34m(\u001b[0m\u001b[0mhx\u001b[0m\u001b[0;34m,\u001b[0m \u001b[0mhx\u001b[0m\u001b[0;34m)\u001b[0m\u001b[0;34m\u001b[0m\u001b[0m\n",
      "\u001b[0;31mRuntimeError\u001b[0m: cuda runtime error (11) : invalid argument at /opt/conda/conda-bld/pytorch_1524586445097/work/aten/src/THC/generic/THCTensorMath.cu:35"
     ]
    }
   ],
   "source": [
    "lstm.lstm(batch)"
   ]
  },
  {
   "cell_type": "code",
   "execution_count": 30,
   "metadata": {},
   "outputs": [],
   "source": [
    "batch = batch/batch.std()"
   ]
  },
  {
   "cell_type": "code",
   "execution_count": 20,
   "metadata": {},
   "outputs": [
    {
     "data": {
      "text/plain": [
       "torch.Size([75, 1, 128, 370])"
      ]
     },
     "execution_count": 20,
     "metadata": {},
     "output_type": "execute_result"
    }
   ],
   "source": [
    "batch.shape"
   ]
  },
  {
   "cell_type": "code",
   "execution_count": 21,
   "metadata": {},
   "outputs": [
    {
     "ename": "RuntimeError",
     "evalue": "cuda runtime error (2) : out of memory at /opt/conda/conda-bld/pytorch_1524586445097/work/aten/src/THC/generic/THCStorage.cu:58",
     "output_type": "error",
     "traceback": [
      "\u001b[0;31m---------------------------------------------------------------------------\u001b[0m",
      "\u001b[0;31mRuntimeError\u001b[0m                              Traceback (most recent call last)",
      "\u001b[0;32m<ipython-input-21-350d7df5b42a>\u001b[0m in \u001b[0;36m<module>\u001b[0;34m()\u001b[0m\n\u001b[0;32m----> 1\u001b[0;31m \u001b[0mcnn\u001b[0m\u001b[0;34m(\u001b[0m\u001b[0mbatch\u001b[0m\u001b[0;34m[\u001b[0m\u001b[0;36m0\u001b[0m\u001b[0;34m:\u001b[0m\u001b[0;36m2\u001b[0m\u001b[0;34m]\u001b[0m\u001b[0;34m)\u001b[0m\u001b[0;34m\u001b[0m\u001b[0m\n\u001b[0m",
      "\u001b[0;32m~/anaconda3/envs/tensorflow-gpu/lib/python3.6/site-packages/torch/nn/modules/module.py\u001b[0m in \u001b[0;36m__call__\u001b[0;34m(self, *input, **kwargs)\u001b[0m\n\u001b[1;32m    489\u001b[0m             \u001b[0mresult\u001b[0m \u001b[0;34m=\u001b[0m \u001b[0mself\u001b[0m\u001b[0;34m.\u001b[0m\u001b[0m_slow_forward\u001b[0m\u001b[0;34m(\u001b[0m\u001b[0;34m*\u001b[0m\u001b[0minput\u001b[0m\u001b[0;34m,\u001b[0m \u001b[0;34m**\u001b[0m\u001b[0mkwargs\u001b[0m\u001b[0;34m)\u001b[0m\u001b[0;34m\u001b[0m\u001b[0m\n\u001b[1;32m    490\u001b[0m         \u001b[0;32melse\u001b[0m\u001b[0;34m:\u001b[0m\u001b[0;34m\u001b[0m\u001b[0m\n\u001b[0;32m--> 491\u001b[0;31m             \u001b[0mresult\u001b[0m \u001b[0;34m=\u001b[0m \u001b[0mself\u001b[0m\u001b[0;34m.\u001b[0m\u001b[0mforward\u001b[0m\u001b[0;34m(\u001b[0m\u001b[0;34m*\u001b[0m\u001b[0minput\u001b[0m\u001b[0;34m,\u001b[0m \u001b[0;34m**\u001b[0m\u001b[0mkwargs\u001b[0m\u001b[0;34m)\u001b[0m\u001b[0;34m\u001b[0m\u001b[0m\n\u001b[0m\u001b[1;32m    492\u001b[0m         \u001b[0;32mfor\u001b[0m \u001b[0mhook\u001b[0m \u001b[0;32min\u001b[0m \u001b[0mself\u001b[0m\u001b[0;34m.\u001b[0m\u001b[0m_forward_hooks\u001b[0m\u001b[0;34m.\u001b[0m\u001b[0mvalues\u001b[0m\u001b[0;34m(\u001b[0m\u001b[0;34m)\u001b[0m\u001b[0;34m:\u001b[0m\u001b[0;34m\u001b[0m\u001b[0m\n\u001b[1;32m    493\u001b[0m             \u001b[0mhook_result\u001b[0m \u001b[0;34m=\u001b[0m \u001b[0mhook\u001b[0m\u001b[0;34m(\u001b[0m\u001b[0mself\u001b[0m\u001b[0;34m,\u001b[0m \u001b[0minput\u001b[0m\u001b[0;34m,\u001b[0m \u001b[0mresult\u001b[0m\u001b[0;34m)\u001b[0m\u001b[0;34m\u001b[0m\u001b[0m\n",
      "\u001b[0;32m<ipython-input-7-0c9efc7c90ac>\u001b[0m in \u001b[0;36mforward\u001b[0;34m(self, x)\u001b[0m\n\u001b[1;32m     29\u001b[0m \u001b[0;34m\u001b[0m\u001b[0m\n\u001b[1;32m     30\u001b[0m         \u001b[0my\u001b[0m \u001b[0;34m=\u001b[0m \u001b[0mF\u001b[0m\u001b[0;34m.\u001b[0m\u001b[0mrelu\u001b[0m\u001b[0;34m(\u001b[0m\u001b[0mself\u001b[0m\u001b[0;34m.\u001b[0m\u001b[0mconv5\u001b[0m\u001b[0;34m(\u001b[0m\u001b[0my\u001b[0m\u001b[0;34m)\u001b[0m\u001b[0;34m)\u001b[0m\u001b[0;34m\u001b[0m\u001b[0m\n\u001b[0;32m---> 31\u001b[0;31m         \u001b[0my\u001b[0m \u001b[0;34m=\u001b[0m \u001b[0mF\u001b[0m\u001b[0;34m.\u001b[0m\u001b[0mrelu\u001b[0m\u001b[0;34m(\u001b[0m\u001b[0mself\u001b[0m\u001b[0;34m.\u001b[0m\u001b[0mconv6\u001b[0m\u001b[0;34m(\u001b[0m\u001b[0my\u001b[0m\u001b[0;34m)\u001b[0m\u001b[0;34m)\u001b[0m\u001b[0;34m\u001b[0m\u001b[0m\n\u001b[0m\u001b[1;32m     32\u001b[0m         \u001b[0my\u001b[0m \u001b[0;34m=\u001b[0m \u001b[0mself\u001b[0m\u001b[0;34m.\u001b[0m\u001b[0mmaxpool2\u001b[0m\u001b[0;34m(\u001b[0m\u001b[0my\u001b[0m\u001b[0;34m)\u001b[0m\u001b[0;34m\u001b[0m\u001b[0m\n\u001b[1;32m     33\u001b[0m \u001b[0;34m\u001b[0m\u001b[0m\n",
      "\u001b[0;32m~/anaconda3/envs/tensorflow-gpu/lib/python3.6/site-packages/torch/nn/modules/module.py\u001b[0m in \u001b[0;36m__call__\u001b[0;34m(self, *input, **kwargs)\u001b[0m\n\u001b[1;32m    489\u001b[0m             \u001b[0mresult\u001b[0m \u001b[0;34m=\u001b[0m \u001b[0mself\u001b[0m\u001b[0;34m.\u001b[0m\u001b[0m_slow_forward\u001b[0m\u001b[0;34m(\u001b[0m\u001b[0;34m*\u001b[0m\u001b[0minput\u001b[0m\u001b[0;34m,\u001b[0m \u001b[0;34m**\u001b[0m\u001b[0mkwargs\u001b[0m\u001b[0;34m)\u001b[0m\u001b[0;34m\u001b[0m\u001b[0m\n\u001b[1;32m    490\u001b[0m         \u001b[0;32melse\u001b[0m\u001b[0;34m:\u001b[0m\u001b[0;34m\u001b[0m\u001b[0m\n\u001b[0;32m--> 491\u001b[0;31m             \u001b[0mresult\u001b[0m \u001b[0;34m=\u001b[0m \u001b[0mself\u001b[0m\u001b[0;34m.\u001b[0m\u001b[0mforward\u001b[0m\u001b[0;34m(\u001b[0m\u001b[0;34m*\u001b[0m\u001b[0minput\u001b[0m\u001b[0;34m,\u001b[0m \u001b[0;34m**\u001b[0m\u001b[0mkwargs\u001b[0m\u001b[0;34m)\u001b[0m\u001b[0;34m\u001b[0m\u001b[0m\n\u001b[0m\u001b[1;32m    492\u001b[0m         \u001b[0;32mfor\u001b[0m \u001b[0mhook\u001b[0m \u001b[0;32min\u001b[0m \u001b[0mself\u001b[0m\u001b[0;34m.\u001b[0m\u001b[0m_forward_hooks\u001b[0m\u001b[0;34m.\u001b[0m\u001b[0mvalues\u001b[0m\u001b[0;34m(\u001b[0m\u001b[0;34m)\u001b[0m\u001b[0;34m:\u001b[0m\u001b[0;34m\u001b[0m\u001b[0m\n\u001b[1;32m    493\u001b[0m             \u001b[0mhook_result\u001b[0m \u001b[0;34m=\u001b[0m \u001b[0mhook\u001b[0m\u001b[0;34m(\u001b[0m\u001b[0mself\u001b[0m\u001b[0;34m,\u001b[0m \u001b[0minput\u001b[0m\u001b[0;34m,\u001b[0m \u001b[0mresult\u001b[0m\u001b[0;34m)\u001b[0m\u001b[0;34m\u001b[0m\u001b[0m\n",
      "\u001b[0;32m~/anaconda3/envs/tensorflow-gpu/lib/python3.6/site-packages/torch/nn/modules/conv.py\u001b[0m in \u001b[0;36mforward\u001b[0;34m(self, input)\u001b[0m\n\u001b[1;32m    299\u001b[0m     \u001b[0;32mdef\u001b[0m \u001b[0mforward\u001b[0m\u001b[0;34m(\u001b[0m\u001b[0mself\u001b[0m\u001b[0;34m,\u001b[0m \u001b[0minput\u001b[0m\u001b[0;34m)\u001b[0m\u001b[0;34m:\u001b[0m\u001b[0;34m\u001b[0m\u001b[0m\n\u001b[1;32m    300\u001b[0m         return F.conv2d(input, self.weight, self.bias, self.stride,\n\u001b[0;32m--> 301\u001b[0;31m                         self.padding, self.dilation, self.groups)\n\u001b[0m\u001b[1;32m    302\u001b[0m \u001b[0;34m\u001b[0m\u001b[0m\n\u001b[1;32m    303\u001b[0m \u001b[0;34m\u001b[0m\u001b[0m\n",
      "\u001b[0;31mRuntimeError\u001b[0m: cuda runtime error (2) : out of memory at /opt/conda/conda-bld/pytorch_1524586445097/work/aten/src/THC/generic/THCStorage.cu:58"
     ]
    }
   ],
   "source": [
    "cnn(batch[0:2])"
   ]
  },
  {
   "cell_type": "code",
   "execution_count": 19,
   "metadata": {},
   "outputs": [
    {
     "data": {
      "text/plain": [
       "5093501440"
      ]
     },
     "execution_count": 19,
     "metadata": {},
     "output_type": "execute_result"
    }
   ],
   "source": [
    "torch.cuda.max_memory_allocated()"
   ]
  },
  {
   "cell_type": "code",
   "execution_count": 16,
   "metadata": {},
   "outputs": [],
   "source": [
    "torch.cuda.empty_cache()"
   ]
  },
  {
   "cell_type": "code",
   "execution_count": 69,
   "metadata": {},
   "outputs": [
    {
     "data": {
      "text/plain": [
       "torch.Size([150, 128, 370])"
      ]
     },
     "execution_count": 69,
     "metadata": {},
     "output_type": "execute_result"
    }
   ],
   "source": [
    "batch.shape"
   ]
  },
  {
   "cell_type": "code",
   "execution_count": 77,
   "metadata": {
    "scrolled": true
   },
   "outputs": [
    {
     "ename": "RuntimeError",
     "evalue": "cuda runtime error (2) : out of memory at /opt/conda/conda-bld/pytorch_1524586445097/work/aten/src/THC/generic/THCStorage.cu:58",
     "output_type": "error",
     "traceback": [
      "\u001b[0;31m---------------------------------------------------------------------------\u001b[0m",
      "\u001b[0;31mRuntimeError\u001b[0m                              Traceback (most recent call last)",
      "\u001b[0;32m<ipython-input-77-8c69d4c115fb>\u001b[0m in \u001b[0;36m<module>\u001b[0;34m()\u001b[0m\n\u001b[0;32m----> 1\u001b[0;31m \u001b[0mcnn\u001b[0m\u001b[0;34m.\u001b[0m\u001b[0mforward\u001b[0m\u001b[0;34m(\u001b[0m\u001b[0mbatch\u001b[0m\u001b[0;34m[\u001b[0m\u001b[0;36m0\u001b[0m\u001b[0;34m:\u001b[0m\u001b[0;36m1\u001b[0m\u001b[0;34m]\u001b[0m\u001b[0;34m)\u001b[0m\u001b[0;34m\u001b[0m\u001b[0m\n\u001b[0m",
      "\u001b[0;32m<ipython-input-32-f39a42c544b9>\u001b[0m in \u001b[0;36mforward\u001b[0;34m(self, x)\u001b[0m\n\u001b[1;32m     10\u001b[0m     \u001b[0;32mdef\u001b[0m \u001b[0mforward\u001b[0m\u001b[0;34m(\u001b[0m\u001b[0mself\u001b[0m\u001b[0;34m,\u001b[0m \u001b[0mx\u001b[0m\u001b[0;34m)\u001b[0m\u001b[0;34m:\u001b[0m\u001b[0;34m\u001b[0m\u001b[0m\n\u001b[1;32m     11\u001b[0m         \u001b[0mx\u001b[0m \u001b[0;34m=\u001b[0m \u001b[0mx\u001b[0m\u001b[0;34m.\u001b[0m\u001b[0mview\u001b[0m\u001b[0;34m(\u001b[0m\u001b[0mx\u001b[0m\u001b[0;34m.\u001b[0m\u001b[0mshape\u001b[0m\u001b[0;34m[\u001b[0m\u001b[0;36m0\u001b[0m\u001b[0;34m]\u001b[0m\u001b[0;34m,\u001b[0m \u001b[0;36m1\u001b[0m\u001b[0;34m,\u001b[0m \u001b[0mx\u001b[0m\u001b[0;34m.\u001b[0m\u001b[0mshape\u001b[0m\u001b[0;34m[\u001b[0m\u001b[0;36m1\u001b[0m\u001b[0;34m]\u001b[0m\u001b[0;34m,\u001b[0m \u001b[0mx\u001b[0m\u001b[0;34m.\u001b[0m\u001b[0mshape\u001b[0m\u001b[0;34m[\u001b[0m\u001b[0;36m2\u001b[0m\u001b[0;34m]\u001b[0m\u001b[0;34m)\u001b[0m\u001b[0;34m\u001b[0m\u001b[0m\n\u001b[0;32m---> 12\u001b[0;31m         \u001b[0my\u001b[0m \u001b[0;34m=\u001b[0m \u001b[0mself\u001b[0m\u001b[0;34m.\u001b[0m\u001b[0mconv1\u001b[0m\u001b[0;34m(\u001b[0m\u001b[0mx\u001b[0m\u001b[0;34m)\u001b[0m\u001b[0;34m\u001b[0m\u001b[0m\n\u001b[0m\u001b[1;32m     13\u001b[0m         \u001b[0my\u001b[0m \u001b[0;34m=\u001b[0m \u001b[0mF\u001b[0m\u001b[0;34m.\u001b[0m\u001b[0mrelu\u001b[0m\u001b[0;34m(\u001b[0m\u001b[0mself\u001b[0m\u001b[0;34m.\u001b[0m\u001b[0mmaxpool2\u001b[0m\u001b[0;34m(\u001b[0m\u001b[0my\u001b[0m\u001b[0;34m)\u001b[0m\u001b[0;34m)\u001b[0m\u001b[0;34m\u001b[0m\u001b[0m\n\u001b[1;32m     14\u001b[0m         \u001b[0my\u001b[0m \u001b[0;34m=\u001b[0m \u001b[0mself\u001b[0m\u001b[0;34m.\u001b[0m\u001b[0mconv2\u001b[0m\u001b[0;34m(\u001b[0m\u001b[0my\u001b[0m\u001b[0;34m)\u001b[0m\u001b[0;34m\u001b[0m\u001b[0m\n",
      "\u001b[0;32m~/anaconda3/envs/tensorflow-gpu/lib/python3.6/site-packages/torch/nn/modules/module.py\u001b[0m in \u001b[0;36m__call__\u001b[0;34m(self, *input, **kwargs)\u001b[0m\n\u001b[1;32m    489\u001b[0m             \u001b[0mresult\u001b[0m \u001b[0;34m=\u001b[0m \u001b[0mself\u001b[0m\u001b[0;34m.\u001b[0m\u001b[0m_slow_forward\u001b[0m\u001b[0;34m(\u001b[0m\u001b[0;34m*\u001b[0m\u001b[0minput\u001b[0m\u001b[0;34m,\u001b[0m \u001b[0;34m**\u001b[0m\u001b[0mkwargs\u001b[0m\u001b[0;34m)\u001b[0m\u001b[0;34m\u001b[0m\u001b[0m\n\u001b[1;32m    490\u001b[0m         \u001b[0;32melse\u001b[0m\u001b[0;34m:\u001b[0m\u001b[0;34m\u001b[0m\u001b[0m\n\u001b[0;32m--> 491\u001b[0;31m             \u001b[0mresult\u001b[0m \u001b[0;34m=\u001b[0m \u001b[0mself\u001b[0m\u001b[0;34m.\u001b[0m\u001b[0mforward\u001b[0m\u001b[0;34m(\u001b[0m\u001b[0;34m*\u001b[0m\u001b[0minput\u001b[0m\u001b[0;34m,\u001b[0m \u001b[0;34m**\u001b[0m\u001b[0mkwargs\u001b[0m\u001b[0;34m)\u001b[0m\u001b[0;34m\u001b[0m\u001b[0m\n\u001b[0m\u001b[1;32m    492\u001b[0m         \u001b[0;32mfor\u001b[0m \u001b[0mhook\u001b[0m \u001b[0;32min\u001b[0m \u001b[0mself\u001b[0m\u001b[0;34m.\u001b[0m\u001b[0m_forward_hooks\u001b[0m\u001b[0;34m.\u001b[0m\u001b[0mvalues\u001b[0m\u001b[0;34m(\u001b[0m\u001b[0;34m)\u001b[0m\u001b[0;34m:\u001b[0m\u001b[0;34m\u001b[0m\u001b[0m\n\u001b[1;32m    493\u001b[0m             \u001b[0mhook_result\u001b[0m \u001b[0;34m=\u001b[0m \u001b[0mhook\u001b[0m\u001b[0;34m(\u001b[0m\u001b[0mself\u001b[0m\u001b[0;34m,\u001b[0m \u001b[0minput\u001b[0m\u001b[0;34m,\u001b[0m \u001b[0mresult\u001b[0m\u001b[0;34m)\u001b[0m\u001b[0;34m\u001b[0m\u001b[0m\n",
      "\u001b[0;32m~/anaconda3/envs/tensorflow-gpu/lib/python3.6/site-packages/torch/nn/modules/conv.py\u001b[0m in \u001b[0;36mforward\u001b[0;34m(self, input)\u001b[0m\n\u001b[1;32m    299\u001b[0m     \u001b[0;32mdef\u001b[0m \u001b[0mforward\u001b[0m\u001b[0;34m(\u001b[0m\u001b[0mself\u001b[0m\u001b[0;34m,\u001b[0m \u001b[0minput\u001b[0m\u001b[0;34m)\u001b[0m\u001b[0;34m:\u001b[0m\u001b[0;34m\u001b[0m\u001b[0m\n\u001b[1;32m    300\u001b[0m         return F.conv2d(input, self.weight, self.bias, self.stride,\n\u001b[0;32m--> 301\u001b[0;31m                         self.padding, self.dilation, self.groups)\n\u001b[0m\u001b[1;32m    302\u001b[0m \u001b[0;34m\u001b[0m\u001b[0m\n\u001b[1;32m    303\u001b[0m \u001b[0;34m\u001b[0m\u001b[0m\n",
      "\u001b[0;31mRuntimeError\u001b[0m: cuda runtime error (2) : out of memory at /opt/conda/conda-bld/pytorch_1524586445097/work/aten/src/THC/generic/THCStorage.cu:58"
     ]
    }
   ],
   "source": [
    "cnn.forward(batch[0:1])"
   ]
  },
  {
   "cell_type": "code",
   "execution_count": 54,
   "metadata": {},
   "outputs": [
    {
     "data": {
      "text/plain": [
       "torch.Size([1500, 128, 370])"
      ]
     },
     "execution_count": 54,
     "metadata": {},
     "output_type": "execute_result"
    }
   ],
   "source": [
    "batch.shape"
   ]
  },
  {
   "cell_type": "code",
   "execution_count": 47,
   "metadata": {},
   "outputs": [
    {
     "data": {
      "text/plain": [
       "torch.Size([50, 10, 128, 370])"
      ]
     },
     "execution_count": 47,
     "metadata": {},
     "output_type": "execute_result"
    }
   ],
   "source": [
    "batch.shape"
   ]
  },
  {
   "cell_type": "code",
   "execution_count": 51,
   "metadata": {},
   "outputs": [
    {
     "data": {
      "text/plain": [
       "1500"
      ]
     },
     "execution_count": 51,
     "metadata": {},
     "output_type": "execute_result"
    }
   ],
   "source": [
    "batch"
   ]
  },
  {
   "cell_type": "code",
   "execution_count": 48,
   "metadata": {},
   "outputs": [
    {
     "data": {
      "text/plain": [
       "47360"
      ]
     },
     "execution_count": 48,
     "metadata": {},
     "output_type": "execute_result"
    }
   ],
   "source": [
    "128*370"
   ]
  },
  {
   "cell_type": "code",
   "execution_count": 56,
   "metadata": {},
   "outputs": [],
   "source": []
  },
  {
   "cell_type": "code",
   "execution_count": 31,
   "metadata": {},
   "outputs": [
    {
     "data": {
      "text/plain": [
       "'./Distance_matrix/N=4, M=5/a'"
      ]
     },
     "execution_count": 31,
     "metadata": {},
     "output_type": "execute_result"
    }
   ],
   "source": [
    "os.path.join(ppath, 'a')"
   ]
  },
  {
   "cell_type": "code",
   "execution_count": 23,
   "metadata": {},
   "outputs": [
    {
     "data": {
      "text/plain": [
       "array(1.0124896, dtype=float32)"
      ]
     },
     "execution_count": 23,
     "metadata": {},
     "output_type": "execute_result"
    }
   ],
   "source": []
  },
  {
   "cell_type": "code",
   "execution_count": 92,
   "metadata": {},
   "outputs": [],
   "source": [
    "torch.save(cnn.state_dict(), './MNIST_models/cnn_N=8_M=100_KP=10_KN=100.state')"
   ]
  },
  {
   "cell_type": "code",
   "execution_count": 22,
   "metadata": {},
   "outputs": [
    {
     "data": {
      "text/plain": [
       "tensor([[ 0.0000,  0.0223,  0.0248,  ...,  0.0416,  0.0437,  0.0225],\n",
       "        [ 0.0223,  0.0000,  0.0329,  ...,  0.0429,  0.0642,  0.0250],\n",
       "        [ 0.0248,  0.0329,  0.0000,  ...,  0.0402,  0.0515,  0.0250],\n",
       "        ...,\n",
       "        [ 0.0416,  0.0429,  0.0402,  ...,  0.0000,  0.0376,  0.0334],\n",
       "        [ 0.0437,  0.0642,  0.0515,  ...,  0.0376,  0.0000,  0.0549],\n",
       "        [ 0.0225,  0.0250,  0.0250,  ...,  0.0334,  0.0549,  0.0000]], device='cuda:0')"
      ]
     },
     "execution_count": 22,
     "metadata": {},
     "output_type": "execute_result"
    }
   ],
   "source": [
    "distance_matrix(embeddings)"
   ]
  },
  {
   "cell_type": "code",
   "execution_count": 193,
   "metadata": {},
   "outputs": [
    {
     "data": {
      "text/plain": [
       "tensor(0.)"
      ]
     },
     "execution_count": 193,
     "metadata": {},
     "output_type": "execute_result"
    }
   ],
   "source": [
    "F.relu(hardest_positives-hardest_negatives+2).mean()"
   ]
  },
  {
   "cell_type": "code",
   "execution_count": 194,
   "metadata": {},
   "outputs": [
    {
     "data": {
      "image/png": "[encoded data removed]",
      "text/plain": [
       "<PIL.Image.Image image mode=RGB size=122x152 at 0x7F9F928AA748>"
      ]
     },
     "execution_count": 194,
     "metadata": {},
     "output_type": "execute_result"
    }
   ],
   "source": [
    "batch_to_img(batch)"
   ]
  },
  {
   "cell_type": "code",
   "execution_count": 29,
   "metadata": {},
   "outputs": [
    {
     "data": {
      "image/png": "[encoded data removed]",
      "text/plain": [
       "<Figure size 576x576 with 1 Axes>"
      ]
     },
     "metadata": {},
     "output_type": "display_data"
    }
   ],
   "source": [
    "distance_matrix_plot(D.cpu())"
   ]
  },
  {
   "cell_type": "code",
   "execution_count": null,
   "metadata": {},
   "outputs": [],
   "source": []
  },
  {
   "cell_type": "markdown",
   "metadata": {},
   "source": [
    "## Dataset de Teste"
   ]
  },
  {
   "cell_type": "code",
   "execution_count": 27,
   "metadata": {},
   "outputs": [],
   "source": [
    "from skimage import io"
   ]
  },
  {
   "cell_type": "code",
   "execution_count": 28,
   "metadata": {},
   "outputs": [],
   "source": [
    "user_dict_teste = get_user_dict('../dados/mnist/png/testing')"
   ]
  },
  {
   "cell_type": "code",
   "execution_count": 29,
   "metadata": {},
   "outputs": [],
   "source": [
    "L = sum([len(u) for _, u in user_dict_teste.items()])"
   ]
  },
  {
   "cell_type": "code",
   "execution_count": 30,
   "metadata": {},
   "outputs": [],
   "source": [
    "x_teste = torch.empty((L, 28, 28))\n",
    "y_teste = torch.empty(L)\n",
    "i = 0\n",
    "\n",
    "for label, files in user_dict_teste.items():\n",
    "    for file in files:\n",
    "        x_teste[i] = torch.tensor((io.imread(file))/255.0)\n",
    "        y_teste[i] = int(label)\n",
    "        i += 1"
   ]
  },
  {
   "cell_type": "code",
   "execution_count": 56,
   "metadata": {},
   "outputs": [
    {
     "data": {
      "text/plain": [
       "torch.Size([500, 28, 28])"
      ]
     },
     "execution_count": 56,
     "metadata": {},
     "output_type": "execute_result"
    }
   ],
   "source": [
    "x_teste[sample].shape"
   ]
  },
  {
   "cell_type": "code",
   "execution_count": 58,
   "metadata": {},
   "outputs": [],
   "source": [
    "cnn = cnn.cpu()"
   ]
  },
  {
   "cell_type": "code",
   "execution_count": 82,
   "metadata": {},
   "outputs": [
    {
     "ename": "KeyboardInterrupt",
     "evalue": "",
     "output_type": "error",
     "traceback": [
      "\u001b[0;31m---------------------------------------------------------------------------\u001b[0m",
      "\u001b[0;31mKeyboardInterrupt\u001b[0m                         Traceback (most recent call last)",
      "\u001b[0;32m<ipython-input-82-2681036d6786>\u001b[0m in \u001b[0;36m<module>\u001b[0;34m()\u001b[0m\n\u001b[1;32m      2\u001b[0m \u001b[0msample\u001b[0m \u001b[0;34m=\u001b[0m \u001b[0mnp\u001b[0m\u001b[0;34m.\u001b[0m\u001b[0mrandom\u001b[0m\u001b[0;34m.\u001b[0m\u001b[0mchoice\u001b[0m\u001b[0;34m(\u001b[0m\u001b[0mnp\u001b[0m\u001b[0;34m.\u001b[0m\u001b[0marange\u001b[0m\u001b[0;34m(\u001b[0m\u001b[0mL\u001b[0m\u001b[0;34m)\u001b[0m\u001b[0;34m,\u001b[0m \u001b[0mfirst\u001b[0m\u001b[0;34m,\u001b[0m \u001b[0mreplace\u001b[0m\u001b[0;34m=\u001b[0m\u001b[0;32mFalse\u001b[0m\u001b[0;34m)\u001b[0m\u001b[0;34m\u001b[0m\u001b[0m\n\u001b[1;32m      3\u001b[0m \u001b[0;34m\u001b[0m\u001b[0m\n\u001b[0;32m----> 4\u001b[0;31m \u001b[0memb_teste\u001b[0m \u001b[0;34m=\u001b[0m \u001b[0mcnn\u001b[0m\u001b[0;34m.\u001b[0m\u001b[0mforward\u001b[0m\u001b[0;34m(\u001b[0m\u001b[0mx_teste\u001b[0m\u001b[0;34m[\u001b[0m\u001b[0msample\u001b[0m\u001b[0;34m]\u001b[0m\u001b[0;34m.\u001b[0m\u001b[0mcpu\u001b[0m\u001b[0;34m(\u001b[0m\u001b[0;34m)\u001b[0m\u001b[0;34m)\u001b[0m\u001b[0;34m\u001b[0m\u001b[0m\n\u001b[0m\u001b[1;32m      5\u001b[0m \u001b[0my_teste_f\u001b[0m \u001b[0;34m=\u001b[0m \u001b[0my_teste\u001b[0m\u001b[0;34m[\u001b[0m\u001b[0msample\u001b[0m\u001b[0;34m]\u001b[0m\u001b[0;34m\u001b[0m\u001b[0m\n",
      "\u001b[0;32m<ipython-input-16-ffef35f5f8af>\u001b[0m in \u001b[0;36mforward\u001b[0;34m(self, x)\u001b[0m\n\u001b[1;32m     12\u001b[0m         \u001b[0my\u001b[0m \u001b[0;34m=\u001b[0m \u001b[0mself\u001b[0m\u001b[0;34m.\u001b[0m\u001b[0mconv1\u001b[0m\u001b[0;34m(\u001b[0m\u001b[0mx\u001b[0m\u001b[0;34m)\u001b[0m\u001b[0;34m\u001b[0m\u001b[0m\n\u001b[1;32m     13\u001b[0m         \u001b[0my\u001b[0m \u001b[0;34m=\u001b[0m \u001b[0mF\u001b[0m\u001b[0;34m.\u001b[0m\u001b[0mrelu\u001b[0m\u001b[0;34m(\u001b[0m\u001b[0mself\u001b[0m\u001b[0;34m.\u001b[0m\u001b[0mmaxpool2\u001b[0m\u001b[0;34m(\u001b[0m\u001b[0my\u001b[0m\u001b[0;34m)\u001b[0m\u001b[0;34m)\u001b[0m\u001b[0;34m\u001b[0m\u001b[0m\n\u001b[0;32m---> 14\u001b[0;31m         \u001b[0my\u001b[0m \u001b[0;34m=\u001b[0m \u001b[0mself\u001b[0m\u001b[0;34m.\u001b[0m\u001b[0mconv2\u001b[0m\u001b[0;34m(\u001b[0m\u001b[0my\u001b[0m\u001b[0;34m)\u001b[0m\u001b[0;34m\u001b[0m\u001b[0m\n\u001b[0m\u001b[1;32m     15\u001b[0m         \u001b[0my\u001b[0m \u001b[0;34m=\u001b[0m \u001b[0mF\u001b[0m\u001b[0;34m.\u001b[0m\u001b[0mrelu\u001b[0m\u001b[0;34m(\u001b[0m\u001b[0mself\u001b[0m\u001b[0;34m.\u001b[0m\u001b[0mmaxpool2\u001b[0m\u001b[0;34m(\u001b[0m\u001b[0my\u001b[0m\u001b[0;34m)\u001b[0m\u001b[0;34m)\u001b[0m\u001b[0;34m\u001b[0m\u001b[0m\n\u001b[1;32m     16\u001b[0m         \u001b[0my\u001b[0m \u001b[0;34m=\u001b[0m \u001b[0my\u001b[0m\u001b[0;34m.\u001b[0m\u001b[0mview\u001b[0m\u001b[0;34m(\u001b[0m\u001b[0mx\u001b[0m\u001b[0;34m.\u001b[0m\u001b[0mshape\u001b[0m\u001b[0;34m[\u001b[0m\u001b[0;36m0\u001b[0m\u001b[0;34m]\u001b[0m\u001b[0;34m,\u001b[0m \u001b[0my\u001b[0m\u001b[0;34m.\u001b[0m\u001b[0mshape\u001b[0m\u001b[0;34m[\u001b[0m\u001b[0;36m1\u001b[0m\u001b[0;34m]\u001b[0m\u001b[0;34m*\u001b[0m\u001b[0my\u001b[0m\u001b[0;34m.\u001b[0m\u001b[0mshape\u001b[0m\u001b[0;34m[\u001b[0m\u001b[0;36m2\u001b[0m\u001b[0;34m]\u001b[0m\u001b[0;34m*\u001b[0m\u001b[0my\u001b[0m\u001b[0;34m.\u001b[0m\u001b[0mshape\u001b[0m\u001b[0;34m[\u001b[0m\u001b[0;36m3\u001b[0m\u001b[0;34m]\u001b[0m\u001b[0;34m)\u001b[0m\u001b[0;34m\u001b[0m\u001b[0m\n",
      "\u001b[0;32m~/anaconda3/envs/tensorflow-gpu/lib/python3.6/site-packages/torch/nn/modules/module.py\u001b[0m in \u001b[0;36m__call__\u001b[0;34m(self, *input, **kwargs)\u001b[0m\n\u001b[1;32m    489\u001b[0m             \u001b[0mresult\u001b[0m \u001b[0;34m=\u001b[0m \u001b[0mself\u001b[0m\u001b[0;34m.\u001b[0m\u001b[0m_slow_forward\u001b[0m\u001b[0;34m(\u001b[0m\u001b[0;34m*\u001b[0m\u001b[0minput\u001b[0m\u001b[0;34m,\u001b[0m \u001b[0;34m**\u001b[0m\u001b[0mkwargs\u001b[0m\u001b[0;34m)\u001b[0m\u001b[0;34m\u001b[0m\u001b[0m\n\u001b[1;32m    490\u001b[0m         \u001b[0;32melse\u001b[0m\u001b[0;34m:\u001b[0m\u001b[0;34m\u001b[0m\u001b[0m\n\u001b[0;32m--> 491\u001b[0;31m             \u001b[0mresult\u001b[0m \u001b[0;34m=\u001b[0m \u001b[0mself\u001b[0m\u001b[0;34m.\u001b[0m\u001b[0mforward\u001b[0m\u001b[0;34m(\u001b[0m\u001b[0;34m*\u001b[0m\u001b[0minput\u001b[0m\u001b[0;34m,\u001b[0m \u001b[0;34m**\u001b[0m\u001b[0mkwargs\u001b[0m\u001b[0;34m)\u001b[0m\u001b[0;34m\u001b[0m\u001b[0m\n\u001b[0m\u001b[1;32m    492\u001b[0m         \u001b[0;32mfor\u001b[0m \u001b[0mhook\u001b[0m \u001b[0;32min\u001b[0m \u001b[0mself\u001b[0m\u001b[0;34m.\u001b[0m\u001b[0m_forward_hooks\u001b[0m\u001b[0;34m.\u001b[0m\u001b[0mvalues\u001b[0m\u001b[0;34m(\u001b[0m\u001b[0;34m)\u001b[0m\u001b[0;34m:\u001b[0m\u001b[0;34m\u001b[0m\u001b[0m\n\u001b[1;32m    493\u001b[0m             \u001b[0mhook_result\u001b[0m \u001b[0;34m=\u001b[0m \u001b[0mhook\u001b[0m\u001b[0;34m(\u001b[0m\u001b[0mself\u001b[0m\u001b[0;34m,\u001b[0m \u001b[0minput\u001b[0m\u001b[0;34m,\u001b[0m \u001b[0mresult\u001b[0m\u001b[0;34m)\u001b[0m\u001b[0;34m\u001b[0m\u001b[0m\n",
      "\u001b[0;32m~/anaconda3/envs/tensorflow-gpu/lib/python3.6/site-packages/torch/nn/modules/conv.py\u001b[0m in \u001b[0;36mforward\u001b[0;34m(self, input)\u001b[0m\n\u001b[1;32m    299\u001b[0m     \u001b[0;32mdef\u001b[0m \u001b[0mforward\u001b[0m\u001b[0;34m(\u001b[0m\u001b[0mself\u001b[0m\u001b[0;34m,\u001b[0m \u001b[0minput\u001b[0m\u001b[0;34m)\u001b[0m\u001b[0;34m:\u001b[0m\u001b[0;34m\u001b[0m\u001b[0m\n\u001b[1;32m    300\u001b[0m         return F.conv2d(input, self.weight, self.bias, self.stride,\n\u001b[0;32m--> 301\u001b[0;31m                         self.padding, self.dilation, self.groups)\n\u001b[0m\u001b[1;32m    302\u001b[0m \u001b[0;34m\u001b[0m\u001b[0m\n\u001b[1;32m    303\u001b[0m \u001b[0;34m\u001b[0m\u001b[0m\n",
      "\u001b[0;31mKeyboardInterrupt\u001b[0m: "
     ]
    }
   ],
   "source": [
    "first = 5000\n",
    "sample = np.random.choice(np.arange(L), first, replace=False)\n",
    "\n",
    "emb_teste = cnn.forward(x_teste[sample].cpu())\n",
    "y_teste_f = y_teste[sample]"
   ]
  },
  {
   "cell_type": "code",
   "execution_count": 84,
   "metadata": {},
   "outputs": [],
   "source": [
    "emb_teste = emb_teste.cpu()"
   ]
  },
  {
   "cell_type": "markdown",
   "metadata": {},
   "source": [
    "### PCA"
   ]
  },
  {
   "cell_type": "code",
   "execution_count": 74,
   "metadata": {},
   "outputs": [],
   "source": [
    "from sklearn.manifold import TSNE\n",
    "import pandas as pd\n",
    "from plotnine import *"
   ]
  },
  {
   "cell_type": "code",
   "execution_count": 75,
   "metadata": {},
   "outputs": [],
   "source": [
    "emb_teste_tsne = TSNE(n_components=2).fit_transform(emb_teste.detach().numpy())"
   ]
  },
  {
   "cell_type": "code",
   "execution_count": 79,
   "metadata": {},
   "outputs": [],
   "source": [
    "df = pd.DataFrame({'TSNE-PC1': emb_teste_tsne[:,0], 'TSNE-PC2': emb_teste_tsne[:,1], 'y': y_teste_f})\n",
    "df['y'] = df['y'].astype('category')"
   ]
  },
  {
   "cell_type": "code",
   "execution_count": 81,
   "metadata": {},
   "outputs": [
    {
     "data": {
      "image/png": "[encoded data removed]",
      "text/plain": [
       "<Figure size 640x480 with 1 Axes>"
      ]
     },
     "metadata": {},
     "output_type": "display_data"
    },
    {
     "data": {
      "text/plain": [
       "<ggplot: (8762199568420)>"
      ]
     },
     "execution_count": 81,
     "metadata": {},
     "output_type": "execute_result"
    }
   ],
   "source": [
    "(ggplot(df, aes('TSNE-PC1', 'TSNE-PC2', color = 'y')) +\n",
    "geom_point())"
   ]
  },
  {
   "cell_type": "markdown",
   "metadata": {},
   "source": [
    "------------"
   ]
  }
 ],
 "metadata": {
  "kernelspec": {
   "display_name": "Tensorflow-GPU",
   "language": "python",
   "name": "tensorflow-gpu"
  },
  "language_info": {
   "codemirror_mode": {
    "name": "ipython",
    "version": 3
   },
   "file_extension": ".py",
   "mimetype": "text/x-python",
   "name": "python",
   "nbconvert_exporter": "python",
   "pygments_lexer": "ipython3",
   "version": "3.6.6"
  }
 },
 "nbformat": 4,
 "nbformat_minor": 2
}
