{
 "cells": [
  {
   "cell_type": "code",
   "execution_count": 1,
   "metadata": {},
   "outputs": [],
   "source": [
    "import os\n",
    "import torch\n",
    "import pandas as pd\n",
    "import numpy as np\n",
    "import matplotlib.pyplot as plt\n",
    "from skimage import io\n",
    "from torch.utils.data import Dataset, DataLoader"
   ]
  },
  {
   "cell_type": "code",
   "execution_count": 2,
   "metadata": {},
   "outputs": [
    {
     "data": {
      "text/plain": [
       "255"
      ]
     },
     "execution_count": 2,
     "metadata": {},
     "output_type": "execute_result"
    }
   ],
   "source": [
    "io.imread('../dados/png/id10011/01En9rUo_Co/00001.png').max()"
   ]
  },
  {
   "cell_type": "code",
   "execution_count": 3,
   "metadata": {},
   "outputs": [],
   "source": [
    "def get_file_paths(root_dir, break_output=False):\n",
    "    ''' \n",
    "    Obtem o nome dos arquivos dentro uma sequencia de diretorio na forma:\n",
    "    [ROOT_DIR]/[USER_ID]/[INTERVIEW_ID]/[AUDIO_CUT_FILENAME]\n",
    "    \n",
    "    break_output:\n",
    "        [TRUE]:\n",
    "        retorna uma lista com as tuplas ([ROOT_DIR], [USER_ID], [INTERVIEW_ID], [AUDIO_CUT_FILENAME])\n",
    "        \n",
    "        [FALSE]:\n",
    "        retorna o caminho completo dos arquivos\n",
    "    '''\n",
    "    \n",
    "    tuple_list, file_path = [], []\n",
    "    \n",
    "    for id in os.listdir(root_dir):\n",
    "        id_path = os.path.join(root_dir, id)\n",
    "        for rec in os.listdir(id_path):\n",
    "            cut_path = os.path.join(id_path, rec)\n",
    "            for cut in os.listdir(cut_path):\n",
    "                tuple_list.append((root_dir, id, rec, cut))\n",
    "                file_path.append(os.path.join(cut_path, cut))\n",
    "    if break_output:\n",
    "        return tuple_list\n",
    "    else:\n",
    "        return file_path"
   ]
  },
  {
   "cell_type": "code",
   "execution_count": 5,
   "metadata": {},
   "outputs": [],
   "source": [
    "def get_file_paths_wi(root_dir, break_output=False):\n",
    "    ''' \n",
    "    Obtem o nome dos arquivos dentro uma sequencia de diretorio na forma:\n",
    "    [ROOT_DIR]/[USER_ID]/[AUDIO_CUT_FILENAME]\n",
    "    \n",
    "    break_output:\n",
    "        [TRUE]:\n",
    "        retorna uma lista com as tuplas ([ROOT_DIR], [USER_ID], [AUDIO_CUT_FILENAME])\n",
    "        \n",
    "        [FALSE]:\n",
    "        retorna o caminho completo dos arquivos\n",
    "    '''\n",
    "    \n",
    "    tuple_list, file_path = [], []\n",
    "    \n",
    "    for id in os.listdir(root_dir):\n",
    "        id_path = os.path.join(root_dir, id)\n",
    "        for cut in os.listdir(id_path):\n",
    "            tuple_list.append((root_dir, id, cut))\n",
    "            file_path.append(os.path.join(id_path, cut))\n",
    "    if break_output:\n",
    "        return tuple_list\n",
    "    else:\n",
    "        return file_path"
   ]
  },
  {
   "cell_type": "code",
   "execution_count": 9,
   "metadata": {},
   "outputs": [],
   "source": [
    "def get_user_dict(tuple_list):\n",
    "    '''\n",
    "    Converte as tuplas obtidas por get_file_paths para um\n",
    "    dicionário de formato {usuário: lista_arquivos}\n",
    "    '''\n",
    "    \n",
    "    user_list = np.unique([l[1] for l in tuple_list])\n",
    "    user_dict = {u:[] for u in user_list}\n",
    "    \n",
    "    for item in tuple_list:\n",
    "        user_dict[item[1]].append(os.path.join(*item))\n",
    "    \n",
    "    return user_dict"
   ]
  },
  {
   "cell_type": "markdown",
   "metadata": {},
   "source": [
    "------------"
   ]
  },
  {
   "cell_type": "code",
   "execution_count": 7,
   "metadata": {},
   "outputs": [],
   "source": [
    "meta_df = pd.read_csv('../dados/vox1_meta.csv', sep='\\t')"
   ]
  },
  {
   "cell_type": "code",
   "execution_count": 8,
   "metadata": {},
   "outputs": [],
   "source": [
    "file_tuples = get_file_paths('../dados/png/', break_output=True)"
   ]
  },
  {
   "cell_type": "code",
   "execution_count": 9,
   "metadata": {},
   "outputs": [],
   "source": [
    "user_dict = get_user_dict(file_tuples)"
   ]
  },
  {
   "cell_type": "markdown",
   "metadata": {},
   "source": [
    "--------"
   ]
  },
  {
   "cell_type": "markdown",
   "metadata": {},
   "source": [
    "### VoxForge"
   ]
  },
  {
   "cell_type": "code",
   "execution_count": 11,
   "metadata": {},
   "outputs": [],
   "source": [
    "file_tuples = get_file_paths_wi('../dados/VoxForge/', break_output=True)"
   ]
  },
  {
   "cell_type": "code",
   "execution_count": 12,
   "metadata": {},
   "outputs": [],
   "source": [
    "user_dict = get_user_dict(file_tuples)"
   ]
  },
  {
   "cell_type": "code",
   "execution_count": 17,
   "metadata": {},
   "outputs": [],
   "source": [
    "L = np.array([len(I) for u, I in user_dict.items()])"
   ]
  },
  {
   "cell_type": "code",
   "execution_count": 72,
   "metadata": {},
   "outputs": [
    {
     "data": {
      "text/plain": [
       "array([  10,   10,   20,   31,   10,   10,   20,   10,   10,   10,   30,\n",
       "         10,   10,   20,   40,   10,    9,   10,   10,    9,   20,   10,\n",
       "         39,   10,   10,   10,   30,    9,   90,   60,   10,   20,   10,\n",
       "         10,   10,   10,   20,   50,   10,   20,   10,   10,   10,   10,\n",
       "         10,   10,   10,   50,   10,   10,   20,   10,   30,   30,   10,\n",
       "         10,   10,   10,   10,   10,   10,   10,   10,   30,   10,   10,\n",
       "         10,   10,   10,   20,   10,   10,   20,   10,   10,   10,   10,\n",
       "         20,   30,   10,   10,   10,   10,   20,   10,   10,   10,   10,\n",
       "         10,   10,   10,   30,   30,   20,   20,   20,   10,   10,   10,\n",
       "         10,   10,   20,   10,   10,   10,   10,   30,   10,   10,   20,\n",
       "         10,   10,   20,   10,   10,   10,   10,   10,   10,   10,   10,\n",
       "         10,   20,   10,   10,   10,   10,   30,   10,   10,   20,   10,\n",
       "         10,   10,   10,   10,   10,    9,   10,   10,    8,   10,   10,\n",
       "        100,   10,    8,   20,   10,   10,   31,   10,   10,   10,   10,\n",
       "         10,   10,   10,   10,   30,   39,   10,   20,   10,   10,   10,\n",
       "         20,   40,   20,   10,   10,   20,   10,   10,   20,   10,   80,\n",
       "         10,  201,   20,   10,   10,   10,    9,   10,   10,   10, 1132])"
      ]
     },
     "execution_count": 72,
     "metadata": {},
     "output_type": "execute_result"
    }
   ],
   "source": [
    "L"
   ]
  },
  {
   "cell_type": "code",
   "execution_count": 384,
   "metadata": {},
   "outputs": [],
   "source": [
    "import librosa\n",
    "class VoxForgeDataset():\n",
    "    def __init__(self, user_dict, track_sample_nb = 4,  nmfcc = 20,\n",
    "                 time_length_out = 10, random_sample = True, ):\n",
    "        self.user_dict = user_dict\n",
    "        self.user_list = list(user_dict.keys())\n",
    "        self.track_sample_nb = track_sample_nb\n",
    "        self.nmfcc = nmfcc\n",
    "        self.time_length_out = time_length_out\n",
    "        self.random = random\n",
    "        \n",
    "        self.mu = torch.tensor([-5.8150446e+02,  5.8574814e+01, -1.5769012e+01,  2.9497856e+01,\n",
    "       -3.0364063e+00,  9.6325464e+00, -3.9697943e+00,  6.4738302e+00,\n",
    "        4.2940384e-01, -1.5302175e-01,  4.0125527e+00, -7.3204327e-01,\n",
    "        3.8707225e+00, -1.6280401e+00,  5.3383222e+00, -4.4675270e-01,\n",
    "        9.8805034e-01,  1.0246413e+00,  9.5436198e-01,  1.1207327e+00])\n",
    "        \n",
    "        self.sigma = torch.tensor([222.76077  ,  67.05642  ,  29.993023 ,  36.883797 ,  21.546772 ,\n",
    "        20.214285 ,  13.476505 ,  11.446193 ,  11.281956 ,  11.096421 ,\n",
    "         8.387646 ,   6.95369  ,   7.552599 ,   7.632005 ,   8.320139 ,\n",
    "         7.5118394,   7.2701526,   5.558756 ,   5.695844 ,   5.032095 ])       \n",
    "        \n",
    "    def __len__(self):\n",
    "        return len(self.user_list)\n",
    "    \n",
    "    def load_wav(self, fpath):\n",
    "        wav, sr = librosa.load(fpath)\n",
    "        wav = librosa.util.fix_length(wav, int(sr*self.time_length_out))\n",
    "        features = librosa.feature.mfcc(wav, sr)\n",
    "        \n",
    "        return (torch.tensor(features))/1\n",
    "    \n",
    "    def __getitem__(self, user_index):\n",
    "        user = self.user_list[user_index]\n",
    "        \n",
    "        if self.random:\n",
    "            instances_idx = np.random.choice(self.user_dict[user], size = self.track_sample_nb, \n",
    "                                    replace = False)\n",
    "        \n",
    "        result_array = torch.empty((self.track_sample_nb, self.nmfcc, 431))\n",
    "        \n",
    "        for i, f in enumerate(instances_idx):\n",
    "            result_array[i] = self.load_wav(f)\n",
    "        \n",
    "        for d in range(self.nmfcc):\n",
    "            result_array[:,d,:] = (result_array[:,d,:]-mu[d])/sigma[d]\n",
    "        \n",
    "        return(result_array)\n",
    "    "
   ]
  },
  {
   "cell_type": "code",
   "execution_count": 380,
   "metadata": {},
   "outputs": [],
   "source": [
    "v = VoxForgeDataset(user_dict, 8)"
   ]
  },
  {
   "cell_type": "code",
   "execution_count": 383,
   "metadata": {},
   "outputs": [
    {
     "ename": "TypeError",
     "evalue": "list indices must be integers or slices, not tuple",
     "output_type": "error",
     "traceback": [
      "\u001b[0;31m---------------------------------------------------------------------------\u001b[0m",
      "\u001b[0;31mTypeError\u001b[0m                                 Traceback (most recent call last)",
      "\u001b[0;32m<ipython-input-383-b1027c993e02>\u001b[0m in \u001b[0;36m<module>\u001b[0;34m()\u001b[0m\n\u001b[0;32m----> 1\u001b[0;31m \u001b[0mv\u001b[0m\u001b[0;34m[\u001b[0m\u001b[0;34m(\u001b[0m\u001b[0;36m0\u001b[0m\u001b[0;34m,\u001b[0m \u001b[0;32mFalse\u001b[0m\u001b[0;34m)\u001b[0m\u001b[0;34m]\u001b[0m\u001b[0;34m\u001b[0m\u001b[0m\n\u001b[0m",
      "\u001b[0;32m<ipython-input-373-75358f3a55ed>\u001b[0m in \u001b[0;36m__getitem__\u001b[0;34m(self, user_index)\u001b[0m\n\u001b[1;32m     31\u001b[0m \u001b[0;34m\u001b[0m\u001b[0m\n\u001b[1;32m     32\u001b[0m     \u001b[0;32mdef\u001b[0m \u001b[0m__getitem__\u001b[0m\u001b[0;34m(\u001b[0m\u001b[0mself\u001b[0m\u001b[0;34m,\u001b[0m \u001b[0muser_index\u001b[0m\u001b[0;34m)\u001b[0m\u001b[0;34m:\u001b[0m\u001b[0;34m\u001b[0m\u001b[0m\n\u001b[0;32m---> 33\u001b[0;31m         \u001b[0muser\u001b[0m \u001b[0;34m=\u001b[0m \u001b[0mself\u001b[0m\u001b[0;34m.\u001b[0m\u001b[0muser_list\u001b[0m\u001b[0;34m[\u001b[0m\u001b[0muser_index\u001b[0m\u001b[0;34m]\u001b[0m\u001b[0;34m\u001b[0m\u001b[0m\n\u001b[0m\u001b[1;32m     34\u001b[0m         instances_idx = np.random.choice(self.user_dict[user], size = self.track_sample_nb, \n\u001b[1;32m     35\u001b[0m                                     replace = False)\n",
      "\u001b[0;31mTypeError\u001b[0m: list indices must be integers or slices, not tuple"
     ]
    }
   ],
   "source": [
    "v[(0, False)]"
   ]
  },
  {
   "cell_type": "code",
   "execution_count": null,
   "metadata": {},
   "outputs": [],
   "source": [
    "def save_to_csv"
   ]
  },
  {
   "cell_type": "code",
   "execution_count": 378,
   "metadata": {},
   "outputs": [
    {
     "data": {
      "text/plain": [
       "tensor([[[ 4.7524e-01,  3.1448e-01,  1.1744e-01,  ..., -8.4012e-01,\n",
       "          -8.4012e-01, -8.4012e-01],\n",
       "         [ 4.9345e-01,  4.3154e-01,  6.6157e-02,  ..., -8.7352e-01,\n",
       "          -8.7352e-01, -8.7352e-01],\n",
       "         [ 1.1052e+00,  6.6090e-01, -3.3497e-01,  ...,  5.2576e-01,\n",
       "           5.2576e-01,  5.2576e-01],\n",
       "         ...,\n",
       "         [ 4.4656e-01,  4.7008e-01,  5.8045e-02,  ..., -1.8433e-01,\n",
       "          -1.8433e-01, -1.8433e-01],\n",
       "         [ 5.8862e-01,  9.8283e-01,  2.1543e-01,  ..., -1.6755e-01,\n",
       "          -1.6755e-01, -1.6755e-01],\n",
       "         [ 1.0750e+00,  1.2824e+00,  1.0008e+00,  ..., -2.2272e-01,\n",
       "          -2.2272e-01, -2.2272e-01]],\n",
       "\n",
       "        [[ 2.4900e-01,  2.4276e-01,  2.1341e-01,  ..., -4.0369e-01,\n",
       "          -4.0369e-01, -4.0369e-01],\n",
       "         [ 3.1680e-02, -1.2733e-02, -9.1196e-02,  ..., -8.7352e-01,\n",
       "          -8.7352e-01, -8.7352e-01],\n",
       "         [ 4.2584e-01,  2.8018e-01,  3.1054e-01,  ...,  5.2576e-01,\n",
       "           5.2576e-01,  5.2576e-01],\n",
       "         ...,\n",
       "         [ 5.8954e-01,  8.2064e-01,  7.3345e-01,  ..., -1.8433e-01,\n",
       "          -1.8433e-01, -1.8433e-01],\n",
       "         [ 4.1101e-01,  2.3552e-01, -2.4670e-01,  ..., -1.6755e-01,\n",
       "          -1.6755e-01, -1.6755e-01],\n",
       "         [-1.6517e-01,  1.7005e-02,  2.2668e-01,  ..., -2.2272e-01,\n",
       "          -2.2272e-01, -2.2272e-01]],\n",
       "\n",
       "        [[ 1.3098e-01,  1.4014e-01,  1.3476e-01,  ..., -6.2021e-01,\n",
       "          -6.2021e-01, -6.2021e-01],\n",
       "         [-1.5612e-01, -1.4456e-01, -1.4258e-01,  ..., -8.7352e-01,\n",
       "          -8.7352e-01, -8.7352e-01],\n",
       "         [ 9.5910e-02, -1.4692e-01, -1.4867e-01,  ...,  5.2576e-01,\n",
       "           5.2576e-01,  5.2576e-01],\n",
       "         ...,\n",
       "         [ 1.7172e+00,  5.0637e-01, -6.2317e-01,  ..., -1.8433e-01,\n",
       "          -1.8433e-01, -1.8433e-01],\n",
       "         [ 1.2405e+00,  2.2512e-01, -7.3063e-01,  ..., -1.6755e-01,\n",
       "          -1.6755e-01, -1.6755e-01],\n",
       "         [ 8.6986e-01,  1.0313e+00,  1.2752e+00,  ..., -2.2272e-01,\n",
       "          -2.2272e-01, -2.2272e-01]],\n",
       "\n",
       "        ...,\n",
       "\n",
       "        [[ 4.6887e-01,  5.2092e-01,  5.0795e-01,  ..., -5.4578e-01,\n",
       "          -5.4578e-01, -5.4578e-01],\n",
       "         [-2.0339e-01, -1.4735e-01, -1.4526e-01,  ..., -8.7352e-01,\n",
       "          -8.7352e-01, -8.7352e-01],\n",
       "         [-7.4696e-01, -9.0200e-01, -9.2246e-01,  ...,  5.2576e-01,\n",
       "           5.2576e-01,  5.2576e-01],\n",
       "         ...,\n",
       "         [-7.3076e-01,  4.7654e-01,  8.0115e-01,  ..., -1.8433e-01,\n",
       "          -1.8433e-01, -1.8433e-01],\n",
       "         [-7.1558e-01,  1.6990e-01, -1.0911e-01,  ..., -1.6755e-01,\n",
       "          -1.6755e-01, -1.6755e-01],\n",
       "         [ 1.4237e+00,  1.5793e+00,  9.0572e-01,  ..., -2.2272e-01,\n",
       "          -2.2272e-01, -2.2272e-01]],\n",
       "\n",
       "        [[ 1.5739e-01,  1.6873e-01,  1.8181e-01,  ..., -5.5098e-01,\n",
       "          -5.5098e-01, -5.5098e-01],\n",
       "         [-4.0120e-02,  9.6112e-04,  2.4834e-02,  ..., -8.7352e-01,\n",
       "          -8.7352e-01, -8.7352e-01],\n",
       "         [-6.3992e-03,  2.2043e-01,  4.2375e-01,  ...,  5.2576e-01,\n",
       "           5.2576e-01,  5.2576e-01],\n",
       "         ...,\n",
       "         [ 1.4067e+00,  1.4099e+00,  1.1725e+00,  ..., -1.8433e-01,\n",
       "          -1.8433e-01, -1.8433e-01],\n",
       "         [ 9.8326e-01,  8.5030e-01,  1.3017e+00,  ..., -1.6755e-01,\n",
       "          -1.6755e-01, -1.6755e-01],\n",
       "         [ 1.4615e+00,  1.3910e+00,  1.2781e+00,  ..., -2.2272e-01,\n",
       "          -2.2272e-01, -2.2272e-01]],\n",
       "\n",
       "        [[ 1.3907e-01,  1.4034e-01,  1.2788e-01,  ...,  1.3649e-01,\n",
       "           1.4112e-01,  1.6014e-01],\n",
       "         [ 6.2154e-02,  5.4950e-02,  4.5450e-02,  ...,  6.4687e-02,\n",
       "          -4.9695e-02, -1.0640e-01],\n",
       "         [ 1.2681e-01,  1.5693e-01,  2.2202e-01,  ...,  2.8140e-01,\n",
       "           2.9217e-02, -9.0942e-02],\n",
       "         ...,\n",
       "         [ 7.7948e-01,  2.4776e-01, -2.7530e-01,  ...,  2.8248e-01,\n",
       "           8.0780e-01,  9.4995e-01],\n",
       "         [-1.6068e-02,  1.6608e-01,  2.4899e-01,  ...,  4.0488e-01,\n",
       "           5.5540e-01,  1.5290e-01],\n",
       "         [ 9.8651e-01,  1.8191e+00,  2.3412e+00,  ...,  1.5289e+00,\n",
       "           1.5965e+00,  7.8983e-01]]])"
      ]
     },
     "execution_count": 378,
     "metadata": {},
     "output_type": "execute_result"
    }
   ],
   "source": [
    "v[0]"
   ]
  },
  {
   "cell_type": "markdown",
   "metadata": {},
   "source": [
    "## Cálculo de mu e sigma\n",
    "\n",
    "mu = []\n",
    "sigma = []\n",
    "for i in range(20):\n",
    "    mu.append((x[:,i,:]).contiguous().view(-1).mean().detach().numpy())\n",
    "    sigma.append((x[:,i,:]).contiguous().view(-1).std().detach().numpy())\n",
    "mu = np.array(mu)\n",
    "sigma = np.array(sigma)"
   ]
  },
  {
   "cell_type": "markdown",
   "metadata": {},
   "source": [
    "### VoxCeleb"
   ]
  },
  {
   "cell_type": "code",
   "execution_count": 39,
   "metadata": {},
   "outputs": [],
   "source": [
    "class VoxCelebDataset():\n",
    "    def __init__(self, metadata, user_dict, track_sample_nb = 4, data_width = 128, data_height = 370, \n",
    "                 transformer=None):\n",
    "        self.metadata = metadata\n",
    "        self.user_dict = user_dict\n",
    "        self.user_list = list(user_dict.keys())\n",
    "        self.track_sample_nb = track_sample_nb\n",
    "        self.data_width = data_width\n",
    "        self.data_height = data_height\n",
    "        \n",
    "    def __len__(self):\n",
    "        return len(self.user_list)\n",
    "    \n",
    "    def load_img(self, fpath):\n",
    "        return torch.tensor((io.imread(fpath)[:,:,0])/255.0)\n",
    "    \n",
    "    def __getitem__(self, user_index):\n",
    "        user = self.user_list[user_index]\n",
    "        instances_idx = np.random.choice(self.user_dict[user], size = self.track_sample_nb, \n",
    "                                    replace = False)\n",
    "        \n",
    "        result_array = torch.empty((self.track_sample_nb, self.data_width, self.data_height))\n",
    "        \n",
    "        for i, f in enumerate(instances_idx):\n",
    "            result_array[i] = self.load_img(f)\n",
    "        \n",
    "        return(result_array)\n",
    "    "
   ]
  },
  {
   "cell_type": "code",
   "execution_count": 160,
   "metadata": {},
   "outputs": [],
   "source": [
    "Vox = VoxCelebDataset(meta_df, user_dict, track_sample_nb=6)"
   ]
  },
  {
   "cell_type": "code",
   "execution_count": 106,
   "metadata": {},
   "outputs": [],
   "source": [
    "Loader = DataLoader(Vox, batch_size=10, num_workers=4, shuffle=True)"
   ]
  },
  {
   "cell_type": "code",
   "execution_count": 107,
   "metadata": {},
   "outputs": [
    {
     "name": "stdout",
     "output_type": "stream",
     "text": [
      "CPU times: user 14 ms, sys: 41.3 ms, total: 55.2 ms\n",
      "Wall time: 2.82 s\n"
     ]
    }
   ],
   "source": [
    "%%time\n",
    "for i,v in enumerate(Loader):\n",
    "    if i == 10:\n",
    "        break"
   ]
  },
  {
   "cell_type": "code",
   "execution_count": 63,
   "metadata": {},
   "outputs": [
    {
     "name": "stdout",
     "output_type": "stream",
     "text": [
      "CPU times: user 23.2 ms, sys: 0 ns, total: 23.2 ms\n",
      "Wall time: 27.2 ms\n"
     ]
    },
    {
     "data": {
      "text/plain": [
       "torch.Size([10, 128, 370])"
      ]
     },
     "execution_count": 63,
     "metadata": {},
     "output_type": "execute_result"
    }
   ],
   "source": [
    "%%time\n",
    "Vox[0].shape"
   ]
  },
  {
   "cell_type": "code",
   "execution_count": 573,
   "metadata": {},
   "outputs": [],
   "source": [
    "class g(torch.nn.Module):\n",
    "    def __init__(self):\n",
    "        super(g, self).__init__()\n",
    "        self.M = torch.nn.Linear(128*370, 300)\n",
    "    \n",
    "    def forward(self, x):\n",
    "        res = self.M(x.view(x.shape[0], -1))\n",
    "        return res\n",
    "\n",
    "trans = g()\n",
    "margin = 0.1\n",
    "\n",
    "emb = trans(V)\n",
    "D = distance_matrix(emb)\n",
    "hardest_positives, hardest_negatives = get_hardest_points(D, M, N)\n",
    "loss = (torch.nn.ReLU()(hardest_positives -hardest_negatives   + margin)).sum()\n",
    "loss.backward()"
   ]
  },
  {
   "cell_type": "code",
   "execution_count": 574,
   "metadata": {
    "scrolled": true
   },
   "outputs": [
    {
     "name": "stderr",
     "output_type": "stream",
     "text": [
      "/home/pi/anaconda3/envs/tensorflow-gpu/lib/python3.6/site-packages/ipykernel_launcher.py:9: UserWarning: invalid index of a 0-dim tensor. This will be an error in PyTorch 0.5. Use tensor.item() to convert a 0-dim tensor to a Python number\n",
      "  if __name__ == '__main__':\n"
     ]
    },
    {
     "name": "stdout",
     "output_type": "stream",
     "text": [
      "loss: 1223.003418\n",
      "loss: 1223.003418\n",
      "loss: 1223.003418\n",
      "loss: 1223.003418\n",
      "loss: 1223.003418\n",
      "loss: 1223.003418\n",
      "loss: 1223.003418\n",
      "loss: 1223.003418\n",
      "loss: 1223.003418\n",
      "loss: 1223.003418\n"
     ]
    }
   ],
   "source": [
    "for i in range(10):\n",
    "    trans.zero_grad()\n",
    "    emb = trans(V)\n",
    "    D = distance_matrix(emb)\n",
    "    hardest_positives, hardest_negatives = get_hardest_points(D, M, N)\n",
    "    loss = (torch.nn.ReLU()(hardest_negatives + hardest_positives + margin)).sum()\n",
    "    loss.backward()\n",
    "    optimizer.step()\n",
    "    print('loss: %f' % (loss.data[0]))"
   ]
  },
  {
   "cell_type": "code",
   "execution_count": 531,
   "metadata": {},
   "outputs": [
    {
     "data": {
      "text/plain": [
       "<generator object Module.parameters at 0x7f9b4f1853b8>"
      ]
     },
     "execution_count": 531,
     "metadata": {},
     "output_type": "execute_result"
    }
   ],
   "source": [
    "trans.parameters()"
   ]
  },
  {
   "cell_type": "code",
   "execution_count": 431,
   "metadata": {},
   "outputs": [],
   "source": [
    "def distance_matrix(x):\n",
    "    x_norm = (x**2).sum(1).view(-1, 1)\n",
    "    dist = x_norm + x_norm.view(1, -1) - 2.0 * torch.mm(x, torch.transpose(x, 0, 1))\n",
    "    return torch.clamp(dist, 0.0, np.inf)\n",
    "\n",
    "def kronecker(matrix1, matrix2):\n",
    "    # Made by OCY, from the PyTorch forums\n",
    "    return torch.ger(matrix1.view(-1), matrix2.view(-1)).reshape(*(matrix1.size() + matrix2.size())).permute([0, 2, 1, 3]).reshape(matrix1.size(0) * matrix2.size(0), matrix1.size(1) * matrix2.size(1))\n"
   ]
  },
  {
   "cell_type": "code",
   "execution_count": 121,
   "metadata": {},
   "outputs": [
    {
     "name": "stdout",
     "output_type": "stream",
     "text": [
      "CPU times: user 193 ms, sys: 17 µs, total: 193 ms\n",
      "Wall time: 208 ms\n"
     ]
    }
   ],
   "source": [
    "%%time\n",
    "V = torch.cat([Vox[1], Vox[2], Vox[3], Vox[4], Vox[5], Vox[6], Vox[7], Vox[8], Vox[9]])"
   ]
  },
  {
   "cell_type": "code",
   "execution_count": 140,
   "metadata": {},
   "outputs": [
    {
     "data": {
      "text/plain": [
       "tensor([[ 0.,  1.,  2.],\n",
       "        [ 1.,  0.,  3.],\n",
       "        [ 2.,  3.,  0.]])"
      ]
     },
     "execution_count": 140,
     "metadata": {},
     "output_type": "execute_result"
    }
   ],
   "source": [
    "u = torch.tensor([\n",
    "    [0, 0, 0, 0],\n",
    "    [1, 0, 0, 0],\n",
    "    [0, 1, 1, 0]\n",
    "], dtype=torch.float32)\n",
    "\n",
    "pairwise_distances(u)"
   ]
  },
  {
   "cell_type": "code",
   "execution_count": 134,
   "metadata": {},
   "outputs": [
    {
     "data": {
      "text/plain": [
       "torch.Size([3, 4])"
      ]
     },
     "execution_count": 134,
     "metadata": {},
     "output_type": "execute_result"
    }
   ],
   "source": [
    "torch.tensor([\n",
    "    [0, 0, 0, 0],\n",
    "    [1, 0, 0, 0],\n",
    "    [0, 1, 1, 0]\n",
    "]).shape"
   ]
  },
  {
   "cell_type": "code",
   "execution_count": 271,
   "metadata": {},
   "outputs": [],
   "source": [
    "emb = trans.forward(V)\n",
    "D = pairwise_distances(emb)"
   ]
  },
  {
   "cell_type": "code",
   "execution_count": 448,
   "metadata": {},
   "outputs": [],
   "source": [
    "def get_hardest_points(D, M, N):\n",
    "    '''\n",
    "    \n",
    "    '''\n",
    "    \n",
    "    really_big_number = 1e10\n",
    "    M = 10\n",
    "    N = 9\n",
    "\n",
    "    same_user_mask = kronecker(\n",
    "        kronecker(torch.eye(N,N), torch.ones(1,M)),\n",
    "        torch.ones(M,1)\n",
    "    )\n",
    "\n",
    "    different_user_mask = really_big_number*same_user_mask+1 \n",
    "\n",
    "    hardest_positives = (same_user_mask*D).max(1)\n",
    "    hardest_negatives = ((different_user_mask*(D+1)-1)).min(1)\n",
    "\n",
    "    # safer (but slower) alternative:\n",
    "    # > negatives = D[(1-same_user_mask)==1].view(M*N, M*(N-1))\n",
    "    # > hardest_negatives = negatives.min(1)\n",
    "    \n",
    "    return hardest_positives[0], hardest_negatives[0]"
   ]
  },
  {
   "cell_type": "code",
   "execution_count": 566,
   "metadata": {},
   "outputs": [],
   "source": [
    "import torch.nn as nn"
   ]
  },
  {
   "cell_type": "code",
   "execution_count": null,
   "metadata": {},
   "outputs": [],
   "source": [
    "nn.Re"
   ]
  },
  {
   "cell_type": "code",
   "execution_count": 572,
   "metadata": {},
   "outputs": [
    {
     "data": {
      "text/plain": [
       "tensor([ 0.0970,  0.1387, -0.1648])"
      ]
     },
     "execution_count": 572,
     "metadata": {},
     "output_type": "execute_result"
    }
   ],
   "source": []
  },
  {
   "cell_type": "code",
   "execution_count": 475,
   "metadata": {},
   "outputs": [],
   "source": [
    "margin = 0.1\n",
    "\n",
    "\n",
    "\n",
    "hardest_positives, hardest_negatives = get_hardest_points(D, M, N)\n",
    "loss = torch.nn.ReLU()(hardest_negatives + hardest_positives + margin)"
   ]
  },
  {
   "cell_type": "code",
   "execution_count": 476,
   "metadata": {},
   "outputs": [
    {
     "ename": "RuntimeError",
     "evalue": "grad can be implicitly created only for scalar outputs",
     "output_type": "error",
     "traceback": [
      "\u001b[0;31m---------------------------------------------------------------------------\u001b[0m",
      "\u001b[0;31mRuntimeError\u001b[0m                              Traceback (most recent call last)",
      "\u001b[0;32m<ipython-input-476-52a0569421b1>\u001b[0m in \u001b[0;36m<module>\u001b[0;34m()\u001b[0m\n\u001b[0;32m----> 1\u001b[0;31m \u001b[0mloss\u001b[0m\u001b[0;34m.\u001b[0m\u001b[0mbackward\u001b[0m\u001b[0;34m(\u001b[0m\u001b[0;34m)\u001b[0m\u001b[0;34m\u001b[0m\u001b[0m\n\u001b[0m",
      "\u001b[0;32m~/anaconda3/envs/tensorflow-gpu/lib/python3.6/site-packages/torch/tensor.py\u001b[0m in \u001b[0;36mbackward\u001b[0;34m(self, gradient, retain_graph, create_graph)\u001b[0m\n\u001b[1;32m     91\u001b[0m                 \u001b[0mproducts\u001b[0m\u001b[0;34m.\u001b[0m \u001b[0mDefaults\u001b[0m \u001b[0mto\u001b[0m\u001b[0;31m \u001b[0m\u001b[0;31m`\u001b[0m\u001b[0;31m`\u001b[0m\u001b[0;32mFalse\u001b[0m\u001b[0;31m`\u001b[0m\u001b[0;31m`\u001b[0m\u001b[0;34m.\u001b[0m\u001b[0;34m\u001b[0m\u001b[0m\n\u001b[1;32m     92\u001b[0m         \"\"\"\n\u001b[0;32m---> 93\u001b[0;31m         \u001b[0mtorch\u001b[0m\u001b[0;34m.\u001b[0m\u001b[0mautograd\u001b[0m\u001b[0;34m.\u001b[0m\u001b[0mbackward\u001b[0m\u001b[0;34m(\u001b[0m\u001b[0mself\u001b[0m\u001b[0;34m,\u001b[0m \u001b[0mgradient\u001b[0m\u001b[0;34m,\u001b[0m \u001b[0mretain_graph\u001b[0m\u001b[0;34m,\u001b[0m \u001b[0mcreate_graph\u001b[0m\u001b[0;34m)\u001b[0m\u001b[0;34m\u001b[0m\u001b[0m\n\u001b[0m\u001b[1;32m     94\u001b[0m \u001b[0;34m\u001b[0m\u001b[0m\n\u001b[1;32m     95\u001b[0m     \u001b[0;32mdef\u001b[0m \u001b[0mregister_hook\u001b[0m\u001b[0;34m(\u001b[0m\u001b[0mself\u001b[0m\u001b[0;34m,\u001b[0m \u001b[0mhook\u001b[0m\u001b[0;34m)\u001b[0m\u001b[0;34m:\u001b[0m\u001b[0;34m\u001b[0m\u001b[0m\n",
      "\u001b[0;32m~/anaconda3/envs/tensorflow-gpu/lib/python3.6/site-packages/torch/autograd/__init__.py\u001b[0m in \u001b[0;36mbackward\u001b[0;34m(tensors, grad_tensors, retain_graph, create_graph, grad_variables)\u001b[0m\n\u001b[1;32m     81\u001b[0m         \u001b[0mgrad_tensors\u001b[0m \u001b[0;34m=\u001b[0m \u001b[0mlist\u001b[0m\u001b[0;34m(\u001b[0m\u001b[0mgrad_tensors\u001b[0m\u001b[0;34m)\u001b[0m\u001b[0;34m\u001b[0m\u001b[0m\n\u001b[1;32m     82\u001b[0m \u001b[0;34m\u001b[0m\u001b[0m\n\u001b[0;32m---> 83\u001b[0;31m     \u001b[0mgrad_tensors\u001b[0m \u001b[0;34m=\u001b[0m \u001b[0m_make_grads\u001b[0m\u001b[0;34m(\u001b[0m\u001b[0mtensors\u001b[0m\u001b[0;34m,\u001b[0m \u001b[0mgrad_tensors\u001b[0m\u001b[0;34m)\u001b[0m\u001b[0;34m\u001b[0m\u001b[0m\n\u001b[0m\u001b[1;32m     84\u001b[0m     \u001b[0;32mif\u001b[0m \u001b[0mretain_graph\u001b[0m \u001b[0;32mis\u001b[0m \u001b[0;32mNone\u001b[0m\u001b[0;34m:\u001b[0m\u001b[0;34m\u001b[0m\u001b[0m\n\u001b[1;32m     85\u001b[0m         \u001b[0mretain_graph\u001b[0m \u001b[0;34m=\u001b[0m \u001b[0mcreate_graph\u001b[0m\u001b[0;34m\u001b[0m\u001b[0m\n",
      "\u001b[0;32m~/anaconda3/envs/tensorflow-gpu/lib/python3.6/site-packages/torch/autograd/__init__.py\u001b[0m in \u001b[0;36m_make_grads\u001b[0;34m(outputs, grads)\u001b[0m\n\u001b[1;32m     25\u001b[0m             \u001b[0;32mif\u001b[0m \u001b[0mout\u001b[0m\u001b[0;34m.\u001b[0m\u001b[0mrequires_grad\u001b[0m\u001b[0;34m:\u001b[0m\u001b[0;34m\u001b[0m\u001b[0m\n\u001b[1;32m     26\u001b[0m                 \u001b[0;32mif\u001b[0m \u001b[0mout\u001b[0m\u001b[0;34m.\u001b[0m\u001b[0mnumel\u001b[0m\u001b[0;34m(\u001b[0m\u001b[0;34m)\u001b[0m \u001b[0;34m!=\u001b[0m \u001b[0;36m1\u001b[0m\u001b[0;34m:\u001b[0m\u001b[0;34m\u001b[0m\u001b[0m\n\u001b[0;32m---> 27\u001b[0;31m                     \u001b[0;32mraise\u001b[0m \u001b[0mRuntimeError\u001b[0m\u001b[0;34m(\u001b[0m\u001b[0;34m\"grad can be implicitly created only for scalar outputs\"\u001b[0m\u001b[0;34m)\u001b[0m\u001b[0;34m\u001b[0m\u001b[0m\n\u001b[0m\u001b[1;32m     28\u001b[0m                 \u001b[0mnew_grads\u001b[0m\u001b[0;34m.\u001b[0m\u001b[0mappend\u001b[0m\u001b[0;34m(\u001b[0m\u001b[0mtorch\u001b[0m\u001b[0;34m.\u001b[0m\u001b[0mones_like\u001b[0m\u001b[0;34m(\u001b[0m\u001b[0mout\u001b[0m\u001b[0;34m)\u001b[0m\u001b[0;34m)\u001b[0m\u001b[0;34m\u001b[0m\u001b[0m\n\u001b[1;32m     29\u001b[0m             \u001b[0;32melse\u001b[0m\u001b[0;34m:\u001b[0m\u001b[0;34m\u001b[0m\u001b[0m\n",
      "\u001b[0;31mRuntimeError\u001b[0m: grad can be implicitly created only for scalar outputs"
     ]
    }
   ],
   "source": [
    "loss.backward()"
   ]
  },
  {
   "cell_type": "code",
   "execution_count": null,
   "metadata": {},
   "outputs": [],
   "source": []
  },
  {
   "cell_type": "code",
   "execution_count": 472,
   "metadata": {},
   "outputs": [
    {
     "data": {
      "text/plain": [
       "tensor([ 11.0885,  14.5119,  12.2283,  13.6243,  13.5493,  12.1968,\n",
       "         11.2381,  13.3510,   9.7061,  11.2314,  15.0807,  14.8699,\n",
       "         11.8375,  14.7084,  13.2195,  18.4160,  12.3274,  20.4387,\n",
       "         16.1931,  18.8530,  16.8887,  15.3736,  14.6301,  15.6370,\n",
       "         14.3995,  15.7869,  11.8617,  16.9796,  12.6462,  18.9788,\n",
       "         15.5054,  10.7137,  13.4744,  12.0287,  15.4190,  10.5691,\n",
       "         14.0648,  12.3333,  11.7194,  10.9368,  19.2480,  13.4841,\n",
       "         17.4279,  11.4982,  13.9222,  14.1621,  19.0433,  12.6640,\n",
       "         13.5535,  16.4777,  10.4098,  17.5793,  12.8938,  16.5191,\n",
       "         15.7088,  11.2129,  12.7379,  12.9152,  15.9708,  13.5314,\n",
       "         16.7270,  16.1901,  11.0389,  14.4558,  17.2180,  12.4807,\n",
       "         17.2877,  14.2716,  13.3420,  14.2707,  16.6469,  16.7350,\n",
       "         19.8278,  12.2392,  17.3820,  12.0327,  12.0575,  17.9177,\n",
       "         12.6533,  11.7315,  12.5534,  11.8314,  12.5302,   9.8938,\n",
       "         10.2941,  10.7780,  13.4354,  10.3384,  15.5558,  12.4610])"
      ]
     },
     "execution_count": 472,
     "metadata": {},
     "output_type": "execute_result"
    }
   ],
   "source": [
    "loss(D)"
   ]
  },
  {
   "cell_type": "code",
   "execution_count": 456,
   "metadata": {},
   "outputs": [
    {
     "ename": "RuntimeError",
     "evalue": "bool value of Tensor with more than one value is ambiguous",
     "output_type": "error",
     "traceback": [
      "\u001b[0;31m---------------------------------------------------------------------------\u001b[0m",
      "\u001b[0;31mRuntimeError\u001b[0m                              Traceback (most recent call last)",
      "\u001b[0;32m~/anaconda3/envs/tensorflow-gpu/lib/python3.6/site-packages/IPython/core/formatters.py\u001b[0m in \u001b[0;36m__call__\u001b[0;34m(self, obj)\u001b[0m\n\u001b[1;32m    700\u001b[0m                 \u001b[0mtype_pprinters\u001b[0m\u001b[0;34m=\u001b[0m\u001b[0mself\u001b[0m\u001b[0;34m.\u001b[0m\u001b[0mtype_printers\u001b[0m\u001b[0;34m,\u001b[0m\u001b[0;34m\u001b[0m\u001b[0m\n\u001b[1;32m    701\u001b[0m                 deferred_pprinters=self.deferred_printers)\n\u001b[0;32m--> 702\u001b[0;31m             \u001b[0mprinter\u001b[0m\u001b[0;34m.\u001b[0m\u001b[0mpretty\u001b[0m\u001b[0;34m(\u001b[0m\u001b[0mobj\u001b[0m\u001b[0;34m)\u001b[0m\u001b[0;34m\u001b[0m\u001b[0m\n\u001b[0m\u001b[1;32m    703\u001b[0m             \u001b[0mprinter\u001b[0m\u001b[0;34m.\u001b[0m\u001b[0mflush\u001b[0m\u001b[0;34m(\u001b[0m\u001b[0;34m)\u001b[0m\u001b[0;34m\u001b[0m\u001b[0m\n\u001b[1;32m    704\u001b[0m             \u001b[0;32mreturn\u001b[0m \u001b[0mstream\u001b[0m\u001b[0;34m.\u001b[0m\u001b[0mgetvalue\u001b[0m\u001b[0;34m(\u001b[0m\u001b[0;34m)\u001b[0m\u001b[0;34m\u001b[0m\u001b[0m\n",
      "\u001b[0;32m~/anaconda3/envs/tensorflow-gpu/lib/python3.6/site-packages/IPython/lib/pretty.py\u001b[0m in \u001b[0;36mpretty\u001b[0;34m(self, obj)\u001b[0m\n\u001b[1;32m    398\u001b[0m                         \u001b[0;32mif\u001b[0m \u001b[0mcls\u001b[0m \u001b[0;32mis\u001b[0m \u001b[0;32mnot\u001b[0m \u001b[0mobject\u001b[0m\u001b[0;31m \u001b[0m\u001b[0;31m\\\u001b[0m\u001b[0;34m\u001b[0m\u001b[0m\n\u001b[1;32m    399\u001b[0m                                 \u001b[0;32mand\u001b[0m \u001b[0mcallable\u001b[0m\u001b[0;34m(\u001b[0m\u001b[0mcls\u001b[0m\u001b[0;34m.\u001b[0m\u001b[0m__dict__\u001b[0m\u001b[0;34m.\u001b[0m\u001b[0mget\u001b[0m\u001b[0;34m(\u001b[0m\u001b[0;34m'__repr__'\u001b[0m\u001b[0;34m)\u001b[0m\u001b[0;34m)\u001b[0m\u001b[0;34m:\u001b[0m\u001b[0;34m\u001b[0m\u001b[0m\n\u001b[0;32m--> 400\u001b[0;31m                             \u001b[0;32mreturn\u001b[0m \u001b[0m_repr_pprint\u001b[0m\u001b[0;34m(\u001b[0m\u001b[0mobj\u001b[0m\u001b[0;34m,\u001b[0m \u001b[0mself\u001b[0m\u001b[0;34m,\u001b[0m \u001b[0mcycle\u001b[0m\u001b[0;34m)\u001b[0m\u001b[0;34m\u001b[0m\u001b[0m\n\u001b[0m\u001b[1;32m    401\u001b[0m \u001b[0;34m\u001b[0m\u001b[0m\n\u001b[1;32m    402\u001b[0m             \u001b[0;32mreturn\u001b[0m \u001b[0m_default_pprint\u001b[0m\u001b[0;34m(\u001b[0m\u001b[0mobj\u001b[0m\u001b[0;34m,\u001b[0m \u001b[0mself\u001b[0m\u001b[0;34m,\u001b[0m \u001b[0mcycle\u001b[0m\u001b[0;34m)\u001b[0m\u001b[0;34m\u001b[0m\u001b[0m\n",
      "\u001b[0;32m~/anaconda3/envs/tensorflow-gpu/lib/python3.6/site-packages/IPython/lib/pretty.py\u001b[0m in \u001b[0;36m_repr_pprint\u001b[0;34m(obj, p, cycle)\u001b[0m\n\u001b[1;32m    693\u001b[0m     \u001b[0;34m\"\"\"A pprint that just redirects to the normal repr function.\"\"\"\u001b[0m\u001b[0;34m\u001b[0m\u001b[0m\n\u001b[1;32m    694\u001b[0m     \u001b[0;31m# Find newlines and replace them with p.break_()\u001b[0m\u001b[0;34m\u001b[0m\u001b[0;34m\u001b[0m\u001b[0m\n\u001b[0;32m--> 695\u001b[0;31m     \u001b[0moutput\u001b[0m \u001b[0;34m=\u001b[0m \u001b[0mrepr\u001b[0m\u001b[0;34m(\u001b[0m\u001b[0mobj\u001b[0m\u001b[0;34m)\u001b[0m\u001b[0;34m\u001b[0m\u001b[0m\n\u001b[0m\u001b[1;32m    696\u001b[0m     \u001b[0;32mfor\u001b[0m \u001b[0midx\u001b[0m\u001b[0;34m,\u001b[0m\u001b[0moutput_line\u001b[0m \u001b[0;32min\u001b[0m \u001b[0menumerate\u001b[0m\u001b[0;34m(\u001b[0m\u001b[0moutput\u001b[0m\u001b[0;34m.\u001b[0m\u001b[0msplitlines\u001b[0m\u001b[0;34m(\u001b[0m\u001b[0;34m)\u001b[0m\u001b[0;34m)\u001b[0m\u001b[0;34m:\u001b[0m\u001b[0;34m\u001b[0m\u001b[0m\n\u001b[1;32m    697\u001b[0m         \u001b[0;32mif\u001b[0m \u001b[0midx\u001b[0m\u001b[0;34m:\u001b[0m\u001b[0;34m\u001b[0m\u001b[0m\n",
      "\u001b[0;32m~/anaconda3/envs/tensorflow-gpu/lib/python3.6/site-packages/torch/nn/modules/module.py\u001b[0m in \u001b[0;36m__repr__\u001b[0;34m(self)\u001b[0m\n\u001b[1;32m    921\u001b[0m         \u001b[0;31m# We treat the extra repr like the sub-module, one item per line\u001b[0m\u001b[0;34m\u001b[0m\u001b[0;34m\u001b[0m\u001b[0m\n\u001b[1;32m    922\u001b[0m         \u001b[0mextra_lines\u001b[0m \u001b[0;34m=\u001b[0m \u001b[0;34m[\u001b[0m\u001b[0;34m]\u001b[0m\u001b[0;34m\u001b[0m\u001b[0m\n\u001b[0;32m--> 923\u001b[0;31m         \u001b[0mextra_repr\u001b[0m \u001b[0;34m=\u001b[0m \u001b[0mself\u001b[0m\u001b[0;34m.\u001b[0m\u001b[0mextra_repr\u001b[0m\u001b[0;34m(\u001b[0m\u001b[0;34m)\u001b[0m\u001b[0;34m\u001b[0m\u001b[0m\n\u001b[0m\u001b[1;32m    924\u001b[0m         \u001b[0;31m# empty string will be split into list ['']\u001b[0m\u001b[0;34m\u001b[0m\u001b[0;34m\u001b[0m\u001b[0m\n\u001b[1;32m    925\u001b[0m         \u001b[0;32mif\u001b[0m \u001b[0mextra_repr\u001b[0m\u001b[0;34m:\u001b[0m\u001b[0;34m\u001b[0m\u001b[0m\n",
      "\u001b[0;32m~/anaconda3/envs/tensorflow-gpu/lib/python3.6/site-packages/torch/nn/modules/activation.py\u001b[0m in \u001b[0;36mextra_repr\u001b[0;34m(self)\u001b[0m\n\u001b[1;32m     78\u001b[0m \u001b[0;34m\u001b[0m\u001b[0m\n\u001b[1;32m     79\u001b[0m     \u001b[0;32mdef\u001b[0m \u001b[0mextra_repr\u001b[0m\u001b[0;34m(\u001b[0m\u001b[0mself\u001b[0m\u001b[0;34m)\u001b[0m\u001b[0;34m:\u001b[0m\u001b[0;34m\u001b[0m\u001b[0m\n\u001b[0;32m---> 80\u001b[0;31m         \u001b[0minplace_str\u001b[0m \u001b[0;34m=\u001b[0m \u001b[0;34m'inplace'\u001b[0m \u001b[0;32mif\u001b[0m \u001b[0mself\u001b[0m\u001b[0;34m.\u001b[0m\u001b[0minplace\u001b[0m \u001b[0;32melse\u001b[0m \u001b[0;34m''\u001b[0m\u001b[0;34m\u001b[0m\u001b[0m\n\u001b[0m\u001b[1;32m     81\u001b[0m         \u001b[0;32mreturn\u001b[0m \u001b[0minplace_str\u001b[0m\u001b[0;34m\u001b[0m\u001b[0m\n\u001b[1;32m     82\u001b[0m \u001b[0;34m\u001b[0m\u001b[0m\n",
      "\u001b[0;31mRuntimeError\u001b[0m: bool value of Tensor with more than one value is ambiguous"
     ]
    }
   ],
   "source": [
    "loss(D)"
   ]
  },
  {
   "cell_type": "code",
   "execution_count": null,
   "metadata": {},
   "outputs": [],
   "source": []
  },
  {
   "cell_type": "code",
   "execution_count": 368,
   "metadata": {},
   "outputs": [
    {
     "data": {
      "text/plain": [
       "torch.Size([90, 90])"
      ]
     },
     "execution_count": 368,
     "metadata": {},
     "output_type": "execute_result"
    }
   ],
   "source": [
    "D[]"
   ]
  },
  {
   "cell_type": "code",
   "execution_count": null,
   "metadata": {},
   "outputs": [],
   "source": [
    "D[]"
   ]
  },
  {
   "cell_type": "code",
   "execution_count": 360,
   "metadata": {},
   "outputs": [
    {
     "data": {
      "text/plain": [
       "tensor([ 1.0000e+10,  9.7541e+10,  8.9792e+10,  9.3860e+10,  5.6661e+10,\n",
       "         8.0552e+10,  4.4842e+10,  8.9852e+10,  5.7680e+10,  4.3505e+10,\n",
       "         4.7847e+00,  3.8376e+00,  4.7846e+00,  8.7063e+00,  3.7524e+00,\n",
       "         7.0534e+00,  6.7328e+00,  1.0529e+01,  8.8969e+00,  1.1632e+01,\n",
       "         5.4617e+00,  2.9990e+00,  4.9727e+00,  2.6680e+00,  5.3545e+00,\n",
       "         1.0305e+01,  6.8470e+00,  5.1917e+00,  5.0938e+00,  1.2856e+01,\n",
       "         9.2625e+00,  2.2244e+00,  4.4887e+00,  4.1461e+00,  5.0989e+00,\n",
       "         5.9060e+00,  5.5514e+00,  4.2150e+00,  3.1955e+00,  2.4762e+00,\n",
       "         5.1661e+00,  3.5457e+00,  8.9557e+00,  5.0960e+00,  8.4678e+00,\n",
       "         3.5800e+00,  1.2611e+01,  6.7545e+00,  4.1121e+00,  5.4094e+00,\n",
       "         5.7156e+00,  1.0701e+01,  2.6608e+00,  5.3393e+00,  9.4434e+00,\n",
       "         5.6407e+00,  4.5329e+00,  7.0587e+00,  4.7659e+00,  2.9235e+00,\n",
       "         5.6144e+00,  3.8504e+00,  7.0776e+00,  9.7751e+00,  1.1873e+01,\n",
       "         8.0173e+00,  1.3555e+01,  2.6921e+00,  4.7526e+00,  9.1108e+00,\n",
       "         5.3177e+00,  5.6904e+00,  1.2250e+01,  7.0413e+00,  5.5087e+00,\n",
       "         5.6403e+00,  4.8580e+00,  9.0953e+00,  3.5544e+00,  4.9806e+00,\n",
       "         5.1928e+00,  5.5682e+00,  5.3628e+00,  4.0927e+00,  4.7695e+00,\n",
       "         3.3291e+00,  6.1726e+00,  5.1237e+00,  8.2246e+00,  6.2614e+00])"
      ]
     },
     "execution_count": 360,
     "metadata": {},
     "output_type": "execute_result"
    }
   ],
   "source": [
    "((different_user_mask*(D+1))-1)[:,0]"
   ]
  },
  {
   "cell_type": "code",
   "execution_count": 344,
   "metadata": {},
   "outputs": [
    {
     "data": {
      "text/plain": [
       "tensor([[  0.0000,   8.7541,   7.9792,  ...,   5.1237,   8.2246,\n",
       "           6.2614],\n",
       "        [  8.7541,   0.0000,   3.3163,  ...,   8.3416,   5.3144,\n",
       "           7.9884],\n",
       "        [  7.9792,   3.3163,   0.0000,  ...,   7.1251,   4.3994,\n",
       "           6.7765],\n",
       "        ...,\n",
       "        [  5.1237,   8.3416,   7.1251,  ...,   0.0000,   7.2331,\n",
       "           4.6928],\n",
       "        [  8.2246,   5.3144,   4.3994,  ...,   7.2331,   0.0000,\n",
       "           5.6951],\n",
       "        [  6.2614,   7.9884,   6.7765,  ...,   4.6928,   5.6951,\n",
       "           0.0000]])"
      ]
     },
     "execution_count": 344,
     "metadata": {},
     "output_type": "execute_result"
    }
   ],
   "source": [
    "D"
   ]
  },
  {
   "cell_type": "code",
   "execution_count": 342,
   "metadata": {},
   "outputs": [
    {
     "data": {
      "text/plain": [
       "tensor([ 0.0000e+00,  8.7541e+10,  7.9792e+10,  8.3860e+10,  4.6661e+10,\n",
       "         7.0552e+10,  3.4842e+10,  7.9852e+10,  4.7680e+10,  3.3505e+10,\n",
       "         4.7847e+00,  3.8376e+00,  4.7846e+00,  8.7063e+00,  3.7524e+00,\n",
       "         7.0534e+00,  6.7328e+00,  1.0529e+01,  8.8969e+00,  1.1632e+01,\n",
       "         5.4617e+00,  2.9990e+00,  4.9727e+00,  2.6680e+00,  5.3545e+00,\n",
       "         1.0305e+01,  6.8470e+00,  5.1917e+00,  5.0938e+00,  1.2856e+01,\n",
       "         9.2625e+00,  2.2244e+00,  4.4887e+00,  4.1461e+00,  5.0989e+00,\n",
       "         5.9060e+00,  5.5514e+00,  4.2150e+00,  3.1955e+00,  2.4762e+00,\n",
       "         5.1661e+00,  3.5457e+00,  8.9557e+00,  5.0960e+00,  8.4678e+00,\n",
       "         3.5800e+00,  1.2611e+01,  6.7545e+00,  4.1121e+00,  5.4094e+00,\n",
       "         5.7156e+00,  1.0701e+01,  2.6608e+00,  5.3393e+00,  9.4434e+00,\n",
       "         5.6407e+00,  4.5329e+00,  7.0587e+00,  4.7659e+00,  2.9235e+00,\n",
       "         5.6144e+00,  3.8504e+00,  7.0776e+00,  9.7751e+00,  1.1873e+01,\n",
       "         8.0173e+00,  1.3555e+01,  2.6921e+00,  4.7526e+00,  9.1108e+00,\n",
       "         5.3177e+00,  5.6904e+00,  1.2250e+01,  7.0413e+00,  5.5087e+00,\n",
       "         5.6403e+00,  4.8580e+00,  9.0953e+00,  3.5544e+00,  4.9806e+00,\n",
       "         5.1928e+00,  5.5682e+00,  5.3628e+00,  4.0927e+00,  4.7695e+00,\n",
       "         3.3291e+00,  6.1726e+00,  5.1237e+00,  8.2246e+00,  6.2614e+00])"
      ]
     },
     "execution_count": 342,
     "metadata": {},
     "output_type": "execute_result"
    }
   ],
   "source": [
    "(different_user_mask*D)[0,:]"
   ]
  },
  {
   "cell_type": "code",
   "execution_count": 341,
   "metadata": {},
   "outputs": [
    {
     "data": {
      "text/plain": [
       "(tensor([ 0.0000,  0.0000,  0.0000,  3.3433,  0.0000,  0.0000,  0.0000,\n",
       "          0.0000,  0.0000,  1.8134,  1.7330,  0.0000,  0.0000,  0.0000,\n",
       "          0.0000,  0.0000,  2.8182,  0.0000,  0.0000,  0.0000,  0.0000,\n",
       "          0.0000,  0.0000,  1.7583,  2.6761,  0.0000,  0.0000,  0.0000,\n",
       "          0.0000,  3.5636,  2.9711,  1.4847,  0.0000,  0.0000,  0.0000,\n",
       "          0.0000,  0.0000,  0.0000,  0.0000,  1.2000,  0.0000,  0.0000,\n",
       "          3.1204,  2.3440,  0.0000,  1.6198,  2.0641,  4.1699,  1.6411,\n",
       "          0.0000,  0.0000,  2.4214,  1.2000,  1.3612,  0.0000,  2.8618,\n",
       "          0.0000,  0.0000,  0.0000,  1.9198,  0.0000,  0.0000,  0.0000,\n",
       "          2.8857,  0.0000,  0.0000,  0.0000,  1.7851,  0.0000,  0.0000,\n",
       "          1.4581,  1.9910,  0.0000,  3.2786,  0.0000,  2.9327,  2.5973,\n",
       "          0.0000,  2.0648,  2.4756,  0.0000,  0.0000,  0.0000,  0.0000,\n",
       "          0.0000,  0.0000,  1.7899,  0.0000,  3.9103,  0.0000]),\n",
       " tensor([  0,   1,   2,  30,   4,   5,   6,   7,   8,  39,  33,  11,\n",
       "          12,  13,  14,  15,  50,  17,  18,  19,  20,  21,  22,  39,\n",
       "          79,  25,  26,  27,  28,  46,   1,  52,  32,  33,  34,  35,\n",
       "          36,  37,  38,  52,  40,  41,  57,  50,  44,  52,  66,  57,\n",
       "          39,  49,  50,  46,  39,  32,  54,   5,  56,  57,  58,  67,\n",
       "          60,  61,  62,  51,  64,  65,  66,  39,  68,  69,  33,  82,\n",
       "          72,  16,  74,   8,  12,  77,  14,  83,  80,  81,  82,  83,\n",
       "          84,  85,  32,  87,  57,  89]))"
      ]
     },
     "execution_count": 341,
     "metadata": {},
     "output_type": "execute_result"
    }
   ],
   "source": [
    "hardest_negatives"
   ]
  },
  {
   "cell_type": "code",
   "execution_count": 282,
   "metadata": {},
   "outputs": [
    {
     "data": {
      "text/plain": [
       "(tensor([ 0.,  0.,  0.,  0.,  0.,  0.,  0.,  0.,  0.,  0.,  0.,  0.,\n",
       "          0.,  0.,  0.,  0.,  0.,  0.,  0.,  0.,  0.,  0.,  0.,  0.,\n",
       "          0.,  0.,  0.,  0.,  0.,  0.,  0.,  0.,  0.,  0.,  0.,  0.,\n",
       "          0.,  0.,  0.,  0.,  0.,  0.,  0.,  0.,  0.,  0.,  0.,  0.,\n",
       "          0.,  0.,  0.,  0.,  0.,  0.,  0.,  0.,  0.,  0.,  0.,  0.,\n",
       "          0.,  0.,  0.,  0.,  0.,  0.,  0.,  0.,  0.,  0.,  0.,  0.,\n",
       "          0.,  0.,  0.,  0.,  0.,  0.,  0.,  0.,  0.,  0.,  0.,  0.,\n",
       "          0.,  0.,  0.,  0.,  0.,  0.]),\n",
       " tensor([  0,   0,   0,   0,   0,   0,   0,   0,   0,   0,  10,  10,\n",
       "          10,  10,  10,  10,  10,  10,  10,  10,  20,  20,  20,  20,\n",
       "          20,  20,  20,  20,  20,  20,  30,  30,  30,  30,  30,  30,\n",
       "          30,  30,  30,  30,  40,  40,  40,  40,  40,  40,  40,  40,\n",
       "          40,  40,  50,  50,  50,  50,  50,  50,  50,  50,  50,  50,\n",
       "          60,  60,  60,  60,  60,  60,  60,  60,  60,  60,  70,  70,\n",
       "          70,  70,  70,  70,  70,  70,  70,  70,  80,  80,  80,  80,\n",
       "          80,  80,  80,  80,  80,  80]))"
      ]
     },
     "execution_count": 282,
     "metadata": {},
     "output_type": "execute_result"
    }
   ],
   "source": [
    "hardest_negatives"
   ]
  },
  {
   "cell_type": "code",
   "execution_count": 280,
   "metadata": {},
   "outputs": [
    {
     "data": {
      "text/plain": [
       "tensor([  8.7541,   0.0000,   3.3163,   3.0686,  11.4308,   2.7855,\n",
       "          9.9204,   3.3555,   7.0190,   9.3080,   0.0000,   0.0000,\n",
       "          0.0000,   0.0000,   0.0000,   0.0000,   0.0000,   0.0000,\n",
       "          0.0000,   0.0000,   0.0000,   0.0000,   0.0000,   0.0000,\n",
       "          0.0000,   0.0000,   0.0000,   0.0000,   0.0000,   0.0000,\n",
       "          0.0000,   0.0000,   0.0000,   0.0000,   0.0000,   0.0000,\n",
       "          0.0000,   0.0000,   0.0000,   0.0000,   0.0000,   0.0000,\n",
       "          0.0000,   0.0000,   0.0000,   0.0000,   0.0000,   0.0000,\n",
       "          0.0000,   0.0000,   0.0000,   0.0000,   0.0000,   0.0000,\n",
       "          0.0000,   0.0000,   0.0000,   0.0000,   0.0000,   0.0000,\n",
       "          0.0000,   0.0000,   0.0000,   0.0000,   0.0000,   0.0000,\n",
       "          0.0000,   0.0000,   0.0000,   0.0000,   0.0000,   0.0000,\n",
       "          0.0000,   0.0000,   0.0000,   0.0000,   0.0000,   0.0000,\n",
       "          0.0000,   0.0000,   0.0000,   0.0000,   0.0000,   0.0000,\n",
       "          0.0000,   0.0000,   0.0000,   0.0000,   0.0000,   0.0000])"
      ]
     },
     "execution_count": 280,
     "metadata": {},
     "output_type": "execute_result"
    }
   ],
   "source": [
    "(same_user_mask*D)[1,:]"
   ]
  },
  {
   "cell_type": "code",
   "execution_count": 277,
   "metadata": {},
   "outputs": [
    {
     "data": {
      "text/plain": [
       "(tensor([  8.7541,  11.4308,   9.0830,  10.1711,  11.4308,   9.2250,\n",
       "           9.9204,  10.3924,   7.0190,   9.3080,  13.2377,  12.8708,\n",
       "           9.2703,  11.4793,  11.0447,  16.6062,   9.3992,  16.6062,\n",
       "          11.7158,  15.3166,  15.0091,  13.8208,  11.5507,  13.7687,\n",
       "          11.6134,  12.4809,   8.8956,  15.3052,   9.9592,  15.3052,\n",
       "          12.4243,   9.1190,  12.0032,  10.7110,  12.4243,   7.4400,\n",
       "          12.2182,  10.3630,  10.1211,   9.6268,  16.8692,  10.9234,\n",
       "          14.1975,   9.0443,  10.8561,  12.4323,  16.8692,   8.3841,\n",
       "          11.8025,  14.8033,   7.9558,  15.0479,  11.5837,  15.0479,\n",
       "          12.5092,   8.2411,   9.7505,   9.6847,  14.4631,  11.5015,\n",
       "          15.1136,  13.9246,   7.4107,  11.4601,  14.0843,   9.5221,\n",
       "          15.1136,  12.3764,  10.3129,  11.1082,  15.0788,  14.6339,\n",
       "          15.8430,   8.8507,  15.8430,   8.9900,   9.3502,  13.9385,\n",
       "          10.4785,   9.1459,  11.0144,   7.8156,  10.6953,   7.3266,\n",
       "           7.4746,   8.4692,  11.5355,   7.4702,  11.5355,   9.1687]),\n",
       " tensor([  1,   4,   4,   4,   1,   4,   1,   4,   1,   1,  17,  17,\n",
       "          15,  15,  17,  17,  17,  15,  15,  15,  29,  29,  29,  29,\n",
       "          29,  27,  20,  29,  29,  27,  34,  30,  30,  30,  30,  36,\n",
       "          30,  30,  30,  30,  46,  46,  40,  46,  40,  46,  40,  40,\n",
       "          46,  46,  53,  53,  51,  51,  53,  53,  51,  53,  51,  51,\n",
       "          66,  66,  66,  60,  60,  60,  60,  66,  64,  60,  72,  72,\n",
       "          74,  77,  72,  72,  72,  74,  72,  72,  88,  86,  88,  82,\n",
       "          82,  88,  88,  80,  86,  82]))"
      ]
     },
     "execution_count": 277,
     "metadata": {},
     "output_type": "execute_result"
    }
   ],
   "source": [
    "hardest_positives"
   ]
  },
  {
   "cell_type": "code",
   "execution_count": 268,
   "metadata": {},
   "outputs": [
    {
     "ename": "TypeError",
     "evalue": "mul() received an invalid combination of arguments - got (torch.Size), but expected one of:\n * (Tensor other)\n      didn't match because some of the arguments have invalid types: (\u001b[31;1mtorch.Size\u001b[0m)\n * (float other)\n      didn't match because some of the arguments have invalid types: (\u001b[31;1mtorch.Size\u001b[0m)\n",
     "output_type": "error",
     "traceback": [
      "\u001b[0;31m---------------------------------------------------------------------------\u001b[0m",
      "\u001b[0;31mTypeError\u001b[0m                                 Traceback (most recent call last)",
      "\u001b[0;32m<ipython-input-268-f7fcba942a69>\u001b[0m in \u001b[0;36m<module>\u001b[0;34m()\u001b[0m\n\u001b[0;32m----> 1\u001b[0;31m \u001b[0msame_user_mask\u001b[0m\u001b[0;34m*\u001b[0m\u001b[0mD\u001b[0m\u001b[0;34m\u001b[0m\u001b[0m\n\u001b[0m",
      "\u001b[0;31mTypeError\u001b[0m: mul() received an invalid combination of arguments - got (torch.Size), but expected one of:\n * (Tensor other)\n      didn't match because some of the arguments have invalid types: (\u001b[31;1mtorch.Size\u001b[0m)\n * (float other)\n      didn't match because some of the arguments have invalid types: (\u001b[31;1mtorch.Size\u001b[0m)\n"
     ]
    }
   ],
   "source": [
    "same_user_mask*D"
   ]
  },
  {
   "cell_type": "code",
   "execution_count": null,
   "metadata": {},
   "outputs": [],
   "source": []
  },
  {
   "cell_type": "code",
   "execution_count": 235,
   "metadata": {},
   "outputs": [
    {
     "data": {
      "text/plain": [
       "tensor([[ 1.,  1.,  0.,  0.,  0.,  0.],\n",
       "        [ 0.,  0.,  1.,  1.,  0.,  0.],\n",
       "        [ 0.,  0.,  0.,  0.,  1.,  1.]])"
      ]
     },
     "execution_count": 235,
     "metadata": {},
     "output_type": "execute_result"
    }
   ],
   "source": [
    "Max_mask = kronecker(torch.eye(N,N), torch.ones(1,M))"
   ]
  },
  {
   "cell_type": "code",
   "execution_count": 236,
   "metadata": {},
   "outputs": [
    {
     "ename": "RuntimeError",
     "evalue": "The size of tensor a (3) must match the size of tensor b (6) at non-singleton dimension 0",
     "output_type": "error",
     "traceback": [
      "\u001b[0;31m---------------------------------------------------------------------------\u001b[0m",
      "\u001b[0;31mRuntimeError\u001b[0m                              Traceback (most recent call last)",
      "\u001b[0;32m<ipython-input-236-b89e10550ab0>\u001b[0m in \u001b[0;36m<module>\u001b[0;34m()\u001b[0m\n\u001b[0;32m----> 1\u001b[0;31m \u001b[0mMax_mask\u001b[0m\u001b[0;34m*\u001b[0m\u001b[0mpairwise_distances\u001b[0m\u001b[0;34m(\u001b[0m\u001b[0mtrans\u001b[0m\u001b[0;34m.\u001b[0m\u001b[0mforward\u001b[0m\u001b[0;34m(\u001b[0m\u001b[0mVox\u001b[0m\u001b[0;34m[\u001b[0m\u001b[0;36m0\u001b[0m\u001b[0;34m]\u001b[0m\u001b[0;34m)\u001b[0m\u001b[0;34m)\u001b[0m\u001b[0;34m\u001b[0m\u001b[0m\n\u001b[0m",
      "\u001b[0;31mRuntimeError\u001b[0m: The size of tensor a (3) must match the size of tensor b (6) at non-singleton dimension 0"
     ]
    }
   ],
   "source": [
    "Max_maskpairwise_distances(trans.forward(Vox[0]))"
   ]
  },
  {
   "cell_type": "code",
   "execution_count": 231,
   "metadata": {},
   "outputs": [
    {
     "data": {
      "text/plain": [
       "tensor([[ 1.,  1.]])"
      ]
     },
     "execution_count": 231,
     "metadata": {},
     "output_type": "execute_result"
    }
   ],
   "source": [
    "torch.ones(1,M)"
   ]
  },
  {
   "cell_type": "code",
   "execution_count": 186,
   "metadata": {},
   "outputs": [
    {
     "data": {
      "text/plain": [
       "tensor([[[ 1],\n",
       "         [ 0],\n",
       "         [ 1]]])"
      ]
     },
     "execution_count": 186,
     "metadata": {},
     "output_type": "execute_result"
    }
   ],
   "source": [
    "torch.tensor([[1,0,1]]).unsqueeze(2)"
   ]
  },
  {
   "cell_type": "code",
   "execution_count": 187,
   "metadata": {},
   "outputs": [
    {
     "data": {
      "text/plain": [
       "tensor([[[ 1,  0,  0]],\n",
       "\n",
       "        [[ 0,  1,  0]],\n",
       "\n",
       "        [[ 0,  0,  1]]])"
      ]
     },
     "execution_count": 187,
     "metadata": {},
     "output_type": "execute_result"
    }
   ],
   "source": [
    "torch.tensor([[1,0,0], [0, 1, 0], [0, 0, 1]]).unsqueeze(1)"
   ]
  },
  {
   "cell_type": "code",
   "execution_count": 130,
   "metadata": {},
   "outputs": [
    {
     "data": {
      "text/plain": [
       "torch.Size([90, 90])"
      ]
     },
     "execution_count": 130,
     "metadata": {},
     "output_type": "execute_result"
    }
   ],
   "source": [
    "pairwise_distances(emb).shape"
   ]
  },
  {
   "cell_type": "code",
   "execution_count": null,
   "metadata": {},
   "outputs": [],
   "source": [
    "Mask_positives = torch.zeros()"
   ]
  },
  {
   "cell_type": "code",
   "execution_count": 165,
   "metadata": {},
   "outputs": [
    {
     "data": {
      "text/plain": [
       "torch.Size([90, 90])"
      ]
     },
     "execution_count": 165,
     "metadata": {},
     "output_type": "execute_result"
    }
   ],
   "source": [
    "torch.zeros(90, 90).shape"
   ]
  },
  {
   "cell_type": "markdown",
   "metadata": {},
   "source": [
    "---------"
   ]
  },
  {
   "cell_type": "code",
   "execution_count": 254,
   "metadata": {},
   "outputs": [],
   "source": [
    "L = []\n",
    "for k in user_dict.keys():\n",
    "    L.append(len(user_dict[k]))"
   ]
  },
  {
   "cell_type": "code",
   "execution_count": 256,
   "metadata": {},
   "outputs": [
    {
     "data": {
      "text/plain": [
       "45"
      ]
     },
     "execution_count": 256,
     "metadata": {},
     "output_type": "execute_result"
    }
   ],
   "source": [
    "min(L)"
   ]
  }
 ],
 "metadata": {
  "kernelspec": {
   "display_name": "Tensorflow-GPU",
   "language": "python",
   "name": "tensorflow-gpu"
  },
  "language_info": {
   "codemirror_mode": {
    "name": "ipython",
    "version": 3
   },
   "file_extension": ".py",
   "mimetype": "text/x-python",
   "name": "python",
   "nbconvert_exporter": "python",
   "pygments_lexer": "ipython3",
   "version": "3.6.6"
  }
 },
 "nbformat": 4,
 "nbformat_minor": 2
}
