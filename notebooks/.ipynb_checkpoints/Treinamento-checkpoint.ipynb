{
 "cells": [
  {
   "cell_type": "code",
   "execution_count": 170,
   "metadata": {},
   "outputs": [],
   "source": [
    "import sys\n",
    "import torch\n",
    "from torch.utils.data import DataLoader\n",
    "from torch.optim import SGD, Adam\n",
    "import torch.nn.functional as F\n",
    "sys.path.append('../')\n",
    "\n",
    "from src.loss import distance_matrix, get_hardest_points, batch_hard_loss\n",
    "from src.dataset import VoxCelebDataset\n",
    "from src.utils import get_user_dict\n",
    "from src.models import LinearModel"
   ]
  },
  {
   "cell_type": "code",
   "execution_count": 129,
   "metadata": {},
   "outputs": [],
   "source": [
    "import matplotlib.pyplot as plt\n",
    "%matplotlib inline"
   ]
  },
  {
   "cell_type": "markdown",
   "metadata": {},
   "source": [
    "----------------"
   ]
  },
  {
   "cell_type": "code",
   "execution_count": 209,
   "metadata": {},
   "outputs": [],
   "source": [
    "M = 10\n",
    "N = 5"
   ]
  },
  {
   "cell_type": "markdown",
   "metadata": {},
   "source": [
    "--------"
   ]
  },
  {
   "cell_type": "markdown",
   "metadata": {},
   "source": [
    "### Dataset"
   ]
  },
  {
   "cell_type": "code",
   "execution_count": 251,
   "metadata": {},
   "outputs": [],
   "source": [
    "user_dict = get_user_dict('../dados/png/')\n",
    "Vox = VoxCelebDataset('../dados/vox1_meta.csv', user_dict, M)"
   ]
  },
  {
   "cell_type": "markdown",
   "metadata": {},
   "source": [
    "### DataLoader"
   ]
  },
  {
   "cell_type": "code",
   "execution_count": 259,
   "metadata": {},
   "outputs": [],
   "source": [
    "data_loader = DataLoader(Vox, batch_size=N, shuffle=False, num_workers=1)"
   ]
  },
  {
   "cell_type": "markdown",
   "metadata": {},
   "source": [
    "### Modelo"
   ]
  },
  {
   "cell_type": "code",
   "execution_count": 263,
   "metadata": {},
   "outputs": [],
   "source": [
    "lm = LinearModel(128, 370)"
   ]
  },
  {
   "cell_type": "code",
   "execution_count": 276,
   "metadata": {},
   "outputs": [],
   "source": [
    "class shallowCNN(torch.nn.Module):\n",
    "    def __init__(self, width = 128, height = 370, h = 300):\n",
    "        super(shallowCNN, self).__init__()\n",
    "        self.conv1 = torch.nn.Conv2d(1, 5, kernel_size=3)\n",
    "        self.maxpool = torch.nn.MaxPool2d(2)\n",
    "        self.conv2 = torch.nn.Conv2d(5, 10, kernel_size=3)\n",
    "        self.fc1 = torch.nn.Linear(27300, 300)\n",
    "    \n",
    "    def forward(self, x):\n",
    "        x = x.view(x.shape[0], 1, x.shape[1], x.shape[2])\n",
    "        y = self.conv1(x)\n",
    "        y = F.relu(self.maxpool(y))\n",
    "        y = self.conv2(y)\n",
    "        y = F.relu(self.maxpool(y))\n",
    "        y = y.view(-1, y.shape[1]*y.shape[2]*y.shape[3])\n",
    "        y = F.relu(self.fc1(y))\n",
    "        return y"
   ]
  },
  {
   "cell_type": "code",
   "execution_count": 277,
   "metadata": {},
   "outputs": [],
   "source": [
    "cnn = shallowCNN()"
   ]
  },
  {
   "cell_type": "markdown",
   "metadata": {},
   "source": [
    "### Otimizador"
   ]
  },
  {
   "cell_type": "code",
   "execution_count": 278,
   "metadata": {},
   "outputs": [],
   "source": [
    "optimizer = Adam(cnn.parameters())"
   ]
  },
  {
   "cell_type": "markdown",
   "metadata": {},
   "source": [
    "### Treinamento"
   ]
  },
  {
   "cell_type": "code",
   "execution_count": 279,
   "metadata": {
    "scrolled": true
   },
   "outputs": [
    {
     "name": "stderr",
     "output_type": "stream",
     "text": [
      "/home/pi/anaconda3/envs/tensorflow-gpu/lib/python3.6/site-packages/ipykernel_launcher.py:16: UserWarning: invalid index of a 0-dim tensor. This will be an error in PyTorch 0.5. Use tensor.item() to convert a 0-dim tensor to a Python number\n",
      "  app.launch_new_instance()\n"
     ]
    },
    {
     "name": "stdout",
     "output_type": "stream",
     "text": [
      "Loss: 80.039749\n",
      "Loss: 746.139038\n",
      "Loss: 127.361053\n",
      "Loss: 109.433548\n",
      "Loss: 149.136978\n",
      "Loss: 108.850136\n",
      "Loss: 106.014053\n",
      "Loss: 105.768990\n",
      "Loss: 109.669235\n",
      "Loss: 103.212502\n",
      "Loss: 97.093498\n",
      "Loss: 98.351471\n",
      "Loss: 94.490341\n",
      "Loss: 87.701874\n",
      "Loss: 88.937401\n",
      "Loss: 93.574341\n",
      "Loss: 86.101303\n",
      "Loss: 90.370811\n",
      "Loss: 85.223602\n",
      "Loss: 83.782303\n",
      "Loss: 84.212402\n",
      "Loss: 83.325249\n",
      "Loss: 83.423393\n",
      "Loss: 81.566193\n",
      "Loss: 80.591980\n",
      "Loss: 80.648369\n",
      "Loss: 81.631271\n",
      "Loss: 80.807724\n",
      "Loss: 79.899185\n",
      "Loss: 81.066101\n",
      "Loss: 79.494690\n",
      "Loss: 79.027145\n",
      "Loss: 79.313896\n",
      "Loss: 79.169098\n",
      "Loss: 78.832382\n",
      "Loss: 78.466927\n",
      "Loss: 77.874069\n",
      "Loss: 78.385628\n",
      "Loss: 78.253281\n",
      "Loss: 77.365952\n",
      "Loss: 77.886856\n",
      "Loss: 78.330116\n",
      "Loss: 77.739670\n",
      "Loss: 77.987541\n",
      "Loss: 76.908905\n",
      "Loss: 77.358139\n",
      "Loss: 76.744148\n",
      "Loss: 76.963326\n",
      "Loss: 76.805847\n",
      "Loss: 76.923027\n",
      "Loss: 76.580742\n",
      "Loss: 76.011269\n",
      "Loss: 76.373161\n",
      "Loss: 76.102127\n",
      "Loss: 76.276306\n",
      "Loss: 76.479912\n",
      "Loss: 76.185150\n",
      "Loss: 76.290321\n",
      "Loss: 75.968498\n",
      "Loss: 76.306335\n",
      "Loss: 75.939857\n",
      "Loss: 75.833412\n",
      "Loss: 76.128235\n",
      "Loss: 75.903877\n",
      "Loss: 77.350769\n",
      "Loss: 75.956093\n",
      "Loss: 78.455238\n",
      "Loss: 76.477615\n",
      "Loss: 75.919044\n",
      "Loss: 76.858658\n",
      "Loss: 76.627014\n",
      "Loss: 75.850861\n",
      "Loss: 76.065819\n",
      "Loss: 76.320129\n",
      "Loss: 76.849190\n",
      "Loss: 76.039223\n",
      "Loss: 76.079071\n",
      "Loss: 76.638138\n",
      "Loss: 76.228676\n",
      "Loss: 75.884087\n",
      "Loss: 76.180267\n",
      "Loss: 76.431847\n",
      "Loss: 75.847343\n",
      "Loss: 76.087608\n",
      "Loss: 77.185890\n",
      "Loss: 76.209656\n",
      "Loss: 76.984436\n",
      "Loss: 76.149780\n",
      "Loss: 75.798065\n",
      "Loss: 76.376663\n",
      "Loss: 76.305443\n",
      "Loss: 75.910667\n",
      "Loss: 76.042191\n",
      "Loss: 76.431320\n",
      "Loss: 76.482574\n",
      "Loss: 76.648285\n",
      "Loss: 75.740501\n",
      "Loss: 75.999168\n"
     ]
    },
    {
     "name": "stderr",
     "output_type": "stream",
     "text": [
      "Process Process-179:\n",
      "Traceback (most recent call last):\n",
      "  File \"/home/pi/anaconda3/envs/tensorflow-gpu/lib/python3.6/multiprocessing/process.py\", line 258, in _bootstrap\n",
      "    self.run()\n",
      "  File \"/home/pi/anaconda3/envs/tensorflow-gpu/lib/python3.6/multiprocessing/process.py\", line 93, in run\n",
      "    self._target(*self._args, **self._kwargs)\n",
      "  File \"/home/pi/anaconda3/envs/tensorflow-gpu/lib/python3.6/site-packages/torch/utils/data/dataloader.py\", line 57, in _worker_loop\n",
      "    samples = collate_fn([dataset[i] for i in batch_indices])\n",
      "  File \"/home/pi/anaconda3/envs/tensorflow-gpu/lib/python3.6/site-packages/torch/utils/data/dataloader.py\", line 57, in <listcomp>\n",
      "    samples = collate_fn([dataset[i] for i in batch_indices])\n",
      "  File \"../src/dataset.py\", line 34, in __getitem__\n",
      "    result_array[i] = self.load_img(f)\n",
      "  File \"../src/dataset.py\", line 24, in load_img\n",
      "    return torch.tensor((io.imread(fpath)[:,:,0])/255.0)\n",
      "  File \"/home/pi/anaconda3/envs/tensorflow-gpu/lib/python3.6/site-packages/skimage/io/_io.py\", line 62, in imread\n",
      "    img = call_plugin('imread', fname, plugin=plugin, **plugin_args)\n",
      "  File \"/home/pi/anaconda3/envs/tensorflow-gpu/lib/python3.6/site-packages/skimage/io/manage_plugins.py\", line 214, in call_plugin\n",
      "    return func(*args, **kwargs)\n",
      "  File \"/home/pi/anaconda3/envs/tensorflow-gpu/lib/python3.6/site-packages/skimage/io/_plugins/pil_plugin.py\", line 36, in imread\n",
      "    im = Image.open(f)\n"
     ]
    },
    {
     "name": "stdout",
     "output_type": "stream",
     "text": [
      "Loss: 76.742653\n"
     ]
    },
    {
     "ename": "KeyboardInterrupt",
     "evalue": "",
     "output_type": "error",
     "traceback": [
      "\u001b[0;31m---------------------------------------------------------------------------\u001b[0m",
      "\u001b[0;31mKeyboardInterrupt\u001b[0m                         Traceback (most recent call last)",
      "\u001b[0;32m<ipython-input-279-f410f7fa185c>\u001b[0m in \u001b[0;36m<module>\u001b[0;34m()\u001b[0m\n\u001b[1;32m      5\u001b[0m     \u001b[0mcnn\u001b[0m\u001b[0;34m.\u001b[0m\u001b[0mzero_grad\u001b[0m\u001b[0;34m(\u001b[0m\u001b[0;34m)\u001b[0m\u001b[0;34m\u001b[0m\u001b[0m\n\u001b[1;32m      6\u001b[0m \u001b[0;34m\u001b[0m\u001b[0m\n\u001b[0;32m----> 7\u001b[0;31m     \u001b[0membeddings\u001b[0m \u001b[0;34m=\u001b[0m \u001b[0mcnn\u001b[0m\u001b[0;34m.\u001b[0m\u001b[0mforward\u001b[0m\u001b[0;34m(\u001b[0m\u001b[0mbatch\u001b[0m\u001b[0;34m)\u001b[0m\u001b[0;34m\u001b[0m\u001b[0m\n\u001b[0m\u001b[1;32m      8\u001b[0m \u001b[0;34m\u001b[0m\u001b[0m\n\u001b[1;32m      9\u001b[0m     \u001b[0mD\u001b[0m \u001b[0;34m=\u001b[0m \u001b[0mdistance_matrix\u001b[0m\u001b[0;34m(\u001b[0m\u001b[0membeddings\u001b[0m\u001b[0;34m)\u001b[0m\u001b[0;34m\u001b[0m\u001b[0m\n",
      "\u001b[0;32m<ipython-input-276-1745c6369f0c>\u001b[0m in \u001b[0;36mforward\u001b[0;34m(self, x)\u001b[0m\n\u001b[1;32m      9\u001b[0m     \u001b[0;32mdef\u001b[0m \u001b[0mforward\u001b[0m\u001b[0;34m(\u001b[0m\u001b[0mself\u001b[0m\u001b[0;34m,\u001b[0m \u001b[0mx\u001b[0m\u001b[0;34m)\u001b[0m\u001b[0;34m:\u001b[0m\u001b[0;34m\u001b[0m\u001b[0m\n\u001b[1;32m     10\u001b[0m         \u001b[0mx\u001b[0m \u001b[0;34m=\u001b[0m \u001b[0mx\u001b[0m\u001b[0;34m.\u001b[0m\u001b[0mview\u001b[0m\u001b[0;34m(\u001b[0m\u001b[0mx\u001b[0m\u001b[0;34m.\u001b[0m\u001b[0mshape\u001b[0m\u001b[0;34m[\u001b[0m\u001b[0;36m0\u001b[0m\u001b[0;34m]\u001b[0m\u001b[0;34m,\u001b[0m \u001b[0;36m1\u001b[0m\u001b[0;34m,\u001b[0m \u001b[0mx\u001b[0m\u001b[0;34m.\u001b[0m\u001b[0mshape\u001b[0m\u001b[0;34m[\u001b[0m\u001b[0;36m1\u001b[0m\u001b[0;34m]\u001b[0m\u001b[0;34m,\u001b[0m \u001b[0mx\u001b[0m\u001b[0;34m.\u001b[0m\u001b[0mshape\u001b[0m\u001b[0;34m[\u001b[0m\u001b[0;36m2\u001b[0m\u001b[0;34m]\u001b[0m\u001b[0;34m)\u001b[0m\u001b[0;34m\u001b[0m\u001b[0m\n\u001b[0;32m---> 11\u001b[0;31m         \u001b[0my\u001b[0m \u001b[0;34m=\u001b[0m \u001b[0mself\u001b[0m\u001b[0;34m.\u001b[0m\u001b[0mconv1\u001b[0m\u001b[0;34m(\u001b[0m\u001b[0mx\u001b[0m\u001b[0;34m)\u001b[0m\u001b[0;34m\u001b[0m\u001b[0m\n\u001b[0m\u001b[1;32m     12\u001b[0m         \u001b[0my\u001b[0m \u001b[0;34m=\u001b[0m \u001b[0mF\u001b[0m\u001b[0;34m.\u001b[0m\u001b[0mrelu\u001b[0m\u001b[0;34m(\u001b[0m\u001b[0mself\u001b[0m\u001b[0;34m.\u001b[0m\u001b[0mmaxpool\u001b[0m\u001b[0;34m(\u001b[0m\u001b[0my\u001b[0m\u001b[0;34m)\u001b[0m\u001b[0;34m)\u001b[0m\u001b[0;34m\u001b[0m\u001b[0m\n\u001b[1;32m     13\u001b[0m         \u001b[0my\u001b[0m \u001b[0;34m=\u001b[0m \u001b[0mself\u001b[0m\u001b[0;34m.\u001b[0m\u001b[0mconv2\u001b[0m\u001b[0;34m(\u001b[0m\u001b[0my\u001b[0m\u001b[0;34m)\u001b[0m\u001b[0;34m\u001b[0m\u001b[0m\n",
      "\u001b[0;32m~/anaconda3/envs/tensorflow-gpu/lib/python3.6/site-packages/torch/nn/modules/module.py\u001b[0m in \u001b[0;36m__call__\u001b[0;34m(self, *input, **kwargs)\u001b[0m\n\u001b[1;32m    489\u001b[0m             \u001b[0mresult\u001b[0m \u001b[0;34m=\u001b[0m \u001b[0mself\u001b[0m\u001b[0;34m.\u001b[0m\u001b[0m_slow_forward\u001b[0m\u001b[0;34m(\u001b[0m\u001b[0;34m*\u001b[0m\u001b[0minput\u001b[0m\u001b[0;34m,\u001b[0m \u001b[0;34m**\u001b[0m\u001b[0mkwargs\u001b[0m\u001b[0;34m)\u001b[0m\u001b[0;34m\u001b[0m\u001b[0m\n\u001b[1;32m    490\u001b[0m         \u001b[0;32melse\u001b[0m\u001b[0;34m:\u001b[0m\u001b[0;34m\u001b[0m\u001b[0m\n\u001b[0;32m--> 491\u001b[0;31m             \u001b[0mresult\u001b[0m \u001b[0;34m=\u001b[0m \u001b[0mself\u001b[0m\u001b[0;34m.\u001b[0m\u001b[0mforward\u001b[0m\u001b[0;34m(\u001b[0m\u001b[0;34m*\u001b[0m\u001b[0minput\u001b[0m\u001b[0;34m,\u001b[0m \u001b[0;34m**\u001b[0m\u001b[0mkwargs\u001b[0m\u001b[0;34m)\u001b[0m\u001b[0;34m\u001b[0m\u001b[0m\n\u001b[0m\u001b[1;32m    492\u001b[0m         \u001b[0;32mfor\u001b[0m \u001b[0mhook\u001b[0m \u001b[0;32min\u001b[0m \u001b[0mself\u001b[0m\u001b[0;34m.\u001b[0m\u001b[0m_forward_hooks\u001b[0m\u001b[0;34m.\u001b[0m\u001b[0mvalues\u001b[0m\u001b[0;34m(\u001b[0m\u001b[0;34m)\u001b[0m\u001b[0;34m:\u001b[0m\u001b[0;34m\u001b[0m\u001b[0m\n\u001b[1;32m    493\u001b[0m             \u001b[0mhook_result\u001b[0m \u001b[0;34m=\u001b[0m \u001b[0mhook\u001b[0m\u001b[0;34m(\u001b[0m\u001b[0mself\u001b[0m\u001b[0;34m,\u001b[0m \u001b[0minput\u001b[0m\u001b[0;34m,\u001b[0m \u001b[0mresult\u001b[0m\u001b[0;34m)\u001b[0m\u001b[0;34m\u001b[0m\u001b[0m\n",
      "\u001b[0;32m~/anaconda3/envs/tensorflow-gpu/lib/python3.6/site-packages/torch/nn/modules/conv.py\u001b[0m in \u001b[0;36mforward\u001b[0;34m(self, input)\u001b[0m\n\u001b[1;32m    299\u001b[0m     \u001b[0;32mdef\u001b[0m \u001b[0mforward\u001b[0m\u001b[0;34m(\u001b[0m\u001b[0mself\u001b[0m\u001b[0;34m,\u001b[0m \u001b[0minput\u001b[0m\u001b[0;34m)\u001b[0m\u001b[0;34m:\u001b[0m\u001b[0;34m\u001b[0m\u001b[0m\n\u001b[1;32m    300\u001b[0m         return F.conv2d(input, self.weight, self.bias, self.stride,\n\u001b[0;32m--> 301\u001b[0;31m                         self.padding, self.dilation, self.groups)\n\u001b[0m\u001b[1;32m    302\u001b[0m \u001b[0;34m\u001b[0m\u001b[0m\n\u001b[1;32m    303\u001b[0m \u001b[0;34m\u001b[0m\u001b[0m\n",
      "\u001b[0;31mKeyboardInterrupt\u001b[0m: "
     ]
    },
    {
     "name": "stderr",
     "output_type": "stream",
     "text": [
      "  File \"/home/pi/anaconda3/envs/tensorflow-gpu/lib/python3.6/site-packages/PIL/Image.py\", line 2557, in open\n",
      "    prefix = fp.read(16)\n",
      "KeyboardInterrupt\n"
     ]
    }
   ],
   "source": [
    "from pdb import set_trace\n",
    "for batch in data_loader:\n",
    "    batch = batch.view(M*N, 128, 370)\n",
    "    \n",
    "    cnn.zero_grad()\n",
    "    \n",
    "    embeddings = cnn.forward(batch)\n",
    "    \n",
    "    D = distance_matrix(embeddings)\n",
    "    \n",
    "    hardest_positives, hardest_negatives = get_hardest_points(D, M, N)\n",
    "    \n",
    "    loss = batch_hard_loss(hardest_positives, hardest_negatives, 1.5)\n",
    "    loss.backward()\n",
    "    optimizer.step()\n",
    "    print('Loss: %f' % (loss.data[0]))\n"
   ]
  },
  {
   "cell_type": "code",
   "execution_count": 280,
   "metadata": {},
   "outputs": [
    {
     "data": {
      "text/plain": [
       "<matplotlib.lines.Line2D at 0x7ff34d8d0978>"
      ]
     },
     "execution_count": 280,
     "metadata": {},
     "output_type": "execute_result"
    },
    {
     "data": {
      "image/png": "[encoded data removed]",
      "text/plain": [
       "<Figure size 576x576 with 1 Axes>"
      ]
     },
     "metadata": {},
     "output_type": "display_data"
    }
   ],
   "source": [
    "fig = plt.figure(figsize=(8,8))\n",
    "plt.imshow(D.detach().numpy())\n",
    "plt.axvline(x=10, color='white')\n",
    "plt.axhline(y=10, color='white')\n",
    "plt.axvline(x=20, color='white')\n",
    "plt.axhline(y=20, color='white')\n",
    "plt.axvline(x=30, color='white')\n",
    "plt.axhline(y=30, color='white')\n",
    "plt.axvline(x=40, color='white')\n",
    "plt.axhline(y=40, color='white')"
   ]
  },
  {
   "cell_type": "code",
   "execution_count": 219,
   "metadata": {},
   "outputs": [
    {
     "data": {
      "text/plain": [
       "<matplotlib.lines.Line2D at 0x7ff3514f2978>"
      ]
     },
     "execution_count": 219,
     "metadata": {},
     "output_type": "execute_result"
    },
    {
     "data": {
      "image/png": "[encoded data removed]",
      "text/plain": [
       "<Figure size 576x576 with 1 Axes>"
      ]
     },
     "metadata": {},
     "output_type": "display_data"
    }
   ],
   "source": [
    "fig = plt.figure(figsize=(8,8))\n",
    "plt.imshow(D.detach().numpy())\n",
    "plt.axvline(x=10, color='white')\n",
    "plt.axhline(y=10, color='white')\n",
    "plt.axvline(x=20, color='white')\n",
    "plt.axhline(y=20, color='white')\n",
    "plt.axvline(x=30, color='white')\n",
    "plt.axhline(y=30, color='white')\n",
    "plt.axvline(x=40, color='white')\n",
    "plt.axhline(y=40, color='white')"
   ]
  },
  {
   "cell_type": "code",
   "execution_count": 33,
   "metadata": {},
   "outputs": [
    {
     "data": {
      "text/plain": [
       "tensor(0.)"
      ]
     },
     "execution_count": 33,
     "metadata": {},
     "output_type": "execute_result"
    }
   ],
   "source": [
    "batch[0].min()"
   ]
  },
  {
   "cell_type": "code",
   "execution_count": 66,
   "metadata": {},
   "outputs": [
    {
     "data": {
      "text/plain": [
       "tensor([ 11187.2422,   9975.6973,  16709.1172,  15316.4902,  16314.0156,\n",
       "         13606.8760,  15387.1221,  13390.2305,  11754.8398,  12260.9668,\n",
       "         11765.2188,   9975.7070])"
      ]
     },
     "execution_count": 66,
     "metadata": {},
     "output_type": "execute_result"
    }
   ],
   "source": [
    "hardest_negatives"
   ]
  },
  {
   "cell_type": "code",
   "execution_count": 67,
   "metadata": {},
   "outputs": [
    {
     "data": {
      "text/plain": [
       "tensor([ 7924.4102,  4635.3359,  7924.4102,  3011.8086,  2666.7568,\n",
       "         3011.8086,  6443.2656,  6443.2656,  4531.0859,  1833.8281,\n",
       "         1903.6328,  1903.6328])"
      ]
     },
     "execution_count": 67,
     "metadata": {},
     "output_type": "execute_result"
    }
   ],
   "source": [
    "hardest_positives"
   ]
  },
  {
   "cell_type": "code",
   "execution_count": 88,
   "metadata": {},
   "outputs": [],
   "source": [
    "for batch in data_loader:\n",
    "    break"
   ]
  },
  {
   "cell_type": "code",
   "execution_count": 89,
   "metadata": {},
   "outputs": [
    {
     "ename": "ValueError",
     "evalue": "only one element tensors can be converted to Python scalars",
     "output_type": "error",
     "traceback": [
      "\u001b[0;31m---------------------------------------------------------------------------\u001b[0m",
      "\u001b[0;31mValueError\u001b[0m                                Traceback (most recent call last)",
      "\u001b[0;32m<ipython-input-89-9f768a2af883>\u001b[0m in \u001b[0;36m<module>\u001b[0;34m()\u001b[0m\n\u001b[0;32m----> 1\u001b[0;31m \u001b[0mbatch\u001b[0m \u001b[0;34m=\u001b[0m \u001b[0mtorch\u001b[0m\u001b[0;34m.\u001b[0m\u001b[0mtensor\u001b[0m\u001b[0;34m(\u001b[0m\u001b[0;34m[\u001b[0m\u001b[0mbatch\u001b[0m\u001b[0;34m[\u001b[0m\u001b[0;36m0\u001b[0m\u001b[0;34m]\u001b[0m\u001b[0;34m,\u001b[0m \u001b[0mbatch\u001b[0m\u001b[0;34m[\u001b[0m\u001b[0;36m0\u001b[0m\u001b[0;34m]\u001b[0m\u001b[0;34m]\u001b[0m\u001b[0;34m)\u001b[0m\u001b[0;34m\u001b[0m\u001b[0m\n\u001b[0m",
      "\u001b[0;31mValueError\u001b[0m: only one element tensors can be converted to Python scalars"
     ]
    }
   ],
   "source": [
    "batch = torch.tensor([batch[0], batch[0]])"
   ]
  },
  {
   "cell_type": "code",
   "execution_count": 95,
   "metadata": {},
   "outputs": [
    {
     "ename": "SyntaxError",
     "evalue": "unexpected EOF while parsing (<ipython-input-95-fc2e9c4dc10d>, line 1)",
     "output_type": "error",
     "traceback": [
      "\u001b[0;36m  File \u001b[0;32m\"<ipython-input-95-fc2e9c4dc10d>\"\u001b[0;36m, line \u001b[0;32m1\u001b[0m\n\u001b[0;31m    torch.cat([batch[0].view(1, *batch.shape), batch[0].view(1, *batch.shape)]\u001b[0m\n\u001b[0m                                                                              ^\u001b[0m\n\u001b[0;31mSyntaxError\u001b[0m\u001b[0;31m:\u001b[0m unexpected EOF while parsing\n"
     ]
    }
   ],
   "source": [
    "torch.cat([batch[0].view(1, *batch.shape), batch[0].view(1, *batch.shape)]"
   ]
  },
  {
   "cell_type": "code",
   "execution_count": 100,
   "metadata": {},
   "outputs": [],
   "source": [
    "b = batch[0].view(1, batch.shape[1], batch.shape[2], batch.shape[3])\n",
    "batch = torch.cat([b,b])"
   ]
  },
  {
   "cell_type": "code",
   "execution_count": 105,
   "metadata": {},
   "outputs": [],
   "source": [
    "emb = lm.forward(batch.view(M*N, 128, 370))"
   ]
  },
  {
   "cell_type": "code",
   "execution_count": 108,
   "metadata": {},
   "outputs": [],
   "source": [
    "D = distance_matrix(emb)"
   ]
  },
  {
   "cell_type": "code",
   "execution_count": 112,
   "metadata": {},
   "outputs": [
    {
     "data": {
      "text/plain": [
       "tensor([[     0.0000,   3622.5098,   4813.8125,      0.0000,   3622.5098,\n",
       "           4813.8125],\n",
       "        [  3622.5098,      0.0000,  11077.4277,   3622.5098,      0.0000,\n",
       "          11077.4277],\n",
       "        [  4813.8125,  11077.4277,      0.0039,   4813.8125,  11077.4277,\n",
       "              0.0039],\n",
       "        [     0.0000,   3622.5098,   4813.8145,      0.0000,   3622.5098,\n",
       "           4813.8145],\n",
       "        [  3622.5098,      0.0000,  11077.4277,   3622.5098,      0.0000,\n",
       "          11077.4277],\n",
       "        [  4813.8145,  11077.4277,      0.0039,   4813.8145,  11077.4277,\n",
       "              0.0039]])"
      ]
     },
     "execution_count": 112,
     "metadata": {},
     "output_type": "execute_result"
    }
   ],
   "source": [
    "D"
   ]
  },
  {
   "cell_type": "code",
   "execution_count": 117,
   "metadata": {},
   "outputs": [
    {
     "data": {
      "text/plain": [
       "tensor(59937.3281)"
      ]
     },
     "execution_count": 117,
     "metadata": {},
     "output_type": "execute_result"
    }
   ],
   "source": [
    "hp, hn = get_hardest_points(D, M, N)\n",
    "batch_hard_loss(hp, hn, margin=1000)"
   ]
  },
  {
   "cell_type": "code",
   "execution_count": null,
   "metadata": {},
   "outputs": [],
   "source": []
  },
  {
   "cell_type": "code",
   "execution_count": 84,
   "metadata": {},
   "outputs": [
    {
     "data": {
      "text/plain": [
       "torch.Size([6, 128, 370])"
      ]
     },
     "execution_count": 84,
     "metadata": {},
     "output_type": "execute_result"
    }
   ],
   "source": [
    "batch.shape"
   ]
  }
 ],
 "metadata": {
  "kernelspec": {
   "display_name": "Tensorflow-GPU",
   "language": "python",
   "name": "tensorflow-gpu"
  },
  "language_info": {
   "codemirror_mode": {
    "name": "ipython",
    "version": 3
   },
   "file_extension": ".py",
   "mimetype": "text/x-python",
   "name": "python",
   "nbconvert_exporter": "python",
   "pygments_lexer": "ipython3",
   "version": "3.6.6"
  }
 },
 "nbformat": 4,
 "nbformat_minor": 2
}
